{
 "cells": [
  {
   "cell_type": "markdown",
   "metadata": {},
   "source": [
    "# Project 3: Web APIs & Classification - Suicide vs Depression (3/3)"
   ]
  },
  {
   "cell_type": "markdown",
   "metadata": {},
   "source": [
    "## Project Organization\n",
    "\n",
    "The analysis will be broken into 3 parts. This is the third and last part of the series where we will be summarizing our insights and presenting some recommendations:<br><br>1. Data Collection and Feature Engineering<br> 2. Model Selection and Tuning<br>**3. Business Summary and Insights**"
   ]
  },
  {
   "cell_type": "markdown",
   "metadata": {},
   "source": [
    "# Summary of Learning Points\n",
    "\n",
    "\n",
    "## From EDA\n",
    "\n",
    "1. Commonalities in the choice of words:\n",
    "\n",
    "    - Words such as 'life', 'want' ,'know', 'get' appears often in both subreddits. Even those less frequent words such as 'fucking','something', 'anymore' also appear in equal count on both threads\n",
    "      \n",
    "        - *One building point from the insight above is that while subreddits may share common words, this does not in any way signify common intentions. 'want' appears more in r/SuicideWatch because it always almost pairs with 'kill', stringing the post to 'want to kill myself'. 'want' appears more in r/depression relates to'get better' or 'want to live', not explicitly carrying out the act of attempting suicide.*   \n",
    "    \n",
    "    - Another commonality between suicidal and depressed people is where they tend to relate back to 'life' while penning their posts, and the usage of 'want' connotates a strong desire (either for things to get better in most r/depression posts, or for them to die, mostly in r/SuicideWatch posts.)\n",
    "    \n",
    "    - Similarily, both threads often draw connections to social ties, such as 'family', 'friend', college'. Despairingly, it is often the lack of support from social ties and close connections that sparks the trigger for dark thoughts.\n",
    "\n",
    "\n",
    "2. Differences in the choice of words:\n",
    "\n",
    "    - It is interesting to note that only the Suicide WordCloud (albeit appearing less frequent than I had expected it to be) contains the word 'kill', unlike the Depression WordCloud. (Both reddits had the word 'die', which is rather expected)\n",
    "    \n",
    "    - Suicide Reddit has more frequent occurences of words that connotates finality, eg 'gone' ,'done','last'and 'want end','want die', and also darker emotions ie 'want kill', 'fuck fuck', 'going kill'.These words expresses extremality and dosed with more drama, ie 'nothing nothing nothing'. It exemplifies feelings of helplessness, hopelessness and worthlessness for the entire span of remaining life.One possible reason for such strong language could be the need for authors to justify their suicide intention away from social judgement (suicide commonly is an act that lacks social approval, and in some countries like Singapore, legal approval). They need to prove how worthless/void of hope their life is.\n",
    "    \n",
    "    - The Depression Reddit had more words which describes feelings instead, eg 'sad','anxiety','don't know' and contextual words like 'jobs','sleep','random', 'coffee'. There is a degree of hope in their posts, and a desire to make things still get better. Choice of diction in this subreddit may crudely be summarized as aggressive self-pity and abject self-loathing. Authors tend to share songs and stories more, seemingly more at tantrum with a moment of life, rather than its entirety\n",
    "\n",
    "\n",
    "3. Looking at the numbers\n",
    "\n",
    "    - Word Count for titles and posts:\n",
    "        - Suicide authors tend to write 100 words lesser on the average.\n",
    "        - This could be due to the dominant style of narrative writing on r/depression, narrating their life events, while Sucidial authors seemingly have very focused thoughts on killing themselves, thus not finding the need to narrate about their life situation \n",
    "        \n",
    "    - Number of Comments:\n",
    "        - While I had expected more comments to be posted to SuicideWatch thread as the posts there would be more alarming and disconcerting, thus triggering more concern, the average number of comments received for both threads is around 1 comment lesser for r/depression only\n",
    "\n",
    "\n",
    "4. Investigating further on the common behaviour from both subreddits\n",
    "\n",
    "    - There are around 5% of authors who post both on r/SuicideWatch and r/depression threads.\n",
    "    - However, these authors do not post the same story/submission to the two threads\n",
    "    - For words that appear on both subreddits(ie want kill, want die), the distintion betweeh the two threads are the frequency of such words (ie 'want die' appears more than x2 in r/SuicideWatch), and the content differs (ie r/Depression posts more likely as story-telling, while r/SuicideWatch are mostly isolated dark thoughts)\n",
    "\n",
    "\n",
    "## From Modelling\n",
    "\n",
    "1. Score Metric: Accuracy and F1 Score:\n",
    "    - My business problem includes a time-element, where it is crucial that my model alerts to stakeholders which cases are suicidal, rather than depression cases. Both depression and suicidal cases are important and deserve attention, but one requires immediate prevention.\n",
    "    - As the cost of false positive (predicted sudicial, but only depressed) and false negatives (predicted depression, but suicidal) are very different, it is better for my models to be evaulated on both Precision and Recall/Sensitivity, which is namely the F1 Score.\n",
    "    \n",
    "    \n",
    "2. Model Selection and Performance\n",
    "    - Multi NB model, as commonly known for this prowess in text classification, has proven to be the best model in terms of highest in accuracy and f1 score performance\n",
    "    - The model achieved a 0.673469 score in test accuracy, and 0.687500 in test F1 score."
   ]
  },
  {
   "cell_type": "markdown",
   "metadata": {},
   "source": [
    "# Recommendations for Improvement"
   ]
  },
  {
   "cell_type": "markdown",
   "metadata": {},
   "source": [
    "1. More data\n",
    "    - APIs such as Pushshift can help circumvent the limit of pulling >1k posts\n",
    "    - More submissions can help to train the model more accurately\n",
    "\n",
    "\n",
    "2. Exploring other models and NLP libraries\n",
    "    - More advanced libraries such as Spacy/ Word2Vec may improve the model's understanding of contextual language, especially given how both threads have such similar category of dark thoughts\n",
    "    - Other models such as SVM/AdaBoost can also be further explored "
   ]
  },
  {
   "cell_type": "markdown",
   "metadata": {},
   "source": [
    "# Conclusion\n",
    "\n",
    "With the help of machines, we have increased accuracy from 50.43% to 67.34%. We are able to skin down the volume of posts to more crucial ones where then an experienced trained human ear and willing heart are best detectors in accessing if the author is truly depressed or suicidal."
   ]
  }
 ],
 "metadata": {
  "kernelspec": {
   "display_name": "Python 3",
   "language": "python",
   "name": "python3"
  },
  "language_info": {
   "codemirror_mode": {
    "name": "ipython",
    "version": 3
   },
   "file_extension": ".py",
   "mimetype": "text/x-python",
   "name": "python",
   "nbconvert_exporter": "python",
   "pygments_lexer": "ipython3",
   "version": "3.7.6"
  },
  "toc": {
   "base_numbering": 1,
   "nav_menu": {},
   "number_sections": true,
   "sideBar": true,
   "skip_h1_title": false,
   "title_cell": "Table of Contents",
   "title_sidebar": "Contents",
   "toc_cell": false,
   "toc_position": {},
   "toc_section_display": true,
   "toc_window_display": false
  }
 },
 "nbformat": 4,
 "nbformat_minor": 4
}
