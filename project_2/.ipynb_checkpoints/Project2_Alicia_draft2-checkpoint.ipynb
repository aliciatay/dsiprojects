{
 "cells": [
  {
   "cell_type": "code",
   "execution_count": 1,
   "metadata": {},
   "outputs": [],
   "source": [
    "import pandas as pd\n",
    "import numpy as np\n",
    "import matplotlib.pyplot as plt\n",
    "import seaborn as sns\n",
    "import pandas as pd\n",
    "from sklearn.preprocessing import StandardScaler, PolynomialFeatures\n",
    "from sklearn.linear_model import LinearRegression"
   ]
  },
  {
   "cell_type": "code",
   "execution_count": 2,
   "metadata": {},
   "outputs": [],
   "source": [
    "test=pd.read_csv('datasets/test.csv')"
   ]
  },
  {
   "cell_type": "code",
   "execution_count": 3,
   "metadata": {},
   "outputs": [
    {
     "data": {
      "text/plain": [
       "(879, 80)"
      ]
     },
     "execution_count": 3,
     "metadata": {},
     "output_type": "execute_result"
    }
   ],
   "source": [
    "test.shape"
   ]
  },
  {
   "cell_type": "markdown",
   "metadata": {},
   "source": [
    "##### Rename columns for easy modification"
   ]
  },
  {
   "cell_type": "code",
   "execution_count": 4,
   "metadata": {},
   "outputs": [],
   "source": [
    "test.columns = test.columns.str.lower()\n",
    "test.columns = test.columns.str.replace(' ', '').str.replace('/', '')"
   ]
  },
  {
   "cell_type": "markdown",
   "metadata": {},
   "source": [
    "##### Treating null values"
   ]
  },
  {
   "cell_type": "code",
   "execution_count": 5,
   "metadata": {},
   "outputs": [
    {
     "data": {
      "text/plain": [
       "poolqc          875\n",
       "miscfeature     838\n",
       "alley           821\n",
       "fence           707\n",
       "fireplacequ     422\n",
       "lotfrontage     160\n",
       "garagecond       45\n",
       "garagequal       45\n",
       "garageyrblt      45\n",
       "garagefinish     45\n",
       "garagetype       44\n",
       "bsmtexposure     25\n",
       "bsmtfintype1     25\n",
       "bsmtqual         25\n",
       "bsmtfintype2     25\n",
       "bsmtcond         25\n",
       "masvnrarea        1\n",
       "masvnrtype        1\n",
       "electrical        1\n",
       "overallcond       0\n",
       "exterqual         0\n",
       "extercond         0\n",
       "foundation        0\n",
       "exterior2nd       0\n",
       "exterior1st       0\n",
       "roofmatl          0\n",
       "roofstyle         0\n",
       "yearremodadd      0\n",
       "yearbuilt         0\n",
       "saletype          0\n",
       "overallqual       0\n",
       "housestyle        0\n",
       "bldgtype          0\n",
       "condition2        0\n",
       "condition1        0\n",
       "landslope         0\n",
       "lotconfig         0\n",
       "utilities         0\n",
       "landcontour       0\n",
       "lotshape          0\n",
       "street            0\n",
       "lotarea           0\n",
       "mszoning          0\n",
       "mssubclass        0\n",
       "pid               0\n",
       "neighborhood      0\n",
       "totalbsmtsf       0\n",
       "bsmtfinsf1        0\n",
       "kitchenqual       0\n",
       "mosold            0\n",
       "dtype: int64"
      ]
     },
     "execution_count": 5,
     "metadata": {},
     "output_type": "execute_result"
    }
   ],
   "source": [
    "test.isnull().sum().sort_values(ascending=False).head(50)"
   ]
  },
  {
   "cell_type": "markdown",
   "metadata": {},
   "source": [
    "1. Treating Fireplace Quality"
   ]
  },
  {
   "cell_type": "code",
   "execution_count": 6,
   "metadata": {},
   "outputs": [],
   "source": [
    "test.loc[(test.fireplaces==0) & (test.fireplacequ.isnull()), ['fireplacequ']] = 'NA'"
   ]
  },
  {
   "cell_type": "code",
   "execution_count": 7,
   "metadata": {},
   "outputs": [
    {
     "data": {
      "text/plain": [
       "0"
      ]
     },
     "execution_count": 7,
     "metadata": {},
     "output_type": "execute_result"
    }
   ],
   "source": [
    "test.fireplaces.isnull().sum()"
   ]
  },
  {
   "cell_type": "markdown",
   "metadata": {},
   "source": [
    "2. Treating Masonry"
   ]
  },
  {
   "cell_type": "code",
   "execution_count": 8,
   "metadata": {},
   "outputs": [],
   "source": [
    "test.masvnrarea = test.masvnrarea.fillna(0)"
   ]
  },
  {
   "cell_type": "code",
   "execution_count": 9,
   "metadata": {},
   "outputs": [],
   "source": [
    "test.masvnrtype = test.masvnrtype.fillna('None')"
   ]
  },
  {
   "cell_type": "code",
   "execution_count": 10,
   "metadata": {},
   "outputs": [
    {
     "data": {
      "text/plain": [
       "0"
      ]
     },
     "execution_count": 10,
     "metadata": {},
     "output_type": "execute_result"
    }
   ],
   "source": [
    "test.masvnrtype.isnull().sum()"
   ]
  },
  {
   "cell_type": "markdown",
   "metadata": {},
   "source": [
    "3. Treating poolqc"
   ]
  },
  {
   "cell_type": "code",
   "execution_count": 11,
   "metadata": {},
   "outputs": [],
   "source": [
    "test.loc[(test.poolarea==0) & (test.poolqc.isnull()), ['poolqc']] = 'NA'"
   ]
  },
  {
   "cell_type": "code",
   "execution_count": 12,
   "metadata": {},
   "outputs": [
    {
     "data": {
      "text/plain": [
       "0"
      ]
     },
     "execution_count": 12,
     "metadata": {},
     "output_type": "execute_result"
    }
   ],
   "source": [
    "test.poolqc.isnull().sum()"
   ]
  },
  {
   "cell_type": "markdown",
   "metadata": {},
   "source": [
    "4. Treating lotfrontage\n",
    "\n",
    "Importing the same values of neighborhood means from the train dataset"
   ]
  },
  {
   "cell_type": "code",
   "execution_count": 13,
   "metadata": {},
   "outputs": [],
   "source": [
    "train=pd.read_csv('datasets/train.csv')"
   ]
  },
  {
   "cell_type": "code",
   "execution_count": 14,
   "metadata": {},
   "outputs": [],
   "source": [
    "train.columns = train.columns.str.lower()\n",
    "train.columns = train.columns.str.replace(' ', '').str.replace('/', '')"
   ]
  },
  {
   "cell_type": "code",
   "execution_count": 15,
   "metadata": {},
   "outputs": [],
   "source": [
    "neighborhood_means = train.groupby('neighborhood')['lotfrontage'].mean()"
   ]
  },
  {
   "cell_type": "code",
   "execution_count": 16,
   "metadata": {},
   "outputs": [],
   "source": [
    "test['lotfrontage'] = test.apply(lambda x: neighborhood_means[x['neighborhood']] if np.isnan(x['lotfrontage']) else x['lotfrontage'], axis=1)"
   ]
  },
  {
   "cell_type": "code",
   "execution_count": 17,
   "metadata": {},
   "outputs": [
    {
     "data": {
      "text/plain": [
       "0"
      ]
     },
     "execution_count": 17,
     "metadata": {},
     "output_type": "execute_result"
    }
   ],
   "source": [
    "test.lotfrontage.isnull().sum()"
   ]
  },
  {
   "cell_type": "markdown",
   "metadata": {},
   "source": [
    "5. Fixing Garage"
   ]
  },
  {
   "cell_type": "code",
   "execution_count": 18,
   "metadata": {},
   "outputs": [],
   "source": [
    "test['garagetype'] = test['garagetype'].fillna('None')\n",
    "test['garagefinish'] = test['garagefinish'].fillna('None')\n",
    "test['garagequal'] = test['garagequal'].fillna('None')\n",
    "test['garagecond'] = test['garagecond'].fillna('None')\n",
    "test['garageyrblt'] = test['garageyrblt'].fillna(0)\n",
    "test['garagearea'] = test['garagearea'].fillna(0)\n",
    "test['garagecars'] = test['garagecars'].fillna(0)"
   ]
  },
  {
   "cell_type": "code",
   "execution_count": 19,
   "metadata": {},
   "outputs": [
    {
     "data": {
      "text/plain": [
       "garagearea      0\n",
       "garagetype      0\n",
       "garagequal      0\n",
       "garagecars      0\n",
       "garageyrblt     0\n",
       "garagefinish    0\n",
       "garagecond      0\n",
       "dtype: int64"
      ]
     },
     "execution_count": 19,
     "metadata": {},
     "output_type": "execute_result"
    }
   ],
   "source": [
    "test[['garagearea','garagetype', 'garagequal', 'garagecars','garageyrblt','garagefinish','garagecond']].isnull().sum()"
   ]
  },
  {
   "cell_type": "markdown",
   "metadata": {},
   "source": [
    "6. Fixing Basement"
   ]
  },
  {
   "cell_type": "code",
   "execution_count": 20,
   "metadata": {},
   "outputs": [
    {
     "data": {
      "text/html": [
       "<div>\n",
       "<style scoped>\n",
       "    .dataframe tbody tr th:only-of-type {\n",
       "        vertical-align: middle;\n",
       "    }\n",
       "\n",
       "    .dataframe tbody tr th {\n",
       "        vertical-align: top;\n",
       "    }\n",
       "\n",
       "    .dataframe thead th {\n",
       "        text-align: right;\n",
       "    }\n",
       "</style>\n",
       "<table border=\"1\" class=\"dataframe\">\n",
       "  <thead>\n",
       "    <tr style=\"text-align: right;\">\n",
       "      <th></th>\n",
       "      <th>bsmtexposure</th>\n",
       "      <th>bsmtfintype2</th>\n",
       "      <th>bsmtcond</th>\n",
       "      <th>bsmtfintype1</th>\n",
       "      <th>bsmtqual</th>\n",
       "    </tr>\n",
       "  </thead>\n",
       "  <tbody>\n",
       "    <tr>\n",
       "      <th>15</th>\n",
       "      <td>NaN</td>\n",
       "      <td>NaN</td>\n",
       "      <td>NaN</td>\n",
       "      <td>NaN</td>\n",
       "      <td>NaN</td>\n",
       "    </tr>\n",
       "    <tr>\n",
       "      <th>37</th>\n",
       "      <td>NaN</td>\n",
       "      <td>NaN</td>\n",
       "      <td>NaN</td>\n",
       "      <td>NaN</td>\n",
       "      <td>NaN</td>\n",
       "    </tr>\n",
       "    <tr>\n",
       "      <th>77</th>\n",
       "      <td>NaN</td>\n",
       "      <td>NaN</td>\n",
       "      <td>NaN</td>\n",
       "      <td>NaN</td>\n",
       "      <td>NaN</td>\n",
       "    </tr>\n",
       "    <tr>\n",
       "      <th>79</th>\n",
       "      <td>NaN</td>\n",
       "      <td>NaN</td>\n",
       "      <td>NaN</td>\n",
       "      <td>NaN</td>\n",
       "      <td>NaN</td>\n",
       "    </tr>\n",
       "    <tr>\n",
       "      <th>113</th>\n",
       "      <td>NaN</td>\n",
       "      <td>NaN</td>\n",
       "      <td>NaN</td>\n",
       "      <td>NaN</td>\n",
       "      <td>NaN</td>\n",
       "    </tr>\n",
       "    <tr>\n",
       "      <th>145</th>\n",
       "      <td>NaN</td>\n",
       "      <td>NaN</td>\n",
       "      <td>NaN</td>\n",
       "      <td>NaN</td>\n",
       "      <td>NaN</td>\n",
       "    </tr>\n",
       "    <tr>\n",
       "      <th>190</th>\n",
       "      <td>NaN</td>\n",
       "      <td>NaN</td>\n",
       "      <td>NaN</td>\n",
       "      <td>NaN</td>\n",
       "      <td>NaN</td>\n",
       "    </tr>\n",
       "    <tr>\n",
       "      <th>206</th>\n",
       "      <td>NaN</td>\n",
       "      <td>NaN</td>\n",
       "      <td>NaN</td>\n",
       "      <td>NaN</td>\n",
       "      <td>NaN</td>\n",
       "    </tr>\n",
       "    <tr>\n",
       "      <th>279</th>\n",
       "      <td>NaN</td>\n",
       "      <td>NaN</td>\n",
       "      <td>NaN</td>\n",
       "      <td>NaN</td>\n",
       "      <td>NaN</td>\n",
       "    </tr>\n",
       "    <tr>\n",
       "      <th>292</th>\n",
       "      <td>NaN</td>\n",
       "      <td>NaN</td>\n",
       "      <td>NaN</td>\n",
       "      <td>NaN</td>\n",
       "      <td>NaN</td>\n",
       "    </tr>\n",
       "    <tr>\n",
       "      <th>294</th>\n",
       "      <td>NaN</td>\n",
       "      <td>NaN</td>\n",
       "      <td>NaN</td>\n",
       "      <td>NaN</td>\n",
       "      <td>NaN</td>\n",
       "    </tr>\n",
       "    <tr>\n",
       "      <th>315</th>\n",
       "      <td>NaN</td>\n",
       "      <td>NaN</td>\n",
       "      <td>NaN</td>\n",
       "      <td>NaN</td>\n",
       "      <td>NaN</td>\n",
       "    </tr>\n",
       "    <tr>\n",
       "      <th>321</th>\n",
       "      <td>NaN</td>\n",
       "      <td>NaN</td>\n",
       "      <td>NaN</td>\n",
       "      <td>NaN</td>\n",
       "      <td>NaN</td>\n",
       "    </tr>\n",
       "    <tr>\n",
       "      <th>414</th>\n",
       "      <td>NaN</td>\n",
       "      <td>NaN</td>\n",
       "      <td>NaN</td>\n",
       "      <td>NaN</td>\n",
       "      <td>NaN</td>\n",
       "    </tr>\n",
       "    <tr>\n",
       "      <th>431</th>\n",
       "      <td>NaN</td>\n",
       "      <td>NaN</td>\n",
       "      <td>NaN</td>\n",
       "      <td>NaN</td>\n",
       "      <td>NaN</td>\n",
       "    </tr>\n",
       "    <tr>\n",
       "      <th>481</th>\n",
       "      <td>NaN</td>\n",
       "      <td>NaN</td>\n",
       "      <td>NaN</td>\n",
       "      <td>NaN</td>\n",
       "      <td>NaN</td>\n",
       "    </tr>\n",
       "    <tr>\n",
       "      <th>528</th>\n",
       "      <td>NaN</td>\n",
       "      <td>NaN</td>\n",
       "      <td>NaN</td>\n",
       "      <td>NaN</td>\n",
       "      <td>NaN</td>\n",
       "    </tr>\n",
       "    <tr>\n",
       "      <th>553</th>\n",
       "      <td>NaN</td>\n",
       "      <td>NaN</td>\n",
       "      <td>NaN</td>\n",
       "      <td>NaN</td>\n",
       "      <td>NaN</td>\n",
       "    </tr>\n",
       "    <tr>\n",
       "      <th>614</th>\n",
       "      <td>NaN</td>\n",
       "      <td>NaN</td>\n",
       "      <td>NaN</td>\n",
       "      <td>NaN</td>\n",
       "      <td>NaN</td>\n",
       "    </tr>\n",
       "    <tr>\n",
       "      <th>619</th>\n",
       "      <td>NaN</td>\n",
       "      <td>NaN</td>\n",
       "      <td>NaN</td>\n",
       "      <td>NaN</td>\n",
       "      <td>NaN</td>\n",
       "    </tr>\n",
       "    <tr>\n",
       "      <th>622</th>\n",
       "      <td>NaN</td>\n",
       "      <td>NaN</td>\n",
       "      <td>NaN</td>\n",
       "      <td>NaN</td>\n",
       "      <td>NaN</td>\n",
       "    </tr>\n",
       "    <tr>\n",
       "      <th>626</th>\n",
       "      <td>NaN</td>\n",
       "      <td>NaN</td>\n",
       "      <td>NaN</td>\n",
       "      <td>NaN</td>\n",
       "      <td>NaN</td>\n",
       "    </tr>\n",
       "    <tr>\n",
       "      <th>655</th>\n",
       "      <td>NaN</td>\n",
       "      <td>NaN</td>\n",
       "      <td>NaN</td>\n",
       "      <td>NaN</td>\n",
       "      <td>NaN</td>\n",
       "    </tr>\n",
       "    <tr>\n",
       "      <th>703</th>\n",
       "      <td>NaN</td>\n",
       "      <td>NaN</td>\n",
       "      <td>NaN</td>\n",
       "      <td>NaN</td>\n",
       "      <td>NaN</td>\n",
       "    </tr>\n",
       "    <tr>\n",
       "      <th>772</th>\n",
       "      <td>NaN</td>\n",
       "      <td>NaN</td>\n",
       "      <td>NaN</td>\n",
       "      <td>NaN</td>\n",
       "      <td>NaN</td>\n",
       "    </tr>\n",
       "    <tr>\n",
       "      <th>524</th>\n",
       "      <td>Av</td>\n",
       "      <td>Rec</td>\n",
       "      <td>TA</td>\n",
       "      <td>ALQ</td>\n",
       "      <td>TA</td>\n",
       "    </tr>\n",
       "    <tr>\n",
       "      <th>564</th>\n",
       "      <td>Av</td>\n",
       "      <td>Rec</td>\n",
       "      <td>TA</td>\n",
       "      <td>ALQ</td>\n",
       "      <td>TA</td>\n",
       "    </tr>\n",
       "    <tr>\n",
       "      <th>472</th>\n",
       "      <td>Av</td>\n",
       "      <td>Unf</td>\n",
       "      <td>TA</td>\n",
       "      <td>GLQ</td>\n",
       "      <td>Gd</td>\n",
       "    </tr>\n",
       "    <tr>\n",
       "      <th>471</th>\n",
       "      <td>Av</td>\n",
       "      <td>LwQ</td>\n",
       "      <td>TA</td>\n",
       "      <td>ALQ</td>\n",
       "      <td>Gd</td>\n",
       "    </tr>\n",
       "    <tr>\n",
       "      <th>592</th>\n",
       "      <td>Av</td>\n",
       "      <td>Unf</td>\n",
       "      <td>TA</td>\n",
       "      <td>GLQ</td>\n",
       "      <td>Gd</td>\n",
       "    </tr>\n",
       "    <tr>\n",
       "      <th>723</th>\n",
       "      <td>Av</td>\n",
       "      <td>Unf</td>\n",
       "      <td>Gd</td>\n",
       "      <td>GLQ</td>\n",
       "      <td>Gd</td>\n",
       "    </tr>\n",
       "    <tr>\n",
       "      <th>725</th>\n",
       "      <td>Av</td>\n",
       "      <td>Unf</td>\n",
       "      <td>TA</td>\n",
       "      <td>GLQ</td>\n",
       "      <td>Gd</td>\n",
       "    </tr>\n",
       "    <tr>\n",
       "      <th>241</th>\n",
       "      <td>Av</td>\n",
       "      <td>Unf</td>\n",
       "      <td>TA</td>\n",
       "      <td>Unf</td>\n",
       "      <td>Gd</td>\n",
       "    </tr>\n",
       "    <tr>\n",
       "      <th>566</th>\n",
       "      <td>Av</td>\n",
       "      <td>BLQ</td>\n",
       "      <td>TA</td>\n",
       "      <td>LwQ</td>\n",
       "      <td>Gd</td>\n",
       "    </tr>\n",
       "    <tr>\n",
       "      <th>467</th>\n",
       "      <td>Av</td>\n",
       "      <td>Unf</td>\n",
       "      <td>TA</td>\n",
       "      <td>GLQ</td>\n",
       "      <td>Gd</td>\n",
       "    </tr>\n",
       "    <tr>\n",
       "      <th>121</th>\n",
       "      <td>Av</td>\n",
       "      <td>Unf</td>\n",
       "      <td>TA</td>\n",
       "      <td>GLQ</td>\n",
       "      <td>Ex</td>\n",
       "    </tr>\n",
       "    <tr>\n",
       "      <th>589</th>\n",
       "      <td>Av</td>\n",
       "      <td>Unf</td>\n",
       "      <td>TA</td>\n",
       "      <td>GLQ</td>\n",
       "      <td>Ex</td>\n",
       "    </tr>\n",
       "    <tr>\n",
       "      <th>124</th>\n",
       "      <td>Av</td>\n",
       "      <td>Unf</td>\n",
       "      <td>TA</td>\n",
       "      <td>GLQ</td>\n",
       "      <td>Gd</td>\n",
       "    </tr>\n",
       "    <tr>\n",
       "      <th>729</th>\n",
       "      <td>Av</td>\n",
       "      <td>Unf</td>\n",
       "      <td>TA</td>\n",
       "      <td>Unf</td>\n",
       "      <td>Gd</td>\n",
       "    </tr>\n",
       "    <tr>\n",
       "      <th>126</th>\n",
       "      <td>Av</td>\n",
       "      <td>Unf</td>\n",
       "      <td>TA</td>\n",
       "      <td>GLQ</td>\n",
       "      <td>Ex</td>\n",
       "    </tr>\n",
       "  </tbody>\n",
       "</table>\n",
       "</div>"
      ],
      "text/plain": [
       "    bsmtexposure bsmtfintype2 bsmtcond bsmtfintype1 bsmtqual\n",
       "15           NaN          NaN      NaN          NaN      NaN\n",
       "37           NaN          NaN      NaN          NaN      NaN\n",
       "77           NaN          NaN      NaN          NaN      NaN\n",
       "79           NaN          NaN      NaN          NaN      NaN\n",
       "113          NaN          NaN      NaN          NaN      NaN\n",
       "145          NaN          NaN      NaN          NaN      NaN\n",
       "190          NaN          NaN      NaN          NaN      NaN\n",
       "206          NaN          NaN      NaN          NaN      NaN\n",
       "279          NaN          NaN      NaN          NaN      NaN\n",
       "292          NaN          NaN      NaN          NaN      NaN\n",
       "294          NaN          NaN      NaN          NaN      NaN\n",
       "315          NaN          NaN      NaN          NaN      NaN\n",
       "321          NaN          NaN      NaN          NaN      NaN\n",
       "414          NaN          NaN      NaN          NaN      NaN\n",
       "431          NaN          NaN      NaN          NaN      NaN\n",
       "481          NaN          NaN      NaN          NaN      NaN\n",
       "528          NaN          NaN      NaN          NaN      NaN\n",
       "553          NaN          NaN      NaN          NaN      NaN\n",
       "614          NaN          NaN      NaN          NaN      NaN\n",
       "619          NaN          NaN      NaN          NaN      NaN\n",
       "622          NaN          NaN      NaN          NaN      NaN\n",
       "626          NaN          NaN      NaN          NaN      NaN\n",
       "655          NaN          NaN      NaN          NaN      NaN\n",
       "703          NaN          NaN      NaN          NaN      NaN\n",
       "772          NaN          NaN      NaN          NaN      NaN\n",
       "524           Av          Rec       TA          ALQ       TA\n",
       "564           Av          Rec       TA          ALQ       TA\n",
       "472           Av          Unf       TA          GLQ       Gd\n",
       "471           Av          LwQ       TA          ALQ       Gd\n",
       "592           Av          Unf       TA          GLQ       Gd\n",
       "723           Av          Unf       Gd          GLQ       Gd\n",
       "725           Av          Unf       TA          GLQ       Gd\n",
       "241           Av          Unf       TA          Unf       Gd\n",
       "566           Av          BLQ       TA          LwQ       Gd\n",
       "467           Av          Unf       TA          GLQ       Gd\n",
       "121           Av          Unf       TA          GLQ       Ex\n",
       "589           Av          Unf       TA          GLQ       Ex\n",
       "124           Av          Unf       TA          GLQ       Gd\n",
       "729           Av          Unf       TA          Unf       Gd\n",
       "126           Av          Unf       TA          GLQ       Ex"
      ]
     },
     "execution_count": 20,
     "metadata": {},
     "output_type": "execute_result"
    }
   ],
   "source": [
    "test[['bsmtexposure','bsmtfintype2', 'bsmtcond', 'bsmtfintype1','bsmtqual']].sort_values(by='bsmtexposure',na_position='first').head(40)"
   ]
  },
  {
   "cell_type": "code",
   "execution_count": 21,
   "metadata": {},
   "outputs": [],
   "source": [
    "for i in ['bsmtexposure','bsmtfintype2', 'bsmtcond', 'bsmtfintype1','bsmtqual']:\n",
    "    test[i] = test[i].fillna('None')"
   ]
  },
  {
   "cell_type": "code",
   "execution_count": 22,
   "metadata": {},
   "outputs": [
    {
     "data": {
      "text/plain": [
       "bsmtexposure    0\n",
       "bsmtfintype2    0\n",
       "bsmtcond        0\n",
       "bsmtfintype1    0\n",
       "bsmtqual        0\n",
       "dtype: int64"
      ]
     },
     "execution_count": 22,
     "metadata": {},
     "output_type": "execute_result"
    }
   ],
   "source": [
    "test[['bsmtexposure','bsmtfintype2', 'bsmtcond', 'bsmtfintype1','bsmtqual']].isnull().sum()"
   ]
  },
  {
   "cell_type": "markdown",
   "metadata": {},
   "source": [
    "7. Treating Alley and Fence"
   ]
  },
  {
   "cell_type": "code",
   "execution_count": 23,
   "metadata": {},
   "outputs": [],
   "source": [
    "test['alley'] = test['alley'].fillna(0)"
   ]
  },
  {
   "cell_type": "code",
   "execution_count": 24,
   "metadata": {},
   "outputs": [],
   "source": [
    "test['fence'] = test['fence'].fillna('None')"
   ]
  },
  {
   "cell_type": "markdown",
   "metadata": {},
   "source": [
    "8. Fixing Misc Feature"
   ]
  },
  {
   "cell_type": "code",
   "execution_count": 25,
   "metadata": {},
   "outputs": [],
   "source": [
    "test['miscfeature']= test['miscfeature'].fillna('None')"
   ]
  },
  {
   "cell_type": "markdown",
   "metadata": {},
   "source": [
    "9. Fixing Electrical"
   ]
  },
  {
   "cell_type": "code",
   "execution_count": 26,
   "metadata": {},
   "outputs": [
    {
     "data": {
      "text/plain": [
       "SBrkr    814\n",
       "FuseA     48\n",
       "FuseF     15\n",
       "FuseP      1\n",
       "Name: electrical, dtype: int64"
      ]
     },
     "execution_count": 26,
     "metadata": {},
     "output_type": "execute_result"
    }
   ],
   "source": [
    "test['electrical'].value_counts()"
   ]
  },
  {
   "cell_type": "code",
   "execution_count": 27,
   "metadata": {},
   "outputs": [],
   "source": [
    "test['electrical']= test['electrical'].fillna('Sbrkr')"
   ]
  },
  {
   "cell_type": "markdown",
   "metadata": {},
   "source": [
    "##### Dropping other same columns as train set"
   ]
  },
  {
   "cell_type": "code",
   "execution_count": 28,
   "metadata": {},
   "outputs": [],
   "source": [
    "test = test.drop(['pid','id'], axis=1)"
   ]
  },
  {
   "cell_type": "code",
   "execution_count": 29,
   "metadata": {},
   "outputs": [],
   "source": [
    "test = test.drop(['garagecars'], axis=1)"
   ]
  },
  {
   "cell_type": "code",
   "execution_count": 30,
   "metadata": {},
   "outputs": [],
   "source": [
    "test = test.drop(['1stflrsf'], axis=1)"
   ]
  },
  {
   "cell_type": "code",
   "execution_count": 31,
   "metadata": {},
   "outputs": [],
   "source": [
    "test = test.drop(['totrmsabvgrd'], axis=1)"
   ]
  },
  {
   "cell_type": "markdown",
   "metadata": {},
   "source": [
    "#####  Nominal variables for OHE"
   ]
  },
  {
   "cell_type": "code",
   "execution_count": 32,
   "metadata": {},
   "outputs": [],
   "source": [
    "test = pd.get_dummies(test, columns=['mssubclass','mszoning','street','alley','landcontour','lotconfig','neighborhood','condition1','condition2','bldgtype','housestyle','roofstyle','roofmatl','exterior1st','exterior2nd','masvnrtype','foundation','heating','centralair','garagetype','miscfeature','saletype'], drop_first=True)"
   ]
  },
  {
   "cell_type": "code",
   "execution_count": 33,
   "metadata": {},
   "outputs": [
    {
     "data": {
      "text/plain": [
       "(879, 197)"
      ]
     },
     "execution_count": 33,
     "metadata": {},
     "output_type": "execute_result"
    }
   ],
   "source": [
    "test.shape"
   ]
  },
  {
   "cell_type": "markdown",
   "metadata": {},
   "source": [
    "##### Ordinal variables (to be mapped to numerical scale) "
   ]
  },
  {
   "cell_type": "code",
   "execution_count": 34,
   "metadata": {},
   "outputs": [],
   "source": [
    "test['lotshape'] = test['lotshape'].map({'Reg':1,'IR1':2,'IR2':3,'IR3':4})"
   ]
  },
  {
   "cell_type": "code",
   "execution_count": 35,
   "metadata": {},
   "outputs": [],
   "source": [
    "test['utilities'] = test['utilities'].apply(lambda x: 'fullpub' if x == 'AllPub' else 'missingpub')\n",
    "test['utilities'] = test['utilities'].map({'missingpub':1,'fullpub':2})"
   ]
  },
  {
   "cell_type": "code",
   "execution_count": 36,
   "metadata": {},
   "outputs": [],
   "source": [
    "test['landslope'] = test['landslope'].apply(lambda x: 'flat' if x == 'Gtl' else 'sloped')\n",
    "test['landslope'] = test['landslope'].map({'sloped':2,'flat':1})"
   ]
  },
  {
   "cell_type": "code",
   "execution_count": 37,
   "metadata": {},
   "outputs": [],
   "source": [
    "test['exterqual'] = test['exterqual'].map({'Ex':4,'Gd':3,'TA':2,'Fa':1})"
   ]
  },
  {
   "cell_type": "code",
   "execution_count": 38,
   "metadata": {},
   "outputs": [],
   "source": [
    "test['extercond'] = train['extercond'].map({'Ex':5,'Gd':4,'TA':3,'Fa':2,'Po':1})"
   ]
  },
  {
   "cell_type": "code",
   "execution_count": 39,
   "metadata": {},
   "outputs": [],
   "source": [
    "test['bsmtqual'] = test['bsmtqual'].map({'Ex':5,'Gd':4,'TA':3,'Fa':2,'Po':1,'None':0})"
   ]
  },
  {
   "cell_type": "code",
   "execution_count": 40,
   "metadata": {},
   "outputs": [],
   "source": [
    "test['bsmtcond'] = test['bsmtcond'].map({'Ex':5,'Gd':4,'TA':3,'Fa':2,'Po':1,'None':0})"
   ]
  },
  {
   "cell_type": "code",
   "execution_count": 41,
   "metadata": {},
   "outputs": [],
   "source": [
    "test['bsmtexposure'] = test['bsmtexposure'].map({'Gd':3,'Av':2,'Mn':1,'No':0,'None':0})"
   ]
  },
  {
   "cell_type": "code",
   "execution_count": 42,
   "metadata": {},
   "outputs": [],
   "source": [
    "test['bsmtfintype1'] = test['bsmtfintype1'].map({'GLQ':5,'ALQ':4,'BLQ':3,'Rec':2,'LwQ':1,'Unf':0,'None':0})"
   ]
  },
  {
   "cell_type": "code",
   "execution_count": 43,
   "metadata": {},
   "outputs": [],
   "source": [
    "test['bsmtfintype2'] = test['bsmtfintype2'].map({'GLQ':5,'ALQ':4,'BLQ':3,'Rec':2,'LwQ':1,'Unf':0,'None':0})"
   ]
  },
  {
   "cell_type": "code",
   "execution_count": 44,
   "metadata": {},
   "outputs": [],
   "source": [
    "test['heatingqc'] = test['heatingqc'].map({'Ex':5,'Gd':4,'TA':3,'Fa':2,'Po':1})"
   ]
  },
  {
   "cell_type": "code",
   "execution_count": 45,
   "metadata": {},
   "outputs": [],
   "source": [
    "test['electrical'] = test['electrical'].map({'SBrkr':5,'FuseA':4,'FuseF':3, 'FuseP':2, 'Mix':1})"
   ]
  },
  {
   "cell_type": "code",
   "execution_count": 46,
   "metadata": {},
   "outputs": [],
   "source": [
    "test['kitchenqual'] = test['kitchenqual'].map({'Ex':4,'Gd':3,'TA':2,'Fa':1})"
   ]
  },
  {
   "cell_type": "code",
   "execution_count": 47,
   "metadata": {},
   "outputs": [],
   "source": [
    "test['functional'] = test['functional'].map({'Typ':7,'Min1':6,'Min2':5,'Mod':4,'Maj1':3,'Maj2':2,'Sev':1,'Sal':0})"
   ]
  },
  {
   "cell_type": "code",
   "execution_count": 48,
   "metadata": {},
   "outputs": [],
   "source": [
    "test['fireplacequ'] = test['fireplacequ'].map({'Ex':5,'Gd':4,'TA':3,'Fa':2,'Po':1,'None':0})"
   ]
  },
  {
   "cell_type": "code",
   "execution_count": 49,
   "metadata": {},
   "outputs": [],
   "source": [
    "test['garagefinish'] = test['garagefinish'].map({'Fin':3,'RFn':2,'Unf':1,'None':0})"
   ]
  },
  {
   "cell_type": "code",
   "execution_count": 50,
   "metadata": {},
   "outputs": [],
   "source": [
    "test['garagequal'] = test['garagequal'].map({'Ex':5,'Gd':4,'TA':3,'Fa':2,'Po':1,'None':0})"
   ]
  },
  {
   "cell_type": "code",
   "execution_count": 51,
   "metadata": {},
   "outputs": [],
   "source": [
    "test['paveddrive'] = test['paveddrive'].apply(lambda x: 'Paved' if x == 'Y' else 'Nonpaved')\n",
    "test['landslope'] = test['landslope'].map({'Paved':2,'Nonpaved':1})"
   ]
  },
  {
   "cell_type": "code",
   "execution_count": 52,
   "metadata": {},
   "outputs": [],
   "source": [
    "test.drop('garagecond',axis=1,inplace=True)"
   ]
  },
  {
   "cell_type": "code",
   "execution_count": 53,
   "metadata": {},
   "outputs": [],
   "source": [
    "test.drop('poolqc',axis=1,inplace=True)"
   ]
  },
  {
   "cell_type": "code",
   "execution_count": 54,
   "metadata": {},
   "outputs": [],
   "source": [
    "test.drop('fence',axis=1,inplace=True)"
   ]
  },
  {
   "cell_type": "markdown",
   "metadata": {},
   "source": [
    "##### Creating new variables"
   ]
  },
  {
   "cell_type": "markdown",
   "metadata": {},
   "source": [
    "1. Season"
   ]
  },
  {
   "cell_type": "code",
   "execution_count": 55,
   "metadata": {},
   "outputs": [],
   "source": [
    "#Creates variable for season of sale from month of sale variable\n",
    "seasons = {\n",
    "    'Spring':[3,4,5],\n",
    "    'Summer':[6,7,8],\n",
    "    'Fall':[9,10,11],\n",
    "    'Winter':[12,1,2]}\n",
    "\n",
    "test['season'] = test['mosold'].map(lambda x: [i for i in seasons if x in seasons[i]][0])\n",
    "\n",
    "#Gets dummies for season of sale\n",
    "test = pd.get_dummies(test, columns=['season'],drop_first=True)"
   ]
  },
  {
   "cell_type": "code",
   "execution_count": 56,
   "metadata": {},
   "outputs": [],
   "source": [
    "test.drop('mosold',axis=1,inplace=True)"
   ]
  },
  {
   "cell_type": "markdown",
   "metadata": {},
   "source": [
    "2. Age"
   ]
  },
  {
   "cell_type": "code",
   "execution_count": 57,
   "metadata": {},
   "outputs": [],
   "source": [
    "#create function to calculate age\n",
    "def ageyears(feature): \n",
    "    return feature.apply(lambda x: 0 if x==0 else (2020 - x))\n",
    "\n",
    "#create new columns to calculate age variables\n",
    "test['houseage'] = ageyears(test.yearbuilt)\n",
    "test['remodage'] = ageyears(test.yearremodadd)\n",
    "test['garageage'] = ageyears(test.garageyrblt) "
   ]
  },
  {
   "cell_type": "code",
   "execution_count": 58,
   "metadata": {},
   "outputs": [],
   "source": [
    "test.drop('yearbuilt',axis=1,inplace=True)"
   ]
  },
  {
   "cell_type": "code",
   "execution_count": 59,
   "metadata": {},
   "outputs": [],
   "source": [
    "test.drop('yearremodadd',axis=1,inplace=True)"
   ]
  },
  {
   "cell_type": "code",
   "execution_count": 60,
   "metadata": {},
   "outputs": [],
   "source": [
    "test.drop('garageyrblt',axis=1,inplace=True)"
   ]
  },
  {
   "cell_type": "markdown",
   "metadata": {},
   "source": [
    "##### Checking of test data set"
   ]
  },
  {
   "cell_type": "code",
   "execution_count": 61,
   "metadata": {},
   "outputs": [
    {
     "data": {
      "text/html": [
       "<div>\n",
       "<style scoped>\n",
       "    .dataframe tbody tr th:only-of-type {\n",
       "        vertical-align: middle;\n",
       "    }\n",
       "\n",
       "    .dataframe tbody tr th {\n",
       "        vertical-align: top;\n",
       "    }\n",
       "\n",
       "    .dataframe thead th {\n",
       "        text-align: right;\n",
       "    }\n",
       "</style>\n",
       "<table border=\"1\" class=\"dataframe\">\n",
       "  <thead>\n",
       "    <tr style=\"text-align: right;\">\n",
       "      <th></th>\n",
       "      <th>lotfrontage</th>\n",
       "      <th>lotarea</th>\n",
       "      <th>lotshape</th>\n",
       "      <th>utilities</th>\n",
       "      <th>landslope</th>\n",
       "      <th>overallqual</th>\n",
       "      <th>overallcond</th>\n",
       "      <th>masvnrarea</th>\n",
       "      <th>exterqual</th>\n",
       "      <th>extercond</th>\n",
       "      <th>...</th>\n",
       "      <th>saletype_New</th>\n",
       "      <th>saletype_Oth</th>\n",
       "      <th>saletype_VWD</th>\n",
       "      <th>saletype_WD</th>\n",
       "      <th>season_Spring</th>\n",
       "      <th>season_Summer</th>\n",
       "      <th>season_Winter</th>\n",
       "      <th>houseage</th>\n",
       "      <th>remodage</th>\n",
       "      <th>garageage</th>\n",
       "    </tr>\n",
       "  </thead>\n",
       "  <tbody>\n",
       "    <tr>\n",
       "      <th>0</th>\n",
       "      <td>69.000000</td>\n",
       "      <td>9142</td>\n",
       "      <td>1</td>\n",
       "      <td>2</td>\n",
       "      <td>NaN</td>\n",
       "      <td>6</td>\n",
       "      <td>8</td>\n",
       "      <td>0.0</td>\n",
       "      <td>2</td>\n",
       "      <td>3</td>\n",
       "      <td>...</td>\n",
       "      <td>0</td>\n",
       "      <td>0</td>\n",
       "      <td>0</td>\n",
       "      <td>1</td>\n",
       "      <td>1</td>\n",
       "      <td>0</td>\n",
       "      <td>0</td>\n",
       "      <td>110</td>\n",
       "      <td>70</td>\n",
       "      <td>110.0</td>\n",
       "    </tr>\n",
       "    <tr>\n",
       "      <th>1</th>\n",
       "      <td>72.774648</td>\n",
       "      <td>9662</td>\n",
       "      <td>2</td>\n",
       "      <td>2</td>\n",
       "      <td>NaN</td>\n",
       "      <td>5</td>\n",
       "      <td>4</td>\n",
       "      <td>0.0</td>\n",
       "      <td>2</td>\n",
       "      <td>3</td>\n",
       "      <td>...</td>\n",
       "      <td>0</td>\n",
       "      <td>0</td>\n",
       "      <td>0</td>\n",
       "      <td>1</td>\n",
       "      <td>0</td>\n",
       "      <td>1</td>\n",
       "      <td>0</td>\n",
       "      <td>43</td>\n",
       "      <td>43</td>\n",
       "      <td>43.0</td>\n",
       "    </tr>\n",
       "    <tr>\n",
       "      <th>2</th>\n",
       "      <td>58.000000</td>\n",
       "      <td>17104</td>\n",
       "      <td>2</td>\n",
       "      <td>2</td>\n",
       "      <td>NaN</td>\n",
       "      <td>7</td>\n",
       "      <td>5</td>\n",
       "      <td>0.0</td>\n",
       "      <td>3</td>\n",
       "      <td>4</td>\n",
       "      <td>...</td>\n",
       "      <td>1</td>\n",
       "      <td>0</td>\n",
       "      <td>0</td>\n",
       "      <td>0</td>\n",
       "      <td>0</td>\n",
       "      <td>0</td>\n",
       "      <td>0</td>\n",
       "      <td>14</td>\n",
       "      <td>14</td>\n",
       "      <td>14.0</td>\n",
       "    </tr>\n",
       "    <tr>\n",
       "      <th>3</th>\n",
       "      <td>60.000000</td>\n",
       "      <td>8520</td>\n",
       "      <td>1</td>\n",
       "      <td>2</td>\n",
       "      <td>NaN</td>\n",
       "      <td>5</td>\n",
       "      <td>6</td>\n",
       "      <td>0.0</td>\n",
       "      <td>3</td>\n",
       "      <td>3</td>\n",
       "      <td>...</td>\n",
       "      <td>0</td>\n",
       "      <td>0</td>\n",
       "      <td>0</td>\n",
       "      <td>1</td>\n",
       "      <td>0</td>\n",
       "      <td>1</td>\n",
       "      <td>0</td>\n",
       "      <td>97</td>\n",
       "      <td>14</td>\n",
       "      <td>85.0</td>\n",
       "    </tr>\n",
       "    <tr>\n",
       "      <th>4</th>\n",
       "      <td>75.192453</td>\n",
       "      <td>9500</td>\n",
       "      <td>2</td>\n",
       "      <td>2</td>\n",
       "      <td>NaN</td>\n",
       "      <td>6</td>\n",
       "      <td>5</td>\n",
       "      <td>247.0</td>\n",
       "      <td>2</td>\n",
       "      <td>3</td>\n",
       "      <td>...</td>\n",
       "      <td>0</td>\n",
       "      <td>0</td>\n",
       "      <td>0</td>\n",
       "      <td>1</td>\n",
       "      <td>0</td>\n",
       "      <td>1</td>\n",
       "      <td>0</td>\n",
       "      <td>57</td>\n",
       "      <td>57</td>\n",
       "      <td>57.0</td>\n",
       "    </tr>\n",
       "  </tbody>\n",
       "</table>\n",
       "<p>5 rows × 196 columns</p>\n",
       "</div>"
      ],
      "text/plain": [
       "   lotfrontage  lotarea  lotshape  utilities  landslope  overallqual  \\\n",
       "0    69.000000     9142         1          2        NaN            6   \n",
       "1    72.774648     9662         2          2        NaN            5   \n",
       "2    58.000000    17104         2          2        NaN            7   \n",
       "3    60.000000     8520         1          2        NaN            5   \n",
       "4    75.192453     9500         2          2        NaN            6   \n",
       "\n",
       "   overallcond  masvnrarea  exterqual  extercond  ...  saletype_New  \\\n",
       "0            8         0.0          2          3  ...             0   \n",
       "1            4         0.0          2          3  ...             0   \n",
       "2            5         0.0          3          4  ...             1   \n",
       "3            6         0.0          3          3  ...             0   \n",
       "4            5       247.0          2          3  ...             0   \n",
       "\n",
       "   saletype_Oth  saletype_VWD  saletype_WD   season_Spring  season_Summer  \\\n",
       "0             0             0             1              1              0   \n",
       "1             0             0             1              0              1   \n",
       "2             0             0             0              0              0   \n",
       "3             0             0             1              0              1   \n",
       "4             0             0             1              0              1   \n",
       "\n",
       "   season_Winter  houseage  remodage  garageage  \n",
       "0              0       110        70      110.0  \n",
       "1              0        43        43       43.0  \n",
       "2              0        14        14       14.0  \n",
       "3              0        97        14       85.0  \n",
       "4              0        57        57       57.0  \n",
       "\n",
       "[5 rows x 196 columns]"
      ]
     },
     "execution_count": 61,
     "metadata": {},
     "output_type": "execute_result"
    }
   ],
   "source": [
    "test.head()"
   ]
  },
  {
   "cell_type": "code",
   "execution_count": 62,
   "metadata": {},
   "outputs": [
    {
     "name": "stdout",
     "output_type": "stream",
     "text": [
      "<class 'pandas.core.frame.DataFrame'>\n",
      "RangeIndex: 879 entries, 0 to 878\n",
      "Columns: 196 entries, lotfrontage to garageage\n",
      "dtypes: float64(7), int64(41), object(1), uint8(147)\n",
      "memory usage: 462.8+ KB\n"
     ]
    }
   ],
   "source": [
    "test.info()"
   ]
  },
  {
   "cell_type": "code",
   "execution_count": null,
   "metadata": {},
   "outputs": [],
   "source": []
  }
 ],
 "metadata": {
  "kernelspec": {
   "display_name": "Python 3",
   "language": "python",
   "name": "python3"
  },
  "language_info": {
   "codemirror_mode": {
    "name": "ipython",
    "version": 3
   },
   "file_extension": ".py",
   "mimetype": "text/x-python",
   "name": "python",
   "nbconvert_exporter": "python",
   "pygments_lexer": "ipython3",
   "version": "3.7.6"
  }
 },
 "nbformat": 4,
 "nbformat_minor": 4
}
