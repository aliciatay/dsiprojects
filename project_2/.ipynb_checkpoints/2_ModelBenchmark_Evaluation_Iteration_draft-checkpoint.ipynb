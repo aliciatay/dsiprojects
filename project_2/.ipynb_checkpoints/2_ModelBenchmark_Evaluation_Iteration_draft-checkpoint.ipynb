{
 "cells": [
  {
   "cell_type": "markdown",
   "metadata": {},
   "source": [
    "### Import Libraries"
   ]
  },
  {
   "cell_type": "code",
   "execution_count": 1,
   "metadata": {},
   "outputs": [],
   "source": [
    "import pandas as pd\n",
    "import numpy as np\n",
    "import matplotlib.pyplot as plt\n",
    "import seaborn as sns\n",
    "import pandas as pd\n",
    "from sklearn.preprocessing import StandardScaler, PolynomialFeatures\n",
    "from sklearn.linear_model import LinearRegression\n",
    "from sklearn.preprocessing import StandardScaler\n",
    "from sklearn.model_selection import cross_val_score, train_test_split\n",
    "from sklearn.linear_model import LinearRegression, Lasso, LassoCV, Ridge, RidgeCV, ElasticNet, ElasticNetCV \n",
    "from sklearn import metrics\n",
    "from sklearn.dummy import DummyRegressor"
   ]
  },
  {
   "cell_type": "markdown",
   "metadata": {},
   "source": [
    "### Import Datasets"
   ]
  },
  {
   "cell_type": "code",
   "execution_count": 2,
   "metadata": {},
   "outputs": [],
   "source": [
    "train_processed=pd.read_csv('datasets/train_preprocessed.csv')\n",
    "test_processed=pd.read_csv('datasets/test_preprocessed.csv')"
   ]
  },
  {
   "cell_type": "markdown",
   "metadata": {},
   "source": [
    "### Creating X and y variables"
   ]
  },
  {
   "cell_type": "code",
   "execution_count": 3,
   "metadata": {},
   "outputs": [
    {
     "data": {
      "text/plain": [
       "(2049,)"
      ]
     },
     "execution_count": 3,
     "metadata": {},
     "output_type": "execute_result"
    }
   ],
   "source": [
    "#creating target vector\n",
    "y = train_processed['saleprice']\n",
    "y.shape"
   ]
  },
  {
   "cell_type": "code",
   "execution_count": 4,
   "metadata": {},
   "outputs": [
    {
     "data": {
      "text/plain": [
       "(2049, 188)"
      ]
     },
     "execution_count": 4,
     "metadata": {},
     "output_type": "execute_result"
    }
   ],
   "source": [
    "#creating feature matrix\n",
    "X = train_processed.drop(['saleprice'], axis=1)\n",
    "X.shape"
   ]
  },
  {
   "cell_type": "markdown",
   "metadata": {},
   "source": [
    "### Train/Test/Split data"
   ]
  },
  {
   "cell_type": "code",
   "execution_count": 5,
   "metadata": {},
   "outputs": [],
   "source": [
    "#seeding with magical number 42!\n",
    "X_train, X_test, y_train, y_test = train_test_split(X, y, random_state=42)"
   ]
  },
  {
   "cell_type": "markdown",
   "metadata": {},
   "source": [
    "### Scaling"
   ]
  },
  {
   "cell_type": "code",
   "execution_count": 6,
   "metadata": {},
   "outputs": [],
   "source": [
    "ss= StandardScaler()\n",
    "ss.fit(X_train)\n",
    "\n",
    "X_train_scaled = ss.transform(X_train)\n",
    "X_test_scaled = ss.transform(X_test)"
   ]
  },
  {
   "cell_type": "markdown",
   "metadata": {},
   "source": [
    "### Creating Metric Formulas"
   ]
  },
  {
   "cell_type": "code",
   "execution_count": 7,
   "metadata": {},
   "outputs": [],
   "source": [
    "# def regression_metrics(X, y):\n",
    "#     import sklearn.metrics as metrics\n",
    "#     import sklearn.linear_model as linear_model\n",
    "#     import pandas as pd\n",
    "    \n",
    "#     linear = linear_model.LinearRegression()\n",
    "#     model = linear.fit(X, y)\n",
    "#     y_hat = model.predict(X)\n",
    "\n",
    "#     r_squared = model.score(X, y)\n",
    "#     mean_squared_err = metrics.mean_squared_error(y, y_hat)\n",
    "#     root_mean_squared_err = np.sqrt(mean_squared_err)\n",
    "#     mean_abs_err = metrics.mean_absolute_error(y, y_hat)\n",
    "#     median_abs_err = metrics.median_absolute_error(y, y_hat)\n",
    "#     adj_r_squared = 1 - (1 - r_squared)*(len(y)-1)/(len(y)-X.shape[1]-1)\n",
    "    \n",
    "    \n",
    "#     print(\"R-squared: {}\".format(r_squared))\n",
    "#     print(\"Adjusted R-squared: {}\".format(adj_r_squared))\n",
    "#     print(\"Mean Squared Error: {}\".format(mean_squared_err))\n",
    "#     print(\"Root Mean Squared Error: {}\".format(root_mean_squared_err))\n",
    "#     print(\"Mean Absolute Error: {}\".format(mean_abs_err))\n",
    "#     print(\"Median Absolute Error: {}\".format(median_abs_err))\n"
   ]
  },
  {
   "cell_type": "code",
   "execution_count": 8,
   "metadata": {},
   "outputs": [],
   "source": [
    "# def cross_val(model):\n",
    "#     pred = cross_val_score(model, X, y, cv=5)\n",
    "#     return pred.mean()\n",
    "\n",
    "# def print_evaluate(true, predicted):  \n",
    "#     mae = metrics.mean_absolute_error(true, predicted)\n",
    "#     mse = metrics.mean_squared_error(true, predicted)\n",
    "#     rmse = np.sqrt(metrics.mean_squared_error(true, predicted))\n",
    "#     r2_square = metrics.r2_score(true, predicted)\n",
    "#     adj_r2 = 1-(1-r2_square)*(n-1)/(n-p-1)\n",
    "#     print('MAE:', mae)\n",
    "#     print('MSE:', mse)\n",
    "#     print('RMSE:', rmse)\n",
    "#     print('R2 Square', r2_square)\n",
    "#     print('R2 Square', r2_square)\n",
    "    \n",
    "# def evaluate(true, predicted):\n",
    "#     mae = metrics.mean_absolute_error(true, predicted)\n",
    "#     mse = metrics.mean_squared_error(true, predicted)\n",
    "#     rmse = np.sqrt(metrics.mean_squared_error(true, predicted))\n",
    "#     r2_square = metrics.r2_score(true, predicted)\n",
    "#     return mae, mse, rmse, r2_square"
   ]
  },
  {
   "cell_type": "code",
   "execution_count": 9,
   "metadata": {},
   "outputs": [],
   "source": [
    "def RMSE(y_true, y_hat):\n",
    "    diff = y_true - y_hat\n",
    "    squared_diff = diff**2\n",
    "    return np.sqrt(np.mean(squared_diff))"
   ]
  },
  {
   "cell_type": "markdown",
   "metadata": {},
   "source": [
    "### Baseline Predictions and Errors"
   ]
  },
  {
   "cell_type": "markdown",
   "metadata": {},
   "source": [
    "Baseline model records an R2 accuracy of -0.000000000823, with an RMSE score of 79276 on the train dataset"
   ]
  },
  {
   "cell_type": "code",
   "execution_count": 10,
   "metadata": {
    "scrolled": true
   },
   "outputs": [],
   "source": [
    "baseprediction = [y.mean() for i in range(y.shape[0])]"
   ]
  },
  {
   "cell_type": "code",
   "execution_count": 11,
   "metadata": {},
   "outputs": [
    {
     "data": {
      "text/plain": [
       "-8.227679426653367e-09"
      ]
     },
     "execution_count": 11,
     "metadata": {},
     "output_type": "execute_result"
    }
   ],
   "source": [
    "#r2 score\n",
    "baseline_model = DummyRegressor(strategy='constant', constant =181479.01805758907)\n",
    "baseline_model.fit(X_train_scaled, y_train)\n",
    "baseline_model.score(X_train_scaled, y_train)"
   ]
  },
  {
   "cell_type": "code",
   "execution_count": 12,
   "metadata": {},
   "outputs": [
    {
     "data": {
      "text/plain": [
       "79276.56098763696"
      ]
     },
     "execution_count": 12,
     "metadata": {},
     "output_type": "execute_result"
    }
   ],
   "source": [
    "#RMSE score\n",
    "RMSE(y, baseprediction)"
   ]
  },
  {
   "cell_type": "code",
   "execution_count": 13,
   "metadata": {},
   "outputs": [
    {
     "data": {
      "text/html": [
       "<div>\n",
       "<style scoped>\n",
       "    .dataframe tbody tr th:only-of-type {\n",
       "        vertical-align: middle;\n",
       "    }\n",
       "\n",
       "    .dataframe tbody tr th {\n",
       "        vertical-align: top;\n",
       "    }\n",
       "\n",
       "    .dataframe thead th {\n",
       "        text-align: right;\n",
       "    }\n",
       "</style>\n",
       "<table border=\"1\" class=\"dataframe\">\n",
       "  <thead>\n",
       "    <tr style=\"text-align: right;\">\n",
       "      <th></th>\n",
       "      <th>Model</th>\n",
       "      <th>RMSE</th>\n",
       "      <th>R2 Square</th>\n",
       "    </tr>\n",
       "  </thead>\n",
       "  <tbody>\n",
       "    <tr>\n",
       "      <th>0</th>\n",
       "      <td>Dummy Regression</td>\n",
       "      <td>79276.560988</td>\n",
       "      <td>-8.227679e-09</td>\n",
       "    </tr>\n",
       "  </tbody>\n",
       "</table>\n",
       "</div>"
      ],
      "text/plain": [
       "              Model          RMSE     R2 Square\n",
       "0  Dummy Regression  79276.560988 -8.227679e-09"
      ]
     },
     "execution_count": 13,
     "metadata": {},
     "output_type": "execute_result"
    }
   ],
   "source": [
    "results_df = pd.DataFrame(data=[[\"Dummy\", RMSE(y, baseprediction), baseline_model.score(X_train_scaled, y_train)]], \n",
    "                          columns=['Model','RMSE', 'R2 Square'])\n",
    "results_df"
   ]
  },
  {
   "cell_type": "markdown",
   "metadata": {},
   "source": [
    "### Model Prep"
   ]
  },
  {
   "cell_type": "markdown",
   "metadata": {},
   "source": [
    "My model prep will consist of a few sections\n",
    "1. Feature Elimination using Lasso model and Ridge model\n",
    "2. Determing the best Regression model"
   ]
  },
  {
   "cell_type": "markdown",
   "metadata": {},
   "source": [
    "##### 1a. Feature Elimination (through Lasso)"
   ]
  },
  {
   "cell_type": "markdown",
   "metadata": {},
   "source": [
    "Our X dataset consists of 188 features currently. We will use these 188 features for the Lasso model to train on and subsequently remove features that get zero-ed out"
   ]
  },
  {
   "cell_type": "code",
   "execution_count": 14,
   "metadata": {},
   "outputs": [
    {
     "data": {
      "text/plain": [
       "100.0"
      ]
     },
     "execution_count": 14,
     "metadata": {},
     "output_type": "execute_result"
    }
   ],
   "source": [
    "#optimal lasso alpha \n",
    "lasso = LassoCV(alphas=np.linspace(1, 100, 200), cv=5)\n",
    "lasso = lasso.fit(X_train_scaled, y_train)\n",
    "lasso_optimal_alpha = lasso.alpha_\n",
    "lasso_optimal_alpha"
   ]
  },
  {
   "cell_type": "code",
   "execution_count": 15,
   "metadata": {},
   "outputs": [
    {
     "name": "stdout",
     "output_type": "stream",
     "text": [
      " lasso regression score for train set is 0.9266986352245467\n",
      " lasso regression score for test set is 0.916064730117687\n",
      " lasso RMSE score for test set is 23035.80673581356\n"
     ]
    }
   ],
   "source": [
    "from sklearn.metrics import mean_squared_error\n",
    "#instantiate model \n",
    "lasso_opt = Lasso(alpha=lasso_optimal_alpha,max_iter=1000)\n",
    "\n",
    "#fit model \n",
    "lasso_opt.fit(X_train_scaled, y_train)\n",
    "\n",
    "print (f\" lasso regression score for train set is {lasso_opt.score(X_train_scaled, y_train)}\")\n",
    "print (f\" lasso regression score for test set is {lasso_opt.score(X_test_scaled, y_test)}\")\n",
    "lasso_pred = lasso_opt.predict(X_test_scaled)\n",
    "print(f\" lasso RMSE score for test set is {RMSE(y_test, lasso_pred)}\")"
   ]
  },
  {
   "cell_type": "code",
   "execution_count": 16,
   "metadata": {},
   "outputs": [
    {
     "data": {
      "image/png": "[encoded data removed]",
      "text/plain": [
       "<Figure size 720x1440 with 1 Axes>"
      ]
     },
     "metadata": {
      "needs_background": "light"
     },
     "output_type": "display_data"
    }
   ],
   "source": [
    "pd.Series(lasso_opt.coef_, index=X.columns).sort_values(ascending=True).plot.barh(figsize=(10,20))\n",
    "plt.tight_layout()\n",
    "plt.title('Coefficient values for features in X', fontsize =14)\n",
    "plt.xlabel('Coefficients', fontsize=12)\n",
    "plt.ylabel('Features', fontsize=12);"
   ]
  },
  {
   "cell_type": "code",
   "execution_count": 17,
   "metadata": {},
   "outputs": [
    {
     "data": {
      "text/plain": [
       "utilities               0.0\n",
       "bsmtunfsf              -0.0\n",
       "bsmthalfbath            0.0\n",
       "enclosedporch           0.0\n",
       "miscval                 0.0\n",
       "yrsold                 -0.0\n",
       "mssubclass_40          -0.0\n",
       "mssubclass_80          -0.0\n",
       "mszoning_I (all)        0.0\n",
       "mszoning_RM            -0.0\n",
       "neighborhood_Mitchel   -0.0\n",
       "neighborhood_SWISU     -0.0\n",
       "neighborhood_Sawyer    -0.0\n",
       "condition1_RRNe         0.0\n",
       "condition2_PosN        -0.0\n",
       "bldgtype_2fmCon         0.0\n",
       "bldgtype_TwnhsE        -0.0\n",
       "housestyle_SLvl         0.0\n",
       "roofstyle_Gambrel      -0.0\n",
       "exterior1st_Plywood    -0.0\n",
       "exterior2nd_CBlock      0.0\n",
       "exterior2nd_CmentBd     0.0\n",
       "exterior2nd_ImStucc    -0.0\n",
       "exterior2nd_MetalSd     0.0\n",
       "exterior2nd_Stucco     -0.0\n",
       "exterior2nd_Wd Shng    -0.0\n",
       "masvnrtype_BrkFace     -0.0\n",
       "foundation_Wood        -0.0\n",
       "garagetype_Attchd       0.0\n",
       "garagetype_CarPort      0.0\n",
       "miscfeature_None       -0.0\n",
       "season_Summer           0.0\n",
       "dtype: float64"
      ]
     },
     "execution_count": 17,
     "metadata": {},
     "output_type": "execute_result"
    }
   ],
   "source": [
    "pd.Series(lasso_opt.coef_, index=X.columns)[lasso_opt.coef_ == 0]"
   ]
  },
  {
   "cell_type": "code",
   "execution_count": 18,
   "metadata": {},
   "outputs": [],
   "source": [
    "lasso_coef_features = pd.Series(lasso_opt.coef_, index=X.columns)"
   ]
  },
  {
   "cell_type": "code",
   "execution_count": 19,
   "metadata": {},
   "outputs": [
    {
     "data": {
      "text/plain": [
       "156"
      ]
     },
     "execution_count": 19,
     "metadata": {},
     "output_type": "execute_result"
    }
   ],
   "source": [
    "new_features = pd.Series(lasso_opt.coef_, X.columns)[lasso_coef_features!= 0].index\n",
    "new_features.value_counts().sum()"
   ]
  },
  {
   "cell_type": "markdown",
   "metadata": {},
   "source": [
    "##### 1b. Feature Elimination (through Ridge)"
   ]
  },
  {
   "cell_type": "code",
   "execution_count": 20,
   "metadata": {},
   "outputs": [],
   "source": [
    "XR = X[new_features]"
   ]
  },
  {
   "cell_type": "code",
   "execution_count": 21,
   "metadata": {},
   "outputs": [],
   "source": [
    "#train/test split\n",
    "XR_train, XR_test, yr_train, yr_test = train_test_split(XR, y, random_state = 42)\n",
    "\n",
    "#scale data \n",
    "ss=StandardScaler()\n",
    "ss.fit(XR_train)\n",
    "XR_train_sc = ss.transform(XR_train)\n",
    "XR_test_sc = ss.transform(XR_test)"
   ]
  },
  {
   "cell_type": "code",
   "execution_count": 22,
   "metadata": {},
   "outputs": [],
   "source": [
    "#optimal Ridge alpha \n",
    "ridge = RidgeCV(alphas=np.logspace(0, 5, 200), cv=5)\n",
    "ridge = ridge.fit(XR_train_sc, y_train)\n",
    "ridge_optimal_alpha = ridge.alpha_"
   ]
  },
  {
   "cell_type": "code",
   "execution_count": 23,
   "metadata": {},
   "outputs": [
    {
     "name": "stdout",
     "output_type": "stream",
     "text": [
      " ridge regression score for new train set is 0.9247119555305894\n",
      " ridge regression score for new test set is 0.9100486693854319\n",
      " ridge RMSE score for test set is 23847.067264753638\n"
     ]
    }
   ],
   "source": [
    "#instantiate ridge regression \n",
    "ridge_opt_new = Ridge(alpha=ridge_optimal_alpha)\n",
    "\n",
    "#r2 score for ridge model with new_features \n",
    "ridge_opt_new.fit(XR_train_sc, y_train)\n",
    "print (f\" ridge regression score for new train set is {ridge_opt_new.score(XR_train_sc, y_train)}\")\n",
    "print (f\" ridge regression score for new test set is {ridge_opt_new.score(XR_test_sc, y_test)}\")\n",
    "ridge_pred = ridge_opt_new.predict(XR_test_sc)\n",
    "print(f\" ridge RMSE score for test set is {RMSE(y_test, ridge_pred)}\")"
   ]
  },
  {
   "cell_type": "code",
   "execution_count": 24,
   "metadata": {},
   "outputs": [],
   "source": [
    "# extracing the first 30 features with highest coefficient values\n",
    "ridge_opt_features = pd.Series(ridge_opt_new.coef_, index=new_features).abs().sort_values(ascending=False)"
   ]
  },
  {
   "cell_type": "code",
   "execution_count": 25,
   "metadata": {
    "scrolled": true
   },
   "outputs": [
    {
     "data": {
      "text/plain": [
       "grlivarea               16411.358398\n",
       "overallqual             10098.494522\n",
       "totalbsmtsf              9644.143443\n",
       "bsmtfinsf1               8403.113268\n",
       "neighborhood_NridgHt     6106.020777\n",
       "exterqual                5760.828522\n",
       "neighborhood_StoneBr     5599.563799\n",
       "masvnrarea               5323.483461\n",
       "kitchenqual              5176.118752\n",
       "saletype_New             5076.543815\n",
       "houseage                 4980.111530\n",
       "bsmtexposure             4979.496710\n",
       "lotarea                  4890.481973\n",
       "overallcond              4484.278074\n",
       "mssubclass_120           4431.465679\n",
       "garagearea               3642.825281\n",
       "2ndflrsf                 3641.930240\n",
       "screenporch              3410.466402\n",
       "neighborhood_NoRidge     3366.235471\n",
       "lotfrontage              3109.252957\n",
       "functional               2982.566570\n",
       "condition1_Norm          2863.810453\n",
       "roofmatl_WdShngl         2840.057886\n",
       "mssubclass_160           2831.667743\n",
       "landcontour_HLS          2753.560050\n",
       "bsmtcond                 2673.491452\n",
       "fullbath                 2600.243635\n",
       "masvnrtype_Stone         2550.019423\n",
       "exterior1st_BrkFace      2503.567059\n",
       "halfbath                 2426.788949\n",
       "dtype: float64"
      ]
     },
     "execution_count": 25,
     "metadata": {},
     "output_type": "execute_result"
    }
   ],
   "source": [
    "ridge_opt_features[0:30]"
   ]
  },
  {
   "cell_type": "code",
   "execution_count": 26,
   "metadata": {},
   "outputs": [],
   "source": [
    "#saving the final 30 features\n",
    "final_features = ridge_opt_features[:30].index"
   ]
  },
  {
   "cell_type": "markdown",
   "metadata": {},
   "source": [
    "##### 2. Model Prep: Finding the best model"
   ]
  },
  {
   "cell_type": "markdown",
   "metadata": {},
   "source": [
    "There will be 4 models that I will be evaluating on:\n",
    "* Linear Regression\n",
    "* Ridge\n",
    "* Lasso\n",
    "* ElasticNet\n",
    "\n",
    "I will find the optimal alphas and calculating R2 and RMSE scores on these models"
   ]
  },
  {
   "cell_type": "code",
   "execution_count": 27,
   "metadata": {},
   "outputs": [],
   "source": [
    "#creating final X features matrix\n",
    "final_features= X[final_features]"
   ]
  },
  {
   "cell_type": "code",
   "execution_count": 28,
   "metadata": {},
   "outputs": [],
   "source": [
    "#train/test split\n",
    "final_features_X_train, final_features_X_test, y_train, y_test = train_test_split(final_features, y, random_state = 42)"
   ]
  },
  {
   "cell_type": "code",
   "execution_count": 29,
   "metadata": {},
   "outputs": [],
   "source": [
    "#scale data \n",
    "ss=StandardScaler()\n",
    "ss.fit(final_features_X_train)\n",
    "final_features_X_train_sc = ss.transform(final_features_X_train)\n",
    "final_features_X_test_sc = ss.transform(final_features_X_test)"
   ]
  },
  {
   "cell_type": "code",
   "execution_count": 30,
   "metadata": {},
   "outputs": [
    {
     "name": "stdout",
     "output_type": "stream",
     "text": [
      " ridge opt alpha is 28.994228538828768\n",
      " lasso opt alpha is 91.95987939698492\n",
      " enet opt alpha is 0.041\n"
     ]
    }
   ],
   "source": [
    "#searching for optimal alphas\n",
    "ridge = RidgeCV(alphas=np.logspace(0, 3, 200), cv=5)\n",
    "ridge = ridge.fit(final_features_X_train_sc, y_train)\n",
    "ridge_optimal_alpha = ridge.alpha_\n",
    "print (f\" ridge opt alpha is {ridge_optimal_alpha}\")\n",
    "\n",
    "lasso = LassoCV(alphas=np.linspace(.001, 100, 200), cv=5)\n",
    "lasso = lasso.fit(final_features_X_train_sc, y_train)\n",
    "lasso_optimal_alpha = lasso.alpha_\n",
    "print (f\" lasso opt alpha is {lasso_optimal_alpha}\")\n",
    "\n",
    "enet = ElasticNetCV(alphas = np.arange(0.001, 0.500, 0.005), l1_ratio=0.5)\n",
    "enet = enet.fit(final_features_X_train_sc, y_train)\n",
    "enet_optimal_alpha = enet.alpha_\n",
    "print (f\" enet opt alpha is {enet_optimal_alpha}\")"
   ]
  },
  {
   "cell_type": "code",
   "execution_count": 31,
   "metadata": {},
   "outputs": [
    {
     "name": "stdout",
     "output_type": "stream",
     "text": [
      " linear regression r2 score for train set is 0.9080273248111724\n",
      " linear regression r2 score for test set is 0.904592676034877\n",
      " linear RMSE score for test set is 24559.642345526794\n",
      " \n",
      " ridge regression r2 score for train set is 0.9079001064195624\n",
      " ridge regression r2 score for test set is 0.9038738780436116\n",
      " ridge RMSE score for test set is 24651.98481639459\n",
      " \n",
      " lasso regression r2 score for train set is 0.9079917290714488\n",
      " lasso regression r2 score for test set is 0.9048101421311081\n",
      " lasso RMSE score for test set is 24531.63644289794\n",
      " \n",
      " enet regression r2 score for train set is 0.9078806153542849\n",
      " enet regression r2 score for test set is 0.9038169433835183\n",
      " enet RMSE score for test set is 24659.284313041117\n"
     ]
    }
   ],
   "source": [
    "#Instantiate new models with optimal alphas and finding the adjusted r2 and rmse score \n",
    "\n",
    "#linear regression\n",
    "lr = LinearRegression()\n",
    "lr.fit(final_features_X_train_sc, y_train)\n",
    "lr_pred = lr.predict(final_features_X_test_sc)\n",
    "print (f\" linear regression r2 score for train set is {lr.score(final_features_X_train_sc, y_train)}\")\n",
    "print (f\" linear regression r2 score for test set is {lr.score(final_features_X_test_sc, y_test)}\")\n",
    "print(f\" linear RMSE score for test set is {RMSE(y_test, lr_pred)}\")\n",
    "print(' ')\n",
    "\n",
    "#ridge\n",
    "ridge_opt_fin = Ridge(alpha=ridge_optimal_alpha)\n",
    "ridge_opt_fin.fit(final_features_X_train_sc, y_train)\n",
    "ridge_pred = ridge_opt_fin.predict(final_features_X_test_sc)\n",
    "print (f\" ridge regression r2 score for train set is {ridge_opt_fin.score(final_features_X_train_sc, y_train)}\")\n",
    "print (f\" ridge regression r2 score for test set is {ridge_opt_fin.score(final_features_X_test_sc, y_test)}\")\n",
    "print(f\" ridge RMSE score for test set is {RMSE(y_test, ridge_pred)}\")\n",
    "print(' ')\n",
    "\n",
    "#lasso\n",
    "lasso_opt_fin = Lasso(alpha=lasso_optimal_alpha)\n",
    "lasso_opt_fin.fit(final_features_X_train_sc, y_train)\n",
    "lasso_pred = lasso_opt_fin.predict(final_features_X_test_sc)\n",
    "print (f\" lasso regression r2 score for train set is {lasso_opt_fin.score(final_features_X_train_sc, y_train)}\")\n",
    "print (f\" lasso regression r2 score for test set is {lasso_opt_fin.score(final_features_X_test_sc, y_test)}\")\n",
    "print(f\" lasso RMSE score for test set is {RMSE(y_test, lasso_pred)}\")\n",
    "print(' ')\n",
    "\n",
    "#elasticnet\n",
    "enet_opt_fin = ElasticNet(alpha=enet_optimal_alpha)\n",
    "enet_opt_fin.fit(final_features_X_train_sc, y_train)\n",
    "enet_pred = enet_opt_fin.predict(final_features_X_test_sc)\n",
    "print (f\" enet regression r2 score for train set is {enet_opt_fin.score(final_features_X_train_sc, y_train)}\")\n",
    "print (f\" enet regression r2 score for test set is {enet_opt_fin.score(final_features_X_test_sc, y_test)}\")\n",
    "print(f\" enet RMSE score for test set is {RMSE(y_test, enet_pred)}\")"
   ]
  },
  {
   "cell_type": "code",
   "execution_count": 32,
   "metadata": {},
   "outputs": [
    {
     "data": {
      "text/html": [
       "<div>\n",
       "<style scoped>\n",
       "    .dataframe tbody tr th:only-of-type {\n",
       "        vertical-align: middle;\n",
       "    }\n",
       "\n",
       "    .dataframe tbody tr th {\n",
       "        vertical-align: top;\n",
       "    }\n",
       "\n",
       "    .dataframe thead th {\n",
       "        text-align: right;\n",
       "    }\n",
       "</style>\n",
       "<table border=\"1\" class=\"dataframe\">\n",
       "  <thead>\n",
       "    <tr style=\"text-align: right;\">\n",
       "      <th></th>\n",
       "      <th>Model</th>\n",
       "      <th>RMSE</th>\n",
       "      <th>R2 Square</th>\n",
       "    </tr>\n",
       "  </thead>\n",
       "  <tbody>\n",
       "    <tr>\n",
       "      <th>0</th>\n",
       "      <td>Dummy Regression</td>\n",
       "      <td>79276.560988</td>\n",
       "      <td>-8.227679e-09</td>\n",
       "    </tr>\n",
       "    <tr>\n",
       "      <th>1</th>\n",
       "      <td>Linear</td>\n",
       "      <td>24559.642346</td>\n",
       "      <td>9.045927e-01</td>\n",
       "    </tr>\n",
       "    <tr>\n",
       "      <th>2</th>\n",
       "      <td>Ridge</td>\n",
       "      <td>24651.984816</td>\n",
       "      <td>9.038739e-01</td>\n",
       "    </tr>\n",
       "    <tr>\n",
       "      <th>3</th>\n",
       "      <td>Lasso</td>\n",
       "      <td>24531.636443</td>\n",
       "      <td>9.048101e-01</td>\n",
       "    </tr>\n",
       "    <tr>\n",
       "      <th>4</th>\n",
       "      <td>Elasticnet</td>\n",
       "      <td>24659.284313</td>\n",
       "      <td>9.038169e-01</td>\n",
       "    </tr>\n",
       "  </tbody>\n",
       "</table>\n",
       "</div>"
      ],
      "text/plain": [
       "              Model          RMSE     R2 Square\n",
       "0  Dummy Regression  79276.560988 -8.227679e-09\n",
       "1            Linear  24559.642346  9.045927e-01\n",
       "2             Ridge  24651.984816  9.038739e-01\n",
       "3             Lasso  24531.636443  9.048101e-01\n",
       "4        Elasticnet  24659.284313  9.038169e-01"
      ]
     },
     "execution_count": 32,
     "metadata": {},
     "output_type": "execute_result"
    }
   ],
   "source": [
    "results_df_2 = pd.DataFrame({\"Model\":[\"Linear\", \"Ridge\", \"Lasso\",\"Elasticnet\"],\n",
    "                             \"RMSE\":[RMSE(y_test, lr_pred),RMSE(y_test, ridge_pred), RMSE(y_test, lasso_pred), RMSE(y_test, enet_pred)], \n",
    "                             \"R2 Square\":[lr.score(final_features_X_test_sc, y_test),ridge_opt_fin.score(final_features_X_test_sc, y_test),lasso_opt_fin.score(final_features_X_test_sc, y_test),enet_opt_fin.score(final_features_X_test_sc, y_test)]}) \n",
    "\n",
    "results_df = results_df.append(results_df_2, ignore_index=True)\n",
    "results_df"
   ]
  },
  {
   "cell_type": "markdown",
   "metadata": {},
   "source": [
    "### Model Iteration"
   ]
  },
  {
   "cell_type": "markdown",
   "metadata": {},
   "source": [
    "We shall explore Polynomial features to test if our models might improve, but will keep top 3 features so as to reduce overfitting issues."
   ]
  },
  {
   "cell_type": "code",
   "execution_count": 33,
   "metadata": {},
   "outputs": [
    {
     "data": {
      "text/plain": [
       "(2049, 188)"
      ]
     },
     "execution_count": 33,
     "metadata": {},
     "output_type": "execute_result"
    }
   ],
   "source": [
    "X.shape"
   ]
  },
  {
   "cell_type": "code",
   "execution_count": 34,
   "metadata": {},
   "outputs": [
    {
     "data": {
      "text/plain": [
       "(2049,)"
      ]
     },
     "execution_count": 34,
     "metadata": {},
     "output_type": "execute_result"
    }
   ],
   "source": [
    "y.shape"
   ]
  },
  {
   "cell_type": "code",
   "execution_count": 35,
   "metadata": {},
   "outputs": [],
   "source": [
    "poly = PolynomialFeatures(include_bias=False)\n",
    "X_poly = poly.fit_transform(X)\n",
    "X_poly_df = pd.DataFrame(X_poly, columns=poly.get_feature_names(X.columns))"
   ]
  },
  {
   "cell_type": "code",
   "execution_count": 36,
   "metadata": {},
   "outputs": [
    {
     "data": {
      "text/plain": [
       "(2049, 17954)"
      ]
     },
     "execution_count": 36,
     "metadata": {},
     "output_type": "execute_result"
    }
   ],
   "source": [
    "X_poly_df.shape"
   ]
  },
  {
   "cell_type": "code",
   "execution_count": 37,
   "metadata": {},
   "outputs": [
    {
     "data": {
      "text/plain": [
       "overallqual grlivarea    0.872971\n",
       "exterqual grlivarea      0.865420\n",
       "grlivarea kitchenqual    0.850393\n",
       "dtype: float64"
      ]
     },
     "execution_count": 37,
     "metadata": {},
     "output_type": "execute_result"
    }
   ],
   "source": [
    "# Find the quadratic predictors that are most highly corelated with sale price\n",
    "X_poly_df.corrwith(y).sort_values(ascending=False).head(3)"
   ]
  },
  {
   "cell_type": "markdown",
   "metadata": {},
   "source": [
    "Looking at the top 3 features,'grlivarea' appears in all entries. To prevent multicollinearity, I'd engineer the top interaction feature only."
   ]
  },
  {
   "cell_type": "code",
   "execution_count": 38,
   "metadata": {
    "scrolled": true
   },
   "outputs": [
    {
     "name": "stderr",
     "output_type": "stream",
     "text": [
      "/Users/aliciatay/opt/anaconda3/lib/python3.7/site-packages/ipykernel_launcher.py:1: SettingWithCopyWarning: \n",
      "A value is trying to be set on a copy of a slice from a DataFrame.\n",
      "Try using .loc[row_indexer,col_indexer] = value instead\n",
      "\n",
      "See the caveats in the documentation: https://pandas.pydata.org/pandas-docs/stable/user_guide/indexing.html#returning-a-view-versus-a-copy\n",
      "  \"\"\"Entry point for launching an IPython kernel.\n"
     ]
    }
   ],
   "source": [
    "final_features['overallqual_grlivarea'] = final_features['overallqual'] * final_features['grlivarea']"
   ]
  },
  {
   "cell_type": "code",
   "execution_count": 39,
   "metadata": {},
   "outputs": [
    {
     "data": {
      "text/html": [
       "<div>\n",
       "<style scoped>\n",
       "    .dataframe tbody tr th:only-of-type {\n",
       "        vertical-align: middle;\n",
       "    }\n",
       "\n",
       "    .dataframe tbody tr th {\n",
       "        vertical-align: top;\n",
       "    }\n",
       "\n",
       "    .dataframe thead th {\n",
       "        text-align: right;\n",
       "    }\n",
       "</style>\n",
       "<table border=\"1\" class=\"dataframe\">\n",
       "  <thead>\n",
       "    <tr style=\"text-align: right;\">\n",
       "      <th></th>\n",
       "      <th>grlivarea</th>\n",
       "      <th>overallqual</th>\n",
       "      <th>totalbsmtsf</th>\n",
       "      <th>bsmtfinsf1</th>\n",
       "      <th>neighborhood_NridgHt</th>\n",
       "      <th>exterqual</th>\n",
       "      <th>neighborhood_StoneBr</th>\n",
       "      <th>masvnrarea</th>\n",
       "      <th>kitchenqual</th>\n",
       "      <th>saletype_New</th>\n",
       "      <th>...</th>\n",
       "      <th>condition1_Norm</th>\n",
       "      <th>roofmatl_WdShngl</th>\n",
       "      <th>mssubclass_160</th>\n",
       "      <th>landcontour_HLS</th>\n",
       "      <th>bsmtcond</th>\n",
       "      <th>fullbath</th>\n",
       "      <th>masvnrtype_Stone</th>\n",
       "      <th>exterior1st_BrkFace</th>\n",
       "      <th>halfbath</th>\n",
       "      <th>overallqual_grlivarea</th>\n",
       "    </tr>\n",
       "  </thead>\n",
       "  <tbody>\n",
       "    <tr>\n",
       "      <th>0</th>\n",
       "      <td>1479</td>\n",
       "      <td>6</td>\n",
       "      <td>725.0</td>\n",
       "      <td>533.0</td>\n",
       "      <td>0</td>\n",
       "      <td>3</td>\n",
       "      <td>0</td>\n",
       "      <td>289.0</td>\n",
       "      <td>3</td>\n",
       "      <td>0</td>\n",
       "      <td>...</td>\n",
       "      <td>0</td>\n",
       "      <td>0</td>\n",
       "      <td>0</td>\n",
       "      <td>0</td>\n",
       "      <td>3</td>\n",
       "      <td>2</td>\n",
       "      <td>0</td>\n",
       "      <td>0</td>\n",
       "      <td>1</td>\n",
       "      <td>8874</td>\n",
       "    </tr>\n",
       "    <tr>\n",
       "      <th>1</th>\n",
       "      <td>2122</td>\n",
       "      <td>7</td>\n",
       "      <td>913.0</td>\n",
       "      <td>637.0</td>\n",
       "      <td>0</td>\n",
       "      <td>3</td>\n",
       "      <td>0</td>\n",
       "      <td>132.0</td>\n",
       "      <td>3</td>\n",
       "      <td>0</td>\n",
       "      <td>...</td>\n",
       "      <td>1</td>\n",
       "      <td>0</td>\n",
       "      <td>0</td>\n",
       "      <td>0</td>\n",
       "      <td>3</td>\n",
       "      <td>2</td>\n",
       "      <td>0</td>\n",
       "      <td>0</td>\n",
       "      <td>1</td>\n",
       "      <td>14854</td>\n",
       "    </tr>\n",
       "    <tr>\n",
       "      <th>2</th>\n",
       "      <td>1057</td>\n",
       "      <td>5</td>\n",
       "      <td>1057.0</td>\n",
       "      <td>731.0</td>\n",
       "      <td>0</td>\n",
       "      <td>2</td>\n",
       "      <td>0</td>\n",
       "      <td>0.0</td>\n",
       "      <td>3</td>\n",
       "      <td>0</td>\n",
       "      <td>...</td>\n",
       "      <td>1</td>\n",
       "      <td>0</td>\n",
       "      <td>0</td>\n",
       "      <td>0</td>\n",
       "      <td>3</td>\n",
       "      <td>1</td>\n",
       "      <td>0</td>\n",
       "      <td>0</td>\n",
       "      <td>0</td>\n",
       "      <td>5285</td>\n",
       "    </tr>\n",
       "    <tr>\n",
       "      <th>3</th>\n",
       "      <td>1444</td>\n",
       "      <td>5</td>\n",
       "      <td>384.0</td>\n",
       "      <td>0.0</td>\n",
       "      <td>0</td>\n",
       "      <td>2</td>\n",
       "      <td>0</td>\n",
       "      <td>0.0</td>\n",
       "      <td>2</td>\n",
       "      <td>0</td>\n",
       "      <td>...</td>\n",
       "      <td>1</td>\n",
       "      <td>0</td>\n",
       "      <td>0</td>\n",
       "      <td>0</td>\n",
       "      <td>3</td>\n",
       "      <td>2</td>\n",
       "      <td>0</td>\n",
       "      <td>0</td>\n",
       "      <td>1</td>\n",
       "      <td>7220</td>\n",
       "    </tr>\n",
       "    <tr>\n",
       "      <th>4</th>\n",
       "      <td>1445</td>\n",
       "      <td>6</td>\n",
       "      <td>676.0</td>\n",
       "      <td>0.0</td>\n",
       "      <td>0</td>\n",
       "      <td>2</td>\n",
       "      <td>0</td>\n",
       "      <td>0.0</td>\n",
       "      <td>2</td>\n",
       "      <td>0</td>\n",
       "      <td>...</td>\n",
       "      <td>1</td>\n",
       "      <td>0</td>\n",
       "      <td>0</td>\n",
       "      <td>0</td>\n",
       "      <td>4</td>\n",
       "      <td>2</td>\n",
       "      <td>0</td>\n",
       "      <td>0</td>\n",
       "      <td>0</td>\n",
       "      <td>8670</td>\n",
       "    </tr>\n",
       "  </tbody>\n",
       "</table>\n",
       "<p>5 rows × 31 columns</p>\n",
       "</div>"
      ],
      "text/plain": [
       "   grlivarea  overallqual  totalbsmtsf  bsmtfinsf1  neighborhood_NridgHt  \\\n",
       "0       1479            6        725.0       533.0                     0   \n",
       "1       2122            7        913.0       637.0                     0   \n",
       "2       1057            5       1057.0       731.0                     0   \n",
       "3       1444            5        384.0         0.0                     0   \n",
       "4       1445            6        676.0         0.0                     0   \n",
       "\n",
       "   exterqual  neighborhood_StoneBr  masvnrarea  kitchenqual  saletype_New  \\\n",
       "0          3                     0       289.0            3             0   \n",
       "1          3                     0       132.0            3             0   \n",
       "2          2                     0         0.0            3             0   \n",
       "3          2                     0         0.0            2             0   \n",
       "4          2                     0         0.0            2             0   \n",
       "\n",
       "   ...  condition1_Norm  roofmatl_WdShngl  mssubclass_160  landcontour_HLS  \\\n",
       "0  ...                0                 0               0                0   \n",
       "1  ...                1                 0               0                0   \n",
       "2  ...                1                 0               0                0   \n",
       "3  ...                1                 0               0                0   \n",
       "4  ...                1                 0               0                0   \n",
       "\n",
       "   bsmtcond  fullbath  masvnrtype_Stone  exterior1st_BrkFace  halfbath  \\\n",
       "0         3         2                 0                    0         1   \n",
       "1         3         2                 0                    0         1   \n",
       "2         3         1                 0                    0         0   \n",
       "3         3         2                 0                    0         1   \n",
       "4         4         2                 0                    0         0   \n",
       "\n",
       "   overallqual_grlivarea  \n",
       "0                   8874  \n",
       "1                  14854  \n",
       "2                   5285  \n",
       "3                   7220  \n",
       "4                   8670  \n",
       "\n",
       "[5 rows x 31 columns]"
      ]
     },
     "execution_count": 39,
     "metadata": {},
     "output_type": "execute_result"
    }
   ],
   "source": [
    "final_features.head()"
   ]
  },
  {
   "cell_type": "code",
   "execution_count": 40,
   "metadata": {},
   "outputs": [],
   "source": [
    "#append interaction feature to features list, and remove if interaction elements are in the list\n",
    "final_features = final_features.drop(['grlivarea','overallqual'], axis=1)"
   ]
  },
  {
   "cell_type": "code",
   "execution_count": 41,
   "metadata": {},
   "outputs": [
    {
     "data": {
      "text/plain": [
       "29"
      ]
     },
     "execution_count": 41,
     "metadata": {},
     "output_type": "execute_result"
    }
   ],
   "source": [
    "len(list(final_features.columns))"
   ]
  },
  {
   "cell_type": "code",
   "execution_count": 42,
   "metadata": {},
   "outputs": [
    {
     "data": {
      "text/html": [
       "<div>\n",
       "<style scoped>\n",
       "    .dataframe tbody tr th:only-of-type {\n",
       "        vertical-align: middle;\n",
       "    }\n",
       "\n",
       "    .dataframe tbody tr th {\n",
       "        vertical-align: top;\n",
       "    }\n",
       "\n",
       "    .dataframe thead th {\n",
       "        text-align: right;\n",
       "    }\n",
       "</style>\n",
       "<table border=\"1\" class=\"dataframe\">\n",
       "  <thead>\n",
       "    <tr style=\"text-align: right;\">\n",
       "      <th></th>\n",
       "      <th>totalbsmtsf</th>\n",
       "      <th>bsmtfinsf1</th>\n",
       "      <th>neighborhood_NridgHt</th>\n",
       "      <th>exterqual</th>\n",
       "      <th>neighborhood_StoneBr</th>\n",
       "      <th>masvnrarea</th>\n",
       "      <th>kitchenqual</th>\n",
       "      <th>saletype_New</th>\n",
       "      <th>houseage</th>\n",
       "      <th>bsmtexposure</th>\n",
       "      <th>...</th>\n",
       "      <th>condition1_Norm</th>\n",
       "      <th>roofmatl_WdShngl</th>\n",
       "      <th>mssubclass_160</th>\n",
       "      <th>landcontour_HLS</th>\n",
       "      <th>bsmtcond</th>\n",
       "      <th>fullbath</th>\n",
       "      <th>masvnrtype_Stone</th>\n",
       "      <th>exterior1st_BrkFace</th>\n",
       "      <th>halfbath</th>\n",
       "      <th>overallqual_grlivarea</th>\n",
       "    </tr>\n",
       "  </thead>\n",
       "  <tbody>\n",
       "    <tr>\n",
       "      <th>0</th>\n",
       "      <td>725.0</td>\n",
       "      <td>533.0</td>\n",
       "      <td>0</td>\n",
       "      <td>3</td>\n",
       "      <td>0</td>\n",
       "      <td>289.0</td>\n",
       "      <td>3</td>\n",
       "      <td>0</td>\n",
       "      <td>44</td>\n",
       "      <td>0</td>\n",
       "      <td>...</td>\n",
       "      <td>0</td>\n",
       "      <td>0</td>\n",
       "      <td>0</td>\n",
       "      <td>0</td>\n",
       "      <td>3</td>\n",
       "      <td>2</td>\n",
       "      <td>0</td>\n",
       "      <td>0</td>\n",
       "      <td>1</td>\n",
       "      <td>8874</td>\n",
       "    </tr>\n",
       "    <tr>\n",
       "      <th>1</th>\n",
       "      <td>913.0</td>\n",
       "      <td>637.0</td>\n",
       "      <td>0</td>\n",
       "      <td>3</td>\n",
       "      <td>0</td>\n",
       "      <td>132.0</td>\n",
       "      <td>3</td>\n",
       "      <td>0</td>\n",
       "      <td>24</td>\n",
       "      <td>0</td>\n",
       "      <td>...</td>\n",
       "      <td>1</td>\n",
       "      <td>0</td>\n",
       "      <td>0</td>\n",
       "      <td>0</td>\n",
       "      <td>3</td>\n",
       "      <td>2</td>\n",
       "      <td>0</td>\n",
       "      <td>0</td>\n",
       "      <td>1</td>\n",
       "      <td>14854</td>\n",
       "    </tr>\n",
       "    <tr>\n",
       "      <th>2</th>\n",
       "      <td>1057.0</td>\n",
       "      <td>731.0</td>\n",
       "      <td>0</td>\n",
       "      <td>2</td>\n",
       "      <td>0</td>\n",
       "      <td>0.0</td>\n",
       "      <td>3</td>\n",
       "      <td>0</td>\n",
       "      <td>67</td>\n",
       "      <td>0</td>\n",
       "      <td>...</td>\n",
       "      <td>1</td>\n",
       "      <td>0</td>\n",
       "      <td>0</td>\n",
       "      <td>0</td>\n",
       "      <td>3</td>\n",
       "      <td>1</td>\n",
       "      <td>0</td>\n",
       "      <td>0</td>\n",
       "      <td>0</td>\n",
       "      <td>5285</td>\n",
       "    </tr>\n",
       "    <tr>\n",
       "      <th>3</th>\n",
       "      <td>384.0</td>\n",
       "      <td>0.0</td>\n",
       "      <td>0</td>\n",
       "      <td>2</td>\n",
       "      <td>0</td>\n",
       "      <td>0.0</td>\n",
       "      <td>2</td>\n",
       "      <td>0</td>\n",
       "      <td>14</td>\n",
       "      <td>0</td>\n",
       "      <td>...</td>\n",
       "      <td>1</td>\n",
       "      <td>0</td>\n",
       "      <td>0</td>\n",
       "      <td>0</td>\n",
       "      <td>3</td>\n",
       "      <td>2</td>\n",
       "      <td>0</td>\n",
       "      <td>0</td>\n",
       "      <td>1</td>\n",
       "      <td>7220</td>\n",
       "    </tr>\n",
       "    <tr>\n",
       "      <th>4</th>\n",
       "      <td>676.0</td>\n",
       "      <td>0.0</td>\n",
       "      <td>0</td>\n",
       "      <td>2</td>\n",
       "      <td>0</td>\n",
       "      <td>0.0</td>\n",
       "      <td>2</td>\n",
       "      <td>0</td>\n",
       "      <td>120</td>\n",
       "      <td>0</td>\n",
       "      <td>...</td>\n",
       "      <td>1</td>\n",
       "      <td>0</td>\n",
       "      <td>0</td>\n",
       "      <td>0</td>\n",
       "      <td>4</td>\n",
       "      <td>2</td>\n",
       "      <td>0</td>\n",
       "      <td>0</td>\n",
       "      <td>0</td>\n",
       "      <td>8670</td>\n",
       "    </tr>\n",
       "  </tbody>\n",
       "</table>\n",
       "<p>5 rows × 29 columns</p>\n",
       "</div>"
      ],
      "text/plain": [
       "   totalbsmtsf  bsmtfinsf1  neighborhood_NridgHt  exterqual  \\\n",
       "0        725.0       533.0                     0          3   \n",
       "1        913.0       637.0                     0          3   \n",
       "2       1057.0       731.0                     0          2   \n",
       "3        384.0         0.0                     0          2   \n",
       "4        676.0         0.0                     0          2   \n",
       "\n",
       "   neighborhood_StoneBr  masvnrarea  kitchenqual  saletype_New  houseage  \\\n",
       "0                     0       289.0            3             0        44   \n",
       "1                     0       132.0            3             0        24   \n",
       "2                     0         0.0            3             0        67   \n",
       "3                     0         0.0            2             0        14   \n",
       "4                     0         0.0            2             0       120   \n",
       "\n",
       "   bsmtexposure  ...  condition1_Norm  roofmatl_WdShngl  mssubclass_160  \\\n",
       "0             0  ...                0                 0               0   \n",
       "1             0  ...                1                 0               0   \n",
       "2             0  ...                1                 0               0   \n",
       "3             0  ...                1                 0               0   \n",
       "4             0  ...                1                 0               0   \n",
       "\n",
       "   landcontour_HLS  bsmtcond  fullbath  masvnrtype_Stone  exterior1st_BrkFace  \\\n",
       "0                0         3         2                 0                    0   \n",
       "1                0         3         2                 0                    0   \n",
       "2                0         3         1                 0                    0   \n",
       "3                0         3         2                 0                    0   \n",
       "4                0         4         2                 0                    0   \n",
       "\n",
       "   halfbath  overallqual_grlivarea  \n",
       "0         1                   8874  \n",
       "1         1                  14854  \n",
       "2         0                   5285  \n",
       "3         1                   7220  \n",
       "4         0                   8670  \n",
       "\n",
       "[5 rows x 29 columns]"
      ]
     },
     "execution_count": 42,
     "metadata": {},
     "output_type": "execute_result"
    }
   ],
   "source": [
    "final_features.head()"
   ]
  },
  {
   "cell_type": "markdown",
   "metadata": {},
   "source": [
    "Testing the model performance based on our new polynomial feature:\n",
    "\n",
    "We can see that all scores are better. However, Linear Regression model replaces Lasso as the better model"
   ]
  },
  {
   "cell_type": "code",
   "execution_count": 43,
   "metadata": {},
   "outputs": [],
   "source": [
    "# #creating updated features matrix (X) \n",
    "# XPoly = finalX"
   ]
  },
  {
   "cell_type": "code",
   "execution_count": 44,
   "metadata": {},
   "outputs": [],
   "source": [
    "#train/test split\n",
    "XPoly_train, XPoly_test, ypoly_train, ypoly_test = train_test_split(final_features, y, random_state = 42)"
   ]
  },
  {
   "cell_type": "code",
   "execution_count": 45,
   "metadata": {},
   "outputs": [],
   "source": [
    "#scale data \n",
    "ss=StandardScaler()\n",
    "ss.fit(XPoly_train)\n",
    "XPoly_train_sc = ss.transform(XPoly_train)\n",
    "XPoly_test_sc = ss.transform(XPoly_test)"
   ]
  },
  {
   "cell_type": "code",
   "execution_count": 46,
   "metadata": {},
   "outputs": [
    {
     "name": "stdout",
     "output_type": "stream",
     "text": [
      " ridge opt alpha is 4.008806328898465\n",
      " lasso opt alpha is 42.71414070351758\n",
      " enet opt alpha is 0.006\n"
     ]
    }
   ],
   "source": [
    "#searching for optimal alphas\n",
    "ridge = RidgeCV(alphas=np.logspace(0, 3, 200), cv=5)\n",
    "ridge = ridge.fit(XPoly_train_sc, ypoly_train)\n",
    "ridge_optimal_alpha = ridge.alpha_\n",
    "print (f\" ridge opt alpha is {ridge_optimal_alpha}\")\n",
    "\n",
    "lasso = LassoCV(alphas=np.linspace(.001, 100, 200), cv=5)\n",
    "lasso = lasso.fit(XPoly_train_sc, ypoly_train)\n",
    "lasso_optimal_alpha = lasso.alpha_\n",
    "print (f\" lasso opt alpha is {lasso_optimal_alpha}\")\n",
    "\n",
    "enet = ElasticNetCV(alphas = np.arange(0.001, 0.500, 0.005), l1_ratio=0.5)\n",
    "enet = enet.fit(XPoly_train_sc, ypoly_train)\n",
    "enet_optimal_alpha = enet.alpha_\n",
    "print (f\" enet opt alpha is {enet_optimal_alpha}\")"
   ]
  },
  {
   "cell_type": "code",
   "execution_count": 47,
   "metadata": {
    "scrolled": true
   },
   "outputs": [
    {
     "name": "stdout",
     "output_type": "stream",
     "text": [
      " linear regression r2 score for train set is 0.9191701612874414\n",
      " linear regression r2 score for test set is 0.919182303790245\n",
      " linear RMSE score for test set is 22603.953947419417\n",
      " \n",
      " ridge regression r2 score for train set is 0.9191595721579604\n",
      " ridge regression r2 score for test set is 0.9189799718800464\n",
      " ridge RMSE score for test set is 22632.231431585267\n",
      " \n",
      " lasso regression r2 score for train set is 0.9191620515418264\n",
      " lasso regression r2 score for test set is 0.9191665070247363\n",
      " lasso RMSE score for test set is 22606.162943284064\n",
      " \n",
      " enet regression r2 score for train set is 0.9191562863685349\n",
      " enet regression r2 score for test set is 0.9189489691455067\n",
      " enet RMSE score for test set is 22636.56118787317\n"
     ]
    }
   ],
   "source": [
    "#Instantiate new models with optimal alphas and finding the adjusted r2 and rmse score \n",
    "\n",
    "#linear regression\n",
    "lr = LinearRegression()\n",
    "lr.fit(XPoly_train_sc, ypoly_train)\n",
    "lr_pred = lr.predict(XPoly_test_sc)\n",
    "print (f\" linear regression r2 score for train set is {lr.score(XPoly_train_sc, ypoly_train)}\")\n",
    "print (f\" linear regression r2 score for test set is {lr.score(XPoly_test_sc, ypoly_test)}\")\n",
    "print(f\" linear RMSE score for test set is {RMSE(ypoly_test, lr_pred)}\")\n",
    "print(' ')\n",
    "\n",
    "#ridge\n",
    "ridge_opt_fin = Ridge(alpha=ridge_optimal_alpha)\n",
    "ridge_opt_fin.fit(XPoly_train_sc, ypoly_train)\n",
    "ridge_pred = ridge_opt_fin.predict(XPoly_test_sc)\n",
    "print (f\" ridge regression r2 score for train set is {ridge_opt_fin.score(XPoly_train_sc, ypoly_train)}\")\n",
    "print (f\" ridge regression r2 score for test set is {ridge_opt_fin.score(XPoly_test_sc, ypoly_test)}\")\n",
    "print(f\" ridge RMSE score for test set is {RMSE(ypoly_test, ridge_pred)}\")\n",
    "print(' ')\n",
    "\n",
    "#lasso\n",
    "lasso_opt_fin = Lasso(alpha=lasso_optimal_alpha)\n",
    "lasso_opt_fin.fit(XPoly_train_sc, ypoly_train)\n",
    "lasso_pred = lasso_opt_fin.predict(XPoly_test_sc)\n",
    "print (f\" lasso regression r2 score for train set is {lasso_opt_fin.score(XPoly_train_sc, ypoly_train)}\")\n",
    "print (f\" lasso regression r2 score for test set is {lasso_opt_fin.score(XPoly_test_sc, ypoly_test)}\")\n",
    "print(f\" lasso RMSE score for test set is {RMSE(ypoly_test, lasso_pred)}\")\n",
    "print(' ')\n",
    "\n",
    "#elasticnet\n",
    "enet_opt_fin = ElasticNet(alpha=enet_optimal_alpha)\n",
    "enet_opt_fin.fit(XPoly_train_sc, ypoly_train)\n",
    "enet_pred = enet_opt_fin.predict(XPoly_test_sc)\n",
    "print (f\" enet regression r2 score for train set is {enet_opt_fin.score(XPoly_train_sc, ypoly_train)}\")\n",
    "print (f\" enet regression r2 score for test set is {enet_opt_fin.score(XPoly_test_sc, ypoly_test)}\")\n",
    "print(f\" enet RMSE score for test set is {RMSE(ypoly_test, enet_pred)}\")"
   ]
  },
  {
   "cell_type": "code",
   "execution_count": 53,
   "metadata": {},
   "outputs": [
    {
     "data": {
      "text/html": [
       "<div>\n",
       "<style scoped>\n",
       "    .dataframe tbody tr th:only-of-type {\n",
       "        vertical-align: middle;\n",
       "    }\n",
       "\n",
       "    .dataframe tbody tr th {\n",
       "        vertical-align: top;\n",
       "    }\n",
       "\n",
       "    .dataframe thead th {\n",
       "        text-align: right;\n",
       "    }\n",
       "</style>\n",
       "<table border=\"1\" class=\"dataframe\">\n",
       "  <thead>\n",
       "    <tr style=\"text-align: right;\">\n",
       "      <th></th>\n",
       "      <th>Model</th>\n",
       "      <th>RMSE</th>\n",
       "      <th>R2 Square</th>\n",
       "    </tr>\n",
       "  </thead>\n",
       "  <tbody>\n",
       "    <tr>\n",
       "      <th>0</th>\n",
       "      <td>Dummy Regression</td>\n",
       "      <td>79276.560988</td>\n",
       "      <td>-8.227679e-09</td>\n",
       "    </tr>\n",
       "    <tr>\n",
       "      <th>1</th>\n",
       "      <td>Linear</td>\n",
       "      <td>24559.642346</td>\n",
       "      <td>9.045927e-01</td>\n",
       "    </tr>\n",
       "    <tr>\n",
       "      <th>2</th>\n",
       "      <td>Ridge</td>\n",
       "      <td>24651.984816</td>\n",
       "      <td>9.038739e-01</td>\n",
       "    </tr>\n",
       "    <tr>\n",
       "      <th>3</th>\n",
       "      <td>Lasso</td>\n",
       "      <td>24531.636443</td>\n",
       "      <td>9.048101e-01</td>\n",
       "    </tr>\n",
       "    <tr>\n",
       "      <th>4</th>\n",
       "      <td>Elasticnet</td>\n",
       "      <td>24659.284313</td>\n",
       "      <td>9.038169e-01</td>\n",
       "    </tr>\n",
       "    <tr>\n",
       "      <th>5</th>\n",
       "      <td>Linear_poly</td>\n",
       "      <td>22603.953947</td>\n",
       "      <td>9.191823e-01</td>\n",
       "    </tr>\n",
       "    <tr>\n",
       "      <th>6</th>\n",
       "      <td>Ridge_poly</td>\n",
       "      <td>22632.231432</td>\n",
       "      <td>9.189800e-01</td>\n",
       "    </tr>\n",
       "    <tr>\n",
       "      <th>7</th>\n",
       "      <td>Lasso_poly</td>\n",
       "      <td>22606.162943</td>\n",
       "      <td>9.191665e-01</td>\n",
       "    </tr>\n",
       "    <tr>\n",
       "      <th>8</th>\n",
       "      <td>Elasticnet_poly</td>\n",
       "      <td>22636.561188</td>\n",
       "      <td>9.189490e-01</td>\n",
       "    </tr>\n",
       "  </tbody>\n",
       "</table>\n",
       "</div>"
      ],
      "text/plain": [
       "              Model          RMSE     R2 Square\n",
       "0  Dummy Regression  79276.560988 -8.227679e-09\n",
       "1            Linear  24559.642346  9.045927e-01\n",
       "2             Ridge  24651.984816  9.038739e-01\n",
       "3             Lasso  24531.636443  9.048101e-01\n",
       "4        Elasticnet  24659.284313  9.038169e-01\n",
       "5       Linear_poly  22603.953947  9.191823e-01\n",
       "6        Ridge_poly  22632.231432  9.189800e-01\n",
       "7        Lasso_poly  22606.162943  9.191665e-01\n",
       "8   Elasticnet_poly  22636.561188  9.189490e-01"
      ]
     },
     "execution_count": 53,
     "metadata": {},
     "output_type": "execute_result"
    }
   ],
   "source": [
    "results_df_3 = pd.DataFrame({\"Model\":[\"Linear_poly\", \"Ridge_poly\", \"Lasso_poly\",\"Elasticnet_poly\"],\n",
    "                             \"RMSE\":[RMSE(ypoly_test, lr_pred),RMSE(ypoly_test, ridge_pred), RMSE(ypoly_test, lasso_pred), RMSE(ypoly_test, enet_pred)], \n",
    "                             \"R2 Square\":[lr.score(XPoly_test_sc, ypoly_test),ridge_opt_fin.score(XPoly_test_sc, ypoly_test),lasso_opt_fin.score(XPoly_test_sc, ypoly_test),enet_opt_fin.score(XPoly_test_sc, ypoly_test)]}) \n",
    "\n",
    "results_df = results_df.append(results_df_3, ignore_index=True)\n",
    "results_df"
   ]
  },
  {
   "cell_type": "markdown",
   "metadata": {},
   "source": [
    "### Prepping for Kaggle Submission"
   ]
  },
  {
   "cell_type": "markdown",
   "metadata": {},
   "source": [
    "1. Matching changes made to train_processed to test_processed"
   ]
  },
  {
   "cell_type": "code",
   "execution_count": 48,
   "metadata": {},
   "outputs": [
    {
     "data": {
      "text/html": [
       "<div>\n",
       "<style scoped>\n",
       "    .dataframe tbody tr th:only-of-type {\n",
       "        vertical-align: middle;\n",
       "    }\n",
       "\n",
       "    .dataframe tbody tr th {\n",
       "        vertical-align: top;\n",
       "    }\n",
       "\n",
       "    .dataframe thead th {\n",
       "        text-align: right;\n",
       "    }\n",
       "</style>\n",
       "<table border=\"1\" class=\"dataframe\">\n",
       "  <thead>\n",
       "    <tr style=\"text-align: right;\">\n",
       "      <th></th>\n",
       "      <th>lotfrontage</th>\n",
       "      <th>lotarea</th>\n",
       "      <th>lotshape</th>\n",
       "      <th>utilities</th>\n",
       "      <th>landslope</th>\n",
       "      <th>overallqual</th>\n",
       "      <th>overallcond</th>\n",
       "      <th>masvnrarea</th>\n",
       "      <th>exterqual</th>\n",
       "      <th>extercond</th>\n",
       "      <th>...</th>\n",
       "      <th>saletype_ConLw</th>\n",
       "      <th>saletype_New</th>\n",
       "      <th>saletype_Oth</th>\n",
       "      <th>saletype_WD</th>\n",
       "      <th>season_Spring</th>\n",
       "      <th>season_Summer</th>\n",
       "      <th>season_Winter</th>\n",
       "      <th>houseage</th>\n",
       "      <th>remodage</th>\n",
       "      <th>garageage</th>\n",
       "    </tr>\n",
       "  </thead>\n",
       "  <tbody>\n",
       "    <tr>\n",
       "      <th>0</th>\n",
       "      <td>69.000000</td>\n",
       "      <td>9142</td>\n",
       "      <td>1</td>\n",
       "      <td>2</td>\n",
       "      <td>1</td>\n",
       "      <td>6</td>\n",
       "      <td>8</td>\n",
       "      <td>0.0</td>\n",
       "      <td>2</td>\n",
       "      <td>2</td>\n",
       "      <td>...</td>\n",
       "      <td>0</td>\n",
       "      <td>0</td>\n",
       "      <td>0</td>\n",
       "      <td>1</td>\n",
       "      <td>1</td>\n",
       "      <td>0</td>\n",
       "      <td>0</td>\n",
       "      <td>110</td>\n",
       "      <td>70</td>\n",
       "      <td>110.0</td>\n",
       "    </tr>\n",
       "    <tr>\n",
       "      <th>1</th>\n",
       "      <td>72.774648</td>\n",
       "      <td>9662</td>\n",
       "      <td>2</td>\n",
       "      <td>2</td>\n",
       "      <td>1</td>\n",
       "      <td>5</td>\n",
       "      <td>4</td>\n",
       "      <td>0.0</td>\n",
       "      <td>2</td>\n",
       "      <td>3</td>\n",
       "      <td>...</td>\n",
       "      <td>0</td>\n",
       "      <td>0</td>\n",
       "      <td>0</td>\n",
       "      <td>1</td>\n",
       "      <td>0</td>\n",
       "      <td>1</td>\n",
       "      <td>0</td>\n",
       "      <td>43</td>\n",
       "      <td>43</td>\n",
       "      <td>43.0</td>\n",
       "    </tr>\n",
       "    <tr>\n",
       "      <th>2</th>\n",
       "      <td>58.000000</td>\n",
       "      <td>17104</td>\n",
       "      <td>2</td>\n",
       "      <td>2</td>\n",
       "      <td>1</td>\n",
       "      <td>7</td>\n",
       "      <td>5</td>\n",
       "      <td>0.0</td>\n",
       "      <td>3</td>\n",
       "      <td>3</td>\n",
       "      <td>...</td>\n",
       "      <td>0</td>\n",
       "      <td>1</td>\n",
       "      <td>0</td>\n",
       "      <td>0</td>\n",
       "      <td>0</td>\n",
       "      <td>0</td>\n",
       "      <td>0</td>\n",
       "      <td>14</td>\n",
       "      <td>14</td>\n",
       "      <td>14.0</td>\n",
       "    </tr>\n",
       "    <tr>\n",
       "      <th>3</th>\n",
       "      <td>60.000000</td>\n",
       "      <td>8520</td>\n",
       "      <td>1</td>\n",
       "      <td>2</td>\n",
       "      <td>1</td>\n",
       "      <td>5</td>\n",
       "      <td>6</td>\n",
       "      <td>0.0</td>\n",
       "      <td>3</td>\n",
       "      <td>3</td>\n",
       "      <td>...</td>\n",
       "      <td>0</td>\n",
       "      <td>0</td>\n",
       "      <td>0</td>\n",
       "      <td>1</td>\n",
       "      <td>0</td>\n",
       "      <td>1</td>\n",
       "      <td>0</td>\n",
       "      <td>97</td>\n",
       "      <td>14</td>\n",
       "      <td>85.0</td>\n",
       "    </tr>\n",
       "    <tr>\n",
       "      <th>4</th>\n",
       "      <td>75.192453</td>\n",
       "      <td>9500</td>\n",
       "      <td>2</td>\n",
       "      <td>2</td>\n",
       "      <td>1</td>\n",
       "      <td>6</td>\n",
       "      <td>5</td>\n",
       "      <td>247.0</td>\n",
       "      <td>2</td>\n",
       "      <td>3</td>\n",
       "      <td>...</td>\n",
       "      <td>0</td>\n",
       "      <td>0</td>\n",
       "      <td>0</td>\n",
       "      <td>1</td>\n",
       "      <td>0</td>\n",
       "      <td>1</td>\n",
       "      <td>0</td>\n",
       "      <td>57</td>\n",
       "      <td>57</td>\n",
       "      <td>57.0</td>\n",
       "    </tr>\n",
       "  </tbody>\n",
       "</table>\n",
       "<p>5 rows × 188 columns</p>\n",
       "</div>"
      ],
      "text/plain": [
       "   lotfrontage  lotarea  lotshape  utilities  landslope  overallqual  \\\n",
       "0    69.000000     9142         1          2          1            6   \n",
       "1    72.774648     9662         2          2          1            5   \n",
       "2    58.000000    17104         2          2          1            7   \n",
       "3    60.000000     8520         1          2          1            5   \n",
       "4    75.192453     9500         2          2          1            6   \n",
       "\n",
       "   overallcond  masvnrarea  exterqual  extercond  ...  saletype_ConLw  \\\n",
       "0            8         0.0          2          2  ...               0   \n",
       "1            4         0.0          2          3  ...               0   \n",
       "2            5         0.0          3          3  ...               0   \n",
       "3            6         0.0          3          3  ...               0   \n",
       "4            5       247.0          2          3  ...               0   \n",
       "\n",
       "   saletype_New  saletype_Oth  saletype_WD   season_Spring  season_Summer  \\\n",
       "0             0             0             1              1              0   \n",
       "1             0             0             1              0              1   \n",
       "2             1             0             0              0              0   \n",
       "3             0             0             1              0              1   \n",
       "4             0             0             1              0              1   \n",
       "\n",
       "   season_Winter  houseage  remodage  garageage  \n",
       "0              0       110        70      110.0  \n",
       "1              0        43        43       43.0  \n",
       "2              0        14        14       14.0  \n",
       "3              0        97        14       85.0  \n",
       "4              0        57        57       57.0  \n",
       "\n",
       "[5 rows x 188 columns]"
      ]
     },
     "execution_count": 48,
     "metadata": {},
     "output_type": "execute_result"
    }
   ],
   "source": [
    "test_processed.head()"
   ]
  },
  {
   "cell_type": "code",
   "execution_count": 49,
   "metadata": {},
   "outputs": [],
   "source": [
    "test_processed['overallqual_grlivarea'] = test_processed['overallqual']*test_processed['grlivarea']"
   ]
  },
  {
   "cell_type": "code",
   "execution_count": 54,
   "metadata": {
    "scrolled": false
   },
   "outputs": [],
   "source": [
    "to_remove=[]\n",
    "for i in test_processed.columns:\n",
    "    if i not in final_features.columns:\n",
    "        to_remove.append(i)"
   ]
  },
  {
   "cell_type": "code",
   "execution_count": 55,
   "metadata": {},
   "outputs": [],
   "source": [
    "test_processed.drop(to_remove,axis=1,inplace=True)"
   ]
  },
  {
   "cell_type": "code",
   "execution_count": 56,
   "metadata": {},
   "outputs": [
    {
     "data": {
      "text/html": [
       "<div>\n",
       "<style scoped>\n",
       "    .dataframe tbody tr th:only-of-type {\n",
       "        vertical-align: middle;\n",
       "    }\n",
       "\n",
       "    .dataframe tbody tr th {\n",
       "        vertical-align: top;\n",
       "    }\n",
       "\n",
       "    .dataframe thead th {\n",
       "        text-align: right;\n",
       "    }\n",
       "</style>\n",
       "<table border=\"1\" class=\"dataframe\">\n",
       "  <thead>\n",
       "    <tr style=\"text-align: right;\">\n",
       "      <th></th>\n",
       "      <th>lotfrontage</th>\n",
       "      <th>lotarea</th>\n",
       "      <th>overallcond</th>\n",
       "      <th>masvnrarea</th>\n",
       "      <th>exterqual</th>\n",
       "      <th>bsmtcond</th>\n",
       "      <th>bsmtexposure</th>\n",
       "      <th>bsmtfinsf1</th>\n",
       "      <th>totalbsmtsf</th>\n",
       "      <th>2ndflrsf</th>\n",
       "      <th>...</th>\n",
       "      <th>neighborhood_NoRidge</th>\n",
       "      <th>neighborhood_NridgHt</th>\n",
       "      <th>neighborhood_StoneBr</th>\n",
       "      <th>condition1_Norm</th>\n",
       "      <th>roofmatl_WdShngl</th>\n",
       "      <th>exterior1st_BrkFace</th>\n",
       "      <th>masvnrtype_Stone</th>\n",
       "      <th>saletype_New</th>\n",
       "      <th>houseage</th>\n",
       "      <th>overallqual_grlivarea</th>\n",
       "    </tr>\n",
       "  </thead>\n",
       "  <tbody>\n",
       "    <tr>\n",
       "      <th>0</th>\n",
       "      <td>69.000000</td>\n",
       "      <td>9142</td>\n",
       "      <td>8</td>\n",
       "      <td>0.0</td>\n",
       "      <td>2</td>\n",
       "      <td>3</td>\n",
       "      <td>0</td>\n",
       "      <td>0</td>\n",
       "      <td>1020</td>\n",
       "      <td>1020</td>\n",
       "      <td>...</td>\n",
       "      <td>0</td>\n",
       "      <td>0</td>\n",
       "      <td>0</td>\n",
       "      <td>1</td>\n",
       "      <td>0</td>\n",
       "      <td>0</td>\n",
       "      <td>0</td>\n",
       "      <td>0</td>\n",
       "      <td>110</td>\n",
       "      <td>11568</td>\n",
       "    </tr>\n",
       "    <tr>\n",
       "      <th>1</th>\n",
       "      <td>72.774648</td>\n",
       "      <td>9662</td>\n",
       "      <td>4</td>\n",
       "      <td>0.0</td>\n",
       "      <td>2</td>\n",
       "      <td>3</td>\n",
       "      <td>0</td>\n",
       "      <td>0</td>\n",
       "      <td>1967</td>\n",
       "      <td>0</td>\n",
       "      <td>...</td>\n",
       "      <td>0</td>\n",
       "      <td>0</td>\n",
       "      <td>0</td>\n",
       "      <td>1</td>\n",
       "      <td>0</td>\n",
       "      <td>0</td>\n",
       "      <td>0</td>\n",
       "      <td>0</td>\n",
       "      <td>43</td>\n",
       "      <td>9835</td>\n",
       "    </tr>\n",
       "    <tr>\n",
       "      <th>2</th>\n",
       "      <td>58.000000</td>\n",
       "      <td>17104</td>\n",
       "      <td>5</td>\n",
       "      <td>0.0</td>\n",
       "      <td>3</td>\n",
       "      <td>4</td>\n",
       "      <td>2</td>\n",
       "      <td>554</td>\n",
       "      <td>654</td>\n",
       "      <td>832</td>\n",
       "      <td>...</td>\n",
       "      <td>0</td>\n",
       "      <td>0</td>\n",
       "      <td>0</td>\n",
       "      <td>1</td>\n",
       "      <td>0</td>\n",
       "      <td>0</td>\n",
       "      <td>0</td>\n",
       "      <td>1</td>\n",
       "      <td>14</td>\n",
       "      <td>10472</td>\n",
       "    </tr>\n",
       "    <tr>\n",
       "      <th>3</th>\n",
       "      <td>60.000000</td>\n",
       "      <td>8520</td>\n",
       "      <td>6</td>\n",
       "      <td>0.0</td>\n",
       "      <td>3</td>\n",
       "      <td>3</td>\n",
       "      <td>0</td>\n",
       "      <td>0</td>\n",
       "      <td>968</td>\n",
       "      <td>0</td>\n",
       "      <td>...</td>\n",
       "      <td>0</td>\n",
       "      <td>0</td>\n",
       "      <td>0</td>\n",
       "      <td>1</td>\n",
       "      <td>0</td>\n",
       "      <td>0</td>\n",
       "      <td>0</td>\n",
       "      <td>0</td>\n",
       "      <td>97</td>\n",
       "      <td>4840</td>\n",
       "    </tr>\n",
       "    <tr>\n",
       "      <th>4</th>\n",
       "      <td>75.192453</td>\n",
       "      <td>9500</td>\n",
       "      <td>5</td>\n",
       "      <td>247.0</td>\n",
       "      <td>2</td>\n",
       "      <td>3</td>\n",
       "      <td>0</td>\n",
       "      <td>609</td>\n",
       "      <td>1394</td>\n",
       "      <td>0</td>\n",
       "      <td>...</td>\n",
       "      <td>0</td>\n",
       "      <td>0</td>\n",
       "      <td>0</td>\n",
       "      <td>1</td>\n",
       "      <td>0</td>\n",
       "      <td>0</td>\n",
       "      <td>0</td>\n",
       "      <td>0</td>\n",
       "      <td>57</td>\n",
       "      <td>8364</td>\n",
       "    </tr>\n",
       "  </tbody>\n",
       "</table>\n",
       "<p>5 rows × 29 columns</p>\n",
       "</div>"
      ],
      "text/plain": [
       "   lotfrontage  lotarea  overallcond  masvnrarea  exterqual  bsmtcond  \\\n",
       "0    69.000000     9142            8         0.0          2         3   \n",
       "1    72.774648     9662            4         0.0          2         3   \n",
       "2    58.000000    17104            5         0.0          3         4   \n",
       "3    60.000000     8520            6         0.0          3         3   \n",
       "4    75.192453     9500            5       247.0          2         3   \n",
       "\n",
       "   bsmtexposure  bsmtfinsf1  totalbsmtsf  2ndflrsf  ...  neighborhood_NoRidge  \\\n",
       "0             0           0         1020      1020  ...                     0   \n",
       "1             0           0         1967         0  ...                     0   \n",
       "2             2         554          654       832  ...                     0   \n",
       "3             0           0          968         0  ...                     0   \n",
       "4             0         609         1394         0  ...                     0   \n",
       "\n",
       "   neighborhood_NridgHt  neighborhood_StoneBr  condition1_Norm  \\\n",
       "0                     0                     0                1   \n",
       "1                     0                     0                1   \n",
       "2                     0                     0                1   \n",
       "3                     0                     0                1   \n",
       "4                     0                     0                1   \n",
       "\n",
       "   roofmatl_WdShngl  exterior1st_BrkFace  masvnrtype_Stone  saletype_New  \\\n",
       "0                 0                    0                 0             0   \n",
       "1                 0                    0                 0             0   \n",
       "2                 0                    0                 0             1   \n",
       "3                 0                    0                 0             0   \n",
       "4                 0                    0                 0             0   \n",
       "\n",
       "   houseage  overallqual_grlivarea  \n",
       "0       110                  11568  \n",
       "1        43                   9835  \n",
       "2        14                  10472  \n",
       "3        97                   4840  \n",
       "4        57                   8364  \n",
       "\n",
       "[5 rows x 29 columns]"
      ]
     },
     "execution_count": 56,
     "metadata": {},
     "output_type": "execute_result"
    }
   ],
   "source": [
    "test_processed.head()"
   ]
  },
  {
   "cell_type": "markdown",
   "metadata": {},
   "source": [
    "2. Reodering the columns "
   ]
  },
  {
   "cell_type": "code",
   "execution_count": 57,
   "metadata": {},
   "outputs": [
    {
     "data": {
      "text/plain": [
       "Index(['totalbsmtsf', 'bsmtfinsf1', 'neighborhood_NridgHt', 'exterqual',\n",
       "       'neighborhood_StoneBr', 'masvnrarea', 'kitchenqual', 'saletype_New',\n",
       "       'houseage', 'bsmtexposure', 'lotarea', 'overallcond', 'mssubclass_120',\n",
       "       'garagearea', '2ndflrsf', 'screenporch', 'neighborhood_NoRidge',\n",
       "       'lotfrontage', 'functional', 'condition1_Norm', 'roofmatl_WdShngl',\n",
       "       'mssubclass_160', 'landcontour_HLS', 'bsmtcond', 'fullbath',\n",
       "       'masvnrtype_Stone', 'exterior1st_BrkFace', 'halfbath',\n",
       "       'overallqual_grlivarea'],\n",
       "      dtype='object')"
      ]
     },
     "execution_count": 57,
     "metadata": {},
     "output_type": "execute_result"
    }
   ],
   "source": [
    "final_features.columns"
   ]
  },
  {
   "cell_type": "code",
   "execution_count": 58,
   "metadata": {},
   "outputs": [],
   "source": [
    "test_processed = test_processed[['totalbsmtsf', 'bsmtfinsf1', 'neighborhood_NridgHt', 'exterqual',\n",
    "       'neighborhood_StoneBr', 'masvnrarea', 'kitchenqual', 'saletype_New',\n",
    "       'houseage', 'bsmtexposure', 'lotarea', 'overallcond', 'mssubclass_120',\n",
    "       'garagearea', '2ndflrsf', 'screenporch', 'neighborhood_NoRidge',\n",
    "       'lotfrontage', 'functional', 'condition1_Norm', 'roofmatl_WdShngl',\n",
    "       'mssubclass_160', 'landcontour_HLS', 'bsmtcond', 'fullbath',\n",
    "       'masvnrtype_Stone', 'exterior1st_BrkFace', 'halfbath',\n",
    "       'overallqual_grlivarea']]"
   ]
  },
  {
   "cell_type": "markdown",
   "metadata": {},
   "source": [
    "3. Getting predictions of sale price from test data"
   ]
  },
  {
   "cell_type": "code",
   "execution_count": 61,
   "metadata": {},
   "outputs": [],
   "source": [
    "test_sc = ss.transform(test_processed)"
   ]
  },
  {
   "cell_type": "code",
   "execution_count": 62,
   "metadata": {},
   "outputs": [],
   "source": [
    "predictions = lr.predict(test_sc)"
   ]
  },
  {
   "cell_type": "code",
   "execution_count": 65,
   "metadata": {},
   "outputs": [
    {
     "data": {
      "text/plain": [
       "(879,)"
      ]
     },
     "execution_count": 65,
     "metadata": {},
     "output_type": "execute_result"
    }
   ],
   "source": [
    "predictions.shape"
   ]
  },
  {
   "cell_type": "markdown",
   "metadata": {},
   "source": [
    "4. Exporting to Kaggle "
   ]
  },
  {
   "cell_type": "code",
   "execution_count": 64,
   "metadata": {},
   "outputs": [],
   "source": [
    "submission = pd.read_csv('datasets/test.csv')"
   ]
  },
  {
   "cell_type": "code",
   "execution_count": 66,
   "metadata": {},
   "outputs": [
    {
     "data": {
      "text/plain": [
       "(879, 80)"
      ]
     },
     "execution_count": 66,
     "metadata": {},
     "output_type": "execute_result"
    }
   ],
   "source": [
    "submission.shape"
   ]
  },
  {
   "cell_type": "code",
   "execution_count": 67,
   "metadata": {},
   "outputs": [],
   "source": [
    "submission['SalePrice'] = predictions"
   ]
  },
  {
   "cell_type": "code",
   "execution_count": 68,
   "metadata": {},
   "outputs": [],
   "source": [
    "submission = submission.drop(['PID', 'MS SubClass', 'MS Zoning', 'Lot Frontage', 'Lot Area',\n",
    "       'Street', 'Alley', 'Lot Shape', 'Land Contour', 'Utilities',\n",
    "       'Lot Config', 'Land Slope', 'Neighborhood', 'Condition 1',\n",
    "       'Condition 2', 'Bldg Type', 'House Style', 'Overall Qual',\n",
    "       'Overall Cond', 'Year Built', 'Year Remod/Add', 'Roof Style',\n",
    "       'Roof Matl', 'Exterior 1st', 'Exterior 2nd', 'Mas Vnr Type',\n",
    "       'Mas Vnr Area', 'Exter Qual', 'Exter Cond', 'Foundation', 'Bsmt Qual',\n",
    "       'Bsmt Cond', 'Bsmt Exposure', 'BsmtFin Type 1', 'BsmtFin SF 1',\n",
    "       'BsmtFin Type 2', 'BsmtFin SF 2', 'Bsmt Unf SF', 'Total Bsmt SF',\n",
    "       'Heating', 'Heating QC', 'Central Air', 'Electrical', '1st Flr SF',\n",
    "       '2nd Flr SF', 'Low Qual Fin SF', 'Gr Liv Area', 'Bsmt Full Bath',\n",
    "       'Bsmt Half Bath', 'Full Bath', 'Half Bath', 'Bedroom AbvGr',\n",
    "       'Kitchen AbvGr', 'Kitchen Qual', 'TotRms AbvGrd', 'Functional',\n",
    "       'Fireplaces', 'Fireplace Qu', 'Garage Type', 'Garage Yr Blt',\n",
    "       'Garage Finish', 'Garage Cars', 'Garage Area', 'Garage Qual',\n",
    "       'Garage Cond', 'Paved Drive', 'Wood Deck SF', 'Open Porch SF',\n",
    "       'Enclosed Porch', '3Ssn Porch', 'Screen Porch', 'Pool Area', 'Pool QC',\n",
    "       'Fence', 'Misc Feature', 'Misc Val', 'Mo Sold', 'Yr Sold', 'Sale Type'], axis=1)"
   ]
  },
  {
   "cell_type": "code",
   "execution_count": 69,
   "metadata": {},
   "outputs": [],
   "source": [
    "submission.to_csv('datasets/submission.csv', index=False)"
   ]
  },
  {
   "cell_type": "markdown",
   "metadata": {},
   "source": [
    "### Summary"
   ]
  },
  {
   "cell_type": "code",
   "execution_count": 71,
   "metadata": {},
   "outputs": [
    {
     "data": {
      "image/png": "[encoded data removed]",
      "text/plain": [
       "<Figure size 1080x576 with 1 Axes>"
      ]
     },
     "metadata": {
      "needs_background": "light"
     },
     "output_type": "display_data"
    }
   ],
   "source": [
    "pd.Series(lr.coef_, index=final_features.columns).sort_values(ascending=True).plot.barh(figsize=(15,8))\n",
    "plt.title('Features influencing sale price the most', fontsize=14)\n",
    "plt.xlabel('coefficients', fontsize=12)\n",
    "plt.ylabel('features', fontsize=12);"
   ]
  },
  {
   "cell_type": "code",
   "execution_count": null,
   "metadata": {},
   "outputs": [],
   "source": []
  }
 ],
 "metadata": {
  "kernelspec": {
   "display_name": "Python 3",
   "language": "python",
   "name": "python3"
  },
  "language_info": {
   "codemirror_mode": {
    "name": "ipython",
    "version": 3
   },
   "file_extension": ".py",
   "mimetype": "text/x-python",
   "name": "python",
   "nbconvert_exporter": "python",
   "pygments_lexer": "ipython3",
   "version": "3.7.6"
  }
 },
 "nbformat": 4,
 "nbformat_minor": 4
}
