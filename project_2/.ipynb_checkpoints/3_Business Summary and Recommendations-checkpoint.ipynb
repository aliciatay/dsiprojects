{
 "cells": [
  {
   "cell_type": "markdown",
   "metadata": {},
   "source": [
    "# Project 2 : Ames Housing Price Prediction (Part 3/3)"
   ]
  },
  {
   "cell_type": "markdown",
   "metadata": {},
   "source": [
    "## Recap of our Business Problem\n",
    "* Build a model to predict prices for house listings in Ames, Iowa USA, based on features such as size, features, and location\n",
    "* Identify the 30 most influential features, with the goal of identifying strategies for potential home sellers to maximize profit"
   ]
  },
  {
   "cell_type": "markdown",
   "metadata": {},
   "source": [
    "## Project Organization\n",
    "\n",
    "The analysis will be broken into 3 parts. This is the third and final part of the series where we will be using our insights put forth in the previous notebooks to make a conclusion and suggestions on future improvements:<br><br>\n",
    "1.Data Preprocessing and Feature Engineering<br>\n",
    "2.Model Selection and Tuning<br>\n",
    "__3.Business Summary and Recommendations__"
   ]
  },
  {
   "cell_type": "markdown",
   "metadata": {},
   "source": [
    "## Contents of this notebook\n",
    "1. [Insights and Recommendations](#Insights-and-Recommendations)<br>\n",
    "2. [Limitations of Model and Dataset](#Limitations-of-Model-and-Dataset)<br>\n",
    "    1. [Dataset](#Dataset)<br>\n",
    "    2. [Model](#Model)<br>"
   ]
  },
  {
   "cell_type": "markdown",
   "metadata": {},
   "source": [
    "## Insights and Recommendations"
   ]
  },
  {
   "cell_type": "markdown",
   "metadata": {},
   "source": [
    "Here are recommedations to homeowners who might want to consider upgrading their homes to increase property value\n",
    "\n",
    "1. The more the better!\n",
    "    * Considering adding a porch, or creating a space for masonry and garage to your home. Having these added features already added to your home increases the attractiveness of your place and gets people paying more\n",
    "    * This theory also applies to the number of squarefeet and rooms in your place! Have an empty lane at your backyard? Try renovating it to a liveable space to increase home area. Else, if your home is maximised, try converting any unsused space by turning it into a bedroom. More bedrooms will increase your home price favourable. This applies to even having a bathroom in your loo! Be it full or half, it's always a half-glass full to prospective homebuyers who are willing to pay more\n",
    "    \n",
    "    \n",
    "2. What are you made of? Quality comes first\n",
    "    * This comes as a big fine print to our first condition. The more is better, only if more comes in good quality!\n",
    "    * Overall quality of the material and finishing of your home is very important to prospective buyers, and this keen eye for lasting sturdy features extends to almost any feature in the house, be it the kitchen, masonry.\n",
    "    * Particular features such as Brick Face on the house exterior, along with a roof material of Wood Shingles appears to have a positive effect of pushing the sale price up.\n",
    "    * Do be wary and check in with us on the type of finishing that brings in the buck though! Having Brick Face on every feature does not exactly help increase the value. Brick face on masonry have a negative coefficient value to sale price! \n",
    "    * Another observation that validates this behaviour is that the older the house is, the lesser people are willing to pay, regardless of how recent renovations take place. Youth (without any plastic surgery) is a prime factor in the buyers' consideration set. Understand the age of your home, and if you think you are able to negotiate for more for your newer home, do so!\n",
    "    \n",
    "    \n",
    "3. Not all is created equal\n",
    "    * Neighborhoods Northridge Heights,Stone Brook,Northridge, Crawford seems to be premium attractive areas that have big impact on the sale price. That's good news for folks living in that area! Market your property with emphasis on the neighborhood it is located in. Location matters, and for you, your location should be a prime factor in your ads"
   ]
  },
  {
   "cell_type": "markdown",
   "metadata": {},
   "source": [
    "## Limitations of Model and Dataset"
   ]
  },
  {
   "cell_type": "markdown",
   "metadata": {},
   "source": [
    "#### Dataset"
   ]
  },
  {
   "cell_type": "markdown",
   "metadata": {},
   "source": [
    "* Our dataset was collected between 2006-2010. The subprime mortgage crisis happened during the period 2007 - 2010. This could have influenced that data, and might not be accurate for a 2020 time frame\n",
    "* Understanding the difference between the listed and sale price, along with the negotiations and discussions between homeowners and agents could help us understand more on the factors that influences price"
   ]
  },
  {
   "cell_type": "markdown",
   "metadata": {},
   "source": [
    "#### Model"
   ]
  },
  {
   "cell_type": "markdown",
   "metadata": {},
   "source": [
    "As mentioned in the previous notebook, more could be done to improve the model's accuracy, such as \n",
    "* Being more sensitive to outliers rather than removing them, and experimenting with more polynomial features. This might include the need of experimenting further beyond linear regression models, such as Neural Networks\n",
    "* We have added only one polynomial feature and the RMSE score had dropped 2151, a 8.8% improvement. Adding more polynomial features may increase in score, but suffer in terms of interpretability.\n",
    "* Similarily, more features could be added to the model so that there are more predictors that the model can learn from to predict the nuances in price changes\n",
    "* Skewed variables could be treated with a log transformation, especially on the depedent variable\n",
    "\n",
    "However, one of the great advantages of linear regression models relative to more complex machine-learning techniques is its interpretability. We could identify features that exert the most influence on our predictions, with a relative magnitude and direction of their influence.\n",
    "\n",
    "When using more complex and high-powered modeling techniques like gradient boosting or neural networks, we will tend to get higher predictive accuracy, but much more limited interpretability. This is one of the great trade-offs in data science."
   ]
  },
  {
   "cell_type": "code",
   "execution_count": null,
   "metadata": {},
   "outputs": [],
   "source": []
  }
 ],
 "metadata": {
  "kernelspec": {
   "display_name": "Python 3",
   "language": "python",
   "name": "python3"
  },
  "language_info": {
   "codemirror_mode": {
    "name": "ipython",
    "version": 3
   },
   "file_extension": ".py",
   "mimetype": "text/x-python",
   "name": "python",
   "nbconvert_exporter": "python",
   "pygments_lexer": "ipython3",
   "version": "3.7.6"
  }
 },
 "nbformat": 4,
 "nbformat_minor": 4
}
