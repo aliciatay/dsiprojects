{
 "cells": [
  {
   "cell_type": "markdown",
   "metadata": {},
   "source": [
    "# Project 2 : Ames Housing Price Prediction (Part 2/3)"
   ]
  },
  {
   "cell_type": "markdown",
   "metadata": {},
   "source": [
    "## Recap of our Business Problem\n",
    "* Build a model to predict prices for house listings in Ames, Iowa USA, based on features such as size, features, and location\n",
    "* Identify the most influential features, with the goal of identifying strategies for potential home sellers to maximize profit"
   ]
  },
  {
   "cell_type": "markdown",
   "metadata": {},
   "source": [
    "## Project Organization\n",
    "\n",
    "The analysis will be broken into 3 parts. This is the second part of the series where we will be using our processed data from the first section, and selecting the best linear regression model to predict our data:<br><br>\n",
    "1.Data Preprocessing and Feature Engineering<br>\n",
    "__2. Model Benchmark and Tuning__<br>\n",
    "3.Business Summary and Recommendations"
   ]
  },
  {
   "cell_type": "markdown",
   "metadata": {},
   "source": [
    "## Contents of this notebook\n",
    "1. [Importing Libraries](#Import-libraries)<br>\n",
    "2. [Importing Datasets](#Import-datasets)<br>\n",
    "3. [Data Sneak Peek](#Data-Sneak-Peek)<br>\n",
    "4. [Data Cleaning](#Data-Cleaning)<br>\n",
    "    1. [Renaming Columns](#Renaming-Columns)<br>\n",
    "    2. [Treating Null Values](#Treating-Null-Values)<br>\n",
    "        1. [Masonry](#Treating-Masonry)<br>\n",
    "        2. [Fireplace Quality](#Treating-Fireplace-Quality)<br>\n",
    "        3. [Pool Quality](#Treating-poolqc)<br>\n",
    "        4. [Lot Frontage](#Treating-lotfrontage)<br>\n",
    "        5. [Garage](#Fixing-Garage)<br>\n",
    "        6. [Basement](#Fixing-Basement)<br>\n",
    "        7. [Alley, Fence](#Fixing-Alley-and-Fence)<br>\n",
    "        8. [Misc Feature](#Fixing-Misc-Feature)<br>\n",
    "        9. [Remaining NaN Values](#Treating-Remaining-Missing-Values)<br>\n",
    "5. [Exploratory Data Analysis](#EDA)<br>\n",
    "    1. [Correlation Heatmap (Numerical Values)](#Correlation-heatmap-for-numerical-values)<br>\n",
    "    2. [Scatterplot (Numerical Values)](#Scatterplot-for-numerical-values)<br>\n",
    "    3. [Boxplot (Categorical Values)](#Boxplot-for-categories)<br>\n",
    "    4. [Barplots (Categorical Values)](#Barplots-for-categories)<br>\n",
    "6. [Proposed Feature Engineering](#Proposed-Feature-Engineering)<br>\n",
    "    1. [Dropping Irrelevant Columns](#Dropping-irrelevant-columns)<br>\n",
    "    2. [Creating New Variables](#Creating-new-variables)<br>\n",
    "        1. [Seasons of Sale](#Season)<br>\n",
    "        2. [Age Variables](#Age-Variables)<br>\n",
    "        3. [Total Porch SF](#Total-Porch-SF)<br>\n",
    "        4. [Total Bathrooms](#Total-Bathrooms)<br>\n",
    "        5. [Total SF](#Total-SF)<br>\n",
    "7. [Feature Elimination](#Feature-Elimination)<br>\n",
    "    1. [Features with High Correlation](#Creating-a-correlation-chart-with-saleprice)<br>\n",
    "    2. [Checking for Multicollinearity](#Checking-for-Multicollinearity)<br>\n",
    "8. [OHE Nominal Variables](#Nominal-variables-for-OHE)<br>\n",
    "9. [Mapping Ordinal Variables](#Ordinal-variables)<br>\n",
    "10. [Treating Outliers](#Remove-outliers)<br>\n",
    "11. [Modifying Test Dataset](#Modifying-the-test-dataset)<br>\n",
    "    1. [Renaming Columns](#Rename-columns-for-easy-modification)<br>\n",
    "    2. [Treating Null Values](#Treating-null-values)<br>\n",
    "    3. [Dropping Irrelevant Columns](#Dropping-other-same-columns-as-train-set)<br>\n",
    "    4. [Creating New Variables for Test Set](#Creating-new-variables-for-test-set)<br>\n",
    "    5. [Dropping Multicollinear Features for Test Set](#Dropping-same-variables-as-train-set-due-to-multicollinearity)<br>\n",
    "    6. [Mapping Ordinal Variables for Test Set](#Ordinal-Test-Variables)<br>\n",
    "    7. [OHE Nominal values for Test Set](#Test-Set-Nominal-variables-for-OHE)<br>\n",
    "    8. [Checking Test Set](#Checking-of-test-data-set)<br>\n",
    "12. [Exporting Test Dataset](#Exporting-processed-datasets)<br>"
   ]
  },
  {
   "cell_type": "markdown",
   "metadata": {},
   "source": [
    "### Import Libraries"
   ]
  },
  {
   "cell_type": "code",
   "execution_count": 1,
   "metadata": {},
   "outputs": [],
   "source": [
    "import pandas as pd\n",
    "import numpy as np\n",
    "import matplotlib.pyplot as plt\n",
    "import seaborn as sns\n",
    "import pandas as pd\n",
    "from sklearn.preprocessing import StandardScaler, PolynomialFeatures\n",
    "from sklearn.linear_model import LinearRegression\n",
    "from sklearn.preprocessing import StandardScaler\n",
    "from sklearn.model_selection import cross_val_score, train_test_split\n",
    "from sklearn.linear_model import LinearRegression, Lasso, LassoCV, Ridge, RidgeCV, ElasticNet, ElasticNetCV \n",
    "from sklearn import metrics\n",
    "from sklearn.dummy import DummyRegressor"
   ]
  },
  {
   "cell_type": "markdown",
   "metadata": {},
   "source": [
    "### Import Datasets"
   ]
  },
  {
   "cell_type": "code",
   "execution_count": 2,
   "metadata": {},
   "outputs": [],
   "source": [
    "train_processed=pd.read_csv('datasets/train_preprocessed_copy.csv')\n",
    "test_processed=pd.read_csv('datasets/test_preprocessed_copy.csv')"
   ]
  },
  {
   "cell_type": "markdown",
   "metadata": {},
   "source": [
    "### Creating X and y variables"
   ]
  },
  {
   "cell_type": "code",
   "execution_count": 3,
   "metadata": {},
   "outputs": [
    {
     "data": {
      "text/plain": [
       "(2049,)"
      ]
     },
     "execution_count": 3,
     "metadata": {},
     "output_type": "execute_result"
    }
   ],
   "source": [
    "#creating target vector\n",
    "y = train_processed['saleprice']\n",
    "y.shape"
   ]
  },
  {
   "cell_type": "code",
   "execution_count": 4,
   "metadata": {},
   "outputs": [
    {
     "data": {
      "text/plain": [
       "(2049, 180)"
      ]
     },
     "execution_count": 4,
     "metadata": {},
     "output_type": "execute_result"
    }
   ],
   "source": [
    "#creating feature matrix\n",
    "X = train_processed.drop(['saleprice'], axis=1)\n",
    "X.shape"
   ]
  },
  {
   "cell_type": "markdown",
   "metadata": {},
   "source": [
    "### Train/Test/Split data"
   ]
  },
  {
   "cell_type": "code",
   "execution_count": 5,
   "metadata": {},
   "outputs": [],
   "source": [
    "#seeding with magical number 42!\n",
    "X_train, X_test, y_train, y_test = train_test_split(X, y, random_state=42)"
   ]
  },
  {
   "cell_type": "code",
   "execution_count": 6,
   "metadata": {},
   "outputs": [
    {
     "data": {
      "text/plain": [
       "(1536, 180)"
      ]
     },
     "execution_count": 6,
     "metadata": {},
     "output_type": "execute_result"
    }
   ],
   "source": [
    "X_train.shape"
   ]
  },
  {
   "cell_type": "code",
   "execution_count": 7,
   "metadata": {},
   "outputs": [
    {
     "data": {
      "text/plain": [
       "(513, 180)"
      ]
     },
     "execution_count": 7,
     "metadata": {},
     "output_type": "execute_result"
    }
   ],
   "source": [
    "X_test.shape"
   ]
  },
  {
   "cell_type": "code",
   "execution_count": 8,
   "metadata": {},
   "outputs": [
    {
     "data": {
      "text/plain": [
       "(1536,)"
      ]
     },
     "execution_count": 8,
     "metadata": {},
     "output_type": "execute_result"
    }
   ],
   "source": [
    "y_train.shape"
   ]
  },
  {
   "cell_type": "code",
   "execution_count": 9,
   "metadata": {},
   "outputs": [
    {
     "data": {
      "text/plain": [
       "(513,)"
      ]
     },
     "execution_count": 9,
     "metadata": {},
     "output_type": "execute_result"
    }
   ],
   "source": [
    "y_test.shape"
   ]
  },
  {
   "cell_type": "markdown",
   "metadata": {},
   "source": [
    "### Scaling"
   ]
  },
  {
   "cell_type": "code",
   "execution_count": 10,
   "metadata": {},
   "outputs": [],
   "source": [
    "ss= StandardScaler()\n",
    "ss.fit(X_train)\n",
    "\n",
    "X_train_scaled = ss.transform(X_train)\n",
    "X_test_scaled = ss.transform(X_test)"
   ]
  },
  {
   "cell_type": "markdown",
   "metadata": {},
   "source": [
    "### Creating Metric Formulas"
   ]
  },
  {
   "cell_type": "code",
   "execution_count": 11,
   "metadata": {},
   "outputs": [],
   "source": [
    "def RMSE(y_true, y_hat):\n",
    "    diff = y_true - y_hat\n",
    "    squared_diff = diff**2\n",
    "    return np.sqrt(np.mean(squared_diff))"
   ]
  },
  {
   "cell_type": "markdown",
   "metadata": {},
   "source": [
    "### Model Prep"
   ]
  },
  {
   "cell_type": "markdown",
   "metadata": {},
   "source": [
    "My model prep will consist of a few sections\n",
    "1. Feature Elimination using Lasso model and Ridge model\n",
    "2. Determing the best Regression model"
   ]
  },
  {
   "cell_type": "markdown",
   "metadata": {},
   "source": [
    "##### 1a. Feature Elimination (through Lasso)"
   ]
  },
  {
   "cell_type": "markdown",
   "metadata": {},
   "source": [
    "Our X dataset consists of 188 features currently. We will use these 188 features for the Lasso model to train on and subsequently remove features that get zero-ed out"
   ]
  },
  {
   "cell_type": "code",
   "execution_count": 12,
   "metadata": {},
   "outputs": [
    {
     "data": {
      "text/plain": [
       "100.0"
      ]
     },
     "execution_count": 12,
     "metadata": {},
     "output_type": "execute_result"
    }
   ],
   "source": [
    "#optimal lasso alpha \n",
    "lasso = LassoCV(alphas=np.linspace(1, 100, 200), cv=5)\n",
    "lasso = lasso.fit(X_train_scaled, y_train)\n",
    "lasso_optimal_alpha = lasso.alpha_\n",
    "lasso_optimal_alpha"
   ]
  },
  {
   "cell_type": "code",
   "execution_count": 13,
   "metadata": {},
   "outputs": [
    {
     "name": "stdout",
     "output_type": "stream",
     "text": [
      " lasso regression score for train set is 0.9252056994048313\n",
      " lasso regression score for test set is 0.9138516350294503\n",
      " lasso RMSE score for test set is 23337.519847955016\n"
     ]
    }
   ],
   "source": [
    "from sklearn.metrics import mean_squared_error\n",
    "#instantiate model \n",
    "lasso_opt = Lasso(alpha=lasso_optimal_alpha,max_iter=1000)\n",
    "\n",
    "#fit model \n",
    "lasso_opt.fit(X_train_scaled, y_train)\n",
    "\n",
    "print (f\" lasso regression score for train set is {lasso_opt.score(X_train_scaled, y_train)}\")\n",
    "print (f\" lasso regression score for test set is {lasso_opt.score(X_test_scaled, y_test)}\")\n",
    "lasso_pred = lasso_opt.predict(X_test_scaled)\n",
    "print(f\" lasso RMSE score for test set is {RMSE(y_test, lasso_pred)}\")"
   ]
  },
  {
   "cell_type": "code",
   "execution_count": 14,
   "metadata": {},
   "outputs": [
    {
     "data": {
      "image/png": "[encoded data removed]",
      "text/plain": [
       "<Figure size 720x1440 with 1 Axes>"
      ]
     },
     "metadata": {
      "needs_background": "light"
     },
     "output_type": "display_data"
    }
   ],
   "source": [
    "pd.Series(lasso_opt.coef_, index=X.columns).sort_values(ascending=True).plot.barh(figsize=(10,20))\n",
    "plt.tight_layout()\n",
    "plt.title('Coefficient values for features in X', fontsize =14)\n",
    "plt.xlabel('Coefficients', fontsize=12)\n",
    "plt.ylabel('Features', fontsize=12);"
   ]
  },
  {
   "cell_type": "code",
   "execution_count": 15,
   "metadata": {},
   "outputs": [
    {
     "data": {
      "text/plain": [
       "utilities               0.0\n",
       "bsmtfinsf1             -0.0\n",
       "miscval                 0.0\n",
       "yrsold                 -0.0\n",
       "season_Spring           0.0\n",
       "mssubclass_40           0.0\n",
       "mszoning_I (all)        0.0\n",
       "mszoning_RM            -0.0\n",
       "neighborhood_Mitchel   -0.0\n",
       "neighborhood_SWISU     -0.0\n",
       "neighborhood_Sawyer    -0.0\n",
       "condition1_RRNe         0.0\n",
       "condition2_PosN        -0.0\n",
       "bldgtype_2fmCon         0.0\n",
       "bldgtype_TwnhsE        -0.0\n",
       "housestyle_1Story      -0.0\n",
       "housestyle_2.5Unf       0.0\n",
       "housestyle_2Story       0.0\n",
       "housestyle_SLvl        -0.0\n",
       "exterior1st_Plywood    -0.0\n",
       "exterior1st_Stucco     -0.0\n",
       "exterior2nd_Brk Cmn     0.0\n",
       "exterior2nd_CmentBd     0.0\n",
       "exterior2nd_HdBoard    -0.0\n",
       "exterior2nd_MetalSd     0.0\n",
       "exterior2nd_Stucco     -0.0\n",
       "exterior2nd_Wd Shng    -0.0\n",
       "masvnrtype_BrkFace     -0.0\n",
       "foundation_Wood         0.0\n",
       "garagetype_Attchd       0.0\n",
       "garagetype_CarPort      0.0\n",
       "miscfeature_None        0.0\n",
       "miscfeature_Shed       -0.0\n",
       "dtype: float64"
      ]
     },
     "execution_count": 15,
     "metadata": {},
     "output_type": "execute_result"
    }
   ],
   "source": [
    "pd.Series(lasso_opt.coef_, index=X.columns)[lasso_opt.coef_ == 0]"
   ]
  },
  {
   "cell_type": "code",
   "execution_count": 16,
   "metadata": {},
   "outputs": [],
   "source": [
    "lasso_coef_features = pd.Series(lasso_opt.coef_, index=X.columns)"
   ]
  },
  {
   "cell_type": "code",
   "execution_count": 17,
   "metadata": {},
   "outputs": [
    {
     "data": {
      "text/plain": [
       "147"
      ]
     },
     "execution_count": 17,
     "metadata": {},
     "output_type": "execute_result"
    }
   ],
   "source": [
    "new_features = pd.Series(lasso_opt.coef_, X.columns)[lasso_coef_features!= 0].index\n",
    "new_features.value_counts().sum()"
   ]
  },
  {
   "cell_type": "markdown",
   "metadata": {},
   "source": [
    "##### 1b. Feature Elimination (through Ridge)"
   ]
  },
  {
   "cell_type": "code",
   "execution_count": 18,
   "metadata": {},
   "outputs": [],
   "source": [
    "XR = X[new_features]"
   ]
  },
  {
   "cell_type": "code",
   "execution_count": 19,
   "metadata": {},
   "outputs": [],
   "source": [
    "#train/test split\n",
    "XR_train, XR_test, yr_train, yr_test = train_test_split(XR, y, random_state = 42)\n",
    "\n",
    "#scale data \n",
    "ss=StandardScaler()\n",
    "ss.fit(XR_train)\n",
    "XR_train_sc = ss.transform(XR_train)\n",
    "XR_test_sc = ss.transform(XR_test)"
   ]
  },
  {
   "cell_type": "code",
   "execution_count": 20,
   "metadata": {},
   "outputs": [],
   "source": [
    "#optimal Ridge alpha \n",
    "ridge = RidgeCV(alphas=np.logspace(0, 5, 200), cv=5)\n",
    "ridge = ridge.fit(XR_train_sc, y_train)\n",
    "ridge_optimal_alpha = ridge.alpha_"
   ]
  },
  {
   "cell_type": "code",
   "execution_count": 21,
   "metadata": {},
   "outputs": [
    {
     "name": "stdout",
     "output_type": "stream",
     "text": [
      " ridge regression score for new train set is 0.9246864193139961\n",
      " ridge regression score for new test set is 0.9111428803048081\n",
      " ridge RMSE score for test set is 23701.579912373763\n"
     ]
    }
   ],
   "source": [
    "#instantiate ridge regression \n",
    "ridge_opt_new = Ridge(alpha=ridge_optimal_alpha)\n",
    "\n",
    "#r2 score for ridge model with new_features \n",
    "ridge_opt_new.fit(XR_train_sc, y_train)\n",
    "print (f\" ridge regression score for new train set is {ridge_opt_new.score(XR_train_sc, y_train)}\")\n",
    "print (f\" ridge regression score for new test set is {ridge_opt_new.score(XR_test_sc, y_test)}\")\n",
    "ridge_pred = ridge_opt_new.predict(XR_test_sc)\n",
    "print(f\" ridge RMSE score for test set is {RMSE(y_test, ridge_pred)}\")"
   ]
  },
  {
   "cell_type": "code",
   "execution_count": 22,
   "metadata": {},
   "outputs": [],
   "source": [
    "# extracing the first 30 features with highest coefficient values\n",
    "ridge_opt_features = pd.Series(ridge_opt_new.coef_, index=new_features).abs().sort_values(ascending=False)"
   ]
  },
  {
   "cell_type": "code",
   "execution_count": 23,
   "metadata": {
    "scrolled": true
   },
   "outputs": [
    {
     "data": {
      "text/plain": [
       "totalsf                 28215.070893\n",
       "overallqual             10803.578986\n",
       "bsmtunfsf                7914.899470\n",
       "houseage                 7575.354338\n",
       "neighborhood_NridgHt     6070.485659\n",
       "masvnrarea               5934.690637\n",
       "exterqual                5876.092980\n",
       "neighborhood_StoneBr     5722.774188\n",
       "saletype_New             5440.352678\n",
       "bsmtexposure             5050.619026\n",
       "mssubclass_120           5033.234881\n",
       "overallcond              4989.996815\n",
       "kitchenqual              4880.127295\n",
       "lotarea                  4792.729628\n",
       "totrmsabvgrd             4198.812742\n",
       "total_bathrooms          3882.877495\n",
       "condition1_Norm          3541.793523\n",
       "garagearea               3420.947463\n",
       "mssubclass_160           3406.192397\n",
       "neighborhood_NoRidge     3250.797371\n",
       "functional               3181.328033\n",
       "roofmatl_WdShngl         3128.027041\n",
       "masvnrtype_None          3097.236501\n",
       "bsmtcond                 3042.208409\n",
       "landcontour_HLS          3015.459359\n",
       "garagetype_None          2941.075973\n",
       "bedroomabvgr             2867.195583\n",
       "exterior1st_BrkFace      2838.644185\n",
       "bsmtqual                 2752.030355\n",
       "lotfrontage              2725.945947\n",
       "dtype: float64"
      ]
     },
     "execution_count": 23,
     "metadata": {},
     "output_type": "execute_result"
    }
   ],
   "source": [
    "ridge_opt_features[0:30]"
   ]
  },
  {
   "cell_type": "code",
   "execution_count": 24,
   "metadata": {},
   "outputs": [],
   "source": [
    "#saving the final 30 features\n",
    "final_features = ridge_opt_features[:30].index"
   ]
  },
  {
   "cell_type": "markdown",
   "metadata": {},
   "source": [
    "##### 2. Model Prep: Finding the best model"
   ]
  },
  {
   "cell_type": "markdown",
   "metadata": {},
   "source": [
    "There will be 4 models that I will be evaluating on:\n",
    "* Linear Regression\n",
    "* Ridge\n",
    "* Lasso\n",
    "* ElasticNet\n",
    "\n",
    "I will find the optimal alphas and calculating R2 and RMSE scores on these models"
   ]
  },
  {
   "cell_type": "code",
   "execution_count": 25,
   "metadata": {},
   "outputs": [],
   "source": [
    "#creating final X features matrix\n",
    "final_features= X[final_features]"
   ]
  },
  {
   "cell_type": "code",
   "execution_count": 26,
   "metadata": {},
   "outputs": [],
   "source": [
    "#train/test split\n",
    "final_features_X_train, final_features_X_test, y_train, y_test = train_test_split(final_features, y, random_state = 42)"
   ]
  },
  {
   "cell_type": "code",
   "execution_count": 27,
   "metadata": {},
   "outputs": [],
   "source": [
    "#scale data \n",
    "ss=StandardScaler()\n",
    "ss.fit(final_features_X_train)\n",
    "final_features_X_train_sc = ss.transform(final_features_X_train)\n",
    "final_features_X_test_sc = ss.transform(final_features_X_test)"
   ]
  },
  {
   "cell_type": "code",
   "execution_count": 28,
   "metadata": {},
   "outputs": [
    {
     "name": "stdout",
     "output_type": "stream",
     "text": [
      " ridge opt alpha is 17.834308769319094\n",
      " lasso opt alpha is 97.48746231155778\n",
      " enet opt alpha is 0.021\n"
     ]
    }
   ],
   "source": [
    "#searching for optimal alphas\n",
    "ridge = RidgeCV(alphas=np.logspace(0, 3, 200), cv=5)\n",
    "ridge = ridge.fit(final_features_X_train_sc, y_train)\n",
    "ridge_optimal_alpha = ridge.alpha_\n",
    "print (f\" ridge opt alpha is {ridge_optimal_alpha}\")\n",
    "\n",
    "lasso = LassoCV(alphas=np.linspace(.001, 100, 200), cv=5)\n",
    "lasso = lasso.fit(final_features_X_train_sc, y_train)\n",
    "lasso_optimal_alpha = lasso.alpha_\n",
    "print (f\" lasso opt alpha is {lasso_optimal_alpha}\")\n",
    "\n",
    "enet = ElasticNetCV(alphas = np.arange(0.001, 0.500, 0.005), l1_ratio=0.5)\n",
    "enet = enet.fit(final_features_X_train_sc, y_train)\n",
    "enet_optimal_alpha = enet.alpha_\n",
    "print (f\" enet opt alpha is {enet_optimal_alpha}\")"
   ]
  },
  {
   "cell_type": "code",
   "execution_count": 29,
   "metadata": {
    "scrolled": true
   },
   "outputs": [
    {
     "name": "stdout",
     "output_type": "stream",
     "text": [
      " linear regression r2 score for train set is 0.9079087945609783\n",
      " linear regression r2 score for test set is 0.9041505298397754\n",
      " linear regression adjusted r2 score for test set is 0.8981847951825\n",
      " linear RMSE score for test set is 24616.48494482264\n",
      " \n",
      " ridge regression r2 score for train set is 0.9077911061426367\n",
      " ridge regression r2 score for test set is 0.9035048027807631\n",
      " ridge regression adjusted r2 score for test set is 0.8974988776426363\n",
      " ridge RMSE score for test set is 24699.264998809103\n",
      " \n",
      " lasso regression r2 score for train set is 0.9078619843689247\n",
      " lasso regression r2 score for test set is 0.9040762938924604\n",
      " lasso regression adjusted r2 score for test set is 0.8981059387405388\n",
      " lasso RMSE score for test set is 24626.015901931994\n",
      " \n",
      " enet regression r2 score for train set is 0.9078112786790438\n",
      " enet regression r2 score for test set is 0.903570949518492\n",
      " enet regression adjusted r2 score for test set is 0.8975691413972363\n",
      " enet RMSE score for test set is 24690.797966602597\n"
     ]
    }
   ],
   "source": [
    "#Instantiate new models with optimal alphas and finding the adjusted r2 and rmse score \n",
    "\n",
    "#linear regression\n",
    "lr = LinearRegression()\n",
    "lr.fit(final_features_X_train_sc, y_train)\n",
    "lr_pred = lr.predict(final_features_X_test_sc)\n",
    "r_squared_train_lr=lr.score(final_features_X_train_sc, y_train)\n",
    "r_squared_test_lr = lr.score(final_features_X_test_sc, y_test)\n",
    "adj_r_squared_lr = 1 - (1 - r_squared_test_lr)*(len(y_test)-1)/(len(y_test)-final_features_X_test_sc.shape[1]-1)\n",
    "print (f\" linear regression r2 score for train set is {r_squared_train_lr}\")\n",
    "print (f\" linear regression r2 score for test set is {r_squared_test_lr}\")\n",
    "print (f\" linear regression adjusted r2 score for test set is {adj_r_squared_lr}\")\n",
    "print(f\" linear RMSE score for test set is {RMSE(y_test, lr_pred)}\")\n",
    "print(' ')\n",
    "\n",
    "#ridge\n",
    "ridge_opt_fin = Ridge(alpha=ridge_optimal_alpha)\n",
    "ridge_opt_fin.fit(final_features_X_train_sc, y_train)\n",
    "ridge_pred = ridge_opt_fin.predict(final_features_X_test_sc)\n",
    "r_squared_train_rd=ridge_opt_fin.score(final_features_X_train_sc, y_train)\n",
    "r_squared_test_rd = ridge_opt_fin.score(final_features_X_test_sc, y_test)\n",
    "adj_r_squared_rd = 1 - (1 - r_squared_test_rd)*(len(y_test)-1)/(len(y_test)-final_features_X_test_sc.shape[1]-1)\n",
    "print (f\" ridge regression r2 score for train set is {r_squared_train_rd}\")\n",
    "print (f\" ridge regression r2 score for test set is {r_squared_test_rd}\")\n",
    "print (f\" ridge regression adjusted r2 score for test set is {adj_r_squared_rd}\")\n",
    "print(f\" ridge RMSE score for test set is {RMSE(y_test, ridge_pred)}\")\n",
    "print(' ')\n",
    "\n",
    "#lasso\n",
    "lasso_opt_fin = Lasso(alpha=lasso_optimal_alpha)\n",
    "lasso_opt_fin.fit(final_features_X_train_sc, y_train)\n",
    "lasso_pred = lasso_opt_fin.predict(final_features_X_test_sc)\n",
    "r_squared_train_la=lasso_opt_fin.score(final_features_X_train_sc, y_train)\n",
    "r_squared_test_la = lasso_opt_fin.score(final_features_X_test_sc, y_test)\n",
    "adj_r_squared_la = 1 - (1 - r_squared_test_la)*(len(y_test)-1)/(len(y_test)-final_features_X_test_sc.shape[1]-1)\n",
    "print (f\" lasso regression r2 score for train set is {r_squared_train_la}\")\n",
    "print (f\" lasso regression r2 score for test set is {r_squared_test_la}\")\n",
    "print (f\" lasso regression adjusted r2 score for test set is {adj_r_squared_la}\")\n",
    "print(f\" lasso RMSE score for test set is {RMSE(y_test, lasso_pred)}\")\n",
    "print(' ')\n",
    "\n",
    "#elasticnet\n",
    "enet_opt_fin = ElasticNet(alpha=enet_optimal_alpha)\n",
    "enet_opt_fin.fit(final_features_X_train_sc, y_train)\n",
    "enet_pred = enet_opt_fin.predict(final_features_X_test_sc)\n",
    "r_squared_train_en=enet_opt_fin.score(final_features_X_train_sc, y_train)\n",
    "r_squared_test_en = enet_opt_fin.score(final_features_X_test_sc, y_test)\n",
    "adj_r_squared_en = 1 - (1 - r_squared_test_en)*(len(y_test)-1)/(len(y_test)-final_features_X_test_sc.shape[1]-1)\n",
    "print (f\" enet regression r2 score for train set is {r_squared_train_en}\")\n",
    "print (f\" enet regression r2 score for test set is {r_squared_test_en}\")\n",
    "print (f\" enet regression adjusted r2 score for test set is {adj_r_squared_en}\")\n",
    "print(f\" enet RMSE score for test set is {RMSE(y_test, enet_pred)}\")"
   ]
  },
  {
   "cell_type": "code",
   "execution_count": 30,
   "metadata": {},
   "outputs": [
    {
     "data": {
      "text/html": [
       "<div>\n",
       "<style scoped>\n",
       "    .dataframe tbody tr th:only-of-type {\n",
       "        vertical-align: middle;\n",
       "    }\n",
       "\n",
       "    .dataframe tbody tr th {\n",
       "        vertical-align: top;\n",
       "    }\n",
       "\n",
       "    .dataframe thead th {\n",
       "        text-align: right;\n",
       "    }\n",
       "</style>\n",
       "<table border=\"1\" class=\"dataframe\">\n",
       "  <thead>\n",
       "    <tr style=\"text-align: right;\">\n",
       "      <th></th>\n",
       "      <th>Model</th>\n",
       "      <th>R2 Square Train Set</th>\n",
       "      <th>R2 Square Test Set</th>\n",
       "      <th>Adjusted R2 Test Set</th>\n",
       "      <th>RMSE</th>\n",
       "    </tr>\n",
       "  </thead>\n",
       "  <tbody>\n",
       "    <tr>\n",
       "      <th>0</th>\n",
       "      <td>Linear</td>\n",
       "      <td>0.907909</td>\n",
       "      <td>0.904151</td>\n",
       "      <td>0.898185</td>\n",
       "      <td>24616.484945</td>\n",
       "    </tr>\n",
       "    <tr>\n",
       "      <th>1</th>\n",
       "      <td>Ridge</td>\n",
       "      <td>0.907791</td>\n",
       "      <td>0.903505</td>\n",
       "      <td>0.897499</td>\n",
       "      <td>24699.264999</td>\n",
       "    </tr>\n",
       "    <tr>\n",
       "      <th>2</th>\n",
       "      <td>Lasso</td>\n",
       "      <td>0.907862</td>\n",
       "      <td>0.904076</td>\n",
       "      <td>0.898106</td>\n",
       "      <td>24626.015902</td>\n",
       "    </tr>\n",
       "    <tr>\n",
       "      <th>3</th>\n",
       "      <td>Elastic</td>\n",
       "      <td>0.907811</td>\n",
       "      <td>0.903571</td>\n",
       "      <td>0.897569</td>\n",
       "      <td>24690.797967</td>\n",
       "    </tr>\n",
       "  </tbody>\n",
       "</table>\n",
       "</div>"
      ],
      "text/plain": [
       "     Model  R2 Square Train Set  R2 Square Test Set  Adjusted R2 Test Set  \\\n",
       "0   Linear             0.907909            0.904151              0.898185   \n",
       "1    Ridge             0.907791            0.903505              0.897499   \n",
       "2    Lasso             0.907862            0.904076              0.898106   \n",
       "3  Elastic             0.907811            0.903571              0.897569   \n",
       "\n",
       "           RMSE  \n",
       "0  24616.484945  \n",
       "1  24699.264999  \n",
       "2  24626.015902  \n",
       "3  24690.797967  "
      ]
     },
     "execution_count": 30,
     "metadata": {},
     "output_type": "execute_result"
    }
   ],
   "source": [
    "results_df = pd.DataFrame(data=[[\"Linear\", r_squared_train_lr, r_squared_test_lr,adj_r_squared_lr,RMSE(y_test, lr_pred)],\n",
    "                               [\"Ridge\",r_squared_train_rd,r_squared_test_rd,adj_r_squared_rd,RMSE(y_test, ridge_pred)],\n",
    "                                [\"Lasso\",r_squared_train_la,r_squared_test_la,adj_r_squared_la,RMSE(y_test, lasso_pred)],\n",
    "                                [\"Elastic\",r_squared_train_en,r_squared_test_en,adj_r_squared_en,RMSE(y_test, enet_pred)]], \n",
    "                          columns=['Model', 'R2 Square Train Set','R2 Square Test Set','Adjusted R2 Test Set','RMSE'])\n",
    "results_df"
   ]
  },
  {
   "cell_type": "markdown",
   "metadata": {},
   "source": [
    "### Model Iteration"
   ]
  },
  {
   "cell_type": "markdown",
   "metadata": {},
   "source": [
    "We shall explore Polynomial features to test if our models might improve, but will keep top 3 features so as to reduce overfitting issues."
   ]
  },
  {
   "cell_type": "code",
   "execution_count": 31,
   "metadata": {},
   "outputs": [
    {
     "data": {
      "text/plain": [
       "(2049, 180)"
      ]
     },
     "execution_count": 31,
     "metadata": {},
     "output_type": "execute_result"
    }
   ],
   "source": [
    "X.shape"
   ]
  },
  {
   "cell_type": "code",
   "execution_count": 32,
   "metadata": {},
   "outputs": [
    {
     "data": {
      "text/plain": [
       "(2049,)"
      ]
     },
     "execution_count": 32,
     "metadata": {},
     "output_type": "execute_result"
    }
   ],
   "source": [
    "y.shape"
   ]
  },
  {
   "cell_type": "code",
   "execution_count": 33,
   "metadata": {},
   "outputs": [],
   "source": [
    "poly = PolynomialFeatures(include_bias=False)\n",
    "X_poly = poly.fit_transform(X)\n",
    "X_poly_df = pd.DataFrame(X_poly, columns=poly.get_feature_names(X.columns))"
   ]
  },
  {
   "cell_type": "code",
   "execution_count": 34,
   "metadata": {},
   "outputs": [
    {
     "data": {
      "text/plain": [
       "(2049, 16470)"
      ]
     },
     "execution_count": 34,
     "metadata": {},
     "output_type": "execute_result"
    }
   ],
   "source": [
    "X_poly_df.shape"
   ]
  },
  {
   "cell_type": "code",
   "execution_count": 35,
   "metadata": {},
   "outputs": [
    {
     "data": {
      "text/plain": [
       "overallqual totalsf    0.921189\n",
       "exterqual totalsf      0.902729\n",
       "kitchenqual totalsf    0.898310\n",
       "dtype: float64"
      ]
     },
     "execution_count": 35,
     "metadata": {},
     "output_type": "execute_result"
    }
   ],
   "source": [
    "# Find the quadratic predictors that are most highly corelated with sale price\n",
    "X_poly_df.corrwith(y).sort_values(ascending=False).head(3)"
   ]
  },
  {
   "cell_type": "markdown",
   "metadata": {},
   "source": [
    "Looking at the top 3 features,'totalsf' appears in all entries. To prevent multicollinearity, I'd engineer the top interaction feature only."
   ]
  },
  {
   "cell_type": "code",
   "execution_count": 36,
   "metadata": {
    "scrolled": true
   },
   "outputs": [
    {
     "name": "stderr",
     "output_type": "stream",
     "text": [
      "/Users/aliciatay/opt/anaconda3/lib/python3.7/site-packages/ipykernel_launcher.py:1: SettingWithCopyWarning: \n",
      "A value is trying to be set on a copy of a slice from a DataFrame.\n",
      "Try using .loc[row_indexer,col_indexer] = value instead\n",
      "\n",
      "See the caveats in the documentation: https://pandas.pydata.org/pandas-docs/stable/user_guide/indexing.html#returning-a-view-versus-a-copy\n",
      "  \"\"\"Entry point for launching an IPython kernel.\n"
     ]
    }
   ],
   "source": [
    "final_features['overallqual_totalsf'] = final_features['overallqual'] * final_features['totalsf']"
   ]
  },
  {
   "cell_type": "code",
   "execution_count": 37,
   "metadata": {},
   "outputs": [
    {
     "data": {
      "text/html": [
       "<div>\n",
       "<style scoped>\n",
       "    .dataframe tbody tr th:only-of-type {\n",
       "        vertical-align: middle;\n",
       "    }\n",
       "\n",
       "    .dataframe tbody tr th {\n",
       "        vertical-align: top;\n",
       "    }\n",
       "\n",
       "    .dataframe thead th {\n",
       "        text-align: right;\n",
       "    }\n",
       "</style>\n",
       "<table border=\"1\" class=\"dataframe\">\n",
       "  <thead>\n",
       "    <tr style=\"text-align: right;\">\n",
       "      <th></th>\n",
       "      <th>totalsf</th>\n",
       "      <th>overallqual</th>\n",
       "      <th>bsmtunfsf</th>\n",
       "      <th>houseage</th>\n",
       "      <th>neighborhood_NridgHt</th>\n",
       "      <th>masvnrarea</th>\n",
       "      <th>exterqual</th>\n",
       "      <th>neighborhood_StoneBr</th>\n",
       "      <th>saletype_New</th>\n",
       "      <th>bsmtexposure</th>\n",
       "      <th>...</th>\n",
       "      <th>roofmatl_WdShngl</th>\n",
       "      <th>masvnrtype_None</th>\n",
       "      <th>bsmtcond</th>\n",
       "      <th>landcontour_HLS</th>\n",
       "      <th>garagetype_None</th>\n",
       "      <th>bedroomabvgr</th>\n",
       "      <th>exterior1st_BrkFace</th>\n",
       "      <th>bsmtqual</th>\n",
       "      <th>lotfrontage</th>\n",
       "      <th>overallqual_totalsf</th>\n",
       "    </tr>\n",
       "  </thead>\n",
       "  <tbody>\n",
       "    <tr>\n",
       "      <th>0</th>\n",
       "      <td>2204.0</td>\n",
       "      <td>6</td>\n",
       "      <td>192.0</td>\n",
       "      <td>44</td>\n",
       "      <td>0</td>\n",
       "      <td>289.0</td>\n",
       "      <td>3</td>\n",
       "      <td>0</td>\n",
       "      <td>0</td>\n",
       "      <td>0</td>\n",
       "      <td>...</td>\n",
       "      <td>0</td>\n",
       "      <td>0</td>\n",
       "      <td>3</td>\n",
       "      <td>0</td>\n",
       "      <td>0</td>\n",
       "      <td>3</td>\n",
       "      <td>0</td>\n",
       "      <td>3</td>\n",
       "      <td>72.774648</td>\n",
       "      <td>13224.0</td>\n",
       "    </tr>\n",
       "    <tr>\n",
       "      <th>1</th>\n",
       "      <td>3035.0</td>\n",
       "      <td>7</td>\n",
       "      <td>276.0</td>\n",
       "      <td>24</td>\n",
       "      <td>0</td>\n",
       "      <td>132.0</td>\n",
       "      <td>3</td>\n",
       "      <td>0</td>\n",
       "      <td>0</td>\n",
       "      <td>0</td>\n",
       "      <td>...</td>\n",
       "      <td>0</td>\n",
       "      <td>0</td>\n",
       "      <td>3</td>\n",
       "      <td>0</td>\n",
       "      <td>0</td>\n",
       "      <td>4</td>\n",
       "      <td>0</td>\n",
       "      <td>4</td>\n",
       "      <td>43.000000</td>\n",
       "      <td>21245.0</td>\n",
       "    </tr>\n",
       "    <tr>\n",
       "      <th>2</th>\n",
       "      <td>2114.0</td>\n",
       "      <td>5</td>\n",
       "      <td>326.0</td>\n",
       "      <td>67</td>\n",
       "      <td>0</td>\n",
       "      <td>0.0</td>\n",
       "      <td>2</td>\n",
       "      <td>0</td>\n",
       "      <td>0</td>\n",
       "      <td>0</td>\n",
       "      <td>...</td>\n",
       "      <td>0</td>\n",
       "      <td>1</td>\n",
       "      <td>3</td>\n",
       "      <td>0</td>\n",
       "      <td>0</td>\n",
       "      <td>3</td>\n",
       "      <td>0</td>\n",
       "      <td>3</td>\n",
       "      <td>68.000000</td>\n",
       "      <td>10570.0</td>\n",
       "    </tr>\n",
       "    <tr>\n",
       "      <th>3</th>\n",
       "      <td>1828.0</td>\n",
       "      <td>5</td>\n",
       "      <td>384.0</td>\n",
       "      <td>14</td>\n",
       "      <td>0</td>\n",
       "      <td>0.0</td>\n",
       "      <td>2</td>\n",
       "      <td>0</td>\n",
       "      <td>0</td>\n",
       "      <td>0</td>\n",
       "      <td>...</td>\n",
       "      <td>0</td>\n",
       "      <td>1</td>\n",
       "      <td>3</td>\n",
       "      <td>0</td>\n",
       "      <td>0</td>\n",
       "      <td>3</td>\n",
       "      <td>0</td>\n",
       "      <td>4</td>\n",
       "      <td>73.000000</td>\n",
       "      <td>9140.0</td>\n",
       "    </tr>\n",
       "    <tr>\n",
       "      <th>4</th>\n",
       "      <td>2121.0</td>\n",
       "      <td>6</td>\n",
       "      <td>676.0</td>\n",
       "      <td>120</td>\n",
       "      <td>0</td>\n",
       "      <td>0.0</td>\n",
       "      <td>2</td>\n",
       "      <td>0</td>\n",
       "      <td>0</td>\n",
       "      <td>0</td>\n",
       "      <td>...</td>\n",
       "      <td>0</td>\n",
       "      <td>1</td>\n",
       "      <td>4</td>\n",
       "      <td>0</td>\n",
       "      <td>0</td>\n",
       "      <td>3</td>\n",
       "      <td>0</td>\n",
       "      <td>2</td>\n",
       "      <td>82.000000</td>\n",
       "      <td>12726.0</td>\n",
       "    </tr>\n",
       "  </tbody>\n",
       "</table>\n",
       "<p>5 rows × 31 columns</p>\n",
       "</div>"
      ],
      "text/plain": [
       "   totalsf  overallqual  bsmtunfsf  houseage  neighborhood_NridgHt  \\\n",
       "0   2204.0            6      192.0        44                     0   \n",
       "1   3035.0            7      276.0        24                     0   \n",
       "2   2114.0            5      326.0        67                     0   \n",
       "3   1828.0            5      384.0        14                     0   \n",
       "4   2121.0            6      676.0       120                     0   \n",
       "\n",
       "   masvnrarea  exterqual  neighborhood_StoneBr  saletype_New  bsmtexposure  \\\n",
       "0       289.0          3                     0             0             0   \n",
       "1       132.0          3                     0             0             0   \n",
       "2         0.0          2                     0             0             0   \n",
       "3         0.0          2                     0             0             0   \n",
       "4         0.0          2                     0             0             0   \n",
       "\n",
       "   ...  roofmatl_WdShngl  masvnrtype_None  bsmtcond  landcontour_HLS  \\\n",
       "0  ...                 0                0         3                0   \n",
       "1  ...                 0                0         3                0   \n",
       "2  ...                 0                1         3                0   \n",
       "3  ...                 0                1         3                0   \n",
       "4  ...                 0                1         4                0   \n",
       "\n",
       "   garagetype_None  bedroomabvgr  exterior1st_BrkFace  bsmtqual  lotfrontage  \\\n",
       "0                0             3                    0         3    72.774648   \n",
       "1                0             4                    0         4    43.000000   \n",
       "2                0             3                    0         3    68.000000   \n",
       "3                0             3                    0         4    73.000000   \n",
       "4                0             3                    0         2    82.000000   \n",
       "\n",
       "   overallqual_totalsf  \n",
       "0              13224.0  \n",
       "1              21245.0  \n",
       "2              10570.0  \n",
       "3               9140.0  \n",
       "4              12726.0  \n",
       "\n",
       "[5 rows x 31 columns]"
      ]
     },
     "execution_count": 37,
     "metadata": {},
     "output_type": "execute_result"
    }
   ],
   "source": [
    "final_features.head()"
   ]
  },
  {
   "cell_type": "code",
   "execution_count": 38,
   "metadata": {},
   "outputs": [],
   "source": [
    "#append interaction feature to features list, and remove if interaction elements are in the list\n",
    "final_features = final_features.drop(['totalsf','overallqual'], axis=1)"
   ]
  },
  {
   "cell_type": "code",
   "execution_count": 39,
   "metadata": {},
   "outputs": [
    {
     "data": {
      "text/plain": [
       "29"
      ]
     },
     "execution_count": 39,
     "metadata": {},
     "output_type": "execute_result"
    }
   ],
   "source": [
    "len(list(final_features.columns))"
   ]
  },
  {
   "cell_type": "code",
   "execution_count": 40,
   "metadata": {},
   "outputs": [
    {
     "data": {
      "text/html": [
       "<div>\n",
       "<style scoped>\n",
       "    .dataframe tbody tr th:only-of-type {\n",
       "        vertical-align: middle;\n",
       "    }\n",
       "\n",
       "    .dataframe tbody tr th {\n",
       "        vertical-align: top;\n",
       "    }\n",
       "\n",
       "    .dataframe thead th {\n",
       "        text-align: right;\n",
       "    }\n",
       "</style>\n",
       "<table border=\"1\" class=\"dataframe\">\n",
       "  <thead>\n",
       "    <tr style=\"text-align: right;\">\n",
       "      <th></th>\n",
       "      <th>bsmtunfsf</th>\n",
       "      <th>houseage</th>\n",
       "      <th>neighborhood_NridgHt</th>\n",
       "      <th>masvnrarea</th>\n",
       "      <th>exterqual</th>\n",
       "      <th>neighborhood_StoneBr</th>\n",
       "      <th>saletype_New</th>\n",
       "      <th>bsmtexposure</th>\n",
       "      <th>mssubclass_120</th>\n",
       "      <th>overallcond</th>\n",
       "      <th>...</th>\n",
       "      <th>roofmatl_WdShngl</th>\n",
       "      <th>masvnrtype_None</th>\n",
       "      <th>bsmtcond</th>\n",
       "      <th>landcontour_HLS</th>\n",
       "      <th>garagetype_None</th>\n",
       "      <th>bedroomabvgr</th>\n",
       "      <th>exterior1st_BrkFace</th>\n",
       "      <th>bsmtqual</th>\n",
       "      <th>lotfrontage</th>\n",
       "      <th>overallqual_totalsf</th>\n",
       "    </tr>\n",
       "  </thead>\n",
       "  <tbody>\n",
       "    <tr>\n",
       "      <th>0</th>\n",
       "      <td>192.0</td>\n",
       "      <td>44</td>\n",
       "      <td>0</td>\n",
       "      <td>289.0</td>\n",
       "      <td>3</td>\n",
       "      <td>0</td>\n",
       "      <td>0</td>\n",
       "      <td>0</td>\n",
       "      <td>0</td>\n",
       "      <td>8</td>\n",
       "      <td>...</td>\n",
       "      <td>0</td>\n",
       "      <td>0</td>\n",
       "      <td>3</td>\n",
       "      <td>0</td>\n",
       "      <td>0</td>\n",
       "      <td>3</td>\n",
       "      <td>0</td>\n",
       "      <td>3</td>\n",
       "      <td>72.774648</td>\n",
       "      <td>13224.0</td>\n",
       "    </tr>\n",
       "    <tr>\n",
       "      <th>1</th>\n",
       "      <td>276.0</td>\n",
       "      <td>24</td>\n",
       "      <td>0</td>\n",
       "      <td>132.0</td>\n",
       "      <td>3</td>\n",
       "      <td>0</td>\n",
       "      <td>0</td>\n",
       "      <td>0</td>\n",
       "      <td>0</td>\n",
       "      <td>5</td>\n",
       "      <td>...</td>\n",
       "      <td>0</td>\n",
       "      <td>0</td>\n",
       "      <td>3</td>\n",
       "      <td>0</td>\n",
       "      <td>0</td>\n",
       "      <td>4</td>\n",
       "      <td>0</td>\n",
       "      <td>4</td>\n",
       "      <td>43.000000</td>\n",
       "      <td>21245.0</td>\n",
       "    </tr>\n",
       "    <tr>\n",
       "      <th>2</th>\n",
       "      <td>326.0</td>\n",
       "      <td>67</td>\n",
       "      <td>0</td>\n",
       "      <td>0.0</td>\n",
       "      <td>2</td>\n",
       "      <td>0</td>\n",
       "      <td>0</td>\n",
       "      <td>0</td>\n",
       "      <td>0</td>\n",
       "      <td>7</td>\n",
       "      <td>...</td>\n",
       "      <td>0</td>\n",
       "      <td>1</td>\n",
       "      <td>3</td>\n",
       "      <td>0</td>\n",
       "      <td>0</td>\n",
       "      <td>3</td>\n",
       "      <td>0</td>\n",
       "      <td>3</td>\n",
       "      <td>68.000000</td>\n",
       "      <td>10570.0</td>\n",
       "    </tr>\n",
       "    <tr>\n",
       "      <th>3</th>\n",
       "      <td>384.0</td>\n",
       "      <td>14</td>\n",
       "      <td>0</td>\n",
       "      <td>0.0</td>\n",
       "      <td>2</td>\n",
       "      <td>0</td>\n",
       "      <td>0</td>\n",
       "      <td>0</td>\n",
       "      <td>0</td>\n",
       "      <td>5</td>\n",
       "      <td>...</td>\n",
       "      <td>0</td>\n",
       "      <td>1</td>\n",
       "      <td>3</td>\n",
       "      <td>0</td>\n",
       "      <td>0</td>\n",
       "      <td>3</td>\n",
       "      <td>0</td>\n",
       "      <td>4</td>\n",
       "      <td>73.000000</td>\n",
       "      <td>9140.0</td>\n",
       "    </tr>\n",
       "    <tr>\n",
       "      <th>4</th>\n",
       "      <td>676.0</td>\n",
       "      <td>120</td>\n",
       "      <td>0</td>\n",
       "      <td>0.0</td>\n",
       "      <td>2</td>\n",
       "      <td>0</td>\n",
       "      <td>0</td>\n",
       "      <td>0</td>\n",
       "      <td>0</td>\n",
       "      <td>8</td>\n",
       "      <td>...</td>\n",
       "      <td>0</td>\n",
       "      <td>1</td>\n",
       "      <td>4</td>\n",
       "      <td>0</td>\n",
       "      <td>0</td>\n",
       "      <td>3</td>\n",
       "      <td>0</td>\n",
       "      <td>2</td>\n",
       "      <td>82.000000</td>\n",
       "      <td>12726.0</td>\n",
       "    </tr>\n",
       "  </tbody>\n",
       "</table>\n",
       "<p>5 rows × 29 columns</p>\n",
       "</div>"
      ],
      "text/plain": [
       "   bsmtunfsf  houseage  neighborhood_NridgHt  masvnrarea  exterqual  \\\n",
       "0      192.0        44                     0       289.0          3   \n",
       "1      276.0        24                     0       132.0          3   \n",
       "2      326.0        67                     0         0.0          2   \n",
       "3      384.0        14                     0         0.0          2   \n",
       "4      676.0       120                     0         0.0          2   \n",
       "\n",
       "   neighborhood_StoneBr  saletype_New  bsmtexposure  mssubclass_120  \\\n",
       "0                     0             0             0               0   \n",
       "1                     0             0             0               0   \n",
       "2                     0             0             0               0   \n",
       "3                     0             0             0               0   \n",
       "4                     0             0             0               0   \n",
       "\n",
       "   overallcond  ...  roofmatl_WdShngl  masvnrtype_None  bsmtcond  \\\n",
       "0            8  ...                 0                0         3   \n",
       "1            5  ...                 0                0         3   \n",
       "2            7  ...                 0                1         3   \n",
       "3            5  ...                 0                1         3   \n",
       "4            8  ...                 0                1         4   \n",
       "\n",
       "   landcontour_HLS  garagetype_None  bedroomabvgr  exterior1st_BrkFace  \\\n",
       "0                0                0             3                    0   \n",
       "1                0                0             4                    0   \n",
       "2                0                0             3                    0   \n",
       "3                0                0             3                    0   \n",
       "4                0                0             3                    0   \n",
       "\n",
       "   bsmtqual  lotfrontage  overallqual_totalsf  \n",
       "0         3    72.774648              13224.0  \n",
       "1         4    43.000000              21245.0  \n",
       "2         3    68.000000              10570.0  \n",
       "3         4    73.000000               9140.0  \n",
       "4         2    82.000000              12726.0  \n",
       "\n",
       "[5 rows x 29 columns]"
      ]
     },
     "execution_count": 40,
     "metadata": {},
     "output_type": "execute_result"
    }
   ],
   "source": [
    "final_features.head()"
   ]
  },
  {
   "cell_type": "markdown",
   "metadata": {},
   "source": [
    "Testing the model performance based on our new polynomial feature:\n",
    "\n",
    "We can see that all scores are better. However, Linear Regression model replaces Lasso as the better model"
   ]
  },
  {
   "cell_type": "code",
   "execution_count": 41,
   "metadata": {},
   "outputs": [],
   "source": [
    "#train/test split\n",
    "XPoly_train, XPoly_test, ypoly_train, ypoly_test = train_test_split(final_features, y, random_state = 42)"
   ]
  },
  {
   "cell_type": "code",
   "execution_count": 42,
   "metadata": {},
   "outputs": [],
   "source": [
    "#scale data \n",
    "ss=StandardScaler()\n",
    "ss.fit(XPoly_train)\n",
    "XPoly_train_sc = ss.transform(XPoly_train)\n",
    "XPoly_test_sc = ss.transform(XPoly_test)"
   ]
  },
  {
   "cell_type": "code",
   "execution_count": 43,
   "metadata": {},
   "outputs": [
    {
     "name": "stdout",
     "output_type": "stream",
     "text": [
      " ridge opt poly alpha is 4.448782831127584\n",
      " lasso opt poly alpha is 31.658974874371857\n",
      " enet opt poly alpha is 0.006\n"
     ]
    }
   ],
   "source": [
    "#searching for optimal alphas\n",
    "ridge_poly = RidgeCV(alphas=np.logspace(0, 3, 200), cv=5)\n",
    "ridge_poly = ridge.fit(XPoly_train_sc, ypoly_train)\n",
    "ridge_poly_optimal_alpha = ridge_poly.alpha_\n",
    "print (f\" ridge opt poly alpha is {ridge_poly_optimal_alpha}\")\n",
    "\n",
    "lasso_poly = LassoCV(alphas=np.linspace(.001, 100, 200), cv=5)\n",
    "lasso_poly = lasso.fit(XPoly_train_sc, ypoly_train)\n",
    "lasso_poly_optimal_alpha = lasso_poly.alpha_\n",
    "print (f\" lasso opt poly alpha is {lasso_poly_optimal_alpha}\")\n",
    "\n",
    "enet_poly = ElasticNetCV(alphas = np.arange(0.001, 0.500, 0.005), l1_ratio=0.5)\n",
    "enet_poly = enet.fit(XPoly_train_sc, ypoly_train)\n",
    "enet_poly_optimal_alpha = enet_poly.alpha_\n",
    "print (f\" enet opt poly alpha is {enet_poly_optimal_alpha}\")"
   ]
  },
  {
   "cell_type": "code",
   "execution_count": 44,
   "metadata": {
    "scrolled": true
   },
   "outputs": [
    {
     "name": "stdout",
     "output_type": "stream",
     "text": [
      " linear regression r2 score for train poly set is 0.9202176328124133\n",
      " linear regression r2 score for test poly set is 0.9192358020076945\n",
      " linear regression adjusted r2 score for test poly set is 0.9143866058549474\n",
      " linear RMSE score for test poly set is 22596.47123330303\n",
      " \n",
      " ridge regression r2 score for train poly set is 0.9202011764125783\n",
      " ridge regression r2 score for test poly set is 0.918901581505621\n",
      " ridge regression adjusted r2 score for test poly set is 0.9140323182833912\n",
      " ridge RMSE score for test poly set is 22643.177614912936\n",
      " \n",
      " lasso regression r2 score for train poly set is 0.9202125655750121\n",
      " lasso regression r2 score for test poly set is 0.919327389724112\n",
      " lasso regression adjusted r2 score for test poly set is 0.914483692626802\n",
      " lasso RMSE score for test poly set is 22583.655243601468\n",
      " \n",
      " enet regression r2 score for train poly set is 0.9202000041184439\n",
      " enet regression r2 score for test poly set is 0.9188894280146056\n",
      " enet regression adjusted r2 score for test poly set is 0.9140194350796648\n",
      " enet RMSE score for test poly set is 22644.87421610066\n"
     ]
    }
   ],
   "source": [
    "#Instantiate new models with optimal alphas and finding the adjusted r2 and rmse score \n",
    "\n",
    "#linear regression\n",
    "lr = LinearRegression()\n",
    "lr.fit(XPoly_train_sc, ypoly_train)\n",
    "lr_pred_poly = lr.predict(XPoly_test_sc)\n",
    "r_squared_train_lrpoly=lr.score(XPoly_train_sc, ypoly_train)\n",
    "r_squared_test_lrpoly = lr.score(XPoly_test_sc, ypoly_test)\n",
    "adj_r_squared_lrpoly = 1 - (1 - r_squared_test_lrpoly)*(len(ypoly_test)-1)/(len(ypoly_test)-XPoly_test_sc.shape[1]-1)\n",
    "print (f\" linear regression r2 score for train poly set is {r_squared_train_lrpoly}\")\n",
    "print (f\" linear regression r2 score for test poly set is {r_squared_test_lrpoly}\")\n",
    "print (f\" linear regression adjusted r2 score for test poly set is {adj_r_squared_lrpoly}\")\n",
    "print(f\" linear RMSE score for test poly set is {RMSE(ypoly_test, lr_pred_poly)}\")\n",
    "print(' ')\n",
    "\n",
    "#ridge\n",
    "ridge_opt_fin = Ridge(alpha=ridge_poly_optimal_alpha)\n",
    "ridge_opt_fin.fit(XPoly_train_sc, ypoly_train)\n",
    "ridge_pred_poly = ridge_opt_fin.predict(XPoly_test_sc)\n",
    "r_squared_train_rdpoly=ridge_opt_fin.score(XPoly_train_sc, ypoly_train)\n",
    "r_squared_test_rdpoly = ridge_opt_fin.score(XPoly_test_sc, ypoly_test)\n",
    "adj_r_squared_rdpoly = 1 - (1 - r_squared_test_rdpoly)*(len(ypoly_test)-1)/(len(ypoly_test)-XPoly_test_sc.shape[1]-1)\n",
    "print (f\" ridge regression r2 score for train poly set is {r_squared_train_rdpoly}\")\n",
    "print (f\" ridge regression r2 score for test poly set is {r_squared_test_rdpoly}\")\n",
    "print (f\" ridge regression adjusted r2 score for test poly set is {adj_r_squared_rdpoly}\")\n",
    "print(f\" ridge RMSE score for test poly set is {RMSE(ypoly_test, ridge_pred_poly)}\")\n",
    "print(' ')\n",
    "\n",
    "#lasso\n",
    "lasso_opt_fin = Lasso(alpha=lasso_poly_optimal_alpha)\n",
    "lasso_opt_fin.fit(XPoly_train_sc, ypoly_train)\n",
    "lasso_pred_poly = lasso_opt_fin.predict(XPoly_test_sc)\n",
    "r_squared_train_lapoly=lasso_opt_fin.score(XPoly_train_sc, ypoly_train)\n",
    "r_squared_test_lapoly = lasso_opt_fin.score(XPoly_test_sc, ypoly_test)\n",
    "adj_r_squared_lapoly = 1 - (1 - r_squared_test_lapoly)*(len(ypoly_test)-1)/(len(ypoly_test)-XPoly_test_sc.shape[1]-1)\n",
    "print (f\" lasso regression r2 score for train poly set is {r_squared_train_lapoly}\")\n",
    "print (f\" lasso regression r2 score for test poly set is {r_squared_test_lapoly}\")\n",
    "print (f\" lasso regression adjusted r2 score for test poly set is {adj_r_squared_lapoly}\")\n",
    "print(f\" lasso RMSE score for test poly set is {RMSE(ypoly_test, lasso_pred_poly)}\")\n",
    "print(' ')\n",
    "\n",
    "#elasticnet\n",
    "enet_opt_fin = ElasticNet(alpha=enet_poly_optimal_alpha)\n",
    "enet_opt_fin.fit(XPoly_train_sc, ypoly_train)\n",
    "enet_pred_poly = enet_opt_fin.predict(XPoly_test_sc)\n",
    "r_squared_train_enpoly=enet_opt_fin.score(XPoly_train_sc, ypoly_train)\n",
    "r_squared_test_enpoly = enet_opt_fin.score(XPoly_test_sc, ypoly_test)\n",
    "adj_r_squared_enpoly = 1 - (1 - r_squared_test_enpoly)*(len(ypoly_test)-1)/(len(ypoly_test)-XPoly_test_sc.shape[1]-1)\n",
    "print (f\" enet regression r2 score for train poly set is {r_squared_train_enpoly}\")\n",
    "print (f\" enet regression r2 score for test poly set is {r_squared_test_enpoly}\")\n",
    "print (f\" enet regression adjusted r2 score for test poly set is {adj_r_squared_enpoly}\")\n",
    "print(f\" enet RMSE score for test poly set is {RMSE(ypoly_test, enet_pred_poly)}\")"
   ]
  },
  {
   "cell_type": "code",
   "execution_count": 45,
   "metadata": {},
   "outputs": [
    {
     "data": {
      "text/html": [
       "<div>\n",
       "<style scoped>\n",
       "    .dataframe tbody tr th:only-of-type {\n",
       "        vertical-align: middle;\n",
       "    }\n",
       "\n",
       "    .dataframe tbody tr th {\n",
       "        vertical-align: top;\n",
       "    }\n",
       "\n",
       "    .dataframe thead th {\n",
       "        text-align: right;\n",
       "    }\n",
       "</style>\n",
       "<table border=\"1\" class=\"dataframe\">\n",
       "  <thead>\n",
       "    <tr style=\"text-align: right;\">\n",
       "      <th></th>\n",
       "      <th>Model</th>\n",
       "      <th>R2 Square Train Set</th>\n",
       "      <th>R2 Square Test Set</th>\n",
       "      <th>Adjusted R2 Test Set</th>\n",
       "      <th>RMSE</th>\n",
       "    </tr>\n",
       "  </thead>\n",
       "  <tbody>\n",
       "    <tr>\n",
       "      <th>0</th>\n",
       "      <td>Linear</td>\n",
       "      <td>0.907909</td>\n",
       "      <td>0.904151</td>\n",
       "      <td>0.898185</td>\n",
       "      <td>24616.484945</td>\n",
       "    </tr>\n",
       "    <tr>\n",
       "      <th>1</th>\n",
       "      <td>Ridge</td>\n",
       "      <td>0.907791</td>\n",
       "      <td>0.903505</td>\n",
       "      <td>0.897499</td>\n",
       "      <td>24699.264999</td>\n",
       "    </tr>\n",
       "    <tr>\n",
       "      <th>2</th>\n",
       "      <td>Lasso</td>\n",
       "      <td>0.907862</td>\n",
       "      <td>0.904076</td>\n",
       "      <td>0.898106</td>\n",
       "      <td>24626.015902</td>\n",
       "    </tr>\n",
       "    <tr>\n",
       "      <th>3</th>\n",
       "      <td>Elastic</td>\n",
       "      <td>0.907811</td>\n",
       "      <td>0.903571</td>\n",
       "      <td>0.897569</td>\n",
       "      <td>24690.797967</td>\n",
       "    </tr>\n",
       "    <tr>\n",
       "      <th>4</th>\n",
       "      <td>Linear_poly</td>\n",
       "      <td>0.920218</td>\n",
       "      <td>0.919236</td>\n",
       "      <td>0.914387</td>\n",
       "      <td>22596.471233</td>\n",
       "    </tr>\n",
       "    <tr>\n",
       "      <th>5</th>\n",
       "      <td>Ridge_poly</td>\n",
       "      <td>0.920201</td>\n",
       "      <td>0.918902</td>\n",
       "      <td>0.914032</td>\n",
       "      <td>22643.177615</td>\n",
       "    </tr>\n",
       "    <tr>\n",
       "      <th>6</th>\n",
       "      <td>Lasso_poly</td>\n",
       "      <td>0.920213</td>\n",
       "      <td>0.919327</td>\n",
       "      <td>0.914484</td>\n",
       "      <td>22583.655244</td>\n",
       "    </tr>\n",
       "    <tr>\n",
       "      <th>7</th>\n",
       "      <td>Elasticnet_poly</td>\n",
       "      <td>0.920200</td>\n",
       "      <td>0.918889</td>\n",
       "      <td>0.914019</td>\n",
       "      <td>22644.874216</td>\n",
       "    </tr>\n",
       "  </tbody>\n",
       "</table>\n",
       "</div>"
      ],
      "text/plain": [
       "             Model  R2 Square Train Set  R2 Square Test Set  \\\n",
       "0           Linear             0.907909            0.904151   \n",
       "1            Ridge             0.907791            0.903505   \n",
       "2            Lasso             0.907862            0.904076   \n",
       "3          Elastic             0.907811            0.903571   \n",
       "4      Linear_poly             0.920218            0.919236   \n",
       "5       Ridge_poly             0.920201            0.918902   \n",
       "6       Lasso_poly             0.920213            0.919327   \n",
       "7  Elasticnet_poly             0.920200            0.918889   \n",
       "\n",
       "   Adjusted R2 Test Set          RMSE  \n",
       "0              0.898185  24616.484945  \n",
       "1              0.897499  24699.264999  \n",
       "2              0.898106  24626.015902  \n",
       "3              0.897569  24690.797967  \n",
       "4              0.914387  22596.471233  \n",
       "5              0.914032  22643.177615  \n",
       "6              0.914484  22583.655244  \n",
       "7              0.914019  22644.874216  "
      ]
     },
     "execution_count": 45,
     "metadata": {},
     "output_type": "execute_result"
    }
   ],
   "source": [
    "results_df_2 = pd.DataFrame({\"Model\":[\"Linear_poly\", \"Ridge_poly\", \"Lasso_poly\",\"Elasticnet_poly\"],\n",
    "                             \"R2 Square Train Set\":[r_squared_train_lrpoly,r_squared_train_rdpoly,r_squared_train_lapoly,r_squared_train_enpoly],\n",
    "                             \"R2 Square Test Set\":[r_squared_test_lrpoly,r_squared_test_rdpoly,r_squared_test_lapoly,r_squared_test_enpoly],\n",
    "                             \"Adjusted R2 Test Set\":[adj_r_squared_lrpoly,adj_r_squared_rdpoly,adj_r_squared_lapoly,adj_r_squared_enpoly],\n",
    "                             \"RMSE\":[RMSE(ypoly_test, lr_pred_poly),RMSE(ypoly_test, ridge_pred_poly),RMSE(ypoly_test, lasso_pred_poly),RMSE(ypoly_test, enet_pred_poly)], \n",
    "                             }) \n",
    "\n",
    "results_df = results_df.append(results_df_2, ignore_index=True)\n",
    "results_df"
   ]
  },
  {
   "cell_type": "markdown",
   "metadata": {},
   "source": [
    "### Prepping for Kaggle Submission"
   ]
  },
  {
   "cell_type": "markdown",
   "metadata": {},
   "source": [
    "1. Matching changes made to train_processed to test_processed"
   ]
  },
  {
   "cell_type": "code",
   "execution_count": 46,
   "metadata": {},
   "outputs": [
    {
     "data": {
      "text/html": [
       "<div>\n",
       "<style scoped>\n",
       "    .dataframe tbody tr th:only-of-type {\n",
       "        vertical-align: middle;\n",
       "    }\n",
       "\n",
       "    .dataframe tbody tr th {\n",
       "        vertical-align: top;\n",
       "    }\n",
       "\n",
       "    .dataframe thead th {\n",
       "        text-align: right;\n",
       "    }\n",
       "</style>\n",
       "<table border=\"1\" class=\"dataframe\">\n",
       "  <thead>\n",
       "    <tr style=\"text-align: right;\">\n",
       "      <th></th>\n",
       "      <th>lotfrontage</th>\n",
       "      <th>lotarea</th>\n",
       "      <th>lotshape</th>\n",
       "      <th>utilities</th>\n",
       "      <th>landslope</th>\n",
       "      <th>overallqual</th>\n",
       "      <th>overallcond</th>\n",
       "      <th>masvnrarea</th>\n",
       "      <th>exterqual</th>\n",
       "      <th>extercond</th>\n",
       "      <th>...</th>\n",
       "      <th>miscfeature_Othr</th>\n",
       "      <th>miscfeature_Shed</th>\n",
       "      <th>saletype_CWD</th>\n",
       "      <th>saletype_Con</th>\n",
       "      <th>saletype_ConLD</th>\n",
       "      <th>saletype_ConLI</th>\n",
       "      <th>saletype_ConLw</th>\n",
       "      <th>saletype_New</th>\n",
       "      <th>saletype_Oth</th>\n",
       "      <th>saletype_WD</th>\n",
       "    </tr>\n",
       "  </thead>\n",
       "  <tbody>\n",
       "    <tr>\n",
       "      <th>0</th>\n",
       "      <td>69.000000</td>\n",
       "      <td>9142</td>\n",
       "      <td>1</td>\n",
       "      <td>2</td>\n",
       "      <td>1</td>\n",
       "      <td>6</td>\n",
       "      <td>8</td>\n",
       "      <td>0.0</td>\n",
       "      <td>2</td>\n",
       "      <td>2</td>\n",
       "      <td>...</td>\n",
       "      <td>0</td>\n",
       "      <td>0</td>\n",
       "      <td>0</td>\n",
       "      <td>0</td>\n",
       "      <td>0</td>\n",
       "      <td>0</td>\n",
       "      <td>0</td>\n",
       "      <td>0</td>\n",
       "      <td>0</td>\n",
       "      <td>1</td>\n",
       "    </tr>\n",
       "    <tr>\n",
       "      <th>1</th>\n",
       "      <td>72.774648</td>\n",
       "      <td>9662</td>\n",
       "      <td>2</td>\n",
       "      <td>2</td>\n",
       "      <td>1</td>\n",
       "      <td>5</td>\n",
       "      <td>4</td>\n",
       "      <td>0.0</td>\n",
       "      <td>2</td>\n",
       "      <td>3</td>\n",
       "      <td>...</td>\n",
       "      <td>0</td>\n",
       "      <td>0</td>\n",
       "      <td>0</td>\n",
       "      <td>0</td>\n",
       "      <td>0</td>\n",
       "      <td>0</td>\n",
       "      <td>0</td>\n",
       "      <td>0</td>\n",
       "      <td>0</td>\n",
       "      <td>1</td>\n",
       "    </tr>\n",
       "    <tr>\n",
       "      <th>2</th>\n",
       "      <td>58.000000</td>\n",
       "      <td>17104</td>\n",
       "      <td>2</td>\n",
       "      <td>2</td>\n",
       "      <td>1</td>\n",
       "      <td>7</td>\n",
       "      <td>5</td>\n",
       "      <td>0.0</td>\n",
       "      <td>3</td>\n",
       "      <td>3</td>\n",
       "      <td>...</td>\n",
       "      <td>0</td>\n",
       "      <td>0</td>\n",
       "      <td>0</td>\n",
       "      <td>0</td>\n",
       "      <td>0</td>\n",
       "      <td>0</td>\n",
       "      <td>0</td>\n",
       "      <td>1</td>\n",
       "      <td>0</td>\n",
       "      <td>0</td>\n",
       "    </tr>\n",
       "    <tr>\n",
       "      <th>3</th>\n",
       "      <td>60.000000</td>\n",
       "      <td>8520</td>\n",
       "      <td>1</td>\n",
       "      <td>2</td>\n",
       "      <td>1</td>\n",
       "      <td>5</td>\n",
       "      <td>6</td>\n",
       "      <td>0.0</td>\n",
       "      <td>3</td>\n",
       "      <td>3</td>\n",
       "      <td>...</td>\n",
       "      <td>0</td>\n",
       "      <td>0</td>\n",
       "      <td>0</td>\n",
       "      <td>0</td>\n",
       "      <td>0</td>\n",
       "      <td>0</td>\n",
       "      <td>0</td>\n",
       "      <td>0</td>\n",
       "      <td>0</td>\n",
       "      <td>1</td>\n",
       "    </tr>\n",
       "    <tr>\n",
       "      <th>4</th>\n",
       "      <td>75.192453</td>\n",
       "      <td>9500</td>\n",
       "      <td>2</td>\n",
       "      <td>2</td>\n",
       "      <td>1</td>\n",
       "      <td>6</td>\n",
       "      <td>5</td>\n",
       "      <td>247.0</td>\n",
       "      <td>2</td>\n",
       "      <td>3</td>\n",
       "      <td>...</td>\n",
       "      <td>0</td>\n",
       "      <td>0</td>\n",
       "      <td>0</td>\n",
       "      <td>0</td>\n",
       "      <td>0</td>\n",
       "      <td>0</td>\n",
       "      <td>0</td>\n",
       "      <td>0</td>\n",
       "      <td>0</td>\n",
       "      <td>1</td>\n",
       "    </tr>\n",
       "  </tbody>\n",
       "</table>\n",
       "<p>5 rows × 180 columns</p>\n",
       "</div>"
      ],
      "text/plain": [
       "   lotfrontage  lotarea  lotshape  utilities  landslope  overallqual  \\\n",
       "0    69.000000     9142         1          2          1            6   \n",
       "1    72.774648     9662         2          2          1            5   \n",
       "2    58.000000    17104         2          2          1            7   \n",
       "3    60.000000     8520         1          2          1            5   \n",
       "4    75.192453     9500         2          2          1            6   \n",
       "\n",
       "   overallcond  masvnrarea  exterqual  extercond  ...  miscfeature_Othr  \\\n",
       "0            8         0.0          2          2  ...                 0   \n",
       "1            4         0.0          2          3  ...                 0   \n",
       "2            5         0.0          3          3  ...                 0   \n",
       "3            6         0.0          3          3  ...                 0   \n",
       "4            5       247.0          2          3  ...                 0   \n",
       "\n",
       "   miscfeature_Shed  saletype_CWD  saletype_Con  saletype_ConLD  \\\n",
       "0                 0             0             0               0   \n",
       "1                 0             0             0               0   \n",
       "2                 0             0             0               0   \n",
       "3                 0             0             0               0   \n",
       "4                 0             0             0               0   \n",
       "\n",
       "   saletype_ConLI  saletype_ConLw  saletype_New  saletype_Oth  saletype_WD   \n",
       "0               0               0             0             0             1  \n",
       "1               0               0             0             0             1  \n",
       "2               0               0             1             0             0  \n",
       "3               0               0             0             0             1  \n",
       "4               0               0             0             0             1  \n",
       "\n",
       "[5 rows x 180 columns]"
      ]
     },
     "execution_count": 46,
     "metadata": {},
     "output_type": "execute_result"
    }
   ],
   "source": [
    "test_processed.head()"
   ]
  },
  {
   "cell_type": "code",
   "execution_count": 47,
   "metadata": {},
   "outputs": [],
   "source": [
    "test_processed['overallqual_totalsf'] = test_processed['overallqual']*test_processed['totalsf']"
   ]
  },
  {
   "cell_type": "code",
   "execution_count": 48,
   "metadata": {
    "scrolled": false
   },
   "outputs": [],
   "source": [
    "to_remove=[]\n",
    "for i in test_processed.columns:\n",
    "    if i not in final_features.columns:\n",
    "        to_remove.append(i)"
   ]
  },
  {
   "cell_type": "code",
   "execution_count": 49,
   "metadata": {},
   "outputs": [],
   "source": [
    "test_processed.drop(to_remove,axis=1,inplace=True)"
   ]
  },
  {
   "cell_type": "code",
   "execution_count": 50,
   "metadata": {},
   "outputs": [
    {
     "data": {
      "text/html": [
       "<div>\n",
       "<style scoped>\n",
       "    .dataframe tbody tr th:only-of-type {\n",
       "        vertical-align: middle;\n",
       "    }\n",
       "\n",
       "    .dataframe tbody tr th {\n",
       "        vertical-align: top;\n",
       "    }\n",
       "\n",
       "    .dataframe thead th {\n",
       "        text-align: right;\n",
       "    }\n",
       "</style>\n",
       "<table border=\"1\" class=\"dataframe\">\n",
       "  <thead>\n",
       "    <tr style=\"text-align: right;\">\n",
       "      <th></th>\n",
       "      <th>lotfrontage</th>\n",
       "      <th>lotarea</th>\n",
       "      <th>overallcond</th>\n",
       "      <th>masvnrarea</th>\n",
       "      <th>exterqual</th>\n",
       "      <th>bsmtqual</th>\n",
       "      <th>bsmtcond</th>\n",
       "      <th>bsmtexposure</th>\n",
       "      <th>bsmtunfsf</th>\n",
       "      <th>bedroomabvgr</th>\n",
       "      <th>...</th>\n",
       "      <th>neighborhood_NoRidge</th>\n",
       "      <th>neighborhood_NridgHt</th>\n",
       "      <th>neighborhood_StoneBr</th>\n",
       "      <th>condition1_Norm</th>\n",
       "      <th>roofmatl_WdShngl</th>\n",
       "      <th>exterior1st_BrkFace</th>\n",
       "      <th>masvnrtype_None</th>\n",
       "      <th>garagetype_None</th>\n",
       "      <th>saletype_New</th>\n",
       "      <th>overallqual_totalsf</th>\n",
       "    </tr>\n",
       "  </thead>\n",
       "  <tbody>\n",
       "    <tr>\n",
       "      <th>0</th>\n",
       "      <td>69.000000</td>\n",
       "      <td>9142</td>\n",
       "      <td>8</td>\n",
       "      <td>0.0</td>\n",
       "      <td>2</td>\n",
       "      <td>2</td>\n",
       "      <td>3</td>\n",
       "      <td>0</td>\n",
       "      <td>1020</td>\n",
       "      <td>4</td>\n",
       "      <td>...</td>\n",
       "      <td>0</td>\n",
       "      <td>0</td>\n",
       "      <td>0</td>\n",
       "      <td>1</td>\n",
       "      <td>0</td>\n",
       "      <td>0</td>\n",
       "      <td>1</td>\n",
       "      <td>0</td>\n",
       "      <td>0</td>\n",
       "      <td>17688</td>\n",
       "    </tr>\n",
       "    <tr>\n",
       "      <th>1</th>\n",
       "      <td>72.774648</td>\n",
       "      <td>9662</td>\n",
       "      <td>4</td>\n",
       "      <td>0.0</td>\n",
       "      <td>2</td>\n",
       "      <td>4</td>\n",
       "      <td>3</td>\n",
       "      <td>0</td>\n",
       "      <td>1967</td>\n",
       "      <td>6</td>\n",
       "      <td>...</td>\n",
       "      <td>0</td>\n",
       "      <td>0</td>\n",
       "      <td>0</td>\n",
       "      <td>1</td>\n",
       "      <td>0</td>\n",
       "      <td>0</td>\n",
       "      <td>1</td>\n",
       "      <td>0</td>\n",
       "      <td>0</td>\n",
       "      <td>19670</td>\n",
       "    </tr>\n",
       "    <tr>\n",
       "      <th>2</th>\n",
       "      <td>58.000000</td>\n",
       "      <td>17104</td>\n",
       "      <td>5</td>\n",
       "      <td>0.0</td>\n",
       "      <td>3</td>\n",
       "      <td>4</td>\n",
       "      <td>4</td>\n",
       "      <td>2</td>\n",
       "      <td>100</td>\n",
       "      <td>3</td>\n",
       "      <td>...</td>\n",
       "      <td>0</td>\n",
       "      <td>0</td>\n",
       "      <td>0</td>\n",
       "      <td>1</td>\n",
       "      <td>0</td>\n",
       "      <td>0</td>\n",
       "      <td>1</td>\n",
       "      <td>0</td>\n",
       "      <td>1</td>\n",
       "      <td>15050</td>\n",
       "    </tr>\n",
       "    <tr>\n",
       "      <th>3</th>\n",
       "      <td>60.000000</td>\n",
       "      <td>8520</td>\n",
       "      <td>6</td>\n",
       "      <td>0.0</td>\n",
       "      <td>3</td>\n",
       "      <td>3</td>\n",
       "      <td>3</td>\n",
       "      <td>0</td>\n",
       "      <td>968</td>\n",
       "      <td>2</td>\n",
       "      <td>...</td>\n",
       "      <td>0</td>\n",
       "      <td>0</td>\n",
       "      <td>0</td>\n",
       "      <td>1</td>\n",
       "      <td>0</td>\n",
       "      <td>0</td>\n",
       "      <td>1</td>\n",
       "      <td>0</td>\n",
       "      <td>0</td>\n",
       "      <td>9680</td>\n",
       "    </tr>\n",
       "    <tr>\n",
       "      <th>4</th>\n",
       "      <td>75.192453</td>\n",
       "      <td>9500</td>\n",
       "      <td>5</td>\n",
       "      <td>247.0</td>\n",
       "      <td>2</td>\n",
       "      <td>4</td>\n",
       "      <td>3</td>\n",
       "      <td>0</td>\n",
       "      <td>785</td>\n",
       "      <td>3</td>\n",
       "      <td>...</td>\n",
       "      <td>0</td>\n",
       "      <td>0</td>\n",
       "      <td>0</td>\n",
       "      <td>1</td>\n",
       "      <td>0</td>\n",
       "      <td>0</td>\n",
       "      <td>0</td>\n",
       "      <td>0</td>\n",
       "      <td>0</td>\n",
       "      <td>16728</td>\n",
       "    </tr>\n",
       "  </tbody>\n",
       "</table>\n",
       "<p>5 rows × 29 columns</p>\n",
       "</div>"
      ],
      "text/plain": [
       "   lotfrontage  lotarea  overallcond  masvnrarea  exterqual  bsmtqual  \\\n",
       "0    69.000000     9142            8         0.0          2         2   \n",
       "1    72.774648     9662            4         0.0          2         4   \n",
       "2    58.000000    17104            5         0.0          3         4   \n",
       "3    60.000000     8520            6         0.0          3         3   \n",
       "4    75.192453     9500            5       247.0          2         4   \n",
       "\n",
       "   bsmtcond  bsmtexposure  bsmtunfsf  bedroomabvgr  ...  neighborhood_NoRidge  \\\n",
       "0         3             0       1020             4  ...                     0   \n",
       "1         3             0       1967             6  ...                     0   \n",
       "2         4             2        100             3  ...                     0   \n",
       "3         3             0        968             2  ...                     0   \n",
       "4         3             0        785             3  ...                     0   \n",
       "\n",
       "   neighborhood_NridgHt  neighborhood_StoneBr  condition1_Norm  \\\n",
       "0                     0                     0                1   \n",
       "1                     0                     0                1   \n",
       "2                     0                     0                1   \n",
       "3                     0                     0                1   \n",
       "4                     0                     0                1   \n",
       "\n",
       "   roofmatl_WdShngl  exterior1st_BrkFace  masvnrtype_None  garagetype_None  \\\n",
       "0                 0                    0                1                0   \n",
       "1                 0                    0                1                0   \n",
       "2                 0                    0                1                0   \n",
       "3                 0                    0                1                0   \n",
       "4                 0                    0                0                0   \n",
       "\n",
       "   saletype_New  overallqual_totalsf  \n",
       "0             0                17688  \n",
       "1             0                19670  \n",
       "2             1                15050  \n",
       "3             0                 9680  \n",
       "4             0                16728  \n",
       "\n",
       "[5 rows x 29 columns]"
      ]
     },
     "execution_count": 50,
     "metadata": {},
     "output_type": "execute_result"
    }
   ],
   "source": [
    "test_processed.head()"
   ]
  },
  {
   "cell_type": "markdown",
   "metadata": {},
   "source": [
    "2. Reodering the columns "
   ]
  },
  {
   "cell_type": "code",
   "execution_count": 51,
   "metadata": {},
   "outputs": [
    {
     "data": {
      "text/plain": [
       "Index(['bsmtunfsf', 'houseage', 'neighborhood_NridgHt', 'masvnrarea',\n",
       "       'exterqual', 'neighborhood_StoneBr', 'saletype_New', 'bsmtexposure',\n",
       "       'mssubclass_120', 'overallcond', 'kitchenqual', 'lotarea',\n",
       "       'totrmsabvgrd', 'total_bathrooms', 'condition1_Norm', 'garagearea',\n",
       "       'mssubclass_160', 'neighborhood_NoRidge', 'functional',\n",
       "       'roofmatl_WdShngl', 'masvnrtype_None', 'bsmtcond', 'landcontour_HLS',\n",
       "       'garagetype_None', 'bedroomabvgr', 'exterior1st_BrkFace', 'bsmtqual',\n",
       "       'lotfrontage', 'overallqual_totalsf'],\n",
       "      dtype='object')"
      ]
     },
     "execution_count": 51,
     "metadata": {},
     "output_type": "execute_result"
    }
   ],
   "source": [
    "final_features.columns"
   ]
  },
  {
   "cell_type": "code",
   "execution_count": 52,
   "metadata": {},
   "outputs": [],
   "source": [
    "test_processed = test_processed[['bsmtunfsf', 'houseage', 'neighborhood_NridgHt', 'masvnrarea',\n",
    "       'exterqual', 'neighborhood_StoneBr', 'saletype_New', 'bsmtexposure',\n",
    "       'mssubclass_120', 'overallcond', 'kitchenqual', 'lotarea',\n",
    "       'totrmsabvgrd', 'total_bathrooms', 'condition1_Norm', 'garagearea',\n",
    "       'mssubclass_160', 'neighborhood_NoRidge', 'functional',\n",
    "       'roofmatl_WdShngl', 'masvnrtype_None', 'bsmtcond', 'landcontour_HLS',\n",
    "       'garagetype_None', 'bedroomabvgr', 'exterior1st_BrkFace', 'bsmtqual',\n",
    "       'lotfrontage', 'overallqual_totalsf']]"
   ]
  },
  {
   "cell_type": "markdown",
   "metadata": {},
   "source": [
    "3. Getting predictions of sale price from test data"
   ]
  },
  {
   "cell_type": "code",
   "execution_count": 53,
   "metadata": {},
   "outputs": [],
   "source": [
    "test_sc = ss.transform(test_processed)"
   ]
  },
  {
   "cell_type": "code",
   "execution_count": 54,
   "metadata": {
    "scrolled": true
   },
   "outputs": [],
   "source": [
    "predictions = lasso_opt_fin.predict(test_sc)"
   ]
  },
  {
   "cell_type": "code",
   "execution_count": 55,
   "metadata": {},
   "outputs": [
    {
     "data": {
      "text/plain": [
       "(879,)"
      ]
     },
     "execution_count": 55,
     "metadata": {},
     "output_type": "execute_result"
    }
   ],
   "source": [
    "predictions.shape"
   ]
  },
  {
   "cell_type": "markdown",
   "metadata": {},
   "source": [
    "4. Exporting to Kaggle "
   ]
  },
  {
   "cell_type": "code",
   "execution_count": 56,
   "metadata": {},
   "outputs": [],
   "source": [
    "submission = pd.read_csv('datasets/test.csv')"
   ]
  },
  {
   "cell_type": "code",
   "execution_count": 57,
   "metadata": {},
   "outputs": [
    {
     "data": {
      "text/plain": [
       "(879, 80)"
      ]
     },
     "execution_count": 57,
     "metadata": {},
     "output_type": "execute_result"
    }
   ],
   "source": [
    "submission.shape"
   ]
  },
  {
   "cell_type": "code",
   "execution_count": 58,
   "metadata": {},
   "outputs": [],
   "source": [
    "submission['SalePrice'] = predictions"
   ]
  },
  {
   "cell_type": "code",
   "execution_count": 59,
   "metadata": {},
   "outputs": [],
   "source": [
    "submission = submission.drop(['PID', 'MS SubClass', 'MS Zoning', 'Lot Frontage', 'Lot Area',\n",
    "       'Street', 'Alley', 'Lot Shape', 'Land Contour', 'Utilities',\n",
    "       'Lot Config', 'Land Slope', 'Neighborhood', 'Condition 1',\n",
    "       'Condition 2', 'Bldg Type', 'House Style', 'Overall Qual',\n",
    "       'Overall Cond', 'Year Built', 'Year Remod/Add', 'Roof Style',\n",
    "       'Roof Matl', 'Exterior 1st', 'Exterior 2nd', 'Mas Vnr Type',\n",
    "       'Mas Vnr Area', 'Exter Qual', 'Exter Cond', 'Foundation', 'Bsmt Qual',\n",
    "       'Bsmt Cond', 'Bsmt Exposure', 'BsmtFin Type 1', 'BsmtFin SF 1',\n",
    "       'BsmtFin Type 2', 'BsmtFin SF 2', 'Bsmt Unf SF', 'Total Bsmt SF',\n",
    "       'Heating', 'Heating QC', 'Central Air', 'Electrical', '1st Flr SF',\n",
    "       '2nd Flr SF', 'Low Qual Fin SF', 'Gr Liv Area', 'Bsmt Full Bath',\n",
    "       'Bsmt Half Bath', 'Full Bath', 'Half Bath', 'Bedroom AbvGr',\n",
    "       'Kitchen AbvGr', 'Kitchen Qual', 'TotRms AbvGrd', 'Functional',\n",
    "       'Fireplaces', 'Fireplace Qu', 'Garage Type', 'Garage Yr Blt',\n",
    "       'Garage Finish', 'Garage Cars', 'Garage Area', 'Garage Qual',\n",
    "       'Garage Cond', 'Paved Drive', 'Wood Deck SF', 'Open Porch SF',\n",
    "       'Enclosed Porch', '3Ssn Porch', 'Screen Porch', 'Pool Area', 'Pool QC',\n",
    "       'Fence', 'Misc Feature', 'Misc Val', 'Mo Sold', 'Yr Sold', 'Sale Type'], axis=1)"
   ]
  },
  {
   "cell_type": "code",
   "execution_count": 60,
   "metadata": {},
   "outputs": [],
   "source": [
    "submission.to_csv('datasets/submission_copy.csv', index=False)"
   ]
  },
  {
   "cell_type": "markdown",
   "metadata": {},
   "source": [
    "### Summary"
   ]
  },
  {
   "cell_type": "code",
   "execution_count": 61,
   "metadata": {},
   "outputs": [
    {
     "data": {
      "image/png": "[encoded data removed]",
      "text/plain": [
       "<Figure size 1080x576 with 1 Axes>"
      ]
     },
     "metadata": {
      "needs_background": "light"
     },
     "output_type": "display_data"
    }
   ],
   "source": [
    "pd.Series(lr.coef_, index=final_features.columns).sort_values(ascending=True).plot.barh(figsize=(15,8))\n",
    "plt.title('Features influencing Sale Price most', fontsize=14)\n",
    "plt.xlabel('coefficients', fontsize=12)\n",
    "plt.ylabel('features', fontsize=12);"
   ]
  },
  {
   "cell_type": "markdown",
   "metadata": {},
   "source": [
    "25267.44145"
   ]
  },
  {
   "cell_type": "code",
   "execution_count": null,
   "metadata": {},
   "outputs": [],
   "source": []
  },
  {
   "cell_type": "code",
   "execution_count": null,
   "metadata": {},
   "outputs": [],
   "source": [
    "    "
   ]
  },
  {
   "cell_type": "code",
   "execution_count": null,
   "metadata": {},
   "outputs": [],
   "source": []
  },
  {
   "cell_type": "code",
   "execution_count": null,
   "metadata": {},
   "outputs": [],
   "source": []
  },
  {
   "cell_type": "code",
   "execution_count": null,
   "metadata": {},
   "outputs": [],
   "source": []
  }
 ],
 "metadata": {
  "kernelspec": {
   "display_name": "Python 3",
   "language": "python",
   "name": "python3"
  },
  "language_info": {
   "codemirror_mode": {
    "name": "ipython",
    "version": 3
   },
   "file_extension": ".py",
   "mimetype": "text/x-python",
   "name": "python",
   "nbconvert_exporter": "python",
   "pygments_lexer": "ipython3",
   "version": "3.7.6"
  }
 },
 "nbformat": 4,
 "nbformat_minor": 4
}
