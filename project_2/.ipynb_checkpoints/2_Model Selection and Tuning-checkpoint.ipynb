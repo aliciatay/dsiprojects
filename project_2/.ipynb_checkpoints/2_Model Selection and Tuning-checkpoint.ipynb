{
 "cells": [
  {
   "cell_type": "markdown",
   "metadata": {},
   "source": [
    "# Project 2 : Ames Housing Price Prediction (Part 2/3)"
   ]
  },
  {
   "cell_type": "markdown",
   "metadata": {},
   "source": [
    "## Recap of our Business Problem\n",
    "* Build a model to predict prices for house listings in Ames, Iowa USA, based on features such as size, features, and location\n",
    "* Identify the 30 most influential features, with the goal of identifying strategies for potential home sellers to maximize profit"
   ]
  },
  {
   "cell_type": "markdown",
   "metadata": {},
   "source": [
    "## Project Organization\n",
    "\n",
    "The analysis will be broken into 3 parts. This is the second part of the series where we will be using our processed data from the first section, and selecting the best linear regression model to predict our data:<br><br>\n",
    "1.Data Preprocessing and Feature Engineering<br>\n",
    "__2. Model Selection and Tuning__<br>\n",
    "3.Business Summary and Recommendations"
   ]
  },
  {
   "cell_type": "markdown",
   "metadata": {},
   "source": [
    "## Contents of this notebook\n",
    "1. [Importing Libraries](#Import-libraries)<br>\n",
    "2. [Importing Preprocessed Datasets](#Import-Datasets)<br>\n",
    "3. [Creating X and y variables](#Creating-X-and-y-variables)<br>\n",
    "4. [Train-Test-Split Data](#Train-Test-Split-data)<br>\n",
    "5. [Scaling](#Scaling)<br>\n",
    "6. [Creating Metric Formulas](#Creating-Metric-Formulas)<br>\n",
    "7. [Model Preperation](#Model-Prep)<br>\n",
    "    1. [Feature Elimination via Lasso](#Feature-Elimination-through-Lasso)<br>\n",
    "    2. [Feature Elimination via Ridge](#Feature-Elimination-through-Ridge)<br>\n",
    "    3. [Model Selection](#Finding-the-best-model)<br>\n",
    "8. [Model Iteration](#Model-Iteration)<br>\n",
    "9. [Consolidated Model Results](#Consolidated-Model-Results)<br>\n",
    "10. [Prepping for Kaggle Submission](#Prepping-for-Kaggle-Submission)<br>\n",
    "11. [Kaggle Results and Summary](#Kaggle-Results-and-Summary)<br>"
   ]
  },
  {
   "cell_type": "markdown",
   "metadata": {},
   "source": [
    "### Import Libraries"
   ]
  },
  {
   "cell_type": "code",
   "execution_count": 1,
   "metadata": {},
   "outputs": [],
   "source": [
    "import pandas as pd\n",
    "import numpy as np\n",
    "import matplotlib.pyplot as plt\n",
    "import seaborn as sns\n",
    "import pandas as pd\n",
    "from sklearn.preprocessing import StandardScaler, PolynomialFeatures\n",
    "from sklearn.linear_model import LinearRegression\n",
    "from sklearn.preprocessing import StandardScaler\n",
    "from sklearn.model_selection import cross_val_score, train_test_split\n",
    "from sklearn.linear_model import LinearRegression, Lasso, LassoCV, Ridge, RidgeCV, ElasticNet, ElasticNetCV \n",
    "from sklearn import metrics\n",
    "from sklearn.dummy import DummyRegressor"
   ]
  },
  {
   "cell_type": "markdown",
   "metadata": {},
   "source": [
    "### Import Datasets"
   ]
  },
  {
   "cell_type": "markdown",
   "metadata": {},
   "source": [
    "Importing processed dataset from the previous worksheet"
   ]
  },
  {
   "cell_type": "code",
   "execution_count": 2,
   "metadata": {},
   "outputs": [],
   "source": [
    "train_processed=pd.read_csv('datasets/train_preprocessed_copy.csv')\n",
    "test_processed=pd.read_csv('datasets/test_preprocessed_copy.csv')"
   ]
  },
  {
   "cell_type": "markdown",
   "metadata": {},
   "source": [
    "### Creating X and y variables"
   ]
  },
  {
   "cell_type": "code",
   "execution_count": 3,
   "metadata": {},
   "outputs": [
    {
     "data": {
      "text/plain": [
       "(2049,)"
      ]
     },
     "execution_count": 3,
     "metadata": {},
     "output_type": "execute_result"
    }
   ],
   "source": [
    "#creating target vector\n",
    "y = train_processed['saleprice']\n",
    "y.shape"
   ]
  },
  {
   "cell_type": "code",
   "execution_count": 4,
   "metadata": {},
   "outputs": [
    {
     "data": {
      "text/plain": [
       "(2049, 180)"
      ]
     },
     "execution_count": 4,
     "metadata": {},
     "output_type": "execute_result"
    }
   ],
   "source": [
    "#creating feature matrix\n",
    "X = train_processed.drop(['saleprice'], axis=1)\n",
    "X.shape"
   ]
  },
  {
   "cell_type": "markdown",
   "metadata": {},
   "source": [
    "### Train-Test-Split data"
   ]
  },
  {
   "cell_type": "code",
   "execution_count": 5,
   "metadata": {},
   "outputs": [],
   "source": [
    "#seeding with magical number 42!\n",
    "X_train, X_test, y_train, y_test = train_test_split(X, y, random_state=42)"
   ]
  },
  {
   "cell_type": "code",
   "execution_count": 6,
   "metadata": {},
   "outputs": [
    {
     "data": {
      "text/plain": [
       "(1536, 180)"
      ]
     },
     "execution_count": 6,
     "metadata": {},
     "output_type": "execute_result"
    }
   ],
   "source": [
    "X_train.shape"
   ]
  },
  {
   "cell_type": "code",
   "execution_count": 7,
   "metadata": {},
   "outputs": [
    {
     "data": {
      "text/plain": [
       "(513, 180)"
      ]
     },
     "execution_count": 7,
     "metadata": {},
     "output_type": "execute_result"
    }
   ],
   "source": [
    "X_test.shape"
   ]
  },
  {
   "cell_type": "code",
   "execution_count": 8,
   "metadata": {},
   "outputs": [
    {
     "data": {
      "text/plain": [
       "(1536,)"
      ]
     },
     "execution_count": 8,
     "metadata": {},
     "output_type": "execute_result"
    }
   ],
   "source": [
    "y_train.shape"
   ]
  },
  {
   "cell_type": "code",
   "execution_count": 9,
   "metadata": {},
   "outputs": [
    {
     "data": {
      "text/plain": [
       "(513,)"
      ]
     },
     "execution_count": 9,
     "metadata": {},
     "output_type": "execute_result"
    }
   ],
   "source": [
    "y_test.shape"
   ]
  },
  {
   "cell_type": "markdown",
   "metadata": {},
   "source": [
    "### Scaling"
   ]
  },
  {
   "cell_type": "markdown",
   "metadata": {},
   "source": [
    "Using StandardScaler to scale data"
   ]
  },
  {
   "cell_type": "code",
   "execution_count": 10,
   "metadata": {},
   "outputs": [],
   "source": [
    "ss= StandardScaler()\n",
    "ss.fit(X_train)\n",
    "\n",
    "X_train_scaled = ss.transform(X_train)\n",
    "X_test_scaled = ss.transform(X_test)"
   ]
  },
  {
   "cell_type": "markdown",
   "metadata": {},
   "source": [
    "### Creating Metric Formulas"
   ]
  },
  {
   "cell_type": "markdown",
   "metadata": {},
   "source": [
    "Defining a formula for the offical score metric: RMSE"
   ]
  },
  {
   "cell_type": "code",
   "execution_count": 11,
   "metadata": {},
   "outputs": [],
   "source": [
    "def RMSE(y_true, y_hat):\n",
    "    diff = y_true - y_hat\n",
    "    squared_diff = diff**2\n",
    "    return np.sqrt(np.mean(squared_diff))"
   ]
  },
  {
   "cell_type": "markdown",
   "metadata": {},
   "source": [
    "### Model Prep"
   ]
  },
  {
   "cell_type": "markdown",
   "metadata": {},
   "source": [
    "My model prep will consist of a few sections\n",
    "1. Feature Elimination using Lasso model and Ridge model\n",
    "2. Determing the best Regression model based on test dataset"
   ]
  },
  {
   "cell_type": "markdown",
   "metadata": {},
   "source": [
    "##### Feature Elimination through Lasso"
   ]
  },
  {
   "cell_type": "markdown",
   "metadata": {},
   "source": [
    "Our X variable consists of 180 features currently. We will use these 180 features for the Lasso model to train on and subsequently remove features that get zero-ed out"
   ]
  },
  {
   "cell_type": "markdown",
   "metadata": {},
   "source": [
    "I have experimented with the range of coeff values to obtain an optimal of 524"
   ]
  },
  {
   "cell_type": "code",
   "execution_count": 12,
   "metadata": {},
   "outputs": [
    {
     "data": {
      "text/plain": [
       "524.1206030150754"
      ]
     },
     "execution_count": 12,
     "metadata": {},
     "output_type": "execute_result"
    }
   ],
   "source": [
    "#finding the optimal lasso alpha \n",
    "lasso = LassoCV(alphas=np.linspace(500, 550, 200), cv=5)\n",
    "lasso = lasso.fit(X_train_scaled, y_train)\n",
    "lasso_optimal_alpha = lasso.alpha_\n",
    "lasso_optimal_alpha"
   ]
  },
  {
   "cell_type": "code",
   "execution_count": 13,
   "metadata": {},
   "outputs": [
    {
     "name": "stdout",
     "output_type": "stream",
     "text": [
      " lasso regression score for train set is 0.9194394380296755\n",
      " lasso regression score for test set is 0.9115220858941028\n",
      " lasso RMSE score for test set is 23650.95154882045\n"
     ]
    }
   ],
   "source": [
    "from sklearn.metrics import mean_squared_error\n",
    "#instantiate model \n",
    "lasso_opt = Lasso(alpha=lasso_optimal_alpha,max_iter=1000)\n",
    "\n",
    "#fit model \n",
    "lasso_opt.fit(X_train_scaled, y_train)\n",
    "\n",
    "print (f\" lasso regression score for train set is {lasso_opt.score(X_train_scaled, y_train)}\")\n",
    "print (f\" lasso regression score for test set is {lasso_opt.score(X_test_scaled, y_test)}\")\n",
    "lasso_pred = lasso_opt.predict(X_test_scaled)\n",
    "print(f\" lasso RMSE score for test set is {RMSE(y_test, lasso_pred)}\")"
   ]
  },
  {
   "cell_type": "code",
   "execution_count": 14,
   "metadata": {},
   "outputs": [
    {
     "data": {
      "image/png": "[encoded data removed]",
      "text/plain": [
       "<Figure size 720x1440 with 1 Axes>"
      ]
     },
     "metadata": {
      "needs_background": "light"
     },
     "output_type": "display_data"
    }
   ],
   "source": [
    "pd.Series(lasso_opt.coef_, index=X.columns).sort_values(ascending=True).plot.barh(figsize=(10,20))\n",
    "plt.tight_layout()\n",
    "plt.title('Coefficient values for features in X', fontsize =14)\n",
    "plt.xlabel('Coefficients', fontsize=12)\n",
    "plt.ylabel('Features', fontsize=12);"
   ]
  },
  {
   "cell_type": "code",
   "execution_count": 15,
   "metadata": {},
   "outputs": [
    {
     "data": {
      "text/plain": [
       "lotshape           -0.0\n",
       "utilities           0.0\n",
       "extercond          -0.0\n",
       "bsmtfintype1        0.0\n",
       "bsmtfintype2        0.0\n",
       "                   ... \n",
       "miscfeature_Shed   -0.0\n",
       "saletype_CWD        0.0\n",
       "saletype_ConLD      0.0\n",
       "saletype_ConLw     -0.0\n",
       "saletype_WD        -0.0\n",
       "Length: 94, dtype: float64"
      ]
     },
     "execution_count": 15,
     "metadata": {},
     "output_type": "execute_result"
    }
   ],
   "source": [
    "#these are the list of features that get zeroed out\n",
    "pd.Series(lasso_opt.coef_, index=X.columns)[lasso_opt.coef_ == 0]"
   ]
  },
  {
   "cell_type": "code",
   "execution_count": 16,
   "metadata": {},
   "outputs": [],
   "source": [
    "lasso_coef_features = pd.Series(lasso_opt.coef_, index=X.columns)"
   ]
  },
  {
   "cell_type": "code",
   "execution_count": 17,
   "metadata": {},
   "outputs": [
    {
     "data": {
      "text/plain": [
       "86"
      ]
     },
     "execution_count": 17,
     "metadata": {},
     "output_type": "execute_result"
    }
   ],
   "source": [
    "#after removing features that gets zero-ed out, we have 86 features left\n",
    "new_features = pd.Series(lasso_opt.coef_, X.columns)[lasso_coef_features!= 0].index\n",
    "new_features.value_counts().sum()"
   ]
  },
  {
   "cell_type": "code",
   "execution_count": 18,
   "metadata": {},
   "outputs": [
    {
     "data": {
      "text/plain": [
       "Index(['lotfrontage', 'lotarea', 'landslope', 'overallqual', 'overallcond',\n",
       "       'masvnrarea', 'exterqual', 'bsmtqual', 'bsmtcond', 'bsmtexposure',\n",
       "       'bsmtfinsf1', 'bsmtunfsf', 'heatingqc', 'lowqualfinsf', 'bedroomabvgr',\n",
       "       'kitchenabvgr', 'kitchenqual', 'totrmsabvgrd', 'functional',\n",
       "       'fireplaces', 'fireplacequ', 'garagearea', 'paveddrive', 'houseage',\n",
       "       'remodage', 'garageage', 'total_porch_sf', 'total_bathrooms', 'totalsf',\n",
       "       'mssubclass_30', 'mssubclass_60', 'mssubclass_75', 'mssubclass_90',\n",
       "       'mssubclass_120', 'mssubclass_160', 'mssubclass_190', 'mszoning_FV',\n",
       "       'street_Pave', 'landcontour_HLS', 'lotconfig_CulDSac', 'lotconfig_FR3',\n",
       "       'neighborhood_BrkSide', 'neighborhood_Crawfor', 'neighborhood_MeadowV',\n",
       "       'neighborhood_NAmes', 'neighborhood_NPkVill', 'neighborhood_NWAmes',\n",
       "       'neighborhood_NoRidge', 'neighborhood_NridgHt', 'neighborhood_OldTown',\n",
       "       'neighborhood_Somerst', 'neighborhood_StoneBr', 'neighborhood_Veenker',\n",
       "       'condition1_Norm', 'condition1_PosA', 'condition1_PosN',\n",
       "       'condition1_RRAe', 'condition1_RRNn', 'condition2_PosA',\n",
       "       'bldgtype_Duplex', 'bldgtype_TwnhsE', 'housestyle_2.5Fin',\n",
       "       'housestyle_SFoyer', 'roofstyle_Hip', 'roofstyle_Mansard',\n",
       "       'roofmatl_WdShngl', 'exterior1st_AsphShn', 'exterior1st_BrkComm',\n",
       "       'exterior1st_BrkFace', 'exterior1st_CemntBd', 'exterior1st_HdBoard',\n",
       "       'exterior1st_VinylSd', 'exterior2nd_Plywood', 'masvnrtype_BrkFace',\n",
       "       'masvnrtype_Stone', 'foundation_CBlock', 'foundation_Slab',\n",
       "       'heating_GasW', 'heating_Grav', 'garagetype_BuiltIn',\n",
       "       'garagetype_Detchd', 'miscfeature_Othr', 'saletype_Con',\n",
       "       'saletype_ConLI', 'saletype_New', 'saletype_Oth'],\n",
       "      dtype='object')"
      ]
     },
     "execution_count": 18,
     "metadata": {},
     "output_type": "execute_result"
    }
   ],
   "source": [
    "#these are the features that remain after Lasso model\n",
    "new_features"
   ]
  },
  {
   "cell_type": "markdown",
   "metadata": {},
   "source": [
    "##### Feature Elimination through Ridge"
   ]
  },
  {
   "cell_type": "markdown",
   "metadata": {},
   "source": [
    "To further narrow down to our top 30 influential features, we will use Ridge model to rank importance"
   ]
  },
  {
   "cell_type": "code",
   "execution_count": 19,
   "metadata": {},
   "outputs": [],
   "source": [
    "XR = X[new_features]"
   ]
  },
  {
   "cell_type": "code",
   "execution_count": 20,
   "metadata": {},
   "outputs": [],
   "source": [
    "#train/test split\n",
    "XR_train, XR_test, yr_train, yr_test = train_test_split(XR, y, random_state = 42)\n",
    "\n",
    "#scale data \n",
    "ss=StandardScaler()\n",
    "ss.fit(XR_train)\n",
    "XR_train_sc = ss.transform(XR_train)\n",
    "XR_test_sc = ss.transform(XR_test)"
   ]
  },
  {
   "cell_type": "markdown",
   "metadata": {},
   "source": [
    "Similarily as before, I have experimented with the range of coeff values to get 32.176"
   ]
  },
  {
   "cell_type": "code",
   "execution_count": 21,
   "metadata": {},
   "outputs": [
    {
     "data": {
      "text/plain": [
       "32.17641750250737"
      ]
     },
     "execution_count": 21,
     "metadata": {},
     "output_type": "execute_result"
    }
   ],
   "source": [
    "#optimal Ridge alpha \n",
    "ridge = RidgeCV(alphas=np.logspace(0, 10, 200), cv=5)\n",
    "ridge = ridge.fit(XR_train_sc, y_train)\n",
    "ridge_optimal_alpha = ridge.alpha_\n",
    "ridge.alpha_"
   ]
  },
  {
   "cell_type": "code",
   "execution_count": 22,
   "metadata": {},
   "outputs": [
    {
     "name": "stdout",
     "output_type": "stream",
     "text": [
      " ridge regression score for new train set is 0.9221526630562795\n",
      " ridge regression score for new test set is 0.9068074309365954\n",
      " ridge RMSE score for test set is 24272.908724033663\n"
     ]
    }
   ],
   "source": [
    "#instantiate ridge regression \n",
    "ridge_opt_new = Ridge(alpha=ridge_optimal_alpha)\n",
    "\n",
    "#r2 score for ridge model with new_features \n",
    "ridge_opt_new.fit(XR_train_sc, y_train)\n",
    "print (f\" ridge regression score for new train set is {ridge_opt_new.score(XR_train_sc, y_train)}\")\n",
    "print (f\" ridge regression score for new test set is {ridge_opt_new.score(XR_test_sc, y_test)}\")\n",
    "ridge_pred = ridge_opt_new.predict(XR_test_sc)\n",
    "print(f\" ridge RMSE score for test set is {RMSE(y_test, ridge_pred)}\")"
   ]
  },
  {
   "cell_type": "code",
   "execution_count": 23,
   "metadata": {},
   "outputs": [],
   "source": [
    "# extracing the first 30 features with highest coefficient values\n",
    "ridge_opt_features = pd.Series(ridge_opt_new.coef_, index=new_features).abs().sort_values(ascending=False)"
   ]
  },
  {
   "cell_type": "markdown",
   "metadata": {},
   "source": [
    "These will be the final 30 features that we will be using to choose our best fit model. From a glance, two top features are most prominent in influencing sale price: Total SF and Overall Qual.\n",
    "\n",
    "Other interesting features include:\n",
    "* Neighborhoods Northridge Heights,Stone Brook,Northridge, Crawford seems to be premium attractive areas that have big impact on the sale price\n",
    "* House features (where the idea of bigger/more the better) seems to apply to lotarea, totalsf, total_bathrooms, total rooms above ground, garagearea, total porch sf, lotfrontage, masonry area\n",
    "* Other than finished basement squarefeet, consumers tend to also consider Unfinished square feet of basement area favourably too.  "
   ]
  },
  {
   "cell_type": "code",
   "execution_count": 24,
   "metadata": {
    "scrolled": true
   },
   "outputs": [
    {
     "data": {
      "text/plain": [
       "totalsf                 26739.356592\n",
       "overallqual             10801.095649\n",
       "neighborhood_NridgHt     7284.240502\n",
       "neighborhood_StoneBr     6331.969233\n",
       "houseage                 6016.622531\n",
       "exterqual                5889.242289\n",
       "masvnrarea               5741.147005\n",
       "saletype_New             5421.282294\n",
       "overallcond              5307.118184\n",
       "totrmsabvgrd             4902.169587\n",
       "bsmtunfsf                4815.129695\n",
       "kitchenqual              4810.861640\n",
       "mssubclass_120           4609.414400\n",
       "bsmtexposure             4473.318852\n",
       "bsmtfinsf1               4413.720835\n",
       "lotarea                  4294.335567\n",
       "neighborhood_NoRidge     4077.981111\n",
       "bsmtcond                 3715.905874\n",
       "functional               3095.863178\n",
       "total_bathrooms          2987.156697\n",
       "roofmatl_WdShngl         2924.235786\n",
       "garagearea               2915.394753\n",
       "bedroomabvgr             2860.732178\n",
       "exterior1st_BrkFace      2763.168946\n",
       "landcontour_HLS          2736.609709\n",
       "total_porch_sf           2636.486605\n",
       "masvnrtype_BrkFace       2616.061957\n",
       "kitchenabvgr             2597.907213\n",
       "lotfrontage              2594.354775\n",
       "neighborhood_Crawfor     2527.154090\n",
       "dtype: float64"
      ]
     },
     "execution_count": 24,
     "metadata": {},
     "output_type": "execute_result"
    }
   ],
   "source": [
    "ridge_opt_features[:30]"
   ]
  },
  {
   "cell_type": "code",
   "execution_count": 25,
   "metadata": {},
   "outputs": [],
   "source": [
    "#saving the final 30 features\n",
    "final_features = ridge_opt_features[:30].index"
   ]
  },
  {
   "cell_type": "markdown",
   "metadata": {},
   "source": [
    "##### Finding the best model"
   ]
  },
  {
   "cell_type": "markdown",
   "metadata": {},
   "source": [
    "There will be 4 models that I will be evaluating on:\n",
    "* Linear Regression\n",
    "* Ridge\n",
    "* Lasso\n",
    "* ElasticNet\n",
    "\n",
    "I will find the optimal alphas and calculating R2 and RMSE scores on these models"
   ]
  },
  {
   "cell_type": "code",
   "execution_count": 26,
   "metadata": {},
   "outputs": [],
   "source": [
    "#creating final X features matrix\n",
    "final_features= X[final_features]"
   ]
  },
  {
   "cell_type": "code",
   "execution_count": 27,
   "metadata": {},
   "outputs": [],
   "source": [
    "#train/test split\n",
    "final_features_X_train, final_features_X_test, y_train, y_test = train_test_split(final_features, y, random_state = 42)"
   ]
  },
  {
   "cell_type": "code",
   "execution_count": 28,
   "metadata": {},
   "outputs": [],
   "source": [
    "#scale data \n",
    "ss=StandardScaler()\n",
    "ss.fit(final_features_X_train)\n",
    "final_features_X_train_sc = ss.transform(final_features_X_train)\n",
    "final_features_X_test_sc = ss.transform(final_features_X_test)"
   ]
  },
  {
   "cell_type": "code",
   "execution_count": 29,
   "metadata": {},
   "outputs": [
    {
     "name": "stdout",
     "output_type": "stream",
     "text": [
      " ridge opt alpha is 13.667163564620067\n",
      " lasso opt alpha is 0.00023115577889447234\n",
      " enet opt alpha is 0.009900000000000003\n"
     ]
    }
   ],
   "source": [
    "#searching for optimal alphas\n",
    "#I have experimented with the range and obtain these optimal values\n",
    "ridge = RidgeCV(alphas=np.logspace(0, 2, 200), cv=5)\n",
    "ridge = ridge.fit(final_features_X_train_sc, y_train)\n",
    "ridge_optimal_alpha = ridge.alpha_\n",
    "print (f\" ridge opt alpha is {ridge_optimal_alpha}\")\n",
    "\n",
    "lasso = LassoCV(alphas=np.linspace(0.0001, 0.001, 200), cv=5)\n",
    "lasso = lasso.fit(final_features_X_train_sc, y_train)\n",
    "lasso_optimal_alpha = lasso.alpha_\n",
    "print (f\" lasso opt alpha is {lasso_optimal_alpha}\")\n",
    "\n",
    "enet = ElasticNetCV(alphas = np.arange(0.001, 0.010, 0.0001), l1_ratio=0.5)\n",
    "enet = enet.fit(final_features_X_train_sc, y_train)\n",
    "enet_optimal_alpha = enet.alpha_\n",
    "print (f\" enet opt alpha is {enet_optimal_alpha}\")"
   ]
  },
  {
   "cell_type": "code",
   "execution_count": 30,
   "metadata": {
    "scrolled": true
   },
   "outputs": [
    {
     "name": "stdout",
     "output_type": "stream",
     "text": [
      " linear regression r2 score for train set is 0.9115831977065011\n",
      " linear regression r2 score for test set is 0.9050407533856889\n",
      " linear regression adjusted r2 score for test set is 0.899130426832931\n",
      " linear RMSE score for test set is 24501.902697460497\n",
      " \n",
      " ridge regression r2 score for train set is 0.9114929480494477\n",
      " ridge regression r2 score for test set is 0.9047459151152488\n",
      " ridge regression adjusted r2 score for test set is 0.8988172376327954\n",
      " ridge RMSE score for test set is 24539.911106577798\n",
      " \n",
      " lasso regression r2 score for train set is 0.9115831977065009\n",
      " lasso regression r2 score for test set is 0.9050407541491375\n",
      " lasso regression adjusted r2 score for test set is 0.8991304276438972\n",
      " lasso RMSE score for test set is 24501.902598965902\n",
      " \n",
      " enet regression r2 score for train set is 0.9115524608119728\n",
      " enet regression r2 score for test set is 0.904885312535631\n",
      " enet regression adjusted r2 score for test set is 0.8989653112411682\n",
      " enet RMSE score for test set is 24521.948345461235\n"
     ]
    }
   ],
   "source": [
    "#Instantiate new models with optimal alphas and finding the adjusted r2 and rmse score \n",
    "\n",
    "#linear regression\n",
    "lr = LinearRegression()\n",
    "lr.fit(final_features_X_train_sc, y_train)\n",
    "lr_pred = lr.predict(final_features_X_test_sc)\n",
    "r_squared_train_lr=lr.score(final_features_X_train_sc, y_train)\n",
    "r_squared_test_lr = lr.score(final_features_X_test_sc, y_test)\n",
    "adj_r_squared_lr = 1 - (1 - r_squared_test_lr)*(len(y_test)-1)/(len(y_test)-final_features_X_test_sc.shape[1]-1)\n",
    "print (f\" linear regression r2 score for train set is {r_squared_train_lr}\")\n",
    "print (f\" linear regression r2 score for test set is {r_squared_test_lr}\")\n",
    "print (f\" linear regression adjusted r2 score for test set is {adj_r_squared_lr}\")\n",
    "print(f\" linear RMSE score for test set is {RMSE(y_test, lr_pred)}\")\n",
    "print(' ')\n",
    "\n",
    "#ridge\n",
    "ridge_opt_fin = Ridge(alpha=ridge_optimal_alpha)\n",
    "ridge_opt_fin.fit(final_features_X_train_sc, y_train)\n",
    "ridge_pred = ridge_opt_fin.predict(final_features_X_test_sc)\n",
    "r_squared_train_rd=ridge_opt_fin.score(final_features_X_train_sc, y_train)\n",
    "r_squared_test_rd = ridge_opt_fin.score(final_features_X_test_sc, y_test)\n",
    "adj_r_squared_rd = 1 - (1 - r_squared_test_rd)*(len(y_test)-1)/(len(y_test)-final_features_X_test_sc.shape[1]-1)\n",
    "print (f\" ridge regression r2 score for train set is {r_squared_train_rd}\")\n",
    "print (f\" ridge regression r2 score for test set is {r_squared_test_rd}\")\n",
    "print (f\" ridge regression adjusted r2 score for test set is {adj_r_squared_rd}\")\n",
    "print(f\" ridge RMSE score for test set is {RMSE(y_test, ridge_pred)}\")\n",
    "print(' ')\n",
    "\n",
    "#lasso\n",
    "lasso_opt_fin = Lasso(alpha=lasso_optimal_alpha)\n",
    "lasso_opt_fin.fit(final_features_X_train_sc, y_train)\n",
    "lasso_pred = lasso_opt_fin.predict(final_features_X_test_sc)\n",
    "r_squared_train_la=lasso_opt_fin.score(final_features_X_train_sc, y_train)\n",
    "r_squared_test_la = lasso_opt_fin.score(final_features_X_test_sc, y_test)\n",
    "adj_r_squared_la = 1 - (1 - r_squared_test_la)*(len(y_test)-1)/(len(y_test)-final_features_X_test_sc.shape[1]-1)\n",
    "print (f\" lasso regression r2 score for train set is {r_squared_train_la}\")\n",
    "print (f\" lasso regression r2 score for test set is {r_squared_test_la}\")\n",
    "print (f\" lasso regression adjusted r2 score for test set is {adj_r_squared_la}\")\n",
    "print(f\" lasso RMSE score for test set is {RMSE(y_test, lasso_pred)}\")\n",
    "print(' ')\n",
    "\n",
    "#elasticnet\n",
    "enet_opt_fin = ElasticNet(alpha=enet_optimal_alpha)\n",
    "enet_opt_fin.fit(final_features_X_train_sc, y_train)\n",
    "enet_pred = enet_opt_fin.predict(final_features_X_test_sc)\n",
    "r_squared_train_en=enet_opt_fin.score(final_features_X_train_sc, y_train)\n",
    "r_squared_test_en = enet_opt_fin.score(final_features_X_test_sc, y_test)\n",
    "adj_r_squared_en = 1 - (1 - r_squared_test_en)*(len(y_test)-1)/(len(y_test)-final_features_X_test_sc.shape[1]-1)\n",
    "print (f\" enet regression r2 score for train set is {r_squared_train_en}\")\n",
    "print (f\" enet regression r2 score for test set is {r_squared_test_en}\")\n",
    "print (f\" enet regression adjusted r2 score for test set is {adj_r_squared_en}\")\n",
    "print(f\" enet RMSE score for test set is {RMSE(y_test, enet_pred)}\")"
   ]
  },
  {
   "cell_type": "markdown",
   "metadata": {},
   "source": [
    "From our first round of iteration, Linear regression model appears to give very good results! One reason could be because of the number of features that we place in. We've limited ourselves to the top 30 features which would have a strong linear relationship to sale price.\n",
    "\n",
    "From this round, Lasso model seems to be giving the best results, with the highest Adjusted r2 score (tied with Linear), and with the lowest RMSE score (24501.9025)."
   ]
  },
  {
   "cell_type": "code",
   "execution_count": 31,
   "metadata": {},
   "outputs": [
    {
     "data": {
      "text/html": [
       "<div>\n",
       "<style scoped>\n",
       "    .dataframe tbody tr th:only-of-type {\n",
       "        vertical-align: middle;\n",
       "    }\n",
       "\n",
       "    .dataframe tbody tr th {\n",
       "        vertical-align: top;\n",
       "    }\n",
       "\n",
       "    .dataframe thead th {\n",
       "        text-align: right;\n",
       "    }\n",
       "</style>\n",
       "<table border=\"1\" class=\"dataframe\">\n",
       "  <thead>\n",
       "    <tr style=\"text-align: right;\">\n",
       "      <th></th>\n",
       "      <th>Model</th>\n",
       "      <th>R2 Square Train Set</th>\n",
       "      <th>R2 Square Test Set</th>\n",
       "      <th>Adjusted R2 Test Set</th>\n",
       "      <th>RMSE</th>\n",
       "    </tr>\n",
       "  </thead>\n",
       "  <tbody>\n",
       "    <tr>\n",
       "      <th>0</th>\n",
       "      <td>Linear</td>\n",
       "      <td>0.911583</td>\n",
       "      <td>0.905041</td>\n",
       "      <td>0.899130</td>\n",
       "      <td>24501.902697</td>\n",
       "    </tr>\n",
       "    <tr>\n",
       "      <th>1</th>\n",
       "      <td>Ridge</td>\n",
       "      <td>0.911493</td>\n",
       "      <td>0.904746</td>\n",
       "      <td>0.898817</td>\n",
       "      <td>24539.911107</td>\n",
       "    </tr>\n",
       "    <tr>\n",
       "      <th>2</th>\n",
       "      <td>Lasso</td>\n",
       "      <td>0.911583</td>\n",
       "      <td>0.905041</td>\n",
       "      <td>0.899130</td>\n",
       "      <td>24501.902599</td>\n",
       "    </tr>\n",
       "    <tr>\n",
       "      <th>3</th>\n",
       "      <td>Elastic</td>\n",
       "      <td>0.911552</td>\n",
       "      <td>0.904885</td>\n",
       "      <td>0.898965</td>\n",
       "      <td>24521.948345</td>\n",
       "    </tr>\n",
       "  </tbody>\n",
       "</table>\n",
       "</div>"
      ],
      "text/plain": [
       "     Model  R2 Square Train Set  R2 Square Test Set  Adjusted R2 Test Set  \\\n",
       "0   Linear             0.911583            0.905041              0.899130   \n",
       "1    Ridge             0.911493            0.904746              0.898817   \n",
       "2    Lasso             0.911583            0.905041              0.899130   \n",
       "3  Elastic             0.911552            0.904885              0.898965   \n",
       "\n",
       "           RMSE  \n",
       "0  24501.902697  \n",
       "1  24539.911107  \n",
       "2  24501.902599  \n",
       "3  24521.948345  "
      ]
     },
     "execution_count": 31,
     "metadata": {},
     "output_type": "execute_result"
    }
   ],
   "source": [
    "#building onto the previous dataframe to store the results\n",
    "results_df = pd.DataFrame(data=[[\"Linear\", r_squared_train_lr, r_squared_test_lr,adj_r_squared_lr,RMSE(y_test, lr_pred)],\n",
    "                               [\"Ridge\",r_squared_train_rd,r_squared_test_rd,adj_r_squared_rd,RMSE(y_test, ridge_pred)],\n",
    "                                [\"Lasso\",r_squared_train_la,r_squared_test_la,adj_r_squared_la,RMSE(y_test, lasso_pred)],\n",
    "                                [\"Elastic\",r_squared_train_en,r_squared_test_en,adj_r_squared_en,RMSE(y_test, enet_pred)]], \n",
    "                          columns=['Model', 'R2 Square Train Set','R2 Square Test Set','Adjusted R2 Test Set','RMSE'])\n",
    "results_df"
   ]
  },
  {
   "cell_type": "markdown",
   "metadata": {},
   "source": [
    "### Model Iteration"
   ]
  },
  {
   "cell_type": "markdown",
   "metadata": {},
   "source": [
    "We shall explore Polynomial features to test if our RMSE score might improve, but will keep top few features so as to reduce overfitting issues."
   ]
  },
  {
   "cell_type": "code",
   "execution_count": 32,
   "metadata": {},
   "outputs": [
    {
     "data": {
      "text/plain": [
       "(2049, 180)"
      ]
     },
     "execution_count": 32,
     "metadata": {},
     "output_type": "execute_result"
    }
   ],
   "source": [
    "#number of features (180)before adding polynomial features\n",
    "X.shape"
   ]
  },
  {
   "cell_type": "code",
   "execution_count": 33,
   "metadata": {},
   "outputs": [],
   "source": [
    "#getting polynomial features\n",
    "poly = PolynomialFeatures(include_bias=False)\n",
    "X_poly = poly.fit_transform(X)\n",
    "X_poly_df = pd.DataFrame(X_poly, columns=poly.get_feature_names(X.columns))"
   ]
  },
  {
   "cell_type": "code",
   "execution_count": 34,
   "metadata": {},
   "outputs": [
    {
     "data": {
      "text/plain": [
       "(2049, 16470)"
      ]
     },
     "execution_count": 34,
     "metadata": {},
     "output_type": "execute_result"
    }
   ],
   "source": [
    "#after polynomial, we have 16470 features\n",
    "X_poly_df.shape"
   ]
  },
  {
   "cell_type": "code",
   "execution_count": 35,
   "metadata": {},
   "outputs": [
    {
     "data": {
      "text/plain": [
       "overallqual totalsf    0.921189\n",
       "exterqual totalsf      0.902729\n",
       "kitchenqual totalsf    0.898310\n",
       "bsmtqual totalsf       0.884196\n",
       "heatingqc totalsf      0.844838\n",
       "dtype: float64"
      ]
     },
     "execution_count": 35,
     "metadata": {},
     "output_type": "execute_result"
    }
   ],
   "source": [
    "# Finding the quadratic predictors that are most highly corelated with sale price\n",
    "X_poly_df.corrwith(y).sort_values(ascending=False).head(5)"
   ]
  },
  {
   "cell_type": "markdown",
   "metadata": {},
   "source": [
    "Looking at the top features,'totalsf' appears in all entries. To prevent multicollinearity, I'd engineer the top interaction feature only."
   ]
  },
  {
   "cell_type": "code",
   "execution_count": 36,
   "metadata": {
    "scrolled": true
   },
   "outputs": [
    {
     "name": "stderr",
     "output_type": "stream",
     "text": [
      "/Users/aliciatay/opt/anaconda3/lib/python3.7/site-packages/ipykernel_launcher.py:1: SettingWithCopyWarning: \n",
      "A value is trying to be set on a copy of a slice from a DataFrame.\n",
      "Try using .loc[row_indexer,col_indexer] = value instead\n",
      "\n",
      "See the caveats in the documentation: https://pandas.pydata.org/pandas-docs/stable/user_guide/indexing.html#returning-a-view-versus-a-copy\n",
      "  \"\"\"Entry point for launching an IPython kernel.\n"
     ]
    }
   ],
   "source": [
    "final_features['overallqual_totalsf'] = final_features['overallqual'] * final_features['totalsf']"
   ]
  },
  {
   "cell_type": "code",
   "execution_count": 37,
   "metadata": {},
   "outputs": [
    {
     "data": {
      "text/html": [
       "<div>\n",
       "<style scoped>\n",
       "    .dataframe tbody tr th:only-of-type {\n",
       "        vertical-align: middle;\n",
       "    }\n",
       "\n",
       "    .dataframe tbody tr th {\n",
       "        vertical-align: top;\n",
       "    }\n",
       "\n",
       "    .dataframe thead th {\n",
       "        text-align: right;\n",
       "    }\n",
       "</style>\n",
       "<table border=\"1\" class=\"dataframe\">\n",
       "  <thead>\n",
       "    <tr style=\"text-align: right;\">\n",
       "      <th></th>\n",
       "      <th>totalsf</th>\n",
       "      <th>overallqual</th>\n",
       "      <th>neighborhood_NridgHt</th>\n",
       "      <th>neighborhood_StoneBr</th>\n",
       "      <th>houseage</th>\n",
       "      <th>exterqual</th>\n",
       "      <th>masvnrarea</th>\n",
       "      <th>saletype_New</th>\n",
       "      <th>overallcond</th>\n",
       "      <th>totrmsabvgrd</th>\n",
       "      <th>...</th>\n",
       "      <th>garagearea</th>\n",
       "      <th>bedroomabvgr</th>\n",
       "      <th>exterior1st_BrkFace</th>\n",
       "      <th>landcontour_HLS</th>\n",
       "      <th>total_porch_sf</th>\n",
       "      <th>masvnrtype_BrkFace</th>\n",
       "      <th>kitchenabvgr</th>\n",
       "      <th>lotfrontage</th>\n",
       "      <th>neighborhood_Crawfor</th>\n",
       "      <th>overallqual_totalsf</th>\n",
       "    </tr>\n",
       "  </thead>\n",
       "  <tbody>\n",
       "    <tr>\n",
       "      <th>0</th>\n",
       "      <td>2204.0</td>\n",
       "      <td>6</td>\n",
       "      <td>0</td>\n",
       "      <td>0</td>\n",
       "      <td>44</td>\n",
       "      <td>3</td>\n",
       "      <td>289.0</td>\n",
       "      <td>0</td>\n",
       "      <td>8</td>\n",
       "      <td>6</td>\n",
       "      <td>...</td>\n",
       "      <td>475.0</td>\n",
       "      <td>3</td>\n",
       "      <td>0</td>\n",
       "      <td>0</td>\n",
       "      <td>44</td>\n",
       "      <td>1</td>\n",
       "      <td>1</td>\n",
       "      <td>72.774648</td>\n",
       "      <td>0</td>\n",
       "      <td>13224.0</td>\n",
       "    </tr>\n",
       "    <tr>\n",
       "      <th>1</th>\n",
       "      <td>3035.0</td>\n",
       "      <td>7</td>\n",
       "      <td>0</td>\n",
       "      <td>0</td>\n",
       "      <td>24</td>\n",
       "      <td>3</td>\n",
       "      <td>132.0</td>\n",
       "      <td>0</td>\n",
       "      <td>5</td>\n",
       "      <td>8</td>\n",
       "      <td>...</td>\n",
       "      <td>559.0</td>\n",
       "      <td>4</td>\n",
       "      <td>0</td>\n",
       "      <td>0</td>\n",
       "      <td>74</td>\n",
       "      <td>1</td>\n",
       "      <td>1</td>\n",
       "      <td>43.000000</td>\n",
       "      <td>0</td>\n",
       "      <td>21245.0</td>\n",
       "    </tr>\n",
       "    <tr>\n",
       "      <th>2</th>\n",
       "      <td>2114.0</td>\n",
       "      <td>5</td>\n",
       "      <td>0</td>\n",
       "      <td>0</td>\n",
       "      <td>67</td>\n",
       "      <td>2</td>\n",
       "      <td>0.0</td>\n",
       "      <td>0</td>\n",
       "      <td>7</td>\n",
       "      <td>5</td>\n",
       "      <td>...</td>\n",
       "      <td>246.0</td>\n",
       "      <td>3</td>\n",
       "      <td>0</td>\n",
       "      <td>0</td>\n",
       "      <td>52</td>\n",
       "      <td>0</td>\n",
       "      <td>1</td>\n",
       "      <td>68.000000</td>\n",
       "      <td>0</td>\n",
       "      <td>10570.0</td>\n",
       "    </tr>\n",
       "    <tr>\n",
       "      <th>3</th>\n",
       "      <td>1828.0</td>\n",
       "      <td>5</td>\n",
       "      <td>0</td>\n",
       "      <td>0</td>\n",
       "      <td>14</td>\n",
       "      <td>2</td>\n",
       "      <td>0.0</td>\n",
       "      <td>0</td>\n",
       "      <td>5</td>\n",
       "      <td>7</td>\n",
       "      <td>...</td>\n",
       "      <td>400.0</td>\n",
       "      <td>3</td>\n",
       "      <td>0</td>\n",
       "      <td>0</td>\n",
       "      <td>100</td>\n",
       "      <td>0</td>\n",
       "      <td>1</td>\n",
       "      <td>73.000000</td>\n",
       "      <td>0</td>\n",
       "      <td>9140.0</td>\n",
       "    </tr>\n",
       "    <tr>\n",
       "      <th>4</th>\n",
       "      <td>2121.0</td>\n",
       "      <td>6</td>\n",
       "      <td>0</td>\n",
       "      <td>0</td>\n",
       "      <td>120</td>\n",
       "      <td>2</td>\n",
       "      <td>0.0</td>\n",
       "      <td>0</td>\n",
       "      <td>8</td>\n",
       "      <td>6</td>\n",
       "      <td>...</td>\n",
       "      <td>484.0</td>\n",
       "      <td>3</td>\n",
       "      <td>0</td>\n",
       "      <td>0</td>\n",
       "      <td>59</td>\n",
       "      <td>0</td>\n",
       "      <td>1</td>\n",
       "      <td>82.000000</td>\n",
       "      <td>0</td>\n",
       "      <td>12726.0</td>\n",
       "    </tr>\n",
       "  </tbody>\n",
       "</table>\n",
       "<p>5 rows × 31 columns</p>\n",
       "</div>"
      ],
      "text/plain": [
       "   totalsf  overallqual  neighborhood_NridgHt  neighborhood_StoneBr  houseage  \\\n",
       "0   2204.0            6                     0                     0        44   \n",
       "1   3035.0            7                     0                     0        24   \n",
       "2   2114.0            5                     0                     0        67   \n",
       "3   1828.0            5                     0                     0        14   \n",
       "4   2121.0            6                     0                     0       120   \n",
       "\n",
       "   exterqual  masvnrarea  saletype_New  overallcond  totrmsabvgrd  ...  \\\n",
       "0          3       289.0             0            8             6  ...   \n",
       "1          3       132.0             0            5             8  ...   \n",
       "2          2         0.0             0            7             5  ...   \n",
       "3          2         0.0             0            5             7  ...   \n",
       "4          2         0.0             0            8             6  ...   \n",
       "\n",
       "   garagearea  bedroomabvgr  exterior1st_BrkFace  landcontour_HLS  \\\n",
       "0       475.0             3                    0                0   \n",
       "1       559.0             4                    0                0   \n",
       "2       246.0             3                    0                0   \n",
       "3       400.0             3                    0                0   \n",
       "4       484.0             3                    0                0   \n",
       "\n",
       "   total_porch_sf  masvnrtype_BrkFace  kitchenabvgr  lotfrontage  \\\n",
       "0              44                   1             1    72.774648   \n",
       "1              74                   1             1    43.000000   \n",
       "2              52                   0             1    68.000000   \n",
       "3             100                   0             1    73.000000   \n",
       "4              59                   0             1    82.000000   \n",
       "\n",
       "   neighborhood_Crawfor  overallqual_totalsf  \n",
       "0                     0              13224.0  \n",
       "1                     0              21245.0  \n",
       "2                     0              10570.0  \n",
       "3                     0               9140.0  \n",
       "4                     0              12726.0  \n",
       "\n",
       "[5 rows x 31 columns]"
      ]
     },
     "execution_count": 37,
     "metadata": {},
     "output_type": "execute_result"
    }
   ],
   "source": [
    "final_features.head()"
   ]
  },
  {
   "cell_type": "code",
   "execution_count": 38,
   "metadata": {},
   "outputs": [],
   "source": [
    "#append interaction feature to features list, and remove the original interaction elements are in the list\n",
    "final_features = final_features.drop(['totalsf','overallqual'], axis=1)"
   ]
  },
  {
   "cell_type": "code",
   "execution_count": 39,
   "metadata": {},
   "outputs": [
    {
     "data": {
      "text/plain": [
       "29"
      ]
     },
     "execution_count": 39,
     "metadata": {},
     "output_type": "execute_result"
    }
   ],
   "source": [
    "#eventually, we will have 29 feature variables, but since 1 variable is an interaction element made up of 2 elements, we technically have 30 features\n",
    "len(list(final_features.columns))"
   ]
  },
  {
   "cell_type": "code",
   "execution_count": 40,
   "metadata": {},
   "outputs": [
    {
     "data": {
      "text/html": [
       "<div>\n",
       "<style scoped>\n",
       "    .dataframe tbody tr th:only-of-type {\n",
       "        vertical-align: middle;\n",
       "    }\n",
       "\n",
       "    .dataframe tbody tr th {\n",
       "        vertical-align: top;\n",
       "    }\n",
       "\n",
       "    .dataframe thead th {\n",
       "        text-align: right;\n",
       "    }\n",
       "</style>\n",
       "<table border=\"1\" class=\"dataframe\">\n",
       "  <thead>\n",
       "    <tr style=\"text-align: right;\">\n",
       "      <th></th>\n",
       "      <th>neighborhood_NridgHt</th>\n",
       "      <th>neighborhood_StoneBr</th>\n",
       "      <th>houseage</th>\n",
       "      <th>exterqual</th>\n",
       "      <th>masvnrarea</th>\n",
       "      <th>saletype_New</th>\n",
       "      <th>overallcond</th>\n",
       "      <th>totrmsabvgrd</th>\n",
       "      <th>bsmtunfsf</th>\n",
       "      <th>kitchenqual</th>\n",
       "      <th>...</th>\n",
       "      <th>garagearea</th>\n",
       "      <th>bedroomabvgr</th>\n",
       "      <th>exterior1st_BrkFace</th>\n",
       "      <th>landcontour_HLS</th>\n",
       "      <th>total_porch_sf</th>\n",
       "      <th>masvnrtype_BrkFace</th>\n",
       "      <th>kitchenabvgr</th>\n",
       "      <th>lotfrontage</th>\n",
       "      <th>neighborhood_Crawfor</th>\n",
       "      <th>overallqual_totalsf</th>\n",
       "    </tr>\n",
       "  </thead>\n",
       "  <tbody>\n",
       "    <tr>\n",
       "      <th>0</th>\n",
       "      <td>0</td>\n",
       "      <td>0</td>\n",
       "      <td>44</td>\n",
       "      <td>3</td>\n",
       "      <td>289.0</td>\n",
       "      <td>0</td>\n",
       "      <td>8</td>\n",
       "      <td>6</td>\n",
       "      <td>192.0</td>\n",
       "      <td>3</td>\n",
       "      <td>...</td>\n",
       "      <td>475.0</td>\n",
       "      <td>3</td>\n",
       "      <td>0</td>\n",
       "      <td>0</td>\n",
       "      <td>44</td>\n",
       "      <td>1</td>\n",
       "      <td>1</td>\n",
       "      <td>72.774648</td>\n",
       "      <td>0</td>\n",
       "      <td>13224.0</td>\n",
       "    </tr>\n",
       "    <tr>\n",
       "      <th>1</th>\n",
       "      <td>0</td>\n",
       "      <td>0</td>\n",
       "      <td>24</td>\n",
       "      <td>3</td>\n",
       "      <td>132.0</td>\n",
       "      <td>0</td>\n",
       "      <td>5</td>\n",
       "      <td>8</td>\n",
       "      <td>276.0</td>\n",
       "      <td>3</td>\n",
       "      <td>...</td>\n",
       "      <td>559.0</td>\n",
       "      <td>4</td>\n",
       "      <td>0</td>\n",
       "      <td>0</td>\n",
       "      <td>74</td>\n",
       "      <td>1</td>\n",
       "      <td>1</td>\n",
       "      <td>43.000000</td>\n",
       "      <td>0</td>\n",
       "      <td>21245.0</td>\n",
       "    </tr>\n",
       "    <tr>\n",
       "      <th>2</th>\n",
       "      <td>0</td>\n",
       "      <td>0</td>\n",
       "      <td>67</td>\n",
       "      <td>2</td>\n",
       "      <td>0.0</td>\n",
       "      <td>0</td>\n",
       "      <td>7</td>\n",
       "      <td>5</td>\n",
       "      <td>326.0</td>\n",
       "      <td>3</td>\n",
       "      <td>...</td>\n",
       "      <td>246.0</td>\n",
       "      <td>3</td>\n",
       "      <td>0</td>\n",
       "      <td>0</td>\n",
       "      <td>52</td>\n",
       "      <td>0</td>\n",
       "      <td>1</td>\n",
       "      <td>68.000000</td>\n",
       "      <td>0</td>\n",
       "      <td>10570.0</td>\n",
       "    </tr>\n",
       "    <tr>\n",
       "      <th>3</th>\n",
       "      <td>0</td>\n",
       "      <td>0</td>\n",
       "      <td>14</td>\n",
       "      <td>2</td>\n",
       "      <td>0.0</td>\n",
       "      <td>0</td>\n",
       "      <td>5</td>\n",
       "      <td>7</td>\n",
       "      <td>384.0</td>\n",
       "      <td>2</td>\n",
       "      <td>...</td>\n",
       "      <td>400.0</td>\n",
       "      <td>3</td>\n",
       "      <td>0</td>\n",
       "      <td>0</td>\n",
       "      <td>100</td>\n",
       "      <td>0</td>\n",
       "      <td>1</td>\n",
       "      <td>73.000000</td>\n",
       "      <td>0</td>\n",
       "      <td>9140.0</td>\n",
       "    </tr>\n",
       "    <tr>\n",
       "      <th>4</th>\n",
       "      <td>0</td>\n",
       "      <td>0</td>\n",
       "      <td>120</td>\n",
       "      <td>2</td>\n",
       "      <td>0.0</td>\n",
       "      <td>0</td>\n",
       "      <td>8</td>\n",
       "      <td>6</td>\n",
       "      <td>676.0</td>\n",
       "      <td>2</td>\n",
       "      <td>...</td>\n",
       "      <td>484.0</td>\n",
       "      <td>3</td>\n",
       "      <td>0</td>\n",
       "      <td>0</td>\n",
       "      <td>59</td>\n",
       "      <td>0</td>\n",
       "      <td>1</td>\n",
       "      <td>82.000000</td>\n",
       "      <td>0</td>\n",
       "      <td>12726.0</td>\n",
       "    </tr>\n",
       "  </tbody>\n",
       "</table>\n",
       "<p>5 rows × 29 columns</p>\n",
       "</div>"
      ],
      "text/plain": [
       "   neighborhood_NridgHt  neighborhood_StoneBr  houseage  exterqual  \\\n",
       "0                     0                     0        44          3   \n",
       "1                     0                     0        24          3   \n",
       "2                     0                     0        67          2   \n",
       "3                     0                     0        14          2   \n",
       "4                     0                     0       120          2   \n",
       "\n",
       "   masvnrarea  saletype_New  overallcond  totrmsabvgrd  bsmtunfsf  \\\n",
       "0       289.0             0            8             6      192.0   \n",
       "1       132.0             0            5             8      276.0   \n",
       "2         0.0             0            7             5      326.0   \n",
       "3         0.0             0            5             7      384.0   \n",
       "4         0.0             0            8             6      676.0   \n",
       "\n",
       "   kitchenqual  ...  garagearea  bedroomabvgr  exterior1st_BrkFace  \\\n",
       "0            3  ...       475.0             3                    0   \n",
       "1            3  ...       559.0             4                    0   \n",
       "2            3  ...       246.0             3                    0   \n",
       "3            2  ...       400.0             3                    0   \n",
       "4            2  ...       484.0             3                    0   \n",
       "\n",
       "   landcontour_HLS  total_porch_sf  masvnrtype_BrkFace  kitchenabvgr  \\\n",
       "0                0              44                   1             1   \n",
       "1                0              74                   1             1   \n",
       "2                0              52                   0             1   \n",
       "3                0             100                   0             1   \n",
       "4                0              59                   0             1   \n",
       "\n",
       "   lotfrontage  neighborhood_Crawfor  overallqual_totalsf  \n",
       "0    72.774648                     0              13224.0  \n",
       "1    43.000000                     0              21245.0  \n",
       "2    68.000000                     0              10570.0  \n",
       "3    73.000000                     0               9140.0  \n",
       "4    82.000000                     0              12726.0  \n",
       "\n",
       "[5 rows x 29 columns]"
      ]
     },
     "execution_count": 40,
     "metadata": {},
     "output_type": "execute_result"
    }
   ],
   "source": [
    "final_features.head()"
   ]
  },
  {
   "cell_type": "markdown",
   "metadata": {},
   "source": [
    "Here, we shall run this new dataset with our models again"
   ]
  },
  {
   "cell_type": "code",
   "execution_count": 41,
   "metadata": {},
   "outputs": [],
   "source": [
    "#train/test split\n",
    "XPoly_train, XPoly_test, ypoly_train, ypoly_test = train_test_split(final_features, y, random_state = 42)"
   ]
  },
  {
   "cell_type": "code",
   "execution_count": 42,
   "metadata": {},
   "outputs": [],
   "source": [
    "#scale data \n",
    "ss=StandardScaler()\n",
    "ss.fit(XPoly_train)\n",
    "XPoly_train_sc = ss.transform(XPoly_train)\n",
    "XPoly_test_sc = ss.transform(XPoly_test)"
   ]
  },
  {
   "cell_type": "code",
   "execution_count": 43,
   "metadata": {},
   "outputs": [
    {
     "name": "stdout",
     "output_type": "stream",
     "text": [
      " ridge opt poly alpha is 2.4658110758226033\n",
      " lasso opt poly alpha is 0.0001\n",
      " enet opt poly alpha is 0.002700000000000001\n"
     ]
    }
   ],
   "source": [
    "#searching for optimal alphas\n",
    "ridge_poly = RidgeCV(alphas=np.logspace(0, 2, 200), cv=5)\n",
    "ridge_poly = ridge.fit(XPoly_train_sc, ypoly_train)\n",
    "ridge_poly_optimal_alpha = ridge_poly.alpha_\n",
    "print (f\" ridge opt poly alpha is {ridge_poly_optimal_alpha}\")\n",
    "\n",
    "lasso_poly = LassoCV(alphas=np.linspace(.00001, 0.0001, 200), cv=5)\n",
    "lasso_poly = lasso.fit(XPoly_train_sc, ypoly_train)\n",
    "lasso_poly_optimal_alpha = lasso_poly.alpha_\n",
    "print (f\" lasso opt poly alpha is {lasso_poly_optimal_alpha}\")\n",
    "\n",
    "enet_poly = ElasticNetCV(alphas = np.arange(0.0001, 0.01, 0.001), l1_ratio=0.5)\n",
    "enet_poly = enet.fit(XPoly_train_sc, ypoly_train)\n",
    "enet_poly_optimal_alpha = enet_poly.alpha_\n",
    "print (f\" enet opt poly alpha is {enet_poly_optimal_alpha}\")"
   ]
  },
  {
   "cell_type": "code",
   "execution_count": 44,
   "metadata": {
    "scrolled": true
   },
   "outputs": [
    {
     "name": "stdout",
     "output_type": "stream",
     "text": [
      " linear regression r2 score for train poly set is 0.9236212659939264\n",
      " linear regression r2 score for test poly set is 0.9209827654967179\n",
      " linear regression adjusted r2 score for test poly set is 0.9162384594913449\n",
      " linear RMSE score for test poly set is 22350.74962690607\n",
      " \n",
      " ridge regression r2 score for train poly set is 0.9236156505077234\n",
      " ridge regression r2 score for test poly set is 0.9208485516021546\n",
      " ridge regression adjusted r2 score for test poly set is 0.9160961872055966\n",
      " ridge RMSE score for test poly set is 22369.72338903305\n",
      " \n",
      " lasso regression r2 score for train poly set is 0.9236212659939261\n",
      " lasso regression r2 score for test poly set is 0.9209827659183134\n",
      " lasso regression adjusted r2 score for test poly set is 0.9162384599382536\n",
      " lasso RMSE score for test poly set is 22350.749567279992\n",
      " \n",
      " enet regression r2 score for train poly set is 0.9236172731374578\n",
      " enet regression r2 score for test poly set is 0.920870207501533\n",
      " enet regression adjusted r2 score for test poly set is 0.9161191433556624\n",
      " enet RMSE score for test poly set is 22366.662992611233\n"
     ]
    }
   ],
   "source": [
    "#Instantiate new models with optimal alphas and finding the adjusted r2 and rmse score \n",
    "\n",
    "#linear regression\n",
    "lr = LinearRegression()\n",
    "lr.fit(XPoly_train_sc, ypoly_train)\n",
    "lr_pred_poly = lr.predict(XPoly_test_sc)\n",
    "r_squared_train_lrpoly=lr.score(XPoly_train_sc, ypoly_train)\n",
    "r_squared_test_lrpoly = lr.score(XPoly_test_sc, ypoly_test)\n",
    "adj_r_squared_lrpoly = 1 - (1 - r_squared_test_lrpoly)*(len(ypoly_test)-1)/(len(ypoly_test)-XPoly_test_sc.shape[1]-1)\n",
    "print (f\" linear regression r2 score for train poly set is {r_squared_train_lrpoly}\")\n",
    "print (f\" linear regression r2 score for test poly set is {r_squared_test_lrpoly}\")\n",
    "print (f\" linear regression adjusted r2 score for test poly set is {adj_r_squared_lrpoly}\")\n",
    "print(f\" linear RMSE score for test poly set is {RMSE(ypoly_test, lr_pred_poly)}\")\n",
    "print(' ')\n",
    "\n",
    "#ridge\n",
    "ridge_opt_fin = Ridge(alpha=ridge_poly_optimal_alpha)\n",
    "ridge_opt_fin.fit(XPoly_train_sc, ypoly_train)\n",
    "ridge_pred_poly = ridge_opt_fin.predict(XPoly_test_sc)\n",
    "r_squared_train_rdpoly=ridge_opt_fin.score(XPoly_train_sc, ypoly_train)\n",
    "r_squared_test_rdpoly = ridge_opt_fin.score(XPoly_test_sc, ypoly_test)\n",
    "adj_r_squared_rdpoly = 1 - (1 - r_squared_test_rdpoly)*(len(ypoly_test)-1)/(len(ypoly_test)-XPoly_test_sc.shape[1]-1)\n",
    "print (f\" ridge regression r2 score for train poly set is {r_squared_train_rdpoly}\")\n",
    "print (f\" ridge regression r2 score for test poly set is {r_squared_test_rdpoly}\")\n",
    "print (f\" ridge regression adjusted r2 score for test poly set is {adj_r_squared_rdpoly}\")\n",
    "print(f\" ridge RMSE score for test poly set is {RMSE(ypoly_test, ridge_pred_poly)}\")\n",
    "print(' ')\n",
    "\n",
    "#lasso\n",
    "lasso_opt_fin = Lasso(alpha=lasso_poly_optimal_alpha)\n",
    "lasso_opt_fin.fit(XPoly_train_sc, ypoly_train)\n",
    "lasso_pred_poly = lasso_opt_fin.predict(XPoly_test_sc)\n",
    "r_squared_train_lapoly=lasso_opt_fin.score(XPoly_train_sc, ypoly_train)\n",
    "r_squared_test_lapoly = lasso_opt_fin.score(XPoly_test_sc, ypoly_test)\n",
    "adj_r_squared_lapoly = 1 - (1 - r_squared_test_lapoly)*(len(ypoly_test)-1)/(len(ypoly_test)-XPoly_test_sc.shape[1]-1)\n",
    "print (f\" lasso regression r2 score for train poly set is {r_squared_train_lapoly}\")\n",
    "print (f\" lasso regression r2 score for test poly set is {r_squared_test_lapoly}\")\n",
    "print (f\" lasso regression adjusted r2 score for test poly set is {adj_r_squared_lapoly}\")\n",
    "print(f\" lasso RMSE score for test poly set is {RMSE(ypoly_test, lasso_pred_poly)}\")\n",
    "print(' ')\n",
    "\n",
    "#elasticnet\n",
    "enet_opt_fin = ElasticNet(alpha=enet_poly_optimal_alpha)\n",
    "enet_opt_fin.fit(XPoly_train_sc, ypoly_train)\n",
    "enet_pred_poly = enet_opt_fin.predict(XPoly_test_sc)\n",
    "r_squared_train_enpoly=enet_opt_fin.score(XPoly_train_sc, ypoly_train)\n",
    "r_squared_test_enpoly = enet_opt_fin.score(XPoly_test_sc, ypoly_test)\n",
    "adj_r_squared_enpoly = 1 - (1 - r_squared_test_enpoly)*(len(ypoly_test)-1)/(len(ypoly_test)-XPoly_test_sc.shape[1]-1)\n",
    "print (f\" enet regression r2 score for train poly set is {r_squared_train_enpoly}\")\n",
    "print (f\" enet regression r2 score for test poly set is {r_squared_test_enpoly}\")\n",
    "print (f\" enet regression adjusted r2 score for test poly set is {adj_r_squared_enpoly}\")\n",
    "print(f\" enet RMSE score for test poly set is {RMSE(ypoly_test, enet_pred_poly)}\")"
   ]
  },
  {
   "cell_type": "markdown",
   "metadata": {},
   "source": [
    "### Consolidated Model Results"
   ]
  },
  {
   "cell_type": "markdown",
   "metadata": {},
   "source": [
    "Assessing our final consolidated Table, our iteration with our polynomial features return the lowest RMSE score and highest R2 score. It is interesting to note that Linear Regression Model stacks up very closely in performance as well.\n",
    "\n",
    "In conclusion, we shall choose Lasso model to predict our scores"
   ]
  },
  {
   "cell_type": "code",
   "execution_count": 45,
   "metadata": {},
   "outputs": [
    {
     "data": {
      "text/html": [
       "<div>\n",
       "<style scoped>\n",
       "    .dataframe tbody tr th:only-of-type {\n",
       "        vertical-align: middle;\n",
       "    }\n",
       "\n",
       "    .dataframe tbody tr th {\n",
       "        vertical-align: top;\n",
       "    }\n",
       "\n",
       "    .dataframe thead th {\n",
       "        text-align: right;\n",
       "    }\n",
       "</style>\n",
       "<table border=\"1\" class=\"dataframe\">\n",
       "  <thead>\n",
       "    <tr style=\"text-align: right;\">\n",
       "      <th></th>\n",
       "      <th>Model</th>\n",
       "      <th>R2 Square Train Set</th>\n",
       "      <th>R2 Square Test Set</th>\n",
       "      <th>Adjusted R2 Test Set</th>\n",
       "      <th>RMSE</th>\n",
       "    </tr>\n",
       "  </thead>\n",
       "  <tbody>\n",
       "    <tr>\n",
       "      <th>0</th>\n",
       "      <td>Linear</td>\n",
       "      <td>0.911583</td>\n",
       "      <td>0.905041</td>\n",
       "      <td>0.899130</td>\n",
       "      <td>24501.902697</td>\n",
       "    </tr>\n",
       "    <tr>\n",
       "      <th>1</th>\n",
       "      <td>Ridge</td>\n",
       "      <td>0.911493</td>\n",
       "      <td>0.904746</td>\n",
       "      <td>0.898817</td>\n",
       "      <td>24539.911107</td>\n",
       "    </tr>\n",
       "    <tr>\n",
       "      <th>2</th>\n",
       "      <td>Lasso</td>\n",
       "      <td>0.911583</td>\n",
       "      <td>0.905041</td>\n",
       "      <td>0.899130</td>\n",
       "      <td>24501.902599</td>\n",
       "    </tr>\n",
       "    <tr>\n",
       "      <th>3</th>\n",
       "      <td>Elastic</td>\n",
       "      <td>0.911552</td>\n",
       "      <td>0.904885</td>\n",
       "      <td>0.898965</td>\n",
       "      <td>24521.948345</td>\n",
       "    </tr>\n",
       "    <tr>\n",
       "      <th>4</th>\n",
       "      <td>Linear_poly</td>\n",
       "      <td>0.923621</td>\n",
       "      <td>0.920983</td>\n",
       "      <td>0.916238</td>\n",
       "      <td>22350.749627</td>\n",
       "    </tr>\n",
       "    <tr>\n",
       "      <th>5</th>\n",
       "      <td>Ridge_poly</td>\n",
       "      <td>0.923616</td>\n",
       "      <td>0.920849</td>\n",
       "      <td>0.916096</td>\n",
       "      <td>22369.723389</td>\n",
       "    </tr>\n",
       "    <tr>\n",
       "      <th>6</th>\n",
       "      <td>Lasso_poly</td>\n",
       "      <td>0.923621</td>\n",
       "      <td>0.920983</td>\n",
       "      <td>0.916238</td>\n",
       "      <td>22350.749567</td>\n",
       "    </tr>\n",
       "    <tr>\n",
       "      <th>7</th>\n",
       "      <td>Elasticnet_poly</td>\n",
       "      <td>0.923617</td>\n",
       "      <td>0.920870</td>\n",
       "      <td>0.916119</td>\n",
       "      <td>22366.662993</td>\n",
       "    </tr>\n",
       "  </tbody>\n",
       "</table>\n",
       "</div>"
      ],
      "text/plain": [
       "             Model  R2 Square Train Set  R2 Square Test Set  \\\n",
       "0           Linear             0.911583            0.905041   \n",
       "1            Ridge             0.911493            0.904746   \n",
       "2            Lasso             0.911583            0.905041   \n",
       "3          Elastic             0.911552            0.904885   \n",
       "4      Linear_poly             0.923621            0.920983   \n",
       "5       Ridge_poly             0.923616            0.920849   \n",
       "6       Lasso_poly             0.923621            0.920983   \n",
       "7  Elasticnet_poly             0.923617            0.920870   \n",
       "\n",
       "   Adjusted R2 Test Set          RMSE  \n",
       "0              0.899130  24501.902697  \n",
       "1              0.898817  24539.911107  \n",
       "2              0.899130  24501.902599  \n",
       "3              0.898965  24521.948345  \n",
       "4              0.916238  22350.749627  \n",
       "5              0.916096  22369.723389  \n",
       "6              0.916238  22350.749567  \n",
       "7              0.916119  22366.662993  "
      ]
     },
     "execution_count": 45,
     "metadata": {},
     "output_type": "execute_result"
    }
   ],
   "source": [
    "results_df_2 = pd.DataFrame({\"Model\":[\"Linear_poly\", \"Ridge_poly\", \"Lasso_poly\",\"Elasticnet_poly\"],\n",
    "                             \"R2 Square Train Set\":[r_squared_train_lrpoly,r_squared_train_rdpoly,r_squared_train_lapoly,r_squared_train_enpoly],\n",
    "                             \"R2 Square Test Set\":[r_squared_test_lrpoly,r_squared_test_rdpoly,r_squared_test_lapoly,r_squared_test_enpoly],\n",
    "                             \"Adjusted R2 Test Set\":[adj_r_squared_lrpoly,adj_r_squared_rdpoly,adj_r_squared_lapoly,adj_r_squared_enpoly],\n",
    "                             \"RMSE\":[RMSE(ypoly_test, lr_pred_poly),RMSE(ypoly_test, ridge_pred_poly),RMSE(ypoly_test, lasso_pred_poly),RMSE(ypoly_test, enet_pred_poly)], \n",
    "                             }) \n",
    "\n",
    "results_df = results_df.append(results_df_2, ignore_index=True)\n",
    "results_df"
   ]
  },
  {
   "cell_type": "markdown",
   "metadata": {},
   "source": [
    "### Prepping for Kaggle Submission"
   ]
  },
  {
   "cell_type": "markdown",
   "metadata": {},
   "source": [
    "1. Matching changes made to train_processed to test_processed"
   ]
  },
  {
   "cell_type": "code",
   "execution_count": 46,
   "metadata": {},
   "outputs": [
    {
     "data": {
      "text/html": [
       "<div>\n",
       "<style scoped>\n",
       "    .dataframe tbody tr th:only-of-type {\n",
       "        vertical-align: middle;\n",
       "    }\n",
       "\n",
       "    .dataframe tbody tr th {\n",
       "        vertical-align: top;\n",
       "    }\n",
       "\n",
       "    .dataframe thead th {\n",
       "        text-align: right;\n",
       "    }\n",
       "</style>\n",
       "<table border=\"1\" class=\"dataframe\">\n",
       "  <thead>\n",
       "    <tr style=\"text-align: right;\">\n",
       "      <th></th>\n",
       "      <th>lotfrontage</th>\n",
       "      <th>lotarea</th>\n",
       "      <th>lotshape</th>\n",
       "      <th>utilities</th>\n",
       "      <th>landslope</th>\n",
       "      <th>overallqual</th>\n",
       "      <th>overallcond</th>\n",
       "      <th>masvnrarea</th>\n",
       "      <th>exterqual</th>\n",
       "      <th>extercond</th>\n",
       "      <th>...</th>\n",
       "      <th>miscfeature_Othr</th>\n",
       "      <th>miscfeature_Shed</th>\n",
       "      <th>saletype_CWD</th>\n",
       "      <th>saletype_Con</th>\n",
       "      <th>saletype_ConLD</th>\n",
       "      <th>saletype_ConLI</th>\n",
       "      <th>saletype_ConLw</th>\n",
       "      <th>saletype_New</th>\n",
       "      <th>saletype_Oth</th>\n",
       "      <th>saletype_WD</th>\n",
       "    </tr>\n",
       "  </thead>\n",
       "  <tbody>\n",
       "    <tr>\n",
       "      <th>0</th>\n",
       "      <td>69.000000</td>\n",
       "      <td>9142</td>\n",
       "      <td>1</td>\n",
       "      <td>2</td>\n",
       "      <td>1</td>\n",
       "      <td>6</td>\n",
       "      <td>8</td>\n",
       "      <td>0.0</td>\n",
       "      <td>2</td>\n",
       "      <td>2</td>\n",
       "      <td>...</td>\n",
       "      <td>0</td>\n",
       "      <td>0</td>\n",
       "      <td>0</td>\n",
       "      <td>0</td>\n",
       "      <td>0</td>\n",
       "      <td>0</td>\n",
       "      <td>0</td>\n",
       "      <td>0</td>\n",
       "      <td>0</td>\n",
       "      <td>1</td>\n",
       "    </tr>\n",
       "    <tr>\n",
       "      <th>1</th>\n",
       "      <td>72.774648</td>\n",
       "      <td>9662</td>\n",
       "      <td>2</td>\n",
       "      <td>2</td>\n",
       "      <td>1</td>\n",
       "      <td>5</td>\n",
       "      <td>4</td>\n",
       "      <td>0.0</td>\n",
       "      <td>2</td>\n",
       "      <td>3</td>\n",
       "      <td>...</td>\n",
       "      <td>0</td>\n",
       "      <td>0</td>\n",
       "      <td>0</td>\n",
       "      <td>0</td>\n",
       "      <td>0</td>\n",
       "      <td>0</td>\n",
       "      <td>0</td>\n",
       "      <td>0</td>\n",
       "      <td>0</td>\n",
       "      <td>1</td>\n",
       "    </tr>\n",
       "    <tr>\n",
       "      <th>2</th>\n",
       "      <td>58.000000</td>\n",
       "      <td>17104</td>\n",
       "      <td>2</td>\n",
       "      <td>2</td>\n",
       "      <td>1</td>\n",
       "      <td>7</td>\n",
       "      <td>5</td>\n",
       "      <td>0.0</td>\n",
       "      <td>3</td>\n",
       "      <td>3</td>\n",
       "      <td>...</td>\n",
       "      <td>0</td>\n",
       "      <td>0</td>\n",
       "      <td>0</td>\n",
       "      <td>0</td>\n",
       "      <td>0</td>\n",
       "      <td>0</td>\n",
       "      <td>0</td>\n",
       "      <td>1</td>\n",
       "      <td>0</td>\n",
       "      <td>0</td>\n",
       "    </tr>\n",
       "    <tr>\n",
       "      <th>3</th>\n",
       "      <td>60.000000</td>\n",
       "      <td>8520</td>\n",
       "      <td>1</td>\n",
       "      <td>2</td>\n",
       "      <td>1</td>\n",
       "      <td>5</td>\n",
       "      <td>6</td>\n",
       "      <td>0.0</td>\n",
       "      <td>3</td>\n",
       "      <td>3</td>\n",
       "      <td>...</td>\n",
       "      <td>0</td>\n",
       "      <td>0</td>\n",
       "      <td>0</td>\n",
       "      <td>0</td>\n",
       "      <td>0</td>\n",
       "      <td>0</td>\n",
       "      <td>0</td>\n",
       "      <td>0</td>\n",
       "      <td>0</td>\n",
       "      <td>1</td>\n",
       "    </tr>\n",
       "    <tr>\n",
       "      <th>4</th>\n",
       "      <td>75.192453</td>\n",
       "      <td>9500</td>\n",
       "      <td>2</td>\n",
       "      <td>2</td>\n",
       "      <td>1</td>\n",
       "      <td>6</td>\n",
       "      <td>5</td>\n",
       "      <td>247.0</td>\n",
       "      <td>2</td>\n",
       "      <td>3</td>\n",
       "      <td>...</td>\n",
       "      <td>0</td>\n",
       "      <td>0</td>\n",
       "      <td>0</td>\n",
       "      <td>0</td>\n",
       "      <td>0</td>\n",
       "      <td>0</td>\n",
       "      <td>0</td>\n",
       "      <td>0</td>\n",
       "      <td>0</td>\n",
       "      <td>1</td>\n",
       "    </tr>\n",
       "  </tbody>\n",
       "</table>\n",
       "<p>5 rows × 180 columns</p>\n",
       "</div>"
      ],
      "text/plain": [
       "   lotfrontage  lotarea  lotshape  utilities  landslope  overallqual  \\\n",
       "0    69.000000     9142         1          2          1            6   \n",
       "1    72.774648     9662         2          2          1            5   \n",
       "2    58.000000    17104         2          2          1            7   \n",
       "3    60.000000     8520         1          2          1            5   \n",
       "4    75.192453     9500         2          2          1            6   \n",
       "\n",
       "   overallcond  masvnrarea  exterqual  extercond  ...  miscfeature_Othr  \\\n",
       "0            8         0.0          2          2  ...                 0   \n",
       "1            4         0.0          2          3  ...                 0   \n",
       "2            5         0.0          3          3  ...                 0   \n",
       "3            6         0.0          3          3  ...                 0   \n",
       "4            5       247.0          2          3  ...                 0   \n",
       "\n",
       "   miscfeature_Shed  saletype_CWD  saletype_Con  saletype_ConLD  \\\n",
       "0                 0             0             0               0   \n",
       "1                 0             0             0               0   \n",
       "2                 0             0             0               0   \n",
       "3                 0             0             0               0   \n",
       "4                 0             0             0               0   \n",
       "\n",
       "   saletype_ConLI  saletype_ConLw  saletype_New  saletype_Oth  saletype_WD   \n",
       "0               0               0             0             0             1  \n",
       "1               0               0             0             0             1  \n",
       "2               0               0             1             0             0  \n",
       "3               0               0             0             0             1  \n",
       "4               0               0             0             0             1  \n",
       "\n",
       "[5 rows x 180 columns]"
      ]
     },
     "execution_count": 46,
     "metadata": {},
     "output_type": "execute_result"
    }
   ],
   "source": [
    "test_processed.head()"
   ]
  },
  {
   "cell_type": "code",
   "execution_count": 47,
   "metadata": {},
   "outputs": [],
   "source": [
    "#creating the same poly feature from our test dataset\n",
    "test_processed['overallqual_totalsf'] = test_processed['overallqual']*test_processed['totalsf']"
   ]
  },
  {
   "cell_type": "code",
   "execution_count": 48,
   "metadata": {
    "scrolled": false
   },
   "outputs": [],
   "source": [
    "#removing all columns from test dataset that are not in the final train dataset\n",
    "to_remove=[]\n",
    "for i in test_processed.columns:\n",
    "    if i not in final_features.columns:\n",
    "        to_remove.append(i)"
   ]
  },
  {
   "cell_type": "code",
   "execution_count": 49,
   "metadata": {},
   "outputs": [],
   "source": [
    "test_processed.drop(to_remove,axis=1,inplace=True)"
   ]
  },
  {
   "cell_type": "code",
   "execution_count": 50,
   "metadata": {},
   "outputs": [
    {
     "data": {
      "text/html": [
       "<div>\n",
       "<style scoped>\n",
       "    .dataframe tbody tr th:only-of-type {\n",
       "        vertical-align: middle;\n",
       "    }\n",
       "\n",
       "    .dataframe tbody tr th {\n",
       "        vertical-align: top;\n",
       "    }\n",
       "\n",
       "    .dataframe thead th {\n",
       "        text-align: right;\n",
       "    }\n",
       "</style>\n",
       "<table border=\"1\" class=\"dataframe\">\n",
       "  <thead>\n",
       "    <tr style=\"text-align: right;\">\n",
       "      <th></th>\n",
       "      <th>lotfrontage</th>\n",
       "      <th>lotarea</th>\n",
       "      <th>overallcond</th>\n",
       "      <th>masvnrarea</th>\n",
       "      <th>exterqual</th>\n",
       "      <th>bsmtcond</th>\n",
       "      <th>bsmtexposure</th>\n",
       "      <th>bsmtfinsf1</th>\n",
       "      <th>bsmtunfsf</th>\n",
       "      <th>bedroomabvgr</th>\n",
       "      <th>...</th>\n",
       "      <th>landcontour_HLS</th>\n",
       "      <th>neighborhood_Crawfor</th>\n",
       "      <th>neighborhood_NoRidge</th>\n",
       "      <th>neighborhood_NridgHt</th>\n",
       "      <th>neighborhood_StoneBr</th>\n",
       "      <th>roofmatl_WdShngl</th>\n",
       "      <th>exterior1st_BrkFace</th>\n",
       "      <th>masvnrtype_BrkFace</th>\n",
       "      <th>saletype_New</th>\n",
       "      <th>overallqual_totalsf</th>\n",
       "    </tr>\n",
       "  </thead>\n",
       "  <tbody>\n",
       "    <tr>\n",
       "      <th>0</th>\n",
       "      <td>69.000000</td>\n",
       "      <td>9142</td>\n",
       "      <td>8</td>\n",
       "      <td>0.0</td>\n",
       "      <td>2</td>\n",
       "      <td>3</td>\n",
       "      <td>0</td>\n",
       "      <td>0</td>\n",
       "      <td>1020</td>\n",
       "      <td>4</td>\n",
       "      <td>...</td>\n",
       "      <td>0</td>\n",
       "      <td>0</td>\n",
       "      <td>0</td>\n",
       "      <td>0</td>\n",
       "      <td>0</td>\n",
       "      <td>0</td>\n",
       "      <td>0</td>\n",
       "      <td>0</td>\n",
       "      <td>0</td>\n",
       "      <td>17688</td>\n",
       "    </tr>\n",
       "    <tr>\n",
       "      <th>1</th>\n",
       "      <td>72.774648</td>\n",
       "      <td>9662</td>\n",
       "      <td>4</td>\n",
       "      <td>0.0</td>\n",
       "      <td>2</td>\n",
       "      <td>3</td>\n",
       "      <td>0</td>\n",
       "      <td>0</td>\n",
       "      <td>1967</td>\n",
       "      <td>6</td>\n",
       "      <td>...</td>\n",
       "      <td>0</td>\n",
       "      <td>0</td>\n",
       "      <td>0</td>\n",
       "      <td>0</td>\n",
       "      <td>0</td>\n",
       "      <td>0</td>\n",
       "      <td>0</td>\n",
       "      <td>0</td>\n",
       "      <td>0</td>\n",
       "      <td>19670</td>\n",
       "    </tr>\n",
       "    <tr>\n",
       "      <th>2</th>\n",
       "      <td>58.000000</td>\n",
       "      <td>17104</td>\n",
       "      <td>5</td>\n",
       "      <td>0.0</td>\n",
       "      <td>3</td>\n",
       "      <td>4</td>\n",
       "      <td>2</td>\n",
       "      <td>554</td>\n",
       "      <td>100</td>\n",
       "      <td>3</td>\n",
       "      <td>...</td>\n",
       "      <td>0</td>\n",
       "      <td>0</td>\n",
       "      <td>0</td>\n",
       "      <td>0</td>\n",
       "      <td>0</td>\n",
       "      <td>0</td>\n",
       "      <td>0</td>\n",
       "      <td>0</td>\n",
       "      <td>1</td>\n",
       "      <td>15050</td>\n",
       "    </tr>\n",
       "    <tr>\n",
       "      <th>3</th>\n",
       "      <td>60.000000</td>\n",
       "      <td>8520</td>\n",
       "      <td>6</td>\n",
       "      <td>0.0</td>\n",
       "      <td>3</td>\n",
       "      <td>3</td>\n",
       "      <td>0</td>\n",
       "      <td>0</td>\n",
       "      <td>968</td>\n",
       "      <td>2</td>\n",
       "      <td>...</td>\n",
       "      <td>0</td>\n",
       "      <td>0</td>\n",
       "      <td>0</td>\n",
       "      <td>0</td>\n",
       "      <td>0</td>\n",
       "      <td>0</td>\n",
       "      <td>0</td>\n",
       "      <td>0</td>\n",
       "      <td>0</td>\n",
       "      <td>9680</td>\n",
       "    </tr>\n",
       "    <tr>\n",
       "      <th>4</th>\n",
       "      <td>75.192453</td>\n",
       "      <td>9500</td>\n",
       "      <td>5</td>\n",
       "      <td>247.0</td>\n",
       "      <td>2</td>\n",
       "      <td>3</td>\n",
       "      <td>0</td>\n",
       "      <td>609</td>\n",
       "      <td>785</td>\n",
       "      <td>3</td>\n",
       "      <td>...</td>\n",
       "      <td>0</td>\n",
       "      <td>0</td>\n",
       "      <td>0</td>\n",
       "      <td>0</td>\n",
       "      <td>0</td>\n",
       "      <td>0</td>\n",
       "      <td>0</td>\n",
       "      <td>1</td>\n",
       "      <td>0</td>\n",
       "      <td>16728</td>\n",
       "    </tr>\n",
       "  </tbody>\n",
       "</table>\n",
       "<p>5 rows × 29 columns</p>\n",
       "</div>"
      ],
      "text/plain": [
       "   lotfrontage  lotarea  overallcond  masvnrarea  exterqual  bsmtcond  \\\n",
       "0    69.000000     9142            8         0.0          2         3   \n",
       "1    72.774648     9662            4         0.0          2         3   \n",
       "2    58.000000    17104            5         0.0          3         4   \n",
       "3    60.000000     8520            6         0.0          3         3   \n",
       "4    75.192453     9500            5       247.0          2         3   \n",
       "\n",
       "   bsmtexposure  bsmtfinsf1  bsmtunfsf  bedroomabvgr  ...  landcontour_HLS  \\\n",
       "0             0           0       1020             4  ...                0   \n",
       "1             0           0       1967             6  ...                0   \n",
       "2             2         554        100             3  ...                0   \n",
       "3             0           0        968             2  ...                0   \n",
       "4             0         609        785             3  ...                0   \n",
       "\n",
       "   neighborhood_Crawfor  neighborhood_NoRidge  neighborhood_NridgHt  \\\n",
       "0                     0                     0                     0   \n",
       "1                     0                     0                     0   \n",
       "2                     0                     0                     0   \n",
       "3                     0                     0                     0   \n",
       "4                     0                     0                     0   \n",
       "\n",
       "   neighborhood_StoneBr  roofmatl_WdShngl  exterior1st_BrkFace  \\\n",
       "0                     0                 0                    0   \n",
       "1                     0                 0                    0   \n",
       "2                     0                 0                    0   \n",
       "3                     0                 0                    0   \n",
       "4                     0                 0                    0   \n",
       "\n",
       "   masvnrtype_BrkFace  saletype_New  overallqual_totalsf  \n",
       "0                   0             0                17688  \n",
       "1                   0             0                19670  \n",
       "2                   0             1                15050  \n",
       "3                   0             0                 9680  \n",
       "4                   1             0                16728  \n",
       "\n",
       "[5 rows x 29 columns]"
      ]
     },
     "execution_count": 50,
     "metadata": {},
     "output_type": "execute_result"
    }
   ],
   "source": [
    "test_processed.head()"
   ]
  },
  {
   "cell_type": "markdown",
   "metadata": {},
   "source": [
    "2. Reodering the columns "
   ]
  },
  {
   "cell_type": "code",
   "execution_count": 51,
   "metadata": {},
   "outputs": [
    {
     "data": {
      "text/plain": [
       "Index(['neighborhood_NridgHt', 'neighborhood_StoneBr', 'houseage', 'exterqual',\n",
       "       'masvnrarea', 'saletype_New', 'overallcond', 'totrmsabvgrd',\n",
       "       'bsmtunfsf', 'kitchenqual', 'mssubclass_120', 'bsmtexposure',\n",
       "       'bsmtfinsf1', 'lotarea', 'neighborhood_NoRidge', 'bsmtcond',\n",
       "       'functional', 'total_bathrooms', 'roofmatl_WdShngl', 'garagearea',\n",
       "       'bedroomabvgr', 'exterior1st_BrkFace', 'landcontour_HLS',\n",
       "       'total_porch_sf', 'masvnrtype_BrkFace', 'kitchenabvgr', 'lotfrontage',\n",
       "       'neighborhood_Crawfor', 'overallqual_totalsf'],\n",
       "      dtype='object')"
      ]
     },
     "execution_count": 51,
     "metadata": {},
     "output_type": "execute_result"
    }
   ],
   "source": [
    "final_features.columns"
   ]
  },
  {
   "cell_type": "code",
   "execution_count": 52,
   "metadata": {},
   "outputs": [],
   "source": [
    "#ensuring that the order in test dataset is the same as the train dataset\n",
    "test_processed = test_processed[['neighborhood_NridgHt', 'neighborhood_StoneBr', 'houseage', 'exterqual',\n",
    "       'masvnrarea', 'saletype_New', 'overallcond', 'totrmsabvgrd',\n",
    "       'bsmtunfsf', 'kitchenqual', 'mssubclass_120', 'bsmtexposure',\n",
    "       'bsmtfinsf1', 'lotarea', 'neighborhood_NoRidge', 'bsmtcond',\n",
    "       'functional', 'total_bathrooms', 'roofmatl_WdShngl', 'garagearea',\n",
    "       'bedroomabvgr', 'exterior1st_BrkFace', 'landcontour_HLS',\n",
    "       'total_porch_sf', 'masvnrtype_BrkFace', 'kitchenabvgr', 'lotfrontage',\n",
    "       'neighborhood_Crawfor', 'overallqual_totalsf']]"
   ]
  },
  {
   "cell_type": "markdown",
   "metadata": {},
   "source": [
    "3. Getting predictions of sale price from test data"
   ]
  },
  {
   "cell_type": "code",
   "execution_count": 53,
   "metadata": {},
   "outputs": [],
   "source": [
    "test_sc = ss.transform(test_processed)"
   ]
  },
  {
   "cell_type": "code",
   "execution_count": 54,
   "metadata": {
    "scrolled": true
   },
   "outputs": [],
   "source": [
    "predictions = lasso_opt_fin.predict(test_sc)"
   ]
  },
  {
   "cell_type": "code",
   "execution_count": 55,
   "metadata": {},
   "outputs": [
    {
     "data": {
      "text/plain": [
       "(879,)"
      ]
     },
     "execution_count": 55,
     "metadata": {},
     "output_type": "execute_result"
    }
   ],
   "source": [
    "predictions.shape"
   ]
  },
  {
   "cell_type": "markdown",
   "metadata": {},
   "source": [
    "4. Exporting to Kaggle "
   ]
  },
  {
   "cell_type": "code",
   "execution_count": 56,
   "metadata": {},
   "outputs": [],
   "source": [
    "#copying a new copy of test dataset and naming it as submission file\n",
    "submission = pd.read_csv('datasets/test.csv')"
   ]
  },
  {
   "cell_type": "code",
   "execution_count": 57,
   "metadata": {},
   "outputs": [
    {
     "data": {
      "text/plain": [
       "(879, 80)"
      ]
     },
     "execution_count": 57,
     "metadata": {},
     "output_type": "execute_result"
    }
   ],
   "source": [
    "submission.shape"
   ]
  },
  {
   "cell_type": "code",
   "execution_count": 58,
   "metadata": {},
   "outputs": [],
   "source": [
    "#appending predictions to submission file\n",
    "submission['SalePrice'] = predictions"
   ]
  },
  {
   "cell_type": "code",
   "execution_count": 59,
   "metadata": {},
   "outputs": [],
   "source": [
    "#dropping all other columns\n",
    "submission = submission.drop(['PID', 'MS SubClass', 'MS Zoning', 'Lot Frontage', 'Lot Area',\n",
    "       'Street', 'Alley', 'Lot Shape', 'Land Contour', 'Utilities',\n",
    "       'Lot Config', 'Land Slope', 'Neighborhood', 'Condition 1',\n",
    "       'Condition 2', 'Bldg Type', 'House Style', 'Overall Qual',\n",
    "       'Overall Cond', 'Year Built', 'Year Remod/Add', 'Roof Style',\n",
    "       'Roof Matl', 'Exterior 1st', 'Exterior 2nd', 'Mas Vnr Type',\n",
    "       'Mas Vnr Area', 'Exter Qual', 'Exter Cond', 'Foundation', 'Bsmt Qual',\n",
    "       'Bsmt Cond', 'Bsmt Exposure', 'BsmtFin Type 1', 'BsmtFin SF 1',\n",
    "       'BsmtFin Type 2', 'BsmtFin SF 2', 'Bsmt Unf SF', 'Total Bsmt SF',\n",
    "       'Heating', 'Heating QC', 'Central Air', 'Electrical', '1st Flr SF',\n",
    "       '2nd Flr SF', 'Low Qual Fin SF', 'Gr Liv Area', 'Bsmt Full Bath',\n",
    "       'Bsmt Half Bath', 'Full Bath', 'Half Bath', 'Bedroom AbvGr',\n",
    "       'Kitchen AbvGr', 'Kitchen Qual', 'TotRms AbvGrd', 'Functional',\n",
    "       'Fireplaces', 'Fireplace Qu', 'Garage Type', 'Garage Yr Blt',\n",
    "       'Garage Finish', 'Garage Cars', 'Garage Area', 'Garage Qual',\n",
    "       'Garage Cond', 'Paved Drive', 'Wood Deck SF', 'Open Porch SF',\n",
    "       'Enclosed Porch', '3Ssn Porch', 'Screen Porch', 'Pool Area', 'Pool QC',\n",
    "       'Fence', 'Misc Feature', 'Misc Val', 'Mo Sold', 'Yr Sold', 'Sale Type'], axis=1)"
   ]
  },
  {
   "cell_type": "code",
   "execution_count": 60,
   "metadata": {},
   "outputs": [],
   "source": [
    "submission.to_csv('datasets/submission_copy.csv', index=False)"
   ]
  },
  {
   "cell_type": "markdown",
   "metadata": {},
   "source": [
    "### Kaggle Results and Summary"
   ]
  },
  {
   "cell_type": "markdown",
   "metadata": {},
   "source": [
    "I achieved a score of 25098.835 on Kaggle."
   ]
  },
  {
   "cell_type": "markdown",
   "metadata": {},
   "source": [
    "In conclusion, the graph below shows the top 30 features that impacts Sale Price. These features are good guidelines for homeowners looking to make self-improvements to their properties to increase value.\n",
    "\n",
    "In terms of price prediction, more could be done to improve the model's accuracy, such as \n",
    "* Being more sensitive to outliers rather than removing them, and experimenting with more polynomial features. This might include the need of experimenting further beyond linear regression models, such as Neural Networks\n",
    "* We have added only one polynomial feature and the RMSE score had dropped 2151, a 8.8% improvement. Adding more polynomial features may increase in score, but suffer in terms of interpretability.\n",
    "* Similarily, more features could be added to the model so that there are more predictors that the model can learn from to predict the nuances in price changes\n",
    "\n",
    "Nonetheless, as part as our business limitations to work with linear regression models, we believe we have uncovered the best factors that impacts price, and a robust model of an R2 Adjusted score of 0.916238 to predict prices."
   ]
  },
  {
   "cell_type": "code",
   "execution_count": 61,
   "metadata": {},
   "outputs": [
    {
     "data": {
      "image/png": "[encoded data removed]",
      "text/plain": [
       "<Figure size 1080x576 with 1 Axes>"
      ]
     },
     "metadata": {
      "needs_background": "light"
     },
     "output_type": "display_data"
    }
   ],
   "source": [
    "pd.Series(lasso_opt_fin.coef_, index=final_features.columns).sort_values(ascending=True).plot.barh(figsize=(15,8))\n",
    "plt.title('Features influencing Sale Price most (Lasso)', fontsize=14)\n",
    "plt.xlabel('coefficients', fontsize=12)\n",
    "plt.ylabel('features', fontsize=12)\n",
    "plt.savefig('Features influencing Sale Price most (Lasso).png');"
   ]
  }
 ],
 "metadata": {
  "kernelspec": {
   "display_name": "Python 3",
   "language": "python",
   "name": "python3"
  },
  "language_info": {
   "codemirror_mode": {
    "name": "ipython",
    "version": 3
   },
   "file_extension": ".py",
   "mimetype": "text/x-python",
   "name": "python",
   "nbconvert_exporter": "python",
   "pygments_lexer": "ipython3",
   "version": "3.7.6"
  }
 },
 "nbformat": 4,
 "nbformat_minor": 4
}
