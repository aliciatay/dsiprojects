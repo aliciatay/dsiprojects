{
 "cells": [
  {
   "cell_type": "code",
   "execution_count": 1,
   "metadata": {},
   "outputs": [],
   "source": [
    "import pandas as pd\n",
    "import numpy as np\n",
    "import matplotlib.pyplot as plt\n",
    "import seaborn as sns\n",
    "\n",
    "# Preprocessing\n",
    "from sklearn.model_selection import train_test_split, GridSearchCV\n",
    "from sklearn.preprocessing import StandardScaler\n",
    "from imblearn.over_sampling import SMOTE\n",
    "\n",
    "# Models used\n",
    "from xgboost import XGBClassifier\n",
    "from sklearn.linear_model import LogisticRegression, SGDClassifier\n",
    "from sklearn.neighbors import KNeighborsClassifier\n",
    "from sklearn.ensemble import RandomForestClassifier\n",
    "from sklearn.ensemble import GradientBoostingClassifier, AdaBoostClassifier, BaggingClassifier\n",
    "from sklearn.tree import DecisionTreeClassifier\n",
    "from sklearn.svm import SVC\n",
    "\n",
    "# Scoring\n",
    "from sklearn.metrics import roc_auc_score, confusion_matrix"
   ]
  },
  {
   "cell_type": "markdown",
   "metadata": {},
   "source": [
    "### Contents\n",
    "\n",
    "- <a href = \"Project_4-Data-Cleaning-and-EDA.ipynb\">EDA and Data Cleaning</a><br>\n",
    "<br>\n",
    "- Modeling<br>\n",
    "    - [Importing Dataset](#Importing-Dataset)\n",
    "    - [Train Test Split and Preprocessing](#Train-Test-Split-and-Preprocessing)\n",
    "    - [Model Testing](#Model-Testing)\n",
    "    - [Optimizing Chosen Models](#Optimizing-Chosen-Models)\n",
    "    - [Exploring Feature Weights for Logistic Regression](#Exploring-Feature-Weights-for-Logistic-Regression)\n",
    "    - [Exploring Feature Weights for SGDClassifier](#Exploring-Feature-Weights-for-SGDClassifier)\n",
    "    - [Exporting Dataset for Kaggle Submission](#Exporting-Dataset-for-Kaggle-Submission)\n",
    "    - [Discussion, Recommendations and Further Study](#Discussion,-Recommendations-and-Further-Study)"
   ]
  },
  {
   "cell_type": "markdown",
   "metadata": {},
   "source": [
    "## Importing Dataset\n",
    "[top](#Contents)"
   ]
  },
  {
   "cell_type": "code",
   "execution_count": 2,
   "metadata": {},
   "outputs": [],
   "source": [
    "# importing both dataset\n",
    "\n",
    "combined_df = pd.read_csv('./Data/traindf.csv')\n",
    "to_predict = pd.read_csv('./Data/topredict.csv')"
   ]
  },
  {
   "cell_type": "code",
   "execution_count": 3,
   "metadata": {},
   "outputs": [
    {
     "data": {
      "text/plain": [
       "0    0.946077\n",
       "1    0.053923\n",
       "Name: WnvPresent, dtype: float64"
      ]
     },
     "execution_count": 3,
     "metadata": {},
     "output_type": "execute_result"
    }
   ],
   "source": [
    "# checking value counts\n",
    "\n",
    "combined_df['WnvPresent'].value_counts(normalize=True)"
   ]
  },
  {
   "cell_type": "code",
   "execution_count": 4,
   "metadata": {},
   "outputs": [],
   "source": [
    "# seperating target variable from features\n",
    "\n",
    "X = combined_df.drop(columns = ['WnvPresent'])\n",
    "y = combined_df['WnvPresent']"
   ]
  },
  {
   "cell_type": "code",
   "execution_count": 5,
   "metadata": {},
   "outputs": [
    {
     "data": {
      "text/html": [
       "<div>\n",
       "<style scoped>\n",
       "    .dataframe tbody tr th:only-of-type {\n",
       "        vertical-align: middle;\n",
       "    }\n",
       "\n",
       "    .dataframe tbody tr th {\n",
       "        vertical-align: top;\n",
       "    }\n",
       "\n",
       "    .dataframe thead th {\n",
       "        text-align: right;\n",
       "    }\n",
       "</style>\n",
       "<table border=\"1\" class=\"dataframe\">\n",
       "  <thead>\n",
       "    <tr style=\"text-align: right;\">\n",
       "      <th></th>\n",
       "      <th>Latitude</th>\n",
       "      <th>Longitude</th>\n",
       "      <th>Tmax</th>\n",
       "      <th>Tmin</th>\n",
       "      <th>Tavg</th>\n",
       "      <th>Depart</th>\n",
       "      <th>DewPoint</th>\n",
       "      <th>WetBulb</th>\n",
       "      <th>Heat</th>\n",
       "      <th>Cool</th>\n",
       "      <th>...</th>\n",
       "      <th>Daylight_Mins_14</th>\n",
       "      <th>Species_CULEX PIPIENS</th>\n",
       "      <th>Species_CULEX PIPIENS/RESTUANS</th>\n",
       "      <th>Species_CULEX RESTUANS</th>\n",
       "      <th>month_5</th>\n",
       "      <th>month_6</th>\n",
       "      <th>month_7</th>\n",
       "      <th>month_8</th>\n",
       "      <th>month_9</th>\n",
       "      <th>month_10</th>\n",
       "    </tr>\n",
       "  </thead>\n",
       "  <tbody>\n",
       "    <tr>\n",
       "      <th>0</th>\n",
       "      <td>41.954690</td>\n",
       "      <td>-87.800991</td>\n",
       "      <td>88</td>\n",
       "      <td>60</td>\n",
       "      <td>74.0</td>\n",
       "      <td>10.0</td>\n",
       "      <td>58</td>\n",
       "      <td>65.0</td>\n",
       "      <td>0.0</td>\n",
       "      <td>9.0</td>\n",
       "      <td>...</td>\n",
       "      <td>886.071429</td>\n",
       "      <td>0</td>\n",
       "      <td>1</td>\n",
       "      <td>0</td>\n",
       "      <td>1</td>\n",
       "      <td>0</td>\n",
       "      <td>0</td>\n",
       "      <td>0</td>\n",
       "      <td>0</td>\n",
       "      <td>0</td>\n",
       "    </tr>\n",
       "    <tr>\n",
       "      <th>1</th>\n",
       "      <td>41.954690</td>\n",
       "      <td>-87.800991</td>\n",
       "      <td>88</td>\n",
       "      <td>60</td>\n",
       "      <td>74.0</td>\n",
       "      <td>10.0</td>\n",
       "      <td>58</td>\n",
       "      <td>65.0</td>\n",
       "      <td>0.0</td>\n",
       "      <td>9.0</td>\n",
       "      <td>...</td>\n",
       "      <td>886.071429</td>\n",
       "      <td>0</td>\n",
       "      <td>0</td>\n",
       "      <td>1</td>\n",
       "      <td>1</td>\n",
       "      <td>0</td>\n",
       "      <td>0</td>\n",
       "      <td>0</td>\n",
       "      <td>0</td>\n",
       "      <td>0</td>\n",
       "    </tr>\n",
       "    <tr>\n",
       "      <th>2</th>\n",
       "      <td>41.994991</td>\n",
       "      <td>-87.769279</td>\n",
       "      <td>88</td>\n",
       "      <td>60</td>\n",
       "      <td>74.0</td>\n",
       "      <td>10.0</td>\n",
       "      <td>58</td>\n",
       "      <td>65.0</td>\n",
       "      <td>0.0</td>\n",
       "      <td>9.0</td>\n",
       "      <td>...</td>\n",
       "      <td>886.071429</td>\n",
       "      <td>0</td>\n",
       "      <td>0</td>\n",
       "      <td>1</td>\n",
       "      <td>1</td>\n",
       "      <td>0</td>\n",
       "      <td>0</td>\n",
       "      <td>0</td>\n",
       "      <td>0</td>\n",
       "      <td>0</td>\n",
       "    </tr>\n",
       "    <tr>\n",
       "      <th>3</th>\n",
       "      <td>41.974089</td>\n",
       "      <td>-87.824812</td>\n",
       "      <td>88</td>\n",
       "      <td>60</td>\n",
       "      <td>74.0</td>\n",
       "      <td>10.0</td>\n",
       "      <td>58</td>\n",
       "      <td>65.0</td>\n",
       "      <td>0.0</td>\n",
       "      <td>9.0</td>\n",
       "      <td>...</td>\n",
       "      <td>886.071429</td>\n",
       "      <td>0</td>\n",
       "      <td>1</td>\n",
       "      <td>0</td>\n",
       "      <td>1</td>\n",
       "      <td>0</td>\n",
       "      <td>0</td>\n",
       "      <td>0</td>\n",
       "      <td>0</td>\n",
       "      <td>0</td>\n",
       "    </tr>\n",
       "    <tr>\n",
       "      <th>4</th>\n",
       "      <td>41.974089</td>\n",
       "      <td>-87.824812</td>\n",
       "      <td>88</td>\n",
       "      <td>60</td>\n",
       "      <td>74.0</td>\n",
       "      <td>10.0</td>\n",
       "      <td>58</td>\n",
       "      <td>65.0</td>\n",
       "      <td>0.0</td>\n",
       "      <td>9.0</td>\n",
       "      <td>...</td>\n",
       "      <td>886.071429</td>\n",
       "      <td>0</td>\n",
       "      <td>0</td>\n",
       "      <td>1</td>\n",
       "      <td>1</td>\n",
       "      <td>0</td>\n",
       "      <td>0</td>\n",
       "      <td>0</td>\n",
       "      <td>0</td>\n",
       "      <td>0</td>\n",
       "    </tr>\n",
       "  </tbody>\n",
       "</table>\n",
       "<p>5 rows × 95 columns</p>\n",
       "</div>"
      ],
      "text/plain": [
       "    Latitude  Longitude  Tmax  Tmin  Tavg  Depart  DewPoint  WetBulb  Heat  \\\n",
       "0  41.954690 -87.800991    88    60  74.0    10.0        58     65.0   0.0   \n",
       "1  41.954690 -87.800991    88    60  74.0    10.0        58     65.0   0.0   \n",
       "2  41.994991 -87.769279    88    60  74.0    10.0        58     65.0   0.0   \n",
       "3  41.974089 -87.824812    88    60  74.0    10.0        58     65.0   0.0   \n",
       "4  41.974089 -87.824812    88    60  74.0    10.0        58     65.0   0.0   \n",
       "\n",
       "   Cool  ...  Daylight_Mins_14  Species_CULEX PIPIENS  \\\n",
       "0   9.0  ...        886.071429                      0   \n",
       "1   9.0  ...        886.071429                      0   \n",
       "2   9.0  ...        886.071429                      0   \n",
       "3   9.0  ...        886.071429                      0   \n",
       "4   9.0  ...        886.071429                      0   \n",
       "\n",
       "   Species_CULEX PIPIENS/RESTUANS  Species_CULEX RESTUANS  month_5  month_6  \\\n",
       "0                               1                       0        1        0   \n",
       "1                               0                       1        1        0   \n",
       "2                               0                       1        1        0   \n",
       "3                               1                       0        1        0   \n",
       "4                               0                       1        1        0   \n",
       "\n",
       "   month_7  month_8  month_9  month_10  \n",
       "0        0        0        0         0  \n",
       "1        0        0        0         0  \n",
       "2        0        0        0         0  \n",
       "3        0        0        0         0  \n",
       "4        0        0        0         0  \n",
       "\n",
       "[5 rows x 95 columns]"
      ]
     },
     "execution_count": 5,
     "metadata": {},
     "output_type": "execute_result"
    }
   ],
   "source": [
    "# Sense check\n",
    "\n",
    "X.head()"
   ]
  },
  {
   "cell_type": "code",
   "execution_count": 6,
   "metadata": {
    "scrolled": true
   },
   "outputs": [
    {
     "data": {
      "text/plain": [
       "Index(['Latitude', 'Longitude', 'Tmax', 'Tmin', 'Tavg', 'Depart', 'DewPoint',\n",
       "       'WetBulb', 'Heat', 'Cool', 'PrecipTotal', 'StnPressure', 'SeaLevel',\n",
       "       'ResultSpeed', 'ResultDir', 'AvgSpeed', 'BCFG', 'BR', 'DZ', 'FG', 'FU',\n",
       "       'HZ', 'MIFG', 'RA', 'SN', 'SQ', 'TS', 'TSRA', 'VCTS', 'Daylight_Mins',\n",
       "       'Tmax_7', 'Tmin_7', 'Tavg_7', 'Depart_7', 'DewPoint_7', 'WetBulb_7',\n",
       "       'Heat_7', 'Cool_7', 'PrecipTotal_7', 'StnPressure_7', 'SeaLevel_7',\n",
       "       'ResultSpeed_7', 'ResultDir_7', 'AvgSpeed_7', 'BCFG_7', 'BR_7', 'DZ_7',\n",
       "       'FG_7', 'FU_7', 'HZ_7', 'MIFG_7', 'RA_7', 'SN_7', 'SQ_7', 'TS_7',\n",
       "       'TSRA_7', 'VCTS_7', 'Daylight_Mins_7', 'Tmax_14', 'Tmin_14', 'Tavg_14',\n",
       "       'Depart_14', 'DewPoint_14', 'WetBulb_14', 'Heat_14', 'Cool_14',\n",
       "       'PrecipTotal_14', 'StnPressure_14', 'SeaLevel_14', 'ResultSpeed_14',\n",
       "       'ResultDir_14', 'AvgSpeed_14', 'BCFG_14', 'BR_14', 'DZ_14', 'FG_14',\n",
       "       'FU_14', 'HZ_14', 'MIFG_14', 'RA_14', 'SN_14', 'SQ_14', 'TS_14',\n",
       "       'TSRA_14', 'VCTS_14', 'Daylight_Mins_14', 'Species_CULEX PIPIENS',\n",
       "       'Species_CULEX PIPIENS/RESTUANS', 'Species_CULEX RESTUANS', 'month_5',\n",
       "       'month_6', 'month_7', 'month_8', 'month_9', 'month_10'],\n",
       "      dtype='object')"
      ]
     },
     "execution_count": 6,
     "metadata": {},
     "output_type": "execute_result"
    }
   ],
   "source": [
    "# Checking features list\n",
    "\n",
    "X.columns"
   ]
  },
  {
   "cell_type": "markdown",
   "metadata": {},
   "source": [
    "## Train Test Split and Preprocessing\n",
    "[top](#Contents)"
   ]
  },
  {
   "cell_type": "markdown",
   "metadata": {},
   "source": [
    "- Before any form of modeling, a train test split was performed to create a training dataset and a test dataset.\n",
    "- A standard scaler was also run to scale the data\n",
    "- As the classes are unevenly sized, a SMOTE transformation was run on both the train and test datasets "
   ]
  },
  {
   "cell_type": "code",
   "execution_count": 7,
   "metadata": {},
   "outputs": [],
   "source": [
    "# train test split\n",
    "\n",
    "X_train, X_test, y_train, y_test = train_test_split(X, y, stratify = y, test_size = 0.3, random_state = 42)"
   ]
  },
  {
   "cell_type": "code",
   "execution_count": 8,
   "metadata": {},
   "outputs": [],
   "source": [
    "#scaling features\n",
    "\n",
    "ss = StandardScaler()\n",
    "\n",
    "# X_ss = ss.fit_transform(X)\n",
    "\n",
    "X_train_ss = ss.fit_transform(X_train)\n",
    "X_test_ss = ss.transform(X_test)"
   ]
  },
  {
   "cell_type": "code",
   "execution_count": 9,
   "metadata": {},
   "outputs": [],
   "source": [
    "# SMOTEing features and target variables\n",
    "\n",
    "sm = SMOTE(random_state=42)\n",
    "\n",
    "X_train_sm, y_train_sm = sm.fit_sample(X_train_ss, y_train)"
   ]
  },
  {
   "cell_type": "code",
   "execution_count": 10,
   "metadata": {},
   "outputs": [
    {
     "data": {
      "text/plain": [
       "1    0.5\n",
       "0    0.5\n",
       "Name: WnvPresent, dtype: float64"
      ]
     },
     "execution_count": 10,
     "metadata": {},
     "output_type": "execute_result"
    }
   ],
   "source": [
    "# quick examination of value counts\n",
    "\n",
    "y_train_sm.value_counts(normalize = True)"
   ]
  },
  {
   "cell_type": "code",
   "execution_count": 11,
   "metadata": {},
   "outputs": [
    {
     "data": {
      "text/plain": [
       "(11224,)"
      ]
     },
     "execution_count": 11,
     "metadata": {},
     "output_type": "execute_result"
    }
   ],
   "source": [
    "y_train_sm.shape"
   ]
  },
  {
   "cell_type": "code",
   "execution_count": 12,
   "metadata": {},
   "outputs": [
    {
     "data": {
      "text/plain": [
       "(11224, 95)"
      ]
     },
     "execution_count": 12,
     "metadata": {},
     "output_type": "execute_result"
    }
   ],
   "source": [
    "X_train_sm.shape"
   ]
  },
  {
   "cell_type": "markdown",
   "metadata": {},
   "source": [
    "## Model Testing\n",
    "[top](#Contents)"
   ]
  },
  {
   "cell_type": "markdown",
   "metadata": {},
   "source": [
    "- To determine the best model and parameters, a list of models and associated parameters were created\n",
    "- A function was then created to run a Gridsearch on the models, optimizing for roc_auc\n",
    "- The results were then aggregated into a dataframe for easier intepretation"
   ]
  },
  {
   "cell_type": "code",
   "execution_count": 13,
   "metadata": {},
   "outputs": [],
   "source": [
    "# setting number of cvs\n",
    "\n",
    "cv_no = 5\n",
    "\n",
    "# setting random state\n",
    "\n",
    "random_state = 42"
   ]
  },
  {
   "cell_type": "code",
   "execution_count": 14,
   "metadata": {},
   "outputs": [],
   "source": [
    "# creating a dictionary of models to test\n",
    "\n",
    "clas_dict = {\n",
    "             \"lr\": LogisticRegression(),\n",
    "             \"rf\": RandomForestClassifier(),\n",
    "             \"sgd\": SGDClassifier(),\n",
    "             \"ada\": AdaBoostClassifier(),\n",
    "             \"bag\": BaggingClassifier(),\n",
    "             \"xgb\": XGBClassifier(),\n",
    "             \"svc\": SVC(),\n",
    "            }"
   ]
  },
  {
   "cell_type": "code",
   "execution_count": 15,
   "metadata": {},
   "outputs": [],
   "source": [
    "# creating parameters for a GridSearch to search through\n",
    "\n",
    "clas_param = {    \n",
    "    \n",
    "            \"lr\" :{\n",
    "                'penalty' : ['l2'],\n",
    "                'C' : [.001,.01,.1],\n",
    "                'max_iter' : [1000],\n",
    "                'random_state':[random_state]\n",
    "                 },\n",
    "\n",
    "            \"rf\": {\n",
    "                'class_weight': [\"balanced\"],\n",
    "                'n_estimators': [100,150,200],\n",
    "                'max_depth': [None, 1, 2],\n",
    "                'random_state': [random_state]\n",
    "                 },\n",
    "    \n",
    "            \"sgd\": {\n",
    "                'loss': [\"log\"],\n",
    "                'max_iter': [1000],\n",
    "                'penalty': ['l2'],\n",
    "                'alpha': [0.01,.01,.1],\n",
    "                'random_state': [random_state]\n",
    "                 },\n",
    "\n",
    "            \"ada\": {\n",
    "                'learning_rate': [0.8,0.9,1],\n",
    "                'n_estimators': [50,100, 150],\n",
    "                'random_state': [random_state],\n",
    "                  },\n",
    "    \n",
    "            \"bag\": {\n",
    "                'n_estimators': [50, 100, 150],\n",
    "                'random_state': [random_state],\n",
    "                 },\n",
    "    \n",
    "            \"xgb\": {    \n",
    "                'eval_metric' : ['auc'],\n",
    "                'use_label_encoder' : [False],\n",
    "                'subsample' : [0.5], # Randomly sample 0.5 of the data to prevent overfitting\n",
    "                'colsample_bytree' : [0.5], \n",
    "                'learning_rate' : [0.1],\n",
    "                'max_depth' : [None, 2, 3],\n",
    "                'n_estimators' : [50, 100, 150], #500\n",
    "                'reg_alpha' : [0, 50,100], # L1 regularization term on weight #0, 1, 50, 75\n",
    "                'reg_lambda' : [0, 50,100], # L2 regularization term on weights #0, 1, 2, 50,75\n",
    "                'gamma' : [0.1], # Gamma specifies the minimum loss reduction required to make a split #.2\n",
    "                'objective' : ['binary:logistic'],\n",
    "                'random_state': [random_state],\n",
    "                 },\n",
    "    \n",
    "            \"svc\" :{\n",
    "                'max_iter' : [1000],\n",
    "                'random_state':[random_state]\n",
    "                 },\n",
    "            }"
   ]
  },
  {
   "cell_type": "code",
   "execution_count": 16,
   "metadata": {
    "scrolled": false
   },
   "outputs": [],
   "source": [
    "# function to loop through dictionaries and return roc_auc scores\n",
    "\n",
    "def model_looper(clas_dict, clas_param, score):\n",
    "    \n",
    "    # creating an empty results dataframe\n",
    "    \n",
    "    result = pd.DataFrame()\n",
    "    \n",
    "    # for loop to iterate through dictionary of models for testing\n",
    "\n",
    "    for clas_name, clas_item in clas_dict.items():   \n",
    "\n",
    "            # runs a gridsearch on the selected model using the associated parameters\n",
    "\n",
    "            gs = GridSearchCV(clas_item, clas_param[clas_name] , cv=cv_no, n_jobs=-1, verbose=2, scoring = score)\n",
    "            gs.fit(X_train_sm, y_train_sm)\n",
    "\n",
    "            # uses optimized model to fit\n",
    "\n",
    "            optimised = gs.best_estimator_\n",
    "\n",
    "            optimised.fit(X_train_sm, y_train_sm)\n",
    "            \n",
    "            # declaring results as variables\n",
    "\n",
    "            predictions = optimised.predict(X_test_ss)\n",
    "            \n",
    "            model_score = roc_auc_score(y_test, predictions)\n",
    "            \n",
    "            tn, fp, fn, tp = confusion_matrix(y_test, predictions).ravel()\n",
    "            \n",
    "            sensitivity = tp/(tp+fn)\n",
    "            \n",
    "            specificity = tn/(tn+fp)\n",
    "            \n",
    "            accuracy = (tn+tp)/(tn+tp+fn+fp)\n",
    "            \n",
    "            # creating a dataframe row and concantanating it to the results dataframe\n",
    "            \n",
    "            df = pd.DataFrame([clas_name, model_score, tn, fp, fn, tp, sensitivity, specificity, accuracy]).T\n",
    "            \n",
    "            result = pd.concat([result, df], ignore_index = True)\n",
    "    \n",
    "    # renaming columns for the results dataframe and correcting formating\n",
    "\n",
    "    result.rename(columns = {1:\"Score\", 2:\"tn\", 3:\"fp\", 4:\"fn\", 5:\"tp\", 6:\"Sensitivity\",7:\"Specificity\", 8: \"Accuracy\"}, inplace = True)   \n",
    "    \n",
    "    result.set_index(0, inplace = True)\n",
    "    \n",
    "    result.index.name = None\n",
    "    \n",
    "    # returns the final results dataframe\n",
    "    \n",
    "    return result"
   ]
  },
  {
   "cell_type": "code",
   "execution_count": 17,
   "metadata": {
    "scrolled": false
   },
   "outputs": [
    {
     "name": "stdout",
     "output_type": "stream",
     "text": [
      "Fitting 5 folds for each of 3 candidates, totalling 15 fits\n"
     ]
    },
    {
     "name": "stderr",
     "output_type": "stream",
     "text": [
      "[Parallel(n_jobs=-1)]: Using backend LokyBackend with 4 concurrent workers.\n",
      "[Parallel(n_jobs=-1)]: Done  15 out of  15 | elapsed:    3.5s finished\n"
     ]
    },
    {
     "name": "stdout",
     "output_type": "stream",
     "text": [
      "Fitting 5 folds for each of 9 candidates, totalling 45 fits\n"
     ]
    },
    {
     "name": "stderr",
     "output_type": "stream",
     "text": [
      "[Parallel(n_jobs=-1)]: Using backend LokyBackend with 4 concurrent workers.\n",
      "[Parallel(n_jobs=-1)]: Done  33 tasks      | elapsed:   16.1s\n",
      "[Parallel(n_jobs=-1)]: Done  45 out of  45 | elapsed:   19.7s finished\n"
     ]
    },
    {
     "name": "stdout",
     "output_type": "stream",
     "text": [
      "Fitting 5 folds for each of 3 candidates, totalling 15 fits\n"
     ]
    },
    {
     "name": "stderr",
     "output_type": "stream",
     "text": [
      "[Parallel(n_jobs=-1)]: Using backend LokyBackend with 4 concurrent workers.\n",
      "[Parallel(n_jobs=-1)]: Done  15 out of  15 | elapsed:    0.3s finished\n"
     ]
    },
    {
     "name": "stdout",
     "output_type": "stream",
     "text": [
      "Fitting 5 folds for each of 9 candidates, totalling 45 fits\n"
     ]
    },
    {
     "name": "stderr",
     "output_type": "stream",
     "text": [
      "[Parallel(n_jobs=-1)]: Using backend LokyBackend with 4 concurrent workers.\n",
      "[Parallel(n_jobs=-1)]: Done  33 tasks      | elapsed:   28.6s\n",
      "[Parallel(n_jobs=-1)]: Done  45 out of  45 | elapsed:   42.2s finished\n"
     ]
    },
    {
     "name": "stdout",
     "output_type": "stream",
     "text": [
      "Fitting 5 folds for each of 3 candidates, totalling 15 fits\n"
     ]
    },
    {
     "name": "stderr",
     "output_type": "stream",
     "text": [
      "[Parallel(n_jobs=-1)]: Using backend LokyBackend with 4 concurrent workers.\n",
      "[Parallel(n_jobs=-1)]: Done  15 out of  15 | elapsed:  1.2min finished\n"
     ]
    },
    {
     "name": "stdout",
     "output_type": "stream",
     "text": [
      "Fitting 5 folds for each of 81 candidates, totalling 405 fits\n"
     ]
    },
    {
     "name": "stderr",
     "output_type": "stream",
     "text": [
      "[Parallel(n_jobs=-1)]: Using backend LokyBackend with 4 concurrent workers.\n",
      "[Parallel(n_jobs=-1)]: Done  33 tasks      | elapsed:   33.1s\n",
      "[Parallel(n_jobs=-1)]: Done 154 tasks      | elapsed:  3.1min\n",
      "[Parallel(n_jobs=-1)]: Done 357 tasks      | elapsed:  5.1min\n",
      "[Parallel(n_jobs=-1)]: Done 405 out of 405 | elapsed:  6.0min finished\n"
     ]
    },
    {
     "name": "stdout",
     "output_type": "stream",
     "text": [
      "Fitting 5 folds for each of 1 candidates, totalling 5 fits\n"
     ]
    },
    {
     "name": "stderr",
     "output_type": "stream",
     "text": [
      "[Parallel(n_jobs=-1)]: Using backend LokyBackend with 4 concurrent workers.\n",
      "[Parallel(n_jobs=-1)]: Done   5 out of   5 | elapsed:   10.3s finished\n",
      "/Users/Home/Applications/anaconda3/lib/python3.8/site-packages/sklearn/svm/_base.py:246: ConvergenceWarning: Solver terminated early (max_iter=1000).  Consider pre-processing your data with StandardScaler or MinMaxScaler.\n",
      "  warnings.warn('Solver terminated early (max_iter=%i).'\n",
      "/Users/Home/Applications/anaconda3/lib/python3.8/site-packages/sklearn/svm/_base.py:246: ConvergenceWarning: Solver terminated early (max_iter=1000).  Consider pre-processing your data with StandardScaler or MinMaxScaler.\n",
      "  warnings.warn('Solver terminated early (max_iter=%i).'\n"
     ]
    }
   ],
   "source": [
    "results_df = model_looper(clas_dict, clas_param, \"roc_auc\")"
   ]
  },
  {
   "cell_type": "code",
   "execution_count": 18,
   "metadata": {},
   "outputs": [
    {
     "data": {
      "text/html": [
       "<div>\n",
       "<style scoped>\n",
       "    .dataframe tbody tr th:only-of-type {\n",
       "        vertical-align: middle;\n",
       "    }\n",
       "\n",
       "    .dataframe tbody tr th {\n",
       "        vertical-align: top;\n",
       "    }\n",
       "\n",
       "    .dataframe thead th {\n",
       "        text-align: right;\n",
       "    }\n",
       "</style>\n",
       "<table border=\"1\" class=\"dataframe\">\n",
       "  <thead>\n",
       "    <tr style=\"text-align: right;\">\n",
       "      <th></th>\n",
       "      <th>Score</th>\n",
       "      <th>tn</th>\n",
       "      <th>fp</th>\n",
       "      <th>fn</th>\n",
       "      <th>tp</th>\n",
       "      <th>Sensitivity</th>\n",
       "      <th>Specificity</th>\n",
       "      <th>Accuracy</th>\n",
       "    </tr>\n",
       "  </thead>\n",
       "  <tbody>\n",
       "    <tr>\n",
       "      <th>lr</th>\n",
       "      <td>0.775758</td>\n",
       "      <td>1766</td>\n",
       "      <td>640</td>\n",
       "      <td>25</td>\n",
       "      <td>112</td>\n",
       "      <td>0.817518</td>\n",
       "      <td>0.733998</td>\n",
       "      <td>0.738498</td>\n",
       "    </tr>\n",
       "    <tr>\n",
       "      <th>rf</th>\n",
       "      <td>0.655959</td>\n",
       "      <td>2173</td>\n",
       "      <td>233</td>\n",
       "      <td>81</td>\n",
       "      <td>56</td>\n",
       "      <td>0.408759</td>\n",
       "      <td>0.903159</td>\n",
       "      <td>0.876524</td>\n",
       "    </tr>\n",
       "    <tr>\n",
       "      <th>sgd</th>\n",
       "      <td>0.768459</td>\n",
       "      <td>1766</td>\n",
       "      <td>640</td>\n",
       "      <td>27</td>\n",
       "      <td>110</td>\n",
       "      <td>0.80292</td>\n",
       "      <td>0.733998</td>\n",
       "      <td>0.737711</td>\n",
       "    </tr>\n",
       "    <tr>\n",
       "      <th>ada</th>\n",
       "      <td>0.770175</td>\n",
       "      <td>1985</td>\n",
       "      <td>421</td>\n",
       "      <td>39</td>\n",
       "      <td>98</td>\n",
       "      <td>0.715328</td>\n",
       "      <td>0.825021</td>\n",
       "      <td>0.819111</td>\n",
       "    </tr>\n",
       "    <tr>\n",
       "      <th>bag</th>\n",
       "      <td>0.654478</td>\n",
       "      <td>2201</td>\n",
       "      <td>205</td>\n",
       "      <td>83</td>\n",
       "      <td>54</td>\n",
       "      <td>0.394161</td>\n",
       "      <td>0.914796</td>\n",
       "      <td>0.886748</td>\n",
       "    </tr>\n",
       "    <tr>\n",
       "      <th>xgb</th>\n",
       "      <td>0.702989</td>\n",
       "      <td>2171</td>\n",
       "      <td>235</td>\n",
       "      <td>68</td>\n",
       "      <td>69</td>\n",
       "      <td>0.50365</td>\n",
       "      <td>0.902328</td>\n",
       "      <td>0.880849</td>\n",
       "    </tr>\n",
       "    <tr>\n",
       "      <th>svc</th>\n",
       "      <td>0.661606</td>\n",
       "      <td>1726</td>\n",
       "      <td>680</td>\n",
       "      <td>54</td>\n",
       "      <td>83</td>\n",
       "      <td>0.605839</td>\n",
       "      <td>0.717373</td>\n",
       "      <td>0.711365</td>\n",
       "    </tr>\n",
       "  </tbody>\n",
       "</table>\n",
       "</div>"
      ],
      "text/plain": [
       "        Score    tn   fp  fn   tp Sensitivity Specificity  Accuracy\n",
       "lr   0.775758  1766  640  25  112    0.817518    0.733998  0.738498\n",
       "rf   0.655959  2173  233  81   56    0.408759    0.903159  0.876524\n",
       "sgd  0.768459  1766  640  27  110     0.80292    0.733998  0.737711\n",
       "ada  0.770175  1985  421  39   98    0.715328    0.825021  0.819111\n",
       "bag  0.654478  2201  205  83   54    0.394161    0.914796  0.886748\n",
       "xgb  0.702989  2171  235  68   69     0.50365    0.902328  0.880849\n",
       "svc  0.661606  1726  680  54   83    0.605839    0.717373  0.711365"
      ]
     },
     "execution_count": 18,
     "metadata": {},
     "output_type": "execute_result"
    }
   ],
   "source": [
    "results_df"
   ]
  },
  {
   "cell_type": "markdown",
   "metadata": {},
   "source": [
    "# Optimizing Chosen Models\n",
    "[top](#Contents)"
   ]
  },
  {
   "cell_type": "markdown",
   "metadata": {},
   "source": [
    "- As shown by the above table, the best performing models were Logistic Regression and the SGDClassifier\n",
    "    - ADA boost was not selected due to the much higher false negative rate, as we felt that for this use case the impact of NOT detecting the presence of WNV was a significant factor\n",
    "- Further optimization was then done on these models"
   ]
  },
  {
   "cell_type": "code",
   "execution_count": 19,
   "metadata": {},
   "outputs": [
    {
     "data": {
      "text/plain": [
       "array([  1.,   2.,   3.,   4.,   5.,   6.,   7.,   8.,   9.,  10.,  11.,\n",
       "        12.,  13.,  14.,  15.,  16.,  17.,  18.,  19.,  20.,  21.,  22.,\n",
       "        23.,  24.,  25.,  26.,  27.,  28.,  29.,  30.,  31.,  32.,  33.,\n",
       "        34.,  35.,  36.,  37.,  38.,  39.,  40.,  41.,  42.,  43.,  44.,\n",
       "        45.,  46.,  47.,  48.,  49.,  50.,  51.,  52.,  53.,  54.,  55.,\n",
       "        56.,  57.,  58.,  59.,  60.,  61.,  62.,  63.,  64.,  65.,  66.,\n",
       "        67.,  68.,  69.,  70.,  71.,  72.,  73.,  74.,  75.,  76.,  77.,\n",
       "        78.,  79.,  80.,  81.,  82.,  83.,  84.,  85.,  86.,  87.,  88.,\n",
       "        89.,  90.,  91.,  92.,  93.,  94.,  95.,  96.,  97.,  98.,  99.,\n",
       "       100.])"
      ]
     },
     "execution_count": 19,
     "metadata": {},
     "output_type": "execute_result"
    }
   ],
   "source": [
    "np.linspace(1,100,100)"
   ]
  },
  {
   "cell_type": "code",
   "execution_count": 20,
   "metadata": {},
   "outputs": [
    {
     "name": "stdout",
     "output_type": "stream",
     "text": [
      "Fitting 5 folds for each of 100 candidates, totalling 500 fits\n"
     ]
    },
    {
     "name": "stderr",
     "output_type": "stream",
     "text": [
      "[Parallel(n_jobs=-1)]: Using backend LokyBackend with 4 concurrent workers.\n",
      "[Parallel(n_jobs=-1)]: Done  33 tasks      | elapsed:    8.1s\n",
      "[Parallel(n_jobs=-1)]: Done 154 tasks      | elapsed:  1.3min\n",
      "[Parallel(n_jobs=-1)]: Done 357 tasks      | elapsed:  3.4min\n",
      "[Parallel(n_jobs=-1)]: Done 500 out of 500 | elapsed:  5.2min finished\n"
     ]
    },
    {
     "data": {
      "text/plain": [
       "GridSearchCV(cv=5, estimator=LogisticRegression(), n_jobs=-1,\n",
       "             param_grid=({'C': array([ 0.1,  0.2,  0.3,  0.4,  0.5,  0.6,  0.7,  0.8,  0.9,  1. ,  1.1,\n",
       "        1.2,  1.3,  1.4,  1.5,  1.6,  1.7,  1.8,  1.9,  2. ,  2.1,  2.2,\n",
       "        2.3,  2.4,  2.5,  2.6,  2.7,  2.8,  2.9,  3. ,  3.1,  3.2,  3.3,\n",
       "        3.4,  3.5,  3.6,  3.7,  3.8,  3.9,  4. ,  4.1,  4.2,  4.3,  4.4,\n",
       "        4.5,  4.6,  4.7,  4.8,  4.9,  5. ,  5.1,  5.2,  5.3,  5.4,  5.5,\n",
       "        5.6,  5.7,  5.8,  5.9,  6. ,  6.1,  6.2,  6.3,  6.4,  6.5,  6.6,\n",
       "        6.7,  6.8,  6.9,  7. ,  7.1,  7.2,  7.3,  7.4,  7.5,  7.6,  7.7,\n",
       "        7.8,  7.9,  8. ,  8.1,  8.2,  8.3,  8.4,  8.5,  8.6,  8.7,  8.8,\n",
       "        8.9,  9. ,  9.1,  9.2,  9.3,  9.4,  9.5,  9.6,  9.7,  9.8,  9.9,\n",
       "       10. ]),\n",
       "                          'max_iter': [1000], 'penalty': ['l2'],\n",
       "                          'random_state': [42]},),\n",
       "             scoring='roc_auc', verbose=2)"
      ]
     },
     "execution_count": 20,
     "metadata": {},
     "output_type": "execute_result"
    }
   ],
   "source": [
    "# creating parameters for a GridSearch to search through for LogisticRegression model\n",
    "\n",
    "# after a C value of 10, the model has diminishing returns and the weight values become hard to interpret\n",
    "\n",
    "best_model = LogisticRegression()\n",
    "\n",
    "C_list = np.linspace(0.1,10,100)\n",
    "\n",
    "best_parameters = {\n",
    "                'penalty' : ['l2'],\n",
    "                'C' : C_list,\n",
    "                'max_iter' : [1000],\n",
    "                'random_state':[random_state]\n",
    "                 },\n",
    "\n",
    "# initiating gridsearch\n",
    "\n",
    "lr_gs = GridSearchCV(best_model, best_parameters, cv=cv_no, n_jobs=-1, verbose=2, scoring = \"roc_auc\")\n",
    "    \n",
    "# fitting gridsearch    \n",
    "\n",
    "lr_gs.fit(X_train_sm, y_train_sm)"
   ]
  },
  {
   "cell_type": "code",
   "execution_count": 21,
   "metadata": {},
   "outputs": [],
   "source": [
    "# extracting 'C' values and results for graph\n",
    "\n",
    "x_val = C_list\n",
    "\n",
    "y_val = lr_gs.cv_results_[\"mean_test_score\"]"
   ]
  },
  {
   "cell_type": "code",
   "execution_count": 22,
   "metadata": {},
   "outputs": [
    {
     "data": {
      "text/plain": [
       "<AxesSubplot:>"
      ]
     },
     "execution_count": 22,
     "metadata": {},
     "output_type": "execute_result"
    },
    {
     "data": {
      "image/png": "[encoded data removed]",
      "text/plain": [
       "<Figure size 1080x720 with 1 Axes>"
      ]
     },
     "metadata": {
      "needs_background": "light"
     },
     "output_type": "display_data"
    }
   ],
   "source": [
    "plt.figure(figsize = (15,10))\n",
    "sns.lineplot(x = x_val, y = y_val)"
   ]
  },
  {
   "cell_type": "code",
   "execution_count": 23,
   "metadata": {},
   "outputs": [
    {
     "data": {
      "text/plain": [
       "LogisticRegression(C=9.9, max_iter=1000, random_state=42)"
      ]
     },
     "execution_count": 23,
     "metadata": {},
     "output_type": "execute_result"
    }
   ],
   "source": [
    "lr_gs.best_estimator_"
   ]
  },
  {
   "cell_type": "code",
   "execution_count": 24,
   "metadata": {},
   "outputs": [
    {
     "name": "stdout",
     "output_type": "stream",
     "text": [
      "Fitting 5 folds for each of 10 candidates, totalling 50 fits\n"
     ]
    },
    {
     "name": "stderr",
     "output_type": "stream",
     "text": [
      "[Parallel(n_jobs=-1)]: Using backend LokyBackend with 4 concurrent workers.\n",
      "[Parallel(n_jobs=-1)]: Done  33 tasks      | elapsed:    1.2s\n",
      "[Parallel(n_jobs=-1)]: Done  50 out of  50 | elapsed:    1.6s finished\n"
     ]
    },
    {
     "data": {
      "text/plain": [
       "GridSearchCV(cv=5, estimator=SGDClassifier(), n_jobs=-1,\n",
       "             param_grid=({'alpha': array([0.001, 0.002, 0.003, 0.004, 0.005, 0.006, 0.007, 0.008, 0.009,\n",
       "       0.01 ]),\n",
       "                          'loss': ['log'], 'max_iter': [1000],\n",
       "                          'penalty': ['l2'], 'random_state': [42]},),\n",
       "             scoring='roc_auc', verbose=2)"
      ]
     },
     "execution_count": 24,
     "metadata": {},
     "output_type": "execute_result"
    }
   ],
   "source": [
    "# alternative model\n",
    "\n",
    "alp_list = np.linspace(0.001,0.01,10)\n",
    "\n",
    "best_model = SGDClassifier()\n",
    "\n",
    "best_parameters = {\n",
    "                'loss': [\"log\"],\n",
    "                'max_iter': [1000],\n",
    "                'penalty': ['l2'],\n",
    "                'alpha': alp_list,\n",
    "                'random_state': [random_state]\n",
    "                 },\n",
    "\n",
    "# initiating gridsearch\n",
    "\n",
    "sgd_gs = GridSearchCV(best_model, best_parameters, cv=cv_no, n_jobs=-1, verbose=2, scoring = \"roc_auc\")\n",
    "    \n",
    "# fitting gridsearch    \n",
    "\n",
    "sgd_gs.fit(X_train_sm, y_train_sm)"
   ]
  },
  {
   "cell_type": "code",
   "execution_count": 25,
   "metadata": {},
   "outputs": [],
   "source": [
    "# extracting 'C' values and results for graph\n",
    "\n",
    "x_val = alp_list\n",
    "\n",
    "y_val = sgd_gs.cv_results_[\"mean_test_score\"]"
   ]
  },
  {
   "cell_type": "code",
   "execution_count": 26,
   "metadata": {},
   "outputs": [
    {
     "data": {
      "text/plain": [
       "<AxesSubplot:>"
      ]
     },
     "execution_count": 26,
     "metadata": {},
     "output_type": "execute_result"
    },
    {
     "data": {
      "image/png": "[encoded data removed]",
      "text/plain": [
       "<Figure size 1080x720 with 1 Axes>"
      ]
     },
     "metadata": {
      "needs_background": "light"
     },
     "output_type": "display_data"
    }
   ],
   "source": [
    "plt.figure(figsize = (15,10))\n",
    "sns.lineplot(x = x_val, y = y_val)"
   ]
  },
  {
   "cell_type": "code",
   "execution_count": 27,
   "metadata": {},
   "outputs": [
    {
     "data": {
      "text/plain": [
       "SGDClassifier(alpha=0.003, loss='log', random_state=42)"
      ]
     },
     "execution_count": 27,
     "metadata": {},
     "output_type": "execute_result"
    }
   ],
   "source": [
    " sgd_gs.best_estimator_"
   ]
  },
  {
   "cell_type": "markdown",
   "metadata": {},
   "source": [
    "## Exploring Feature Weights for Logistic Regression \n",
    "[top](#Contents)"
   ]
  },
  {
   "cell_type": "markdown",
   "metadata": {},
   "source": [
    "- As the Logistic Regression Model returns the log weights of the coefficients, an np.exp function was ran to transform the coeffieicents appropriately\n",
    "- Most predictors give an emphasis on humidity\n",
    "- Rainy weather also seems to be an important predictor\n",
    "- Warm temperatures are a factor, but not as strong as initially thought\n",
    "- August and September seem to be prime months for WNV propagation\n"
   ]
  },
  {
   "cell_type": "code",
   "execution_count": 28,
   "metadata": {},
   "outputs": [],
   "source": [
    "lr_model = lr_gs.best_estimator_"
   ]
  },
  {
   "cell_type": "code",
   "execution_count": 29,
   "metadata": {},
   "outputs": [
    {
     "data": {
      "text/plain": [
       "array([[-0.09970608, -0.67147668,  0.40223358,  3.01831392, -0.26421429,\n",
       "         1.77339129, -4.71413554,  0.1411473 ,  0.42854732, -0.12932255,\n",
       "        -1.23945234,  4.30144502, -3.61269188,  0.42242208, -0.4013335 ,\n",
       "         0.32839866,  0.        ,  0.72781804, -2.44677977,  0.94492194,\n",
       "         0.        , -1.37157274,  0.        , -0.03363678,  0.        ,\n",
       "         0.        ,  0.81702088, -0.2152695 ,  1.00732699, -3.05551443,\n",
       "         0.89757445, -3.58302761, -1.1254121 , -0.53320084,  6.80108687,\n",
       "         0.62380811,  1.72483653, -0.77829057,  0.101869  ,  0.57033431,\n",
       "        -2.32292298, -0.49459681, -0.08686849, -2.43366981,  2.62523466,\n",
       "         0.57856411,  0.81850268, -1.6307578 ,  0.8497956 ,  0.65856352,\n",
       "         1.83183314,  1.12538082,  0.        , -0.05202942, -1.43568476,\n",
       "         0.07046168,  0.56327698, -2.8568509 , -0.19888784,  1.91162335,\n",
       "         0.49090853, -3.52740938,  2.68180428,  1.17799974, -2.39880177,\n",
       "        -0.27847003, -2.66207905,  0.93846247,  1.2800573 , -2.08571201,\n",
       "         0.83766843,  3.0387324 , -0.60491533, -0.73024771, -0.29676019,\n",
       "        -0.40698437, -2.62939907,  0.59010289, -1.80433876, -1.29938363,\n",
       "         0.        , -0.08012001,  0.71186631,  0.54964395,  1.28152898,\n",
       "        -2.67690309,  2.7641809 ,  3.19500967,  2.47700505, -0.05069762,\n",
       "        -0.40754098,  1.6833349 ,  0.11769577, -1.27674574, -0.50936343]])"
      ]
     },
     "execution_count": 29,
     "metadata": {},
     "output_type": "execute_result"
    }
   ],
   "source": [
    "lr_model.coef_"
   ]
  },
  {
   "cell_type": "code",
   "execution_count": 30,
   "metadata": {},
   "outputs": [],
   "source": [
    "odds = np.exp(lr_model.coef_).round(3).ravel().tolist()"
   ]
  },
  {
   "cell_type": "code",
   "execution_count": 31,
   "metadata": {},
   "outputs": [
    {
     "data": {
      "text/plain": [
       "[0.905,\n",
       " 0.511,\n",
       " 1.495,\n",
       " 20.457,\n",
       " 0.768,\n",
       " 5.891,\n",
       " 0.009,\n",
       " 1.152,\n",
       " 1.535,\n",
       " 0.879,\n",
       " 0.29,\n",
       " 73.806,\n",
       " 0.027,\n",
       " 1.526,\n",
       " 0.669,\n",
       " 1.389,\n",
       " 1.0,\n",
       " 2.071,\n",
       " 0.087,\n",
       " 2.573,\n",
       " 1.0,\n",
       " 0.254,\n",
       " 1.0,\n",
       " 0.967,\n",
       " 1.0,\n",
       " 1.0,\n",
       " 2.264,\n",
       " 0.806,\n",
       " 2.738,\n",
       " 0.047,\n",
       " 2.454,\n",
       " 0.028,\n",
       " 0.325,\n",
       " 0.587,\n",
       " 898.824,\n",
       " 1.866,\n",
       " 5.612,\n",
       " 0.459,\n",
       " 1.107,\n",
       " 1.769,\n",
       " 0.098,\n",
       " 0.61,\n",
       " 0.917,\n",
       " 0.088,\n",
       " 13.808,\n",
       " 1.783,\n",
       " 2.267,\n",
       " 0.196,\n",
       " 2.339,\n",
       " 1.932,\n",
       " 6.245,\n",
       " 3.081,\n",
       " 1.0,\n",
       " 0.949,\n",
       " 0.238,\n",
       " 1.073,\n",
       " 1.756,\n",
       " 0.057,\n",
       " 0.82,\n",
       " 6.764,\n",
       " 1.634,\n",
       " 0.029,\n",
       " 14.611,\n",
       " 3.248,\n",
       " 0.091,\n",
       " 0.757,\n",
       " 0.07,\n",
       " 2.556,\n",
       " 3.597,\n",
       " 0.124,\n",
       " 2.311,\n",
       " 20.879,\n",
       " 0.546,\n",
       " 0.482,\n",
       " 0.743,\n",
       " 0.666,\n",
       " 0.072,\n",
       " 1.804,\n",
       " 0.165,\n",
       " 0.273,\n",
       " 1.0,\n",
       " 0.923,\n",
       " 2.038,\n",
       " 1.733,\n",
       " 3.602,\n",
       " 0.069,\n",
       " 15.866,\n",
       " 24.41,\n",
       " 11.906,\n",
       " 0.951,\n",
       " 0.665,\n",
       " 5.383,\n",
       " 1.125,\n",
       " 0.279,\n",
       " 0.601]"
      ]
     },
     "execution_count": 31,
     "metadata": {},
     "output_type": "execute_result"
    }
   ],
   "source": [
    "odds"
   ]
  },
  {
   "cell_type": "code",
   "execution_count": 32,
   "metadata": {
    "scrolled": true
   },
   "outputs": [],
   "source": [
    "feature_weights = pd.DataFrame(data = odds, \n",
    "                               index = X_train.columns, \n",
    "                               columns = ['Weight'])"
   ]
  },
  {
   "cell_type": "code",
   "execution_count": 33,
   "metadata": {},
   "outputs": [
    {
     "data": {
      "text/html": [
       "<div>\n",
       "<style scoped>\n",
       "    .dataframe tbody tr th:only-of-type {\n",
       "        vertical-align: middle;\n",
       "    }\n",
       "\n",
       "    .dataframe tbody tr th {\n",
       "        vertical-align: top;\n",
       "    }\n",
       "\n",
       "    .dataframe thead th {\n",
       "        text-align: right;\n",
       "    }\n",
       "</style>\n",
       "<table border=\"1\" class=\"dataframe\">\n",
       "  <thead>\n",
       "    <tr style=\"text-align: right;\">\n",
       "      <th></th>\n",
       "      <th>Weight</th>\n",
       "    </tr>\n",
       "  </thead>\n",
       "  <tbody>\n",
       "    <tr>\n",
       "      <th>DewPoint_7</th>\n",
       "      <td>898.824</td>\n",
       "    </tr>\n",
       "    <tr>\n",
       "      <th>StnPressure</th>\n",
       "      <td>73.806</td>\n",
       "    </tr>\n",
       "    <tr>\n",
       "      <th>Species_CULEX PIPIENS/RESTUANS</th>\n",
       "      <td>24.410</td>\n",
       "    </tr>\n",
       "    <tr>\n",
       "      <th>AvgSpeed_14</th>\n",
       "      <td>20.879</td>\n",
       "    </tr>\n",
       "    <tr>\n",
       "      <th>Tmin</th>\n",
       "      <td>20.457</td>\n",
       "    </tr>\n",
       "    <tr>\n",
       "      <th>Species_CULEX PIPIENS</th>\n",
       "      <td>15.866</td>\n",
       "    </tr>\n",
       "    <tr>\n",
       "      <th>DewPoint_14</th>\n",
       "      <td>14.611</td>\n",
       "    </tr>\n",
       "    <tr>\n",
       "      <th>BCFG_7</th>\n",
       "      <td>13.808</td>\n",
       "    </tr>\n",
       "    <tr>\n",
       "      <th>Species_CULEX RESTUANS</th>\n",
       "      <td>11.906</td>\n",
       "    </tr>\n",
       "    <tr>\n",
       "      <th>Tmin_14</th>\n",
       "      <td>6.764</td>\n",
       "    </tr>\n",
       "    <tr>\n",
       "      <th>MIFG_7</th>\n",
       "      <td>6.245</td>\n",
       "    </tr>\n",
       "    <tr>\n",
       "      <th>Depart</th>\n",
       "      <td>5.891</td>\n",
       "    </tr>\n",
       "    <tr>\n",
       "      <th>Heat_7</th>\n",
       "      <td>5.612</td>\n",
       "    </tr>\n",
       "    <tr>\n",
       "      <th>month_7</th>\n",
       "      <td>5.383</td>\n",
       "    </tr>\n",
       "    <tr>\n",
       "      <th>VCTS_14</th>\n",
       "      <td>3.602</td>\n",
       "    </tr>\n",
       "    <tr>\n",
       "      <th>SeaLevel_14</th>\n",
       "      <td>3.597</td>\n",
       "    </tr>\n",
       "    <tr>\n",
       "      <th>WetBulb_14</th>\n",
       "      <td>3.248</td>\n",
       "    </tr>\n",
       "    <tr>\n",
       "      <th>RA_7</th>\n",
       "      <td>3.081</td>\n",
       "    </tr>\n",
       "    <tr>\n",
       "      <th>VCTS</th>\n",
       "      <td>2.738</td>\n",
       "    </tr>\n",
       "    <tr>\n",
       "      <th>FG</th>\n",
       "      <td>2.573</td>\n",
       "    </tr>\n",
       "  </tbody>\n",
       "</table>\n",
       "</div>"
      ],
      "text/plain": [
       "                                 Weight\n",
       "DewPoint_7                      898.824\n",
       "StnPressure                      73.806\n",
       "Species_CULEX PIPIENS/RESTUANS   24.410\n",
       "AvgSpeed_14                      20.879\n",
       "Tmin                             20.457\n",
       "Species_CULEX PIPIENS            15.866\n",
       "DewPoint_14                      14.611\n",
       "BCFG_7                           13.808\n",
       "Species_CULEX RESTUANS           11.906\n",
       "Tmin_14                           6.764\n",
       "MIFG_7                            6.245\n",
       "Depart                            5.891\n",
       "Heat_7                            5.612\n",
       "month_7                           5.383\n",
       "VCTS_14                           3.602\n",
       "SeaLevel_14                       3.597\n",
       "WetBulb_14                        3.248\n",
       "RA_7                              3.081\n",
       "VCTS                              2.738\n",
       "FG                                2.573"
      ]
     },
     "execution_count": 33,
     "metadata": {},
     "output_type": "execute_result"
    }
   ],
   "source": [
    "feature_weights.sort_values(by = \"Weight\", ascending = False).head(20)"
   ]
  },
  {
   "cell_type": "markdown",
   "metadata": {},
   "source": [
    "## Exploring Feature Weights for SGDClassifier\n",
    "[top](#Contents)"
   ]
  },
  {
   "cell_type": "markdown",
   "metadata": {},
   "source": [
    "- The conclusions largely coincided with the feature importances of the Logistic Regression model"
   ]
  },
  {
   "cell_type": "code",
   "execution_count": 34,
   "metadata": {},
   "outputs": [],
   "source": [
    "sgd_model = sgd_gs.best_estimator_"
   ]
  },
  {
   "cell_type": "code",
   "execution_count": 35,
   "metadata": {},
   "outputs": [
    {
     "data": {
      "text/plain": [
       "array([[-1.45821604e-01, -5.71644803e-01,  2.82704484e-01,\n",
       "        -8.76703723e-02,  1.00592006e-01,  1.30947347e-01,\n",
       "        -2.79742527e-01, -8.57195728e-02, -1.73710341e-02,\n",
       "         1.26485127e-01, -4.08423655e-01,  3.39882969e-01,\n",
       "        -3.03411618e-02,  1.12432477e-01, -6.71422506e-02,\n",
       "         1.99813467e-01,  0.00000000e+00,  1.77615048e-01,\n",
       "        -9.17306689e-01,  3.45939658e-01,  0.00000000e+00,\n",
       "        -2.03065808e-01,  0.00000000e+00, -8.80642822e-04,\n",
       "         0.00000000e+00,  0.00000000e+00,  2.22124185e-01,\n",
       "         6.02283245e-02,  3.17946048e-01, -4.73231168e-01,\n",
       "         7.59372497e-03, -2.75425997e-02, -1.92098740e-02,\n",
       "        -1.69869530e-01,  7.37796716e-01,  4.06244695e-01,\n",
       "        -5.47268490e-02, -4.48576444e-02, -3.38461771e-01,\n",
       "        -1.45618976e-01, -1.67342764e-01, -1.32830538e-01,\n",
       "         3.32409172e-01, -3.32192832e-01,  3.87544686e-01,\n",
       "         1.05320952e-01,  9.07754130e-02, -6.72273477e-01,\n",
       "        -9.45493607e-02, -4.51820296e-04,  2.06186392e-01,\n",
       "         2.95549136e-01,  0.00000000e+00, -7.46384061e-02,\n",
       "        -1.04539624e-01,  5.07978136e-01, -1.56634930e-01,\n",
       "        -4.65427307e-01, -2.71510526e-01,  1.24103665e-01,\n",
       "        -8.47480782e-02, -5.70637571e-01,  9.36868266e-01,\n",
       "         5.45243720e-01, -3.19144883e-01, -2.30916996e-01,\n",
       "        -6.26450281e-01,  3.57377389e-01,  4.75822600e-01,\n",
       "         2.86398636e-01, -9.15537178e-02, -1.95351962e-01,\n",
       "        -5.71024223e-02, -1.68202278e-01,  3.35140983e-01,\n",
       "         1.65825669e-01, -1.97586841e-01, -7.58955887e-03,\n",
       "        -5.67722229e-01,  2.23614225e-01,  0.00000000e+00,\n",
       "        -1.07100249e-01,  3.30224897e-01, -1.22145098e-02,\n",
       "         2.66275622e-01, -4.40243585e-01,  6.88376674e-01,\n",
       "         7.61871380e-01,  2.42902533e-01, -6.28731349e-02,\n",
       "        -5.82854712e-01, -1.22775419e-01,  3.76304820e-01,\n",
       "         2.82832160e-01, -1.34311457e-01]])"
      ]
     },
     "execution_count": 35,
     "metadata": {},
     "output_type": "execute_result"
    }
   ],
   "source": [
    "sgd_model.coef_"
   ]
  },
  {
   "cell_type": "code",
   "execution_count": 36,
   "metadata": {},
   "outputs": [],
   "source": [
    "odds = np.exp(sgd_model.coef_).round(3).ravel().tolist()"
   ]
  },
  {
   "cell_type": "code",
   "execution_count": 37,
   "metadata": {},
   "outputs": [],
   "source": [
    "feature_weights = pd.DataFrame(data = odds, \n",
    "                               index = X_train.columns, \n",
    "                               columns = ['Weight'])"
   ]
  },
  {
   "cell_type": "code",
   "execution_count": 38,
   "metadata": {},
   "outputs": [
    {
     "data": {
      "text/html": [
       "<div>\n",
       "<style scoped>\n",
       "    .dataframe tbody tr th:only-of-type {\n",
       "        vertical-align: middle;\n",
       "    }\n",
       "\n",
       "    .dataframe tbody tr th {\n",
       "        vertical-align: top;\n",
       "    }\n",
       "\n",
       "    .dataframe thead th {\n",
       "        text-align: right;\n",
       "    }\n",
       "</style>\n",
       "<table border=\"1\" class=\"dataframe\">\n",
       "  <thead>\n",
       "    <tr style=\"text-align: right;\">\n",
       "      <th></th>\n",
       "      <th>Weight</th>\n",
       "    </tr>\n",
       "  </thead>\n",
       "  <tbody>\n",
       "    <tr>\n",
       "      <th>DewPoint_14</th>\n",
       "      <td>2.552</td>\n",
       "    </tr>\n",
       "    <tr>\n",
       "      <th>Species_CULEX PIPIENS/RESTUANS</th>\n",
       "      <td>2.142</td>\n",
       "    </tr>\n",
       "    <tr>\n",
       "      <th>DewPoint_7</th>\n",
       "      <td>2.091</td>\n",
       "    </tr>\n",
       "    <tr>\n",
       "      <th>Species_CULEX PIPIENS</th>\n",
       "      <td>1.990</td>\n",
       "    </tr>\n",
       "    <tr>\n",
       "      <th>WetBulb_14</th>\n",
       "      <td>1.725</td>\n",
       "    </tr>\n",
       "    <tr>\n",
       "      <th>TSRA_7</th>\n",
       "      <td>1.662</td>\n",
       "    </tr>\n",
       "    <tr>\n",
       "      <th>SeaLevel_14</th>\n",
       "      <td>1.609</td>\n",
       "    </tr>\n",
       "    <tr>\n",
       "      <th>WetBulb_7</th>\n",
       "      <td>1.501</td>\n",
       "    </tr>\n",
       "    <tr>\n",
       "      <th>BCFG_7</th>\n",
       "      <td>1.473</td>\n",
       "    </tr>\n",
       "    <tr>\n",
       "      <th>month_8</th>\n",
       "      <td>1.457</td>\n",
       "    </tr>\n",
       "    <tr>\n",
       "      <th>StnPressure_14</th>\n",
       "      <td>1.430</td>\n",
       "    </tr>\n",
       "    <tr>\n",
       "      <th>FG</th>\n",
       "      <td>1.413</td>\n",
       "    </tr>\n",
       "    <tr>\n",
       "      <th>StnPressure</th>\n",
       "      <td>1.405</td>\n",
       "    </tr>\n",
       "    <tr>\n",
       "      <th>DZ_14</th>\n",
       "      <td>1.398</td>\n",
       "    </tr>\n",
       "    <tr>\n",
       "      <th>ResultDir_7</th>\n",
       "      <td>1.394</td>\n",
       "    </tr>\n",
       "    <tr>\n",
       "      <th>TS_14</th>\n",
       "      <td>1.391</td>\n",
       "    </tr>\n",
       "    <tr>\n",
       "      <th>VCTS</th>\n",
       "      <td>1.374</td>\n",
       "    </tr>\n",
       "    <tr>\n",
       "      <th>RA_7</th>\n",
       "      <td>1.344</td>\n",
       "    </tr>\n",
       "    <tr>\n",
       "      <th>ResultSpeed_14</th>\n",
       "      <td>1.332</td>\n",
       "    </tr>\n",
       "    <tr>\n",
       "      <th>Tmax</th>\n",
       "      <td>1.327</td>\n",
       "    </tr>\n",
       "  </tbody>\n",
       "</table>\n",
       "</div>"
      ],
      "text/plain": [
       "                                Weight\n",
       "DewPoint_14                      2.552\n",
       "Species_CULEX PIPIENS/RESTUANS   2.142\n",
       "DewPoint_7                       2.091\n",
       "Species_CULEX PIPIENS            1.990\n",
       "WetBulb_14                       1.725\n",
       "TSRA_7                           1.662\n",
       "SeaLevel_14                      1.609\n",
       "WetBulb_7                        1.501\n",
       "BCFG_7                           1.473\n",
       "month_8                          1.457\n",
       "StnPressure_14                   1.430\n",
       "FG                               1.413\n",
       "StnPressure                      1.405\n",
       "DZ_14                            1.398\n",
       "ResultDir_7                      1.394\n",
       "TS_14                            1.391\n",
       "VCTS                             1.374\n",
       "RA_7                             1.344\n",
       "ResultSpeed_14                   1.332\n",
       "Tmax                             1.327"
      ]
     },
     "execution_count": 38,
     "metadata": {},
     "output_type": "execute_result"
    }
   ],
   "source": [
    "feature_weights.sort_values(by = \"Weight\", ascending = False).head(20)"
   ]
  },
  {
   "cell_type": "markdown",
   "metadata": {},
   "source": [
    "## Exporting Dataset for Kaggle Submission\n",
    "[top](#Contents)"
   ]
  },
  {
   "cell_type": "markdown",
   "metadata": {},
   "source": [
    "- Logistic Regression was chosen as our final model based on the ROC_AUC scores (lr = 0.88, SGD = 0.87)\n",
    "- we fitted the model to the full original dataset, imported the full validation dataset and used our model to generate a list of predictions\n",
    "- The template provided by kaggle was then used to create a final csv file for submission"
   ]
  },
  {
   "cell_type": "code",
   "execution_count": 39,
   "metadata": {},
   "outputs": [],
   "source": [
    "sample = pd.read_csv('data/samplesubmission.csv')"
   ]
  },
  {
   "cell_type": "code",
   "execution_count": 40,
   "metadata": {},
   "outputs": [
    {
     "name": "stdout",
     "output_type": "stream",
     "text": [
      "(116293, 95)\n",
      "(116293, 2)\n"
     ]
    }
   ],
   "source": [
    "# cross check for matching no of rows\n",
    "\n",
    "print(to_predict.shape)\n",
    "print(sample.shape)"
   ]
  },
  {
   "cell_type": "code",
   "execution_count": 41,
   "metadata": {},
   "outputs": [],
   "source": [
    "# using model to predict results\n",
    "\n",
    "X_predict = ss.fit_transform(to_predict)\n",
    "preds = sgd_model.predict(X_predict)"
   ]
  },
  {
   "cell_type": "code",
   "execution_count": 42,
   "metadata": {},
   "outputs": [
    {
     "data": {
      "text/plain": [
       "0    83362\n",
       "1    32931\n",
       "Name: WnvPresent, dtype: int64"
      ]
     },
     "execution_count": 42,
     "metadata": {},
     "output_type": "execute_result"
    }
   ],
   "source": [
    "# attaching predictions to the sample df\n",
    "\n",
    "sample['WnvPresent'] = preds\n",
    "sample['WnvPresent'].value_counts()"
   ]
  },
  {
   "cell_type": "code",
   "execution_count": 43,
   "metadata": {},
   "outputs": [],
   "source": [
    "# exporting to csv file\n",
    "\n",
    "sample.to_csv('results/submission.csv', index = False)"
   ]
  },
  {
   "cell_type": "markdown",
   "metadata": {},
   "source": [
    "## Discussion, Recommendations and Further Study\n",
    "[top](#Contents)"
   ]
  },
  {
   "cell_type": "markdown",
   "metadata": {},
   "source": [
    "#### Discussion\n",
    "\n",
    "As mentioned earlier, most predictors give an emphasis on humidity and rains. \n",
    "\n",
    "It can be reasonably concluded that a higher humidity, coupled with rainy weather, would lead to a larger number of bodies of stagnant water. This, in turn, gives mosquitos favorable conditions for breeding and thus increase the chance that the WNV would be transmitted. \n",
    "\n",
    "Surprisingly, warmer temperatures were not as great a factor as initially believed. Indeed, further research showed that the temperature range was well within the tolerances of mosquitos.\n",
    "\n",
    "Further research also showed that August and September is considered the end of the thunderstorm season for Chicago (something our data also verified), and again returns back to the earlier discussion of higher humidity.\n",
    "\n",
    "#### Recommendation\n",
    "\n",
    "Our data showed that spraying, as it had been conducted, did not seem to be very effective. \n",
    "\n",
    "In our <a href = \"presentation.pdf\">final presentation</a> We instead recommend a combination onsider oil treatment of stagnant water bodies to kill off larvae, coupled with an education and awareness campaign as well as an emphasis on smart engineering for water infrastructure projects.\n",
    "\n",
    "#### Further Study\n",
    "\n",
    "Our Logistic Regression model obtained a score of 0.62 on Kaggle. Interestingly, when we submitted predictions based on the SGDClassifier model as a quick cross-validation, we obtained a higher score of 0.66, an inversion of what our modeling showed earlier. \n",
    "\n",
    "As our training dataset contained a much smaller amount of data as compared with the number of predictions we had to make, we believe that the training data might contain some bias that makes it misrepresentative of the actual conditions. \n",
    "\n",
    "A futher study would include a larger dataset, for a clearer examination of feature importance."
   ]
  },
  {
   "cell_type": "code",
   "execution_count": null,
   "metadata": {},
   "outputs": [],
   "source": []
  }
 ],
 "metadata": {
  "kernelspec": {
   "display_name": "Python 3",
   "language": "python",
   "name": "python3"
  },
  "language_info": {
   "codemirror_mode": {
    "name": "ipython",
    "version": 3
   },
   "file_extension": ".py",
   "mimetype": "text/x-python",
   "name": "python",
   "nbconvert_exporter": "python",
   "pygments_lexer": "ipython3",
   "version": "3.8.5"
  }
 },
 "nbformat": 4,
 "nbformat_minor": 4
}
