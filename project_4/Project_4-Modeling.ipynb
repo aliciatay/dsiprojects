{
 "cells": [
  {
   "cell_type": "code",
   "execution_count": 1,
   "metadata": {},
   "outputs": [],
   "source": [
    "import pandas as pd\n",
    "import numpy as np\n",
    "import matplotlib.pyplot as plt\n",
    "import seaborn as sns\n",
    "\n",
    "# Preprocessing\n",
    "from sklearn.model_selection import train_test_split, GridSearchCV\n",
    "from sklearn.preprocessing import StandardScaler\n",
    "from imblearn.over_sampling import SMOTE\n",
    "\n",
    "# Models used\n",
    "from xgboost import XGBClassifier\n",
    "from sklearn.linear_model import LogisticRegression, SGDClassifier\n",
    "from sklearn.neighbors import KNeighborsClassifier\n",
    "from sklearn.ensemble import RandomForestClassifier\n",
    "from sklearn.ensemble import GradientBoostingClassifier, AdaBoostClassifier, BaggingClassifier\n",
    "from sklearn.tree import DecisionTreeClassifier\n",
    "from sklearn.svm import SVC\n",
    "\n",
    "# Scoring\n",
    "from sklearn.metrics import roc_auc_score, confusion_matrix"
   ]
  },
  {
   "cell_type": "markdown",
   "metadata": {},
   "source": [
    "### Contents\n",
    "\n",
    "- <a href = \"Project_4-Data-Cleaning-and-EDA.ipynb\">EDA and Data Cleaning</a><br>\n",
    "<br>\n",
    "- Modeling<br>\n",
    "    - [Importing Dataset](#Importing-Dataset)\n",
    "    - [Train Test Split and Preprocessing](#Train-Test-Split-and-Preprocessing)\n",
    "    - [Model Testing](#Model-Testing)\n",
    "    - [Optimizing Chosen Models](#Optimizing-Chosen-Models)\n",
    "    - [Exploring Feature Weights for Logistic Regression](#Exploring-Feature-Weights-for-Logistic-Regression)\n",
    "    - [Exploring Feature Weights for SGDClassifier](#Exploring-Feature-Weights-for-SGDClassifier)\n",
    "    - [Exporting Dataset for Kaggle Submission](#Exporting-Dataset-for-Kaggle-Submission)\n",
    "    - [Discussion, Recommendations and Further Study](#Discussion,-Recommendations-and-Further-Study)"
   ]
  },
  {
   "cell_type": "markdown",
   "metadata": {},
   "source": [
    "## Importing Dataset\n",
    "[top](#Contents)"
   ]
  },
  {
   "cell_type": "code",
   "execution_count": 2,
   "metadata": {},
   "outputs": [],
   "source": [
    "# importing both dataset\n",
    "\n",
    "combined_df = pd.read_csv('./Data/traindf.csv')\n",
    "to_predict = pd.read_csv('./Data/topredict.csv')"
   ]
  },
  {
   "cell_type": "code",
   "execution_count": 3,
   "metadata": {},
   "outputs": [
    {
     "data": {
      "text/plain": [
       "0    0.946077\n",
       "1    0.053923\n",
       "Name: WnvPresent, dtype: float64"
      ]
     },
     "execution_count": 3,
     "metadata": {},
     "output_type": "execute_result"
    }
   ],
   "source": [
    "# checking value counts\n",
    "\n",
    "combined_df['WnvPresent'].value_counts(normalize=True)"
   ]
  },
  {
   "cell_type": "code",
   "execution_count": 4,
   "metadata": {},
   "outputs": [],
   "source": [
    "# seperating target variable from features\n",
    "\n",
    "X = combined_df.drop(columns = ['WnvPresent'])\n",
    "y = combined_df['WnvPresent']"
   ]
  },
  {
   "cell_type": "code",
   "execution_count": 5,
   "metadata": {},
   "outputs": [
    {
     "data": {
      "text/html": [
       "<div>\n",
       "<style scoped>\n",
       "    .dataframe tbody tr th:only-of-type {\n",
       "        vertical-align: middle;\n",
       "    }\n",
       "\n",
       "    .dataframe tbody tr th {\n",
       "        vertical-align: top;\n",
       "    }\n",
       "\n",
       "    .dataframe thead th {\n",
       "        text-align: right;\n",
       "    }\n",
       "</style>\n",
       "<table border=\"1\" class=\"dataframe\">\n",
       "  <thead>\n",
       "    <tr style=\"text-align: right;\">\n",
       "      <th></th>\n",
       "      <th>Latitude</th>\n",
       "      <th>Longitude</th>\n",
       "      <th>Tmax</th>\n",
       "      <th>Tmin</th>\n",
       "      <th>Tavg</th>\n",
       "      <th>Depart</th>\n",
       "      <th>DewPoint</th>\n",
       "      <th>WetBulb</th>\n",
       "      <th>Heat</th>\n",
       "      <th>Cool</th>\n",
       "      <th>...</th>\n",
       "      <th>Daylight_Mins_14</th>\n",
       "      <th>Species_CULEX PIPIENS</th>\n",
       "      <th>Species_CULEX PIPIENS/RESTUANS</th>\n",
       "      <th>Species_CULEX RESTUANS</th>\n",
       "      <th>month_5</th>\n",
       "      <th>month_6</th>\n",
       "      <th>month_7</th>\n",
       "      <th>month_8</th>\n",
       "      <th>month_9</th>\n",
       "      <th>month_10</th>\n",
       "    </tr>\n",
       "  </thead>\n",
       "  <tbody>\n",
       "    <tr>\n",
       "      <th>0</th>\n",
       "      <td>41.954690</td>\n",
       "      <td>-87.800991</td>\n",
       "      <td>88</td>\n",
       "      <td>60</td>\n",
       "      <td>74.0</td>\n",
       "      <td>10.0</td>\n",
       "      <td>58</td>\n",
       "      <td>65.0</td>\n",
       "      <td>0.0</td>\n",
       "      <td>9.0</td>\n",
       "      <td>...</td>\n",
       "      <td>886.071429</td>\n",
       "      <td>0</td>\n",
       "      <td>1</td>\n",
       "      <td>0</td>\n",
       "      <td>1</td>\n",
       "      <td>0</td>\n",
       "      <td>0</td>\n",
       "      <td>0</td>\n",
       "      <td>0</td>\n",
       "      <td>0</td>\n",
       "    </tr>\n",
       "    <tr>\n",
       "      <th>1</th>\n",
       "      <td>41.954690</td>\n",
       "      <td>-87.800991</td>\n",
       "      <td>88</td>\n",
       "      <td>60</td>\n",
       "      <td>74.0</td>\n",
       "      <td>10.0</td>\n",
       "      <td>58</td>\n",
       "      <td>65.0</td>\n",
       "      <td>0.0</td>\n",
       "      <td>9.0</td>\n",
       "      <td>...</td>\n",
       "      <td>886.071429</td>\n",
       "      <td>0</td>\n",
       "      <td>0</td>\n",
       "      <td>1</td>\n",
       "      <td>1</td>\n",
       "      <td>0</td>\n",
       "      <td>0</td>\n",
       "      <td>0</td>\n",
       "      <td>0</td>\n",
       "      <td>0</td>\n",
       "    </tr>\n",
       "    <tr>\n",
       "      <th>2</th>\n",
       "      <td>41.994991</td>\n",
       "      <td>-87.769279</td>\n",
       "      <td>88</td>\n",
       "      <td>60</td>\n",
       "      <td>74.0</td>\n",
       "      <td>10.0</td>\n",
       "      <td>58</td>\n",
       "      <td>65.0</td>\n",
       "      <td>0.0</td>\n",
       "      <td>9.0</td>\n",
       "      <td>...</td>\n",
       "      <td>886.071429</td>\n",
       "      <td>0</td>\n",
       "      <td>0</td>\n",
       "      <td>1</td>\n",
       "      <td>1</td>\n",
       "      <td>0</td>\n",
       "      <td>0</td>\n",
       "      <td>0</td>\n",
       "      <td>0</td>\n",
       "      <td>0</td>\n",
       "    </tr>\n",
       "    <tr>\n",
       "      <th>3</th>\n",
       "      <td>41.974089</td>\n",
       "      <td>-87.824812</td>\n",
       "      <td>88</td>\n",
       "      <td>60</td>\n",
       "      <td>74.0</td>\n",
       "      <td>10.0</td>\n",
       "      <td>58</td>\n",
       "      <td>65.0</td>\n",
       "      <td>0.0</td>\n",
       "      <td>9.0</td>\n",
       "      <td>...</td>\n",
       "      <td>886.071429</td>\n",
       "      <td>0</td>\n",
       "      <td>1</td>\n",
       "      <td>0</td>\n",
       "      <td>1</td>\n",
       "      <td>0</td>\n",
       "      <td>0</td>\n",
       "      <td>0</td>\n",
       "      <td>0</td>\n",
       "      <td>0</td>\n",
       "    </tr>\n",
       "    <tr>\n",
       "      <th>4</th>\n",
       "      <td>41.974089</td>\n",
       "      <td>-87.824812</td>\n",
       "      <td>88</td>\n",
       "      <td>60</td>\n",
       "      <td>74.0</td>\n",
       "      <td>10.0</td>\n",
       "      <td>58</td>\n",
       "      <td>65.0</td>\n",
       "      <td>0.0</td>\n",
       "      <td>9.0</td>\n",
       "      <td>...</td>\n",
       "      <td>886.071429</td>\n",
       "      <td>0</td>\n",
       "      <td>0</td>\n",
       "      <td>1</td>\n",
       "      <td>1</td>\n",
       "      <td>0</td>\n",
       "      <td>0</td>\n",
       "      <td>0</td>\n",
       "      <td>0</td>\n",
       "      <td>0</td>\n",
       "    </tr>\n",
       "  </tbody>\n",
       "</table>\n",
       "<p>5 rows × 95 columns</p>\n",
       "</div>"
      ],
      "text/plain": [
       "    Latitude  Longitude  Tmax  Tmin  Tavg  Depart  DewPoint  WetBulb  Heat  \\\n",
       "0  41.954690 -87.800991    88    60  74.0    10.0        58     65.0   0.0   \n",
       "1  41.954690 -87.800991    88    60  74.0    10.0        58     65.0   0.0   \n",
       "2  41.994991 -87.769279    88    60  74.0    10.0        58     65.0   0.0   \n",
       "3  41.974089 -87.824812    88    60  74.0    10.0        58     65.0   0.0   \n",
       "4  41.974089 -87.824812    88    60  74.0    10.0        58     65.0   0.0   \n",
       "\n",
       "   Cool  ...  Daylight_Mins_14  Species_CULEX PIPIENS  \\\n",
       "0   9.0  ...        886.071429                      0   \n",
       "1   9.0  ...        886.071429                      0   \n",
       "2   9.0  ...        886.071429                      0   \n",
       "3   9.0  ...        886.071429                      0   \n",
       "4   9.0  ...        886.071429                      0   \n",
       "\n",
       "   Species_CULEX PIPIENS/RESTUANS  Species_CULEX RESTUANS  month_5  month_6  \\\n",
       "0                               1                       0        1        0   \n",
       "1                               0                       1        1        0   \n",
       "2                               0                       1        1        0   \n",
       "3                               1                       0        1        0   \n",
       "4                               0                       1        1        0   \n",
       "\n",
       "   month_7  month_8  month_9  month_10  \n",
       "0        0        0        0         0  \n",
       "1        0        0        0         0  \n",
       "2        0        0        0         0  \n",
       "3        0        0        0         0  \n",
       "4        0        0        0         0  \n",
       "\n",
       "[5 rows x 95 columns]"
      ]
     },
     "execution_count": 5,
     "metadata": {},
     "output_type": "execute_result"
    }
   ],
   "source": [
    "# Sense check\n",
    "\n",
    "X.head()"
   ]
  },
  {
   "cell_type": "code",
   "execution_count": 6,
   "metadata": {
    "scrolled": true
   },
   "outputs": [
    {
     "data": {
      "text/plain": [
       "Index(['Latitude', 'Longitude', 'Tmax', 'Tmin', 'Tavg', 'Depart', 'DewPoint',\n",
       "       'WetBulb', 'Heat', 'Cool', 'PrecipTotal', 'StnPressure', 'SeaLevel',\n",
       "       'ResultSpeed', 'ResultDir', 'AvgSpeed', 'BCFG', 'BR', 'DZ', 'FG', 'FU',\n",
       "       'HZ', 'MIFG', 'RA', 'SN', 'SQ', 'TS', 'TSRA', 'VCTS', 'Daylight_Mins',\n",
       "       'Tmax_7', 'Tmin_7', 'Tavg_7', 'Depart_7', 'DewPoint_7', 'WetBulb_7',\n",
       "       'Heat_7', 'Cool_7', 'PrecipTotal_7', 'StnPressure_7', 'SeaLevel_7',\n",
       "       'ResultSpeed_7', 'ResultDir_7', 'AvgSpeed_7', 'BCFG_7', 'BR_7', 'DZ_7',\n",
       "       'FG_7', 'FU_7', 'HZ_7', 'MIFG_7', 'RA_7', 'SN_7', 'SQ_7', 'TS_7',\n",
       "       'TSRA_7', 'VCTS_7', 'Daylight_Mins_7', 'Tmax_14', 'Tmin_14', 'Tavg_14',\n",
       "       'Depart_14', 'DewPoint_14', 'WetBulb_14', 'Heat_14', 'Cool_14',\n",
       "       'PrecipTotal_14', 'StnPressure_14', 'SeaLevel_14', 'ResultSpeed_14',\n",
       "       'ResultDir_14', 'AvgSpeed_14', 'BCFG_14', 'BR_14', 'DZ_14', 'FG_14',\n",
       "       'FU_14', 'HZ_14', 'MIFG_14', 'RA_14', 'SN_14', 'SQ_14', 'TS_14',\n",
       "       'TSRA_14', 'VCTS_14', 'Daylight_Mins_14', 'Species_CULEX PIPIENS',\n",
       "       'Species_CULEX PIPIENS/RESTUANS', 'Species_CULEX RESTUANS', 'month_5',\n",
       "       'month_6', 'month_7', 'month_8', 'month_9', 'month_10'],\n",
       "      dtype='object')"
      ]
     },
     "execution_count": 6,
     "metadata": {},
     "output_type": "execute_result"
    }
   ],
   "source": [
    "# Checking features list\n",
    "\n",
    "X.columns"
   ]
  },
  {
   "cell_type": "markdown",
   "metadata": {},
   "source": [
    "## Train Test Split and Preprocessing\n",
    "[top](#Contents)"
   ]
  },
  {
   "cell_type": "markdown",
   "metadata": {},
   "source": [
    "- Before any form of modeling, a train test split was performed to create a training dataset and a test dataset.\n",
    "- A standard scaler was also run to scale the data\n",
    "- As the classes are unevenly sized, a SMOTE transformation was run on both the train and test datasets "
   ]
  },
  {
   "cell_type": "code",
   "execution_count": 7,
   "metadata": {},
   "outputs": [],
   "source": [
    "# train test split\n",
    "\n",
    "X_train, X_test, y_train, y_test = train_test_split(X, y, stratify = y, test_size = 0.3, random_state = 42)"
   ]
  },
  {
   "cell_type": "code",
   "execution_count": 8,
   "metadata": {},
   "outputs": [],
   "source": [
    "#scaling features\n",
    "\n",
    "ss = StandardScaler()\n",
    "\n",
    "# X_ss = ss.fit_transform(X)\n",
    "\n",
    "X_train_ss = ss.fit_transform(X_train)\n",
    "X_test_ss = ss.transform(X_test)"
   ]
  },
  {
   "cell_type": "code",
   "execution_count": 9,
   "metadata": {},
   "outputs": [],
   "source": [
    "# SMOTEing features and target variables\n",
    "\n",
    "sm = SMOTE(random_state=42)\n",
    "\n",
    "X_train_sm, y_train_sm = sm.fit_sample(X_train_ss, y_train)"
   ]
  },
  {
   "cell_type": "code",
   "execution_count": 10,
   "metadata": {},
   "outputs": [
    {
     "data": {
      "text/plain": [
       "1    0.5\n",
       "0    0.5\n",
       "Name: WnvPresent, dtype: float64"
      ]
     },
     "execution_count": 10,
     "metadata": {},
     "output_type": "execute_result"
    }
   ],
   "source": [
    "# quick examination of value counts\n",
    "\n",
    "y_train_sm.value_counts(normalize = True)"
   ]
  },
  {
   "cell_type": "code",
   "execution_count": 11,
   "metadata": {},
   "outputs": [
    {
     "data": {
      "text/plain": [
       "(11224,)"
      ]
     },
     "execution_count": 11,
     "metadata": {},
     "output_type": "execute_result"
    }
   ],
   "source": [
    "y_train_sm.shape"
   ]
  },
  {
   "cell_type": "code",
   "execution_count": 12,
   "metadata": {},
   "outputs": [
    {
     "data": {
      "text/plain": [
       "(11224, 95)"
      ]
     },
     "execution_count": 12,
     "metadata": {},
     "output_type": "execute_result"
    }
   ],
   "source": [
    "X_train_sm.shape"
   ]
  },
  {
   "cell_type": "markdown",
   "metadata": {},
   "source": [
    "## Model Testing\n",
    "[top](#Contents)"
   ]
  },
  {
   "cell_type": "markdown",
   "metadata": {},
   "source": [
    "- To determine the best model and parameters, a list of models and associated parameters were created\n",
    "- A function was then created to run a Gridsearch on the models, optimizing for roc_auc\n",
    "- The results were then aggregated into a dataframe for easier intepretation"
   ]
  },
  {
   "cell_type": "code",
   "execution_count": 13,
   "metadata": {},
   "outputs": [],
   "source": [
    "# setting number of cvs\n",
    "\n",
    "cv_no = 5\n",
    "\n",
    "# setting random state\n",
    "\n",
    "random_state = 42"
   ]
  },
  {
   "cell_type": "code",
   "execution_count": 14,
   "metadata": {},
   "outputs": [],
   "source": [
    "# creating a dictionary of models to test\n",
    "\n",
    "clas_dict = {\n",
    "             \"lr\": LogisticRegression(),\n",
    "             \"rf\": RandomForestClassifier(),\n",
    "             \"sgd\": SGDClassifier(),\n",
    "             \"ada\": AdaBoostClassifier(),\n",
    "             \"bag\": BaggingClassifier(),\n",
    "             \"xgb\": XGBClassifier(),\n",
    "             \"svc\": SVC(),\n",
    "            }"
   ]
  },
  {
   "cell_type": "code",
   "execution_count": 15,
   "metadata": {},
   "outputs": [],
   "source": [
    "# creating parameters for a GridSearch to search through\n",
    "\n",
    "clas_param = {    \n",
    "    \n",
    "            \"lr\" :{\n",
    "                'penalty' : ['l2'],\n",
    "                'C' : [.001,.01,.1],\n",
    "                'max_iter' : [1000],\n",
    "                'random_state':[random_state]\n",
    "                 },\n",
    "\n",
    "            \"rf\": {\n",
    "                'class_weight': [\"balanced\"],\n",
    "                'n_estimators': [100,150,200],\n",
    "                'max_depth': [None, 1, 2],\n",
    "                'random_state': [random_state]\n",
    "                 },\n",
    "    \n",
    "            \"sgd\": {\n",
    "                'loss': [\"log\"],\n",
    "                'max_iter': [1000],\n",
    "                'penalty': ['l2'],\n",
    "                'alpha': [0.01,.01,.1],\n",
    "                'random_state': [random_state]\n",
    "                 },\n",
    "\n",
    "            \"ada\": {\n",
    "                'learning_rate': [0.8,0.9,1],\n",
    "                'n_estimators': [50,100, 150],\n",
    "                'random_state': [random_state],\n",
    "                  },\n",
    "    \n",
    "            \"bag\": {\n",
    "                'n_estimators': [50, 100, 150],\n",
    "                'random_state': [random_state],\n",
    "                 },\n",
    "    \n",
    "            \"xgb\": {    \n",
    "                'eval_metric' : ['auc'],\n",
    "                'use_label_encoder' : [False],\n",
    "                'subsample' : [0.5], # Randomly sample 0.5 of the data to prevent overfitting\n",
    "                'colsample_bytree' : [0.5], \n",
    "                'learning_rate' : [0.1],\n",
    "                'max_depth' : [None, 2, 3],\n",
    "                'n_estimators' : [50, 100, 150], #500\n",
    "                'reg_alpha' : [0, 50,100], # L1 regularization term on weight #0, 1, 50, 75\n",
    "                'reg_lambda' : [0, 50,100], # L2 regularization term on weights #0, 1, 2, 50,75\n",
    "                'gamma' : [0.1], # Gamma specifies the minimum loss reduction required to make a split #.2\n",
    "                'objective' : ['binary:logistic'],\n",
    "                'random_state': [random_state],\n",
    "                 },\n",
    "    \n",
    "            \"svc\" :{\n",
    "                'max_iter' : [1000],\n",
    "                'random_state':[random_state]\n",
    "                 },\n",
    "            }"
   ]
  },
  {
   "cell_type": "code",
   "execution_count": 16,
   "metadata": {
    "scrolled": false
   },
   "outputs": [],
   "source": [
    "# function to loop through dictionaries and return roc_auc scores\n",
    "\n",
    "def model_looper(clas_dict, clas_param, score):\n",
    "    \n",
    "    # creating an empty results dataframe\n",
    "    \n",
    "    result = pd.DataFrame()\n",
    "    \n",
    "    # for loop to iterate through dictionary of models for testing\n",
    "\n",
    "    for clas_name, clas_item in clas_dict.items():   \n",
    "\n",
    "            # runs a gridsearch on the selected model using the associated parameters\n",
    "\n",
    "            gs = GridSearchCV(clas_item, clas_param[clas_name] , cv=cv_no, n_jobs=-1, verbose=2, scoring = score)\n",
    "            gs.fit(X_train_sm, y_train_sm)\n",
    "\n",
    "            # uses optimized model to fit\n",
    "\n",
    "            optimised = gs.best_estimator_\n",
    "\n",
    "            optimised.fit(X_train_sm, y_train_sm)\n",
    "            \n",
    "            # declaring results as variables\n",
    "\n",
    "            predictions = optimised.predict(X_test_ss)\n",
    "            \n",
    "            model_score = roc_auc_score(y_test, predictions)\n",
    "            \n",
    "            tn, fp, fn, tp = confusion_matrix(y_test, predictions).ravel()\n",
    "            \n",
    "            sensitivity = tp/(tp+fn)\n",
    "            \n",
    "            specificity = tn/(tn+fp)\n",
    "            \n",
    "            accuracy = (tn+tp)/(tn+tp+fn+fp)\n",
    "            \n",
    "            # creating a dataframe row and concantanating it to the results dataframe\n",
    "            \n",
    "            df = pd.DataFrame([clas_name, model_score, tn, fp, fn, tp, sensitivity, specificity, accuracy]).T\n",
    "            \n",
    "            result = pd.concat([result, df], ignore_index = True)\n",
    "    \n",
    "    # renaming columns for the results dataframe and correcting formating\n",
    "\n",
    "    result.rename(columns = {1:\"Score\", 2:\"tn\", 3:\"fp\", 4:\"fn\", 5:\"tp\", 6:\"Sensitivity\",7:\"Specificity\", 8: \"Accuracy\"}, inplace = True)   \n",
    "    \n",
    "    result.set_index(0, inplace = True)\n",
    "    \n",
    "    result.index.name = None\n",
    "    \n",
    "    # returns the final results dataframe\n",
    "    \n",
    "    return result"
   ]
  },
  {
   "cell_type": "code",
   "execution_count": 17,
   "metadata": {
    "scrolled": false
   },
   "outputs": [
    {
     "name": "stdout",
     "output_type": "stream",
     "text": [
      "Fitting 5 folds for each of 3 candidates, totalling 15 fits\n"
     ]
    },
    {
     "name": "stderr",
     "output_type": "stream",
     "text": [
      "[Parallel(n_jobs=-1)]: Using backend LokyBackend with 4 concurrent workers.\n",
      "[Parallel(n_jobs=-1)]: Done  15 out of  15 | elapsed:    3.9s finished\n"
     ]
    },
    {
     "name": "stdout",
     "output_type": "stream",
     "text": [
      "Fitting 5 folds for each of 9 candidates, totalling 45 fits\n"
     ]
    },
    {
     "name": "stderr",
     "output_type": "stream",
     "text": [
      "[Parallel(n_jobs=-1)]: Using backend LokyBackend with 4 concurrent workers.\n",
      "[Parallel(n_jobs=-1)]: Done  33 tasks      | elapsed:   17.8s\n",
      "[Parallel(n_jobs=-1)]: Done  45 out of  45 | elapsed:   21.9s finished\n"
     ]
    },
    {
     "name": "stdout",
     "output_type": "stream",
     "text": [
      "Fitting 5 folds for each of 3 candidates, totalling 15 fits\n"
     ]
    },
    {
     "name": "stderr",
     "output_type": "stream",
     "text": [
      "[Parallel(n_jobs=-1)]: Using backend LokyBackend with 4 concurrent workers.\n",
      "[Parallel(n_jobs=-1)]: Done  15 out of  15 | elapsed:    0.3s finished\n"
     ]
    },
    {
     "name": "stdout",
     "output_type": "stream",
     "text": [
      "Fitting 5 folds for each of 9 candidates, totalling 45 fits\n"
     ]
    },
    {
     "name": "stderr",
     "output_type": "stream",
     "text": [
      "[Parallel(n_jobs=-1)]: Using backend LokyBackend with 4 concurrent workers.\n",
      "[Parallel(n_jobs=-1)]: Done  33 tasks      | elapsed:   35.6s\n",
      "[Parallel(n_jobs=-1)]: Done  45 out of  45 | elapsed:   50.6s finished\n"
     ]
    },
    {
     "name": "stdout",
     "output_type": "stream",
     "text": [
      "Fitting 5 folds for each of 3 candidates, totalling 15 fits\n"
     ]
    },
    {
     "name": "stderr",
     "output_type": "stream",
     "text": [
      "[Parallel(n_jobs=-1)]: Using backend LokyBackend with 4 concurrent workers.\n",
      "[Parallel(n_jobs=-1)]: Done  15 out of  15 | elapsed:  1.2min finished\n"
     ]
    },
    {
     "name": "stdout",
     "output_type": "stream",
     "text": [
      "Fitting 5 folds for each of 81 candidates, totalling 405 fits\n"
     ]
    },
    {
     "name": "stderr",
     "output_type": "stream",
     "text": [
      "[Parallel(n_jobs=-1)]: Using backend LokyBackend with 4 concurrent workers.\n",
      "[Parallel(n_jobs=-1)]: Done  33 tasks      | elapsed:   24.9s\n",
      "[Parallel(n_jobs=-1)]: Done 154 tasks      | elapsed:  2.4min\n",
      "[Parallel(n_jobs=-1)]: Done 357 tasks      | elapsed:  4.2min\n",
      "[Parallel(n_jobs=-1)]: Done 405 out of 405 | elapsed:  4.9min finished\n"
     ]
    },
    {
     "name": "stdout",
     "output_type": "stream",
     "text": [
      "Fitting 5 folds for each of 1 candidates, totalling 5 fits\n"
     ]
    },
    {
     "name": "stderr",
     "output_type": "stream",
     "text": [
      "[Parallel(n_jobs=-1)]: Using backend LokyBackend with 4 concurrent workers.\n",
      "[Parallel(n_jobs=-1)]: Done   5 out of   5 | elapsed:    5.9s finished\n",
      "/Users/Home/Applications/anaconda3/lib/python3.8/site-packages/sklearn/svm/_base.py:246: ConvergenceWarning: Solver terminated early (max_iter=1000).  Consider pre-processing your data with StandardScaler or MinMaxScaler.\n",
      "  warnings.warn('Solver terminated early (max_iter=%i).'\n",
      "/Users/Home/Applications/anaconda3/lib/python3.8/site-packages/sklearn/svm/_base.py:246: ConvergenceWarning: Solver terminated early (max_iter=1000).  Consider pre-processing your data with StandardScaler or MinMaxScaler.\n",
      "  warnings.warn('Solver terminated early (max_iter=%i).'\n"
     ]
    }
   ],
   "source": [
    "results_df = model_looper(clas_dict, clas_param, \"roc_auc\")"
   ]
  },
  {
   "cell_type": "code",
   "execution_count": 18,
   "metadata": {},
   "outputs": [
    {
     "data": {
      "text/html": [
       "<div>\n",
       "<style scoped>\n",
       "    .dataframe tbody tr th:only-of-type {\n",
       "        vertical-align: middle;\n",
       "    }\n",
       "\n",
       "    .dataframe tbody tr th {\n",
       "        vertical-align: top;\n",
       "    }\n",
       "\n",
       "    .dataframe thead th {\n",
       "        text-align: right;\n",
       "    }\n",
       "</style>\n",
       "<table border=\"1\" class=\"dataframe\">\n",
       "  <thead>\n",
       "    <tr style=\"text-align: right;\">\n",
       "      <th></th>\n",
       "      <th>Score</th>\n",
       "      <th>tn</th>\n",
       "      <th>fp</th>\n",
       "      <th>fn</th>\n",
       "      <th>tp</th>\n",
       "      <th>Sensitivity</th>\n",
       "      <th>Specificity</th>\n",
       "      <th>Accuracy</th>\n",
       "    </tr>\n",
       "  </thead>\n",
       "  <tbody>\n",
       "    <tr>\n",
       "      <th>lr</th>\n",
       "      <td>0.775758</td>\n",
       "      <td>1766</td>\n",
       "      <td>640</td>\n",
       "      <td>25</td>\n",
       "      <td>112</td>\n",
       "      <td>0.817518</td>\n",
       "      <td>0.733998</td>\n",
       "      <td>0.738498</td>\n",
       "    </tr>\n",
       "    <tr>\n",
       "      <th>rf</th>\n",
       "      <td>0.655959</td>\n",
       "      <td>2173</td>\n",
       "      <td>233</td>\n",
       "      <td>81</td>\n",
       "      <td>56</td>\n",
       "      <td>0.408759</td>\n",
       "      <td>0.903159</td>\n",
       "      <td>0.876524</td>\n",
       "    </tr>\n",
       "    <tr>\n",
       "      <th>sgd</th>\n",
       "      <td>0.768459</td>\n",
       "      <td>1766</td>\n",
       "      <td>640</td>\n",
       "      <td>27</td>\n",
       "      <td>110</td>\n",
       "      <td>0.80292</td>\n",
       "      <td>0.733998</td>\n",
       "      <td>0.737711</td>\n",
       "    </tr>\n",
       "    <tr>\n",
       "      <th>ada</th>\n",
       "      <td>0.770175</td>\n",
       "      <td>1985</td>\n",
       "      <td>421</td>\n",
       "      <td>39</td>\n",
       "      <td>98</td>\n",
       "      <td>0.715328</td>\n",
       "      <td>0.825021</td>\n",
       "      <td>0.819111</td>\n",
       "    </tr>\n",
       "    <tr>\n",
       "      <th>bag</th>\n",
       "      <td>0.654478</td>\n",
       "      <td>2201</td>\n",
       "      <td>205</td>\n",
       "      <td>83</td>\n",
       "      <td>54</td>\n",
       "      <td>0.394161</td>\n",
       "      <td>0.914796</td>\n",
       "      <td>0.886748</td>\n",
       "    </tr>\n",
       "    <tr>\n",
       "      <th>xgb</th>\n",
       "      <td>0.702989</td>\n",
       "      <td>2171</td>\n",
       "      <td>235</td>\n",
       "      <td>68</td>\n",
       "      <td>69</td>\n",
       "      <td>0.50365</td>\n",
       "      <td>0.902328</td>\n",
       "      <td>0.880849</td>\n",
       "    </tr>\n",
       "    <tr>\n",
       "      <th>svc</th>\n",
       "      <td>0.661606</td>\n",
       "      <td>1726</td>\n",
       "      <td>680</td>\n",
       "      <td>54</td>\n",
       "      <td>83</td>\n",
       "      <td>0.605839</td>\n",
       "      <td>0.717373</td>\n",
       "      <td>0.711365</td>\n",
       "    </tr>\n",
       "  </tbody>\n",
       "</table>\n",
       "</div>"
      ],
      "text/plain": [
       "        Score    tn   fp  fn   tp Sensitivity Specificity  Accuracy\n",
       "lr   0.775758  1766  640  25  112    0.817518    0.733998  0.738498\n",
       "rf   0.655959  2173  233  81   56    0.408759    0.903159  0.876524\n",
       "sgd  0.768459  1766  640  27  110     0.80292    0.733998  0.737711\n",
       "ada  0.770175  1985  421  39   98    0.715328    0.825021  0.819111\n",
       "bag  0.654478  2201  205  83   54    0.394161    0.914796  0.886748\n",
       "xgb  0.702989  2171  235  68   69     0.50365    0.902328  0.880849\n",
       "svc  0.661606  1726  680  54   83    0.605839    0.717373  0.711365"
      ]
     },
     "execution_count": 18,
     "metadata": {},
     "output_type": "execute_result"
    }
   ],
   "source": [
    "results_df"
   ]
  },
  {
   "cell_type": "markdown",
   "metadata": {},
   "source": [
    "# Optimizing Chosen Models\n",
    "[top](#Contents)"
   ]
  },
  {
   "cell_type": "markdown",
   "metadata": {},
   "source": [
    "- As shown by the above table, the best performing models were Logistic Regression and the SGDClassifier\n",
    "    - ADA boost was not selected due to the much higher false negative rate, as we felt that for this use case the impact of NOT detecting the presence of WNV was a significant factor\n",
    "- Further optimization was then done on these models"
   ]
  },
  {
   "cell_type": "code",
   "execution_count": 19,
   "metadata": {},
   "outputs": [
    {
     "name": "stdout",
     "output_type": "stream",
     "text": [
      "Fitting 5 folds for each of 11 candidates, totalling 55 fits\n"
     ]
    },
    {
     "name": "stderr",
     "output_type": "stream",
     "text": [
      "[Parallel(n_jobs=-1)]: Using backend LokyBackend with 4 concurrent workers.\n",
      "[Parallel(n_jobs=-1)]: Done  33 tasks      | elapsed:   25.8s\n",
      "[Parallel(n_jobs=-1)]: Done  55 out of  55 | elapsed:   39.4s finished\n",
      "/Users/Home/Applications/anaconda3/lib/python3.8/site-packages/sklearn/linear_model/_logistic.py:762: ConvergenceWarning: lbfgs failed to converge (status=1):\n",
      "STOP: TOTAL NO. of ITERATIONS REACHED LIMIT.\n",
      "\n",
      "Increase the number of iterations (max_iter) or scale the data as shown in:\n",
      "    https://scikit-learn.org/stable/modules/preprocessing.html\n",
      "Please also refer to the documentation for alternative solver options:\n",
      "    https://scikit-learn.org/stable/modules/linear_model.html#logistic-regression\n",
      "  n_iter_i = _check_optimize_result(\n"
     ]
    },
    {
     "data": {
      "text/plain": [
       "GridSearchCV(cv=5, estimator=LogisticRegression(), n_jobs=-1,\n",
       "             param_grid=({'C': array([75., 76., 77., 78., 79., 80., 81., 82., 83., 84., 85.]),\n",
       "                          'max_iter': [1000], 'penalty': ['l2'],\n",
       "                          'random_state': [42]},),\n",
       "             scoring='roc_auc', verbose=2)"
      ]
     },
     "execution_count": 19,
     "metadata": {},
     "output_type": "execute_result"
    }
   ],
   "source": [
    "# creating parameters for a GridSearch to search through for LogisticRegression model\n",
    "\n",
    "best_model = LogisticRegression()\n",
    "\n",
    "C_list = np.linspace(75,85,11)\n",
    "\n",
    "best_parameters = {\n",
    "                'penalty' : ['l2'],\n",
    "                'C' : C_list,\n",
    "                'max_iter' : [1000],\n",
    "                'random_state':[random_state]\n",
    "                 },\n",
    "\n",
    "# initiating gridsearch\n",
    "\n",
    "lr_gs = GridSearchCV(best_model, best_parameters, cv=cv_no, n_jobs=-1, verbose=2, scoring = \"roc_auc\")\n",
    "    \n",
    "# fitting gridsearch    \n",
    "\n",
    "lr_gs.fit(X_train_sm, y_train_sm)"
   ]
  },
  {
   "cell_type": "code",
   "execution_count": 20,
   "metadata": {},
   "outputs": [],
   "source": [
    "# extracting 'C' values and results for graph\n",
    "\n",
    "x_val = C_list\n",
    "\n",
    "y_val = lr_gs.cv_results_[\"mean_test_score\"]"
   ]
  },
  {
   "cell_type": "code",
   "execution_count": 21,
   "metadata": {},
   "outputs": [
    {
     "data": {
      "text/plain": [
       "<AxesSubplot:>"
      ]
     },
     "execution_count": 21,
     "metadata": {},
     "output_type": "execute_result"
    },
    {
     "data": {
      "image/png": "[encoded data removed]",
      "text/plain": [
       "<Figure size 1080x720 with 1 Axes>"
      ]
     },
     "metadata": {
      "needs_background": "light"
     },
     "output_type": "display_data"
    }
   ],
   "source": [
    "plt.figure(figsize = (15,10))\n",
    "sns.lineplot(x = x_val, y = y_val)"
   ]
  },
  {
   "cell_type": "code",
   "execution_count": 22,
   "metadata": {},
   "outputs": [
    {
     "data": {
      "text/plain": [
       "LogisticRegression(C=82.0, max_iter=1000, random_state=42)"
      ]
     },
     "execution_count": 22,
     "metadata": {},
     "output_type": "execute_result"
    }
   ],
   "source": [
    "lr_gs.best_estimator_"
   ]
  },
  {
   "cell_type": "code",
   "execution_count": 23,
   "metadata": {},
   "outputs": [
    {
     "name": "stdout",
     "output_type": "stream",
     "text": [
      "Fitting 5 folds for each of 10 candidates, totalling 50 fits\n"
     ]
    },
    {
     "name": "stderr",
     "output_type": "stream",
     "text": [
      "[Parallel(n_jobs=-1)]: Using backend LokyBackend with 4 concurrent workers.\n",
      "[Parallel(n_jobs=-1)]: Done  50 out of  50 | elapsed:    1.3s finished\n"
     ]
    },
    {
     "data": {
      "text/plain": [
       "GridSearchCV(cv=5, estimator=SGDClassifier(), n_jobs=-1,\n",
       "             param_grid=({'alpha': array([0.001, 0.002, 0.003, 0.004, 0.005, 0.006, 0.007, 0.008, 0.009,\n",
       "       0.01 ]),\n",
       "                          'loss': ['log'], 'max_iter': [1000],\n",
       "                          'penalty': ['l2'], 'random_state': [42]},),\n",
       "             scoring='roc_auc', verbose=2)"
      ]
     },
     "execution_count": 23,
     "metadata": {},
     "output_type": "execute_result"
    }
   ],
   "source": [
    "# alternative model\n",
    "\n",
    "alp_list = np.linspace(0.001,0.01,10)\n",
    "\n",
    "best_model = SGDClassifier()\n",
    "\n",
    "best_parameters = {\n",
    "                'loss': [\"log\"],\n",
    "                'max_iter': [1000],\n",
    "                'penalty': ['l2'],\n",
    "                'alpha': alp_list,\n",
    "                'random_state': [random_state]\n",
    "                 },\n",
    "\n",
    "# initiating gridsearch\n",
    "\n",
    "sgd_gs = GridSearchCV(best_model, best_parameters, cv=cv_no, n_jobs=-1, verbose=2, scoring = \"roc_auc\")\n",
    "    \n",
    "# fitting gridsearch    \n",
    "\n",
    "sgd_gs.fit(X_train_sm, y_train_sm)"
   ]
  },
  {
   "cell_type": "code",
   "execution_count": 24,
   "metadata": {},
   "outputs": [],
   "source": [
    "# extracting 'C' values and results for graph\n",
    "\n",
    "x_val = alp_list\n",
    "\n",
    "y_val = sgd_gs.cv_results_[\"mean_test_score\"]"
   ]
  },
  {
   "cell_type": "code",
   "execution_count": 25,
   "metadata": {},
   "outputs": [
    {
     "data": {
      "text/plain": [
       "<AxesSubplot:>"
      ]
     },
     "execution_count": 25,
     "metadata": {},
     "output_type": "execute_result"
    },
    {
     "data": {
      "image/png": "[encoded data removed]",
      "text/plain": [
       "<Figure size 1080x720 with 1 Axes>"
      ]
     },
     "metadata": {
      "needs_background": "light"
     },
     "output_type": "display_data"
    }
   ],
   "source": [
    "plt.figure(figsize = (15,10))\n",
    "sns.lineplot(x = x_val, y = y_val)"
   ]
  },
  {
   "cell_type": "code",
   "execution_count": 26,
   "metadata": {},
   "outputs": [
    {
     "data": {
      "text/plain": [
       "SGDClassifier(alpha=0.003, loss='log', random_state=42)"
      ]
     },
     "execution_count": 26,
     "metadata": {},
     "output_type": "execute_result"
    }
   ],
   "source": [
    " sgd_gs.best_estimator_"
   ]
  },
  {
   "cell_type": "markdown",
   "metadata": {},
   "source": [
    "## Exploring Feature Weights for Logistic Regression \n",
    "[top](#Contents)"
   ]
  },
  {
   "cell_type": "markdown",
   "metadata": {},
   "source": [
    "- As the Logistic Regression Model returns the log weights of the coefficients, an np.exp function was ran to transform the coeffieicents appropriately\n",
    "- Most predictors give an emphasis on humidity\n",
    "- Rainy weather also seems to be an important predictor\n",
    "- Warm temperatures are a factor, but not as strong as initially thought\n",
    "- August and September seem to be prime months for WNV propagation\n"
   ]
  },
  {
   "cell_type": "code",
   "execution_count": 27,
   "metadata": {},
   "outputs": [],
   "source": [
    "lr_model = lr_gs.best_estimator_"
   ]
  },
  {
   "cell_type": "code",
   "execution_count": 28,
   "metadata": {},
   "outputs": [
    {
     "data": {
      "text/plain": [
       "array([[-0.09676363, -0.67838651,  1.8935047 ,  2.88218962, -1.70499631,\n",
       "         3.63542421, -6.60143641,  0.55605696,  2.19729169, -1.13558566,\n",
       "        -0.5550193 ,  8.55269491, -8.021719  ,  1.28925582, -0.28819947,\n",
       "        -0.04736564,  0.        ,  1.18530805, -4.00300304,  1.56263929,\n",
       "         0.        , -0.9317868 ,  0.        ,  0.15232602,  0.        ,\n",
       "         0.        ,  0.84836659,  0.08590174,  0.30580404, -4.63864892,\n",
       "         3.57570719, -8.73227508, -2.13817025, -2.14655965, 14.38418371,\n",
       "         3.42682549,  1.40708282, -2.18011476,  0.31023354,  1.58205184,\n",
       "        -4.10963069, -0.18709813, -0.42487208, -3.29019505,  3.74708004,\n",
       "         1.18454635,  1.3626036 ,  0.17418933,  1.61526086,  0.30384087,\n",
       "         1.93892039,  1.13824265,  0.        ,  0.07946525, -1.84621487,\n",
       "        -1.09913391,  1.66215125, -4.48692013,  1.05463341,  2.63595595,\n",
       "         1.00982699, -8.1642519 ,  2.41100703,  2.6430243 , -1.54640468,\n",
       "         0.71625882, -4.02005509, -0.08825828,  1.62305415, -6.08790201,\n",
       "         0.0400443 ,  6.59955078, -0.46423194, -1.69062029, -0.61449472,\n",
       "        -2.53910008, -4.03473771,  0.96223619, -2.28810612, -1.69533171,\n",
       "         0.        , -0.03551189,  0.83150021,  0.84514211,  2.04130076,\n",
       "        -4.16660648,  3.45916032,  4.01501983,  3.22257995,  0.07395544,\n",
       "        -1.27146846,  2.77387966, -0.91746584, -0.66225022, -0.16241372]])"
      ]
     },
     "execution_count": 28,
     "metadata": {},
     "output_type": "execute_result"
    }
   ],
   "source": [
    "lr_model.coef_"
   ]
  },
  {
   "cell_type": "code",
   "execution_count": 29,
   "metadata": {},
   "outputs": [],
   "source": [
    "odds = np.exp(lr_model.coef_).round(3).ravel().tolist()"
   ]
  },
  {
   "cell_type": "code",
   "execution_count": 30,
   "metadata": {
    "scrolled": true
   },
   "outputs": [],
   "source": [
    "feature_weights = pd.DataFrame(data = odds, \n",
    "                               index = X_train.columns, \n",
    "                               columns = ['Weight'])"
   ]
  },
  {
   "cell_type": "code",
   "execution_count": 31,
   "metadata": {},
   "outputs": [
    {
     "data": {
      "text/html": [
       "<div>\n",
       "<style scoped>\n",
       "    .dataframe tbody tr th:only-of-type {\n",
       "        vertical-align: middle;\n",
       "    }\n",
       "\n",
       "    .dataframe tbody tr th {\n",
       "        vertical-align: top;\n",
       "    }\n",
       "\n",
       "    .dataframe thead th {\n",
       "        text-align: right;\n",
       "    }\n",
       "</style>\n",
       "<table border=\"1\" class=\"dataframe\">\n",
       "  <thead>\n",
       "    <tr style=\"text-align: right;\">\n",
       "      <th></th>\n",
       "      <th>Weight</th>\n",
       "    </tr>\n",
       "  </thead>\n",
       "  <tbody>\n",
       "    <tr>\n",
       "      <th>DewPoint_7</th>\n",
       "      <td>1765922.392</td>\n",
       "    </tr>\n",
       "    <tr>\n",
       "      <th>StnPressure</th>\n",
       "      <td>5180.697</td>\n",
       "    </tr>\n",
       "    <tr>\n",
       "      <th>AvgSpeed_14</th>\n",
       "      <td>734.765</td>\n",
       "    </tr>\n",
       "    <tr>\n",
       "      <th>Species_CULEX PIPIENS/RESTUANS</th>\n",
       "      <td>55.424</td>\n",
       "    </tr>\n",
       "    <tr>\n",
       "      <th>BCFG_7</th>\n",
       "      <td>42.397</td>\n",
       "    </tr>\n",
       "    <tr>\n",
       "      <th>Depart</th>\n",
       "      <td>37.918</td>\n",
       "    </tr>\n",
       "    <tr>\n",
       "      <th>Tmax_7</th>\n",
       "      <td>35.720</td>\n",
       "    </tr>\n",
       "    <tr>\n",
       "      <th>Species_CULEX PIPIENS</th>\n",
       "      <td>31.790</td>\n",
       "    </tr>\n",
       "    <tr>\n",
       "      <th>WetBulb_7</th>\n",
       "      <td>30.779</td>\n",
       "    </tr>\n",
       "    <tr>\n",
       "      <th>Species_CULEX RESTUANS</th>\n",
       "      <td>25.093</td>\n",
       "    </tr>\n",
       "    <tr>\n",
       "      <th>Tmin</th>\n",
       "      <td>17.853</td>\n",
       "    </tr>\n",
       "    <tr>\n",
       "      <th>month_7</th>\n",
       "      <td>16.021</td>\n",
       "    </tr>\n",
       "    <tr>\n",
       "      <th>WetBulb_14</th>\n",
       "      <td>14.056</td>\n",
       "    </tr>\n",
       "    <tr>\n",
       "      <th>Tmin_14</th>\n",
       "      <td>13.957</td>\n",
       "    </tr>\n",
       "    <tr>\n",
       "      <th>DewPoint_14</th>\n",
       "      <td>11.145</td>\n",
       "    </tr>\n",
       "    <tr>\n",
       "      <th>Heat</th>\n",
       "      <td>9.001</td>\n",
       "    </tr>\n",
       "    <tr>\n",
       "      <th>VCTS_14</th>\n",
       "      <td>7.701</td>\n",
       "    </tr>\n",
       "    <tr>\n",
       "      <th>MIFG_7</th>\n",
       "      <td>6.951</td>\n",
       "    </tr>\n",
       "    <tr>\n",
       "      <th>Tmax</th>\n",
       "      <td>6.643</td>\n",
       "    </tr>\n",
       "    <tr>\n",
       "      <th>VCTS_7</th>\n",
       "      <td>5.271</td>\n",
       "    </tr>\n",
       "  </tbody>\n",
       "</table>\n",
       "</div>"
      ],
      "text/plain": [
       "                                     Weight\n",
       "DewPoint_7                      1765922.392\n",
       "StnPressure                        5180.697\n",
       "AvgSpeed_14                         734.765\n",
       "Species_CULEX PIPIENS/RESTUANS       55.424\n",
       "BCFG_7                               42.397\n",
       "Depart                               37.918\n",
       "Tmax_7                               35.720\n",
       "Species_CULEX PIPIENS                31.790\n",
       "WetBulb_7                            30.779\n",
       "Species_CULEX RESTUANS               25.093\n",
       "Tmin                                 17.853\n",
       "month_7                              16.021\n",
       "WetBulb_14                           14.056\n",
       "Tmin_14                              13.957\n",
       "DewPoint_14                          11.145\n",
       "Heat                                  9.001\n",
       "VCTS_14                               7.701\n",
       "MIFG_7                                6.951\n",
       "Tmax                                  6.643\n",
       "VCTS_7                                5.271"
      ]
     },
     "execution_count": 31,
     "metadata": {},
     "output_type": "execute_result"
    }
   ],
   "source": [
    "feature_weights.sort_values(by = \"Weight\", ascending = False).head(20)"
   ]
  },
  {
   "cell_type": "markdown",
   "metadata": {},
   "source": [
    "## Exploring Feature Weights for SGDClassifier\n",
    "[top](#Contents)"
   ]
  },
  {
   "cell_type": "markdown",
   "metadata": {},
   "source": [
    "- The conclusions largely coincided with the feature importances of the Logistic Regression model"
   ]
  },
  {
   "cell_type": "code",
   "execution_count": 32,
   "metadata": {},
   "outputs": [],
   "source": [
    "sgd_model = sgd_gs.best_estimator_"
   ]
  },
  {
   "cell_type": "code",
   "execution_count": 33,
   "metadata": {},
   "outputs": [
    {
     "data": {
      "text/plain": [
       "array([[-1.45821604e-01, -5.71644803e-01,  2.82704484e-01,\n",
       "        -8.76703723e-02,  1.00592006e-01,  1.30947347e-01,\n",
       "        -2.79742527e-01, -8.57195728e-02, -1.73710341e-02,\n",
       "         1.26485127e-01, -4.08423655e-01,  3.39882969e-01,\n",
       "        -3.03411618e-02,  1.12432477e-01, -6.71422506e-02,\n",
       "         1.99813467e-01,  0.00000000e+00,  1.77615048e-01,\n",
       "        -9.17306689e-01,  3.45939658e-01,  0.00000000e+00,\n",
       "        -2.03065808e-01,  0.00000000e+00, -8.80642822e-04,\n",
       "         0.00000000e+00,  0.00000000e+00,  2.22124185e-01,\n",
       "         6.02283245e-02,  3.17946048e-01, -4.73231168e-01,\n",
       "         7.59372497e-03, -2.75425997e-02, -1.92098740e-02,\n",
       "        -1.69869530e-01,  7.37796716e-01,  4.06244695e-01,\n",
       "        -5.47268490e-02, -4.48576444e-02, -3.38461771e-01,\n",
       "        -1.45618976e-01, -1.67342764e-01, -1.32830538e-01,\n",
       "         3.32409172e-01, -3.32192832e-01,  3.87544686e-01,\n",
       "         1.05320952e-01,  9.07754130e-02, -6.72273477e-01,\n",
       "        -9.45493607e-02, -4.51820296e-04,  2.06186392e-01,\n",
       "         2.95549136e-01,  0.00000000e+00, -7.46384061e-02,\n",
       "        -1.04539624e-01,  5.07978136e-01, -1.56634930e-01,\n",
       "        -4.65427307e-01, -2.71510526e-01,  1.24103665e-01,\n",
       "        -8.47480782e-02, -5.70637571e-01,  9.36868266e-01,\n",
       "         5.45243720e-01, -3.19144883e-01, -2.30916996e-01,\n",
       "        -6.26450281e-01,  3.57377389e-01,  4.75822600e-01,\n",
       "         2.86398636e-01, -9.15537178e-02, -1.95351962e-01,\n",
       "        -5.71024223e-02, -1.68202278e-01,  3.35140983e-01,\n",
       "         1.65825669e-01, -1.97586841e-01, -7.58955887e-03,\n",
       "        -5.67722229e-01,  2.23614225e-01,  0.00000000e+00,\n",
       "        -1.07100249e-01,  3.30224897e-01, -1.22145098e-02,\n",
       "         2.66275622e-01, -4.40243585e-01,  6.88376674e-01,\n",
       "         7.61871380e-01,  2.42902533e-01, -6.28731349e-02,\n",
       "        -5.82854712e-01, -1.22775419e-01,  3.76304820e-01,\n",
       "         2.82832160e-01, -1.34311457e-01]])"
      ]
     },
     "execution_count": 33,
     "metadata": {},
     "output_type": "execute_result"
    }
   ],
   "source": [
    "sgd_model.coef_"
   ]
  },
  {
   "cell_type": "code",
   "execution_count": 34,
   "metadata": {},
   "outputs": [],
   "source": [
    "odds = np.exp(sgd_model.coef_).round(3).ravel().tolist()"
   ]
  },
  {
   "cell_type": "code",
   "execution_count": 35,
   "metadata": {},
   "outputs": [],
   "source": [
    "feature_weights = pd.DataFrame(data = odds, \n",
    "                               index = X_train.columns, \n",
    "                               columns = ['Weight'])"
   ]
  },
  {
   "cell_type": "code",
   "execution_count": 36,
   "metadata": {},
   "outputs": [
    {
     "data": {
      "text/html": [
       "<div>\n",
       "<style scoped>\n",
       "    .dataframe tbody tr th:only-of-type {\n",
       "        vertical-align: middle;\n",
       "    }\n",
       "\n",
       "    .dataframe tbody tr th {\n",
       "        vertical-align: top;\n",
       "    }\n",
       "\n",
       "    .dataframe thead th {\n",
       "        text-align: right;\n",
       "    }\n",
       "</style>\n",
       "<table border=\"1\" class=\"dataframe\">\n",
       "  <thead>\n",
       "    <tr style=\"text-align: right;\">\n",
       "      <th></th>\n",
       "      <th>Weight</th>\n",
       "    </tr>\n",
       "  </thead>\n",
       "  <tbody>\n",
       "    <tr>\n",
       "      <th>DewPoint_14</th>\n",
       "      <td>2.552</td>\n",
       "    </tr>\n",
       "    <tr>\n",
       "      <th>Species_CULEX PIPIENS/RESTUANS</th>\n",
       "      <td>2.142</td>\n",
       "    </tr>\n",
       "    <tr>\n",
       "      <th>DewPoint_7</th>\n",
       "      <td>2.091</td>\n",
       "    </tr>\n",
       "    <tr>\n",
       "      <th>Species_CULEX PIPIENS</th>\n",
       "      <td>1.990</td>\n",
       "    </tr>\n",
       "    <tr>\n",
       "      <th>WetBulb_14</th>\n",
       "      <td>1.725</td>\n",
       "    </tr>\n",
       "    <tr>\n",
       "      <th>TSRA_7</th>\n",
       "      <td>1.662</td>\n",
       "    </tr>\n",
       "    <tr>\n",
       "      <th>SeaLevel_14</th>\n",
       "      <td>1.609</td>\n",
       "    </tr>\n",
       "    <tr>\n",
       "      <th>WetBulb_7</th>\n",
       "      <td>1.501</td>\n",
       "    </tr>\n",
       "    <tr>\n",
       "      <th>BCFG_7</th>\n",
       "      <td>1.473</td>\n",
       "    </tr>\n",
       "    <tr>\n",
       "      <th>month_8</th>\n",
       "      <td>1.457</td>\n",
       "    </tr>\n",
       "    <tr>\n",
       "      <th>StnPressure_14</th>\n",
       "      <td>1.430</td>\n",
       "    </tr>\n",
       "    <tr>\n",
       "      <th>FG</th>\n",
       "      <td>1.413</td>\n",
       "    </tr>\n",
       "    <tr>\n",
       "      <th>StnPressure</th>\n",
       "      <td>1.405</td>\n",
       "    </tr>\n",
       "    <tr>\n",
       "      <th>DZ_14</th>\n",
       "      <td>1.398</td>\n",
       "    </tr>\n",
       "    <tr>\n",
       "      <th>ResultDir_7</th>\n",
       "      <td>1.394</td>\n",
       "    </tr>\n",
       "    <tr>\n",
       "      <th>TS_14</th>\n",
       "      <td>1.391</td>\n",
       "    </tr>\n",
       "    <tr>\n",
       "      <th>VCTS</th>\n",
       "      <td>1.374</td>\n",
       "    </tr>\n",
       "    <tr>\n",
       "      <th>RA_7</th>\n",
       "      <td>1.344</td>\n",
       "    </tr>\n",
       "    <tr>\n",
       "      <th>ResultSpeed_14</th>\n",
       "      <td>1.332</td>\n",
       "    </tr>\n",
       "    <tr>\n",
       "      <th>Tmax</th>\n",
       "      <td>1.327</td>\n",
       "    </tr>\n",
       "  </tbody>\n",
       "</table>\n",
       "</div>"
      ],
      "text/plain": [
       "                                Weight\n",
       "DewPoint_14                      2.552\n",
       "Species_CULEX PIPIENS/RESTUANS   2.142\n",
       "DewPoint_7                       2.091\n",
       "Species_CULEX PIPIENS            1.990\n",
       "WetBulb_14                       1.725\n",
       "TSRA_7                           1.662\n",
       "SeaLevel_14                      1.609\n",
       "WetBulb_7                        1.501\n",
       "BCFG_7                           1.473\n",
       "month_8                          1.457\n",
       "StnPressure_14                   1.430\n",
       "FG                               1.413\n",
       "StnPressure                      1.405\n",
       "DZ_14                            1.398\n",
       "ResultDir_7                      1.394\n",
       "TS_14                            1.391\n",
       "VCTS                             1.374\n",
       "RA_7                             1.344\n",
       "ResultSpeed_14                   1.332\n",
       "Tmax                             1.327"
      ]
     },
     "execution_count": 36,
     "metadata": {},
     "output_type": "execute_result"
    }
   ],
   "source": [
    "feature_weights.sort_values(by = \"Weight\", ascending = False).head(20)"
   ]
  },
  {
   "cell_type": "markdown",
   "metadata": {},
   "source": [
    "## Exporting Dataset for Kaggle Submission\n",
    "[top](#Contents)"
   ]
  },
  {
   "cell_type": "markdown",
   "metadata": {},
   "source": [
    "- Logistic Regression was chosen as our final model based on the ROC_AUC scores (lr = 0.88, SGD = 0.87)\n",
    "- we fitted the model to the full original dataset, imported the full validation dataset and used our model to generate a list of predictions\n",
    "- The template provided by kaggle was then used to create a final csv file for submission"
   ]
  },
  {
   "cell_type": "code",
   "execution_count": 37,
   "metadata": {},
   "outputs": [],
   "source": [
    "sample = pd.read_csv('data/samplesubmission.csv')"
   ]
  },
  {
   "cell_type": "code",
   "execution_count": 38,
   "metadata": {},
   "outputs": [
    {
     "name": "stdout",
     "output_type": "stream",
     "text": [
      "(116293, 95)\n",
      "(116293, 2)\n"
     ]
    }
   ],
   "source": [
    "# cross check for matching no of rows\n",
    "\n",
    "print(to_predict.shape)\n",
    "print(sample.shape)"
   ]
  },
  {
   "cell_type": "code",
   "execution_count": 39,
   "metadata": {},
   "outputs": [],
   "source": [
    "# using model to predict results\n",
    "\n",
    "X_predict = ss.fit_transform(to_predict)\n",
    "preds = sgd_model.predict(X_predict)"
   ]
  },
  {
   "cell_type": "code",
   "execution_count": 40,
   "metadata": {},
   "outputs": [
    {
     "data": {
      "text/plain": [
       "0    83362\n",
       "1    32931\n",
       "Name: WnvPresent, dtype: int64"
      ]
     },
     "execution_count": 40,
     "metadata": {},
     "output_type": "execute_result"
    }
   ],
   "source": [
    "# attaching predictions to the sample df\n",
    "\n",
    "sample['WnvPresent'] = preds\n",
    "sample['WnvPresent'].value_counts()"
   ]
  },
  {
   "cell_type": "code",
   "execution_count": 41,
   "metadata": {},
   "outputs": [],
   "source": [
    "# exporting to csv file\n",
    "\n",
    "sample.to_csv('results/submission.csv', index = False)"
   ]
  },
  {
   "cell_type": "markdown",
   "metadata": {},
   "source": [
    "## Discussion, Recommendations and Further Study\n",
    "[top](#Contents)"
   ]
  },
  {
   "cell_type": "markdown",
   "metadata": {},
   "source": [
    "#### Discussion\n",
    "\n",
    "As mentioned earlier, most predictors give an emphasis on humidity and rains. \n",
    "\n",
    "It can be reasonably concluded that a higher humidity, coupled with rainy weather, would lead to a larger number of bodies of stagnant water. This, in turn, gives mosquitos favorable conditions for breeding and thus increase the chance that the WNV would be transmitted. \n",
    "\n",
    "Surprisingly, warmer temperatures were not as great a factor as initially believed. Indeed, further research showed that the temperature range was well within the tolerances of mosquitos.\n",
    "\n",
    "Further research also showed that August and September is considered the end of the thunderstorm season for Chicago (something our data also verified), and again returns back to the earlier discussion of higher humidity.\n",
    "\n",
    "#### Recommendation\n",
    "\n",
    "Our data showed that spraying, as it had been conducted, did not seem to be very effective. \n",
    "\n",
    "In our <a href = \"presentation.pdf\">final presentation</a> We instead recommend a combination onsider oil treatment of stagnant water bodies to kill off larvae, coupled with an education and awareness campaign as well as an emphasis on smart engineering for water infrastructure projects.\n",
    "\n",
    "#### Further Study\n",
    "\n",
    "Our Logistic Regression model obtained a score of 0.62 on Kaggle. Interestingly, when we submitted predictions based on the SGDClassifier model as a quick cross-validation, we obtained a higher score of 0.66, an inversion of what our modeling showed earlier. \n",
    "\n",
    "As our training dataset contained a much smaller amount of data as compared with the number of predictions we had to make, we believe that the training data might contain some bias that makes it misrepresentative of the actual conditions. \n",
    "\n",
    "A futher study would include a larger dataset, for a clearer examination of feature importance."
   ]
  },
  {
   "cell_type": "code",
   "execution_count": null,
   "metadata": {},
   "outputs": [],
   "source": []
  }
 ],
 "metadata": {
  "kernelspec": {
   "display_name": "Python 3",
   "language": "python",
   "name": "python3"
  },
  "language_info": {
   "codemirror_mode": {
    "name": "ipython",
    "version": 3
   },
   "file_extension": ".py",
   "mimetype": "text/x-python",
   "name": "python",
   "nbconvert_exporter": "python",
   "pygments_lexer": "ipython3",
   "version": "3.8.5"
  }
 },
 "nbformat": 4,
 "nbformat_minor": 4
}
